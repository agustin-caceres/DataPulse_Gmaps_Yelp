{
 "cells": [
  {
   "cell_type": "code",
   "execution_count": 28,
   "metadata": {},
   "outputs": [],
   "source": [
    "import pandas as pd"
   ]
  },
  {
   "cell_type": "code",
   "execution_count": 2,
   "metadata": {},
   "outputs": [
    {
     "name": "stderr",
     "output_type": "stream",
     "text": [
      "[nltk_data] Downloading package vader_lexicon to C:\\Users\\mauri\\OneDri\n",
      "[nltk_data]     ve\\Escritorio\\proyectogrupal\\AAentorno\\nltk_data...\n",
      "[nltk_data]   Package vader_lexicon is already up-to-date!\n"
     ]
    },
    {
     "data": {
      "text/plain": [
       "True"
      ]
     },
     "execution_count": 2,
     "metadata": {},
     "output_type": "execute_result"
    }
   ],
   "source": [
    "import nltk\n",
    "\n",
    "# Configurar la ruta de datos de NLTK en entorno virtual\n",
    "nltk.data.path.append('C:\\\\Users\\\\mauri\\\\OneDrive\\\\Escritorio\\\\proyectogrupal\\\\AAentorno\\\\nltk_data') # Usar tu propia ruta hacia el entorno virtual.\n",
    "nltk.download('vader_lexicon', download_dir='C:\\\\Users\\\\mauri\\\\OneDrive\\\\Escritorio\\\\proyectogrupal\\\\AAentorno\\\\nltk_data')"
   ]
  },
  {
   "cell_type": "code",
   "execution_count": 3,
   "metadata": {},
   "outputs": [
    {
     "name": "stdout",
     "output_type": "stream",
     "text": [
      "<class 'pandas.core.frame.DataFrame'>\n",
      "Index: 150731 entries, 0 to 258580\n",
      "Data columns (total 10 columns):\n",
      " #   Column      Non-Null Count   Dtype         \n",
      "---  ------      --------------   -----         \n",
      " 0   review_id   150731 non-null  int64         \n",
      " 1   id_negocio  150731 non-null  object        \n",
      " 2   estado      150731 non-null  object        \n",
      " 3   user_id     150731 non-null  object        \n",
      " 4   name        150731 non-null  object        \n",
      " 5   time        150731 non-null  datetime64[ns]\n",
      " 6   rating      150731 non-null  int64         \n",
      " 7   text        150731 non-null  object        \n",
      " 8   resp_text   25604 non-null   object        \n",
      " 9   resp_time   25604 non-null   datetime64[ns]\n",
      "dtypes: datetime64[ns](2), int64(2), object(6)\n",
      "memory usage: 12.6+ MB\n"
     ]
    }
   ],
   "source": [
    "reviews = pd.read_parquet(r'C:\\Users\\mauri\\OneDrive\\Escritorio\\proyectogrupal\\data\\g_5_estados_seleccionados (1).parquet', engine='pyarrow')\n",
    "reviews = reviews.dropna(subset=['text'])\n",
    "reviews.info()"
   ]
  },
  {
   "cell_type": "code",
   "execution_count": null,
   "metadata": {},
   "outputs": [],
   "source": [
    "from sentimiento import analyze_sentiment\n",
    "\n",
    "# Aplicar la función analyze_sentiment a cada fila del DataFrame 'reviews'\n",
    "reviews['sentiment'] = reviews.apply(\n",
    "    lambda row: analyze_sentiment(row['text'], rating=row.get('rating', None)), \n",
    "    axis=1\n",
    ")"
   ]
  },
  {
   "cell_type": "code",
   "execution_count": 7,
   "metadata": {},
   "outputs": [
    {
     "data": {
      "text/html": [
       "<div>\n",
       "<style scoped>\n",
       "    .dataframe tbody tr th:only-of-type {\n",
       "        vertical-align: middle;\n",
       "    }\n",
       "\n",
       "    .dataframe tbody tr th {\n",
       "        vertical-align: top;\n",
       "    }\n",
       "\n",
       "    .dataframe thead th {\n",
       "        text-align: right;\n",
       "    }\n",
       "</style>\n",
       "<table border=\"1\" class=\"dataframe\">\n",
       "  <thead>\n",
       "    <tr style=\"text-align: right;\">\n",
       "      <th></th>\n",
       "      <th>rating</th>\n",
       "      <th>text</th>\n",
       "      <th>sentiment</th>\n",
       "    </tr>\n",
       "  </thead>\n",
       "  <tbody>\n",
       "    <tr>\n",
       "      <th>0</th>\n",
       "      <td>5</td>\n",
       "      <td>I was looking for a place to eat some oyster a...</td>\n",
       "      <td>muy bueno</td>\n",
       "    </tr>\n",
       "    <tr>\n",
       "      <th>1</th>\n",
       "      <td>5</td>\n",
       "      <td>I'm not one to gush, but this place is insanel...</td>\n",
       "      <td>muy bueno</td>\n",
       "    </tr>\n",
       "    <tr>\n",
       "      <th>2</th>\n",
       "      <td>5</td>\n",
       "      <td>I loved the all-day, everyday happy hour over ...</td>\n",
       "      <td>muy bueno</td>\n",
       "    </tr>\n",
       "    <tr>\n",
       "      <th>3</th>\n",
       "      <td>3</td>\n",
       "      <td>Yummy, crispy hand rolls in a swanky space wit...</td>\n",
       "      <td>bueno</td>\n",
       "    </tr>\n",
       "    <tr>\n",
       "      <th>4</th>\n",
       "      <td>5</td>\n",
       "      <td>Fair price and quite good oysters, try the fri...</td>\n",
       "      <td>muy bueno</td>\n",
       "    </tr>\n",
       "    <tr>\n",
       "      <th>...</th>\n",
       "      <td>...</td>\n",
       "      <td>...</td>\n",
       "      <td>...</td>\n",
       "    </tr>\n",
       "    <tr>\n",
       "      <th>258576</th>\n",
       "      <td>4</td>\n",
       "      <td>Not a big gyro fan but my boyfriend LOVES them...</td>\n",
       "      <td>muy bueno</td>\n",
       "    </tr>\n",
       "    <tr>\n",
       "      <th>258577</th>\n",
       "      <td>5</td>\n",
       "      <td>Great food</td>\n",
       "      <td>muy bueno</td>\n",
       "    </tr>\n",
       "    <tr>\n",
       "      <th>258578</th>\n",
       "      <td>5</td>\n",
       "      <td>Delicious gyros</td>\n",
       "      <td>muy bueno</td>\n",
       "    </tr>\n",
       "    <tr>\n",
       "      <th>258579</th>\n",
       "      <td>5</td>\n",
       "      <td>Great place for some good Greek food!</td>\n",
       "      <td>muy bueno</td>\n",
       "    </tr>\n",
       "    <tr>\n",
       "      <th>258580</th>\n",
       "      <td>5</td>\n",
       "      <td>Fresh food fast</td>\n",
       "      <td>muy bueno</td>\n",
       "    </tr>\n",
       "  </tbody>\n",
       "</table>\n",
       "<p>150731 rows × 3 columns</p>\n",
       "</div>"
      ],
      "text/plain": [
       "        rating                                               text  sentiment\n",
       "0            5  I was looking for a place to eat some oyster a...  muy bueno\n",
       "1            5  I'm not one to gush, but this place is insanel...  muy bueno\n",
       "2            5  I loved the all-day, everyday happy hour over ...  muy bueno\n",
       "3            3  Yummy, crispy hand rolls in a swanky space wit...      bueno\n",
       "4            5  Fair price and quite good oysters, try the fri...  muy bueno\n",
       "...        ...                                                ...        ...\n",
       "258576       4  Not a big gyro fan but my boyfriend LOVES them...  muy bueno\n",
       "258577       5                                         Great food  muy bueno\n",
       "258578       5                                    Delicious gyros  muy bueno\n",
       "258579       5              Great place for some good Greek food!  muy bueno\n",
       "258580       5                                    Fresh food fast  muy bueno\n",
       "\n",
       "[150731 rows x 3 columns]"
      ]
     },
     "execution_count": 7,
     "metadata": {},
     "output_type": "execute_result"
    }
   ],
   "source": [
    "# Mostrar las primeras 5 filas con las columnas de interés\n",
    "reviews[['rating', 'text', 'sentiment']]"
   ]
  },
  {
   "cell_type": "code",
   "execution_count": 31,
   "metadata": {},
   "outputs": [
    {
     "name": "stdout",
     "output_type": "stream",
     "text": [
      "El sentimiento de la reseña es: malo\n"
     ]
    }
   ],
   "source": [
    "from sentimiento import analyze_sentiment\n",
    "\n",
    "# Diferentes ejemplos de reseñas para probar\n",
    "\n",
    "# Respuesta neutral 1\n",
    "opinion = 'bad service'\n",
    "\n",
    "# Aplicar la función\n",
    "sentiment = analyze_sentiment(opinion)\n",
    "\n",
    "# Imprimir el resultado\n",
    "print(f\"El sentimiento de la reseña es: {sentiment}\")"
   ]
  },
  {
   "cell_type": "code",
   "execution_count": null,
   "metadata": {},
   "outputs": [],
   "source": [
    "# Testear manualmente los resultados de las etiquetas.\n",
    "testeo = reviews[['rating','text','sentiment']]\n",
    "testeo.to_csv('../../data/reviews.csv')"
   ]
  }
 ],
 "metadata": {
  "kernelspec": {
   "display_name": "AAentorno",
   "language": "python",
   "name": "python3"
  },
  "language_info": {
   "codemirror_mode": {
    "name": "ipython",
    "version": 3
   },
   "file_extension": ".py",
   "mimetype": "text/x-python",
   "name": "python",
   "nbconvert_exporter": "python",
   "pygments_lexer": "ipython3",
   "version": "3.11.0"
  }
 },
 "nbformat": 4,
 "nbformat_minor": 2
}
