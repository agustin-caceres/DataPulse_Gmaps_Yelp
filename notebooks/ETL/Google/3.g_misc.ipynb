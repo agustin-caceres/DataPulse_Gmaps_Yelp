{
 "cells": [
  {
   "cell_type": "markdown",
   "metadata": {},
   "source": [
    "### Este Notebook estara enfocado en el desanidado y normalizacion de los datos de la columna `MISC`. Al terminar continuar con el Notebook 4."
   ]
  },
  {
   "cell_type": "code",
   "execution_count": 1,
   "metadata": {},
   "outputs": [],
   "source": [
    "import pandas as pd"
   ]
  },
  {
   "cell_type": "code",
   "execution_count": null,
   "metadata": {},
   "outputs": [],
   "source": [
    "# Leemos la tabla g_sitios que tenemos hasta el momento.\n",
    "g_sitios = pd.read_parquet(r'C:\\Users\\mauri\\OneDrive\\Escritorio\\proyectogrupal\\data\\google_sitios.parquet', engine='pyarrow')"
   ]
  },
  {
   "cell_type": "code",
   "execution_count": null,
   "metadata": {},
   "outputs": [],
   "source": [
    "# Creamos una nueva tabla misc\n",
    "misc_sitios = g_sitios[['gmap_id', 'MISC']]\n",
    "\n",
    "# Donde MISC sea NULO no hay Información Se pueden Borrar ya que esta tabla es SOLO MISCELANEOS.\n",
    "misc_sitios = misc_sitios.dropna(subset=['MISC'])"
   ]
  },
  {
   "cell_type": "code",
   "execution_count": null,
   "metadata": {},
   "outputs": [],
   "source": [
    "# Se Define una Función que convierte los Diccionarios en Listas para poder Aplicar `explode` despues.  Sólo se toman aquellos pares del diccionario donde value is not None\n",
    "def dict_to_list(diccionario:dict) -> list:\n",
    "    \"\"\" Devuelve el Diccionario de la columna `MISC` y lo retorna\n",
    "                    como una lista de String \"key:Value\" Siempre y cuando el \n",
    "                    value de la pareja no sea Nulo.\n",
    "\n",
    "    Args:\n",
    "        diccionario (dict): diccionario recibido\n",
    "\n",
    "    Returns:\n",
    "        list: Lista a devolver\n",
    "    \"\"\"\n",
    "    return [f\"{key}: {value}\" for key, value in diccionario.items() if value is not None]"
   ]
  },
  {
   "cell_type": "code",
   "execution_count": null,
   "metadata": {},
   "outputs": [],
   "source": [
    "# Aplicamos la funcion definida arriba.\n",
    "misc_sitios['lista_misc'] = misc_sitios['MISC'].apply(dict_to_list)\n",
    "\n",
    "# Muestra parcial de la tabla:\n",
    "misc_sitios.head()"
   ]
  },
  {
   "cell_type": "markdown",
   "metadata": {},
   "source": [
    "Se borra la columna MISC, se aplica explode al dataframe con respecto a la columna `lista_misc` y luego renombrar la columna para tener lista la tabla"
   ]
  },
  {
   "cell_type": "code",
   "execution_count": null,
   "metadata": {},
   "outputs": [],
   "source": [
    "misc_sitios = misc_sitios.drop(columns=['MISC'])\n",
    "\n",
    "misc_sitios = misc_sitios.explode('lista_misc')\n",
    "\n",
    "misc_sitios.rename(columns={'lista_misc': 'misc'}, inplace=True)\n",
    "misc_sitios.head()"
   ]
  },
  {
   "cell_type": "code",
   "execution_count": null,
   "metadata": {},
   "outputs": [],
   "source": [
    "# Guaradamos la tabla desanidada que se conecta a travez de gmap_id con la tabla principal.\n",
    "misc_sitios.to_parquet('datasets/google/sitios/google_misc_sitios.parquet')"
   ]
  },
  {
   "cell_type": "markdown",
   "metadata": {},
   "source": [
    "--- "
   ]
  },
  {
   "cell_type": "markdown",
   "metadata": {},
   "source": [
    "### Volver a esta parte del notebook luego de ejecutar el notebook 7.g_alcance donde se quedaron las filas necesarias para proseguir con esta tabla"
   ]
  },
  {
   "cell_type": "code",
   "execution_count": 26,
   "metadata": {},
   "outputs": [],
   "source": [
    "# Vemos la tabla con las filas actualizadas para actualizar tipos de datos\n",
    "import pandas as pd\n",
    "misc = pd.read_parquet(r'C:\\Users\\mauri\\OneDrive\\Escritorio\\proyectogrupal\\data\\g_misc_v2.parquet', engine='pyarrow')"
   ]
  },
  {
   "cell_type": "code",
   "execution_count": 27,
   "metadata": {},
   "outputs": [
    {
     "data": {
      "text/html": [
       "<div>\n",
       "<style scoped>\n",
       "    .dataframe tbody tr th:only-of-type {\n",
       "        vertical-align: middle;\n",
       "    }\n",
       "\n",
       "    .dataframe tbody tr th {\n",
       "        vertical-align: top;\n",
       "    }\n",
       "\n",
       "    .dataframe thead th {\n",
       "        text-align: right;\n",
       "    }\n",
       "</style>\n",
       "<table border=\"1\" class=\"dataframe\">\n",
       "  <thead>\n",
       "    <tr style=\"text-align: right;\">\n",
       "      <th></th>\n",
       "      <th>id_negocio</th>\n",
       "      <th>misc</th>\n",
       "    </tr>\n",
       "  </thead>\n",
       "  <tbody>\n",
       "    <tr>\n",
       "      <th>0</th>\n",
       "      <td>0x89c2f6163ac2864f:0xa4213a2f66c15d8f</td>\n",
       "      <td>Accessibility: ['Wheelchair accessible entrance']</td>\n",
       "    </tr>\n",
       "    <tr>\n",
       "      <th>1</th>\n",
       "      <td>0x864c1f10c079a921:0x95710cd26231cc3</td>\n",
       "      <td>Accessibility: ['Wheelchair accessible entrance']</td>\n",
       "    </tr>\n",
       "    <tr>\n",
       "      <th>2</th>\n",
       "      <td>0x8824d759c04cb37b:0xef1cb7398b3d692e</td>\n",
       "      <td>Accessibility: ['Wheelchair accessible entrance']</td>\n",
       "    </tr>\n",
       "    <tr>\n",
       "      <th>3</th>\n",
       "      <td>0x88d9050582e1e64b:0x33457ba08c64df20</td>\n",
       "      <td>Health &amp; safety: ['Appointment required' 'Mask required' 'Temperature check required'\\n 'Staff wear masks' 'Staff get temperature checks'\\n 'Staff required to disinfect surfaces between visits']</td>\n",
       "    </tr>\n",
       "    <tr>\n",
       "      <th>4</th>\n",
       "      <td>0x88d9050582e1e64b:0x33457ba08c64df20</td>\n",
       "      <td>Service options: ['Online appointments']</td>\n",
       "    </tr>\n",
       "    <tr>\n",
       "      <th>...</th>\n",
       "      <td>...</td>\n",
       "      <td>...</td>\n",
       "    </tr>\n",
       "    <tr>\n",
       "      <th>82026</th>\n",
       "      <td>0x89b62c2db5856cd3:0x89e0d1a12b77f78a</td>\n",
       "      <td>Accessibility: ['Wheelchair accessible entrance']</td>\n",
       "    </tr>\n",
       "    <tr>\n",
       "      <th>82027</th>\n",
       "      <td>0x89b7fdc26ba070ef:0x376e99b8fe4bfc32</td>\n",
       "      <td>Accessibility: ['Wheelchair accessible entrance' 'Wheelchair accessible parking lot']</td>\n",
       "    </tr>\n",
       "    <tr>\n",
       "      <th>82028</th>\n",
       "      <td>0x54c0e365e43253f9:0x4366520651be08bb</td>\n",
       "      <td>Accessibility: ['Wheelchair accessible parking lot']</td>\n",
       "    </tr>\n",
       "    <tr>\n",
       "      <th>82029</th>\n",
       "      <td>0x54c0e365e43253f9:0x4366520651be08bb</td>\n",
       "      <td>Planning: ['Quick visit']</td>\n",
       "    </tr>\n",
       "    <tr>\n",
       "      <th>82030</th>\n",
       "      <td>0x54c0e365e43253f9:0x4366520651be08bb</td>\n",
       "      <td>Service options: ['In-store shopping' 'Delivery']</td>\n",
       "    </tr>\n",
       "  </tbody>\n",
       "</table>\n",
       "<p>82031 rows × 2 columns</p>\n",
       "</div>"
      ],
      "text/plain": [
       "                                  id_negocio                                                                                                                                                                                                misc\n",
       "0      0x89c2f6163ac2864f:0xa4213a2f66c15d8f                                                                                                                                                   Accessibility: ['Wheelchair accessible entrance']\n",
       "1       0x864c1f10c079a921:0x95710cd26231cc3                                                                                                                                                   Accessibility: ['Wheelchair accessible entrance']\n",
       "2      0x8824d759c04cb37b:0xef1cb7398b3d692e                                                                                                                                                   Accessibility: ['Wheelchair accessible entrance']\n",
       "3      0x88d9050582e1e64b:0x33457ba08c64df20  Health & safety: ['Appointment required' 'Mask required' 'Temperature check required'\\n 'Staff wear masks' 'Staff get temperature checks'\\n 'Staff required to disinfect surfaces between visits']\n",
       "4      0x88d9050582e1e64b:0x33457ba08c64df20                                                                                                                                                            Service options: ['Online appointments']\n",
       "...                                      ...                                                                                                                                                                                                 ...\n",
       "82026  0x89b62c2db5856cd3:0x89e0d1a12b77f78a                                                                                                                                                   Accessibility: ['Wheelchair accessible entrance']\n",
       "82027  0x89b7fdc26ba070ef:0x376e99b8fe4bfc32                                                                                                               Accessibility: ['Wheelchair accessible entrance' 'Wheelchair accessible parking lot']\n",
       "82028  0x54c0e365e43253f9:0x4366520651be08bb                                                                                                                                                Accessibility: ['Wheelchair accessible parking lot']\n",
       "82029  0x54c0e365e43253f9:0x4366520651be08bb                                                                                                                                                                           Planning: ['Quick visit']\n",
       "82030  0x54c0e365e43253f9:0x4366520651be08bb                                                                                                                                                   Service options: ['In-store shopping' 'Delivery']\n",
       "\n",
       "[82031 rows x 2 columns]"
      ]
     },
     "execution_count": 27,
     "metadata": {},
     "output_type": "execute_result"
    }
   ],
   "source": [
    "pd.set_option('display.max_colwidth', None)\n",
    "misc"
   ]
  },
  {
   "cell_type": "code",
   "execution_count": 28,
   "metadata": {},
   "outputs": [
    {
     "data": {
      "text/html": [
       "<div>\n",
       "<style scoped>\n",
       "    .dataframe tbody tr th:only-of-type {\n",
       "        vertical-align: middle;\n",
       "    }\n",
       "\n",
       "    .dataframe tbody tr th {\n",
       "        vertical-align: top;\n",
       "    }\n",
       "\n",
       "    .dataframe thead th {\n",
       "        text-align: right;\n",
       "    }\n",
       "</style>\n",
       "<table border=\"1\" class=\"dataframe\">\n",
       "  <thead>\n",
       "    <tr style=\"text-align: right;\">\n",
       "      <th></th>\n",
       "      <th>id_negocio</th>\n",
       "      <th>misc</th>\n",
       "      <th>category</th>\n",
       "    </tr>\n",
       "  </thead>\n",
       "  <tbody>\n",
       "    <tr>\n",
       "      <th>0</th>\n",
       "      <td>0x89c2f6163ac2864f:0xa4213a2f66c15d8f</td>\n",
       "      <td>Accessibility: ['Wheelchair accessible entrance']</td>\n",
       "      <td>Accessibility</td>\n",
       "    </tr>\n",
       "    <tr>\n",
       "      <th>1</th>\n",
       "      <td>0x864c1f10c079a921:0x95710cd26231cc3</td>\n",
       "      <td>Accessibility: ['Wheelchair accessible entrance']</td>\n",
       "      <td>Accessibility</td>\n",
       "    </tr>\n",
       "    <tr>\n",
       "      <th>2</th>\n",
       "      <td>0x8824d759c04cb37b:0xef1cb7398b3d692e</td>\n",
       "      <td>Accessibility: ['Wheelchair accessible entrance']</td>\n",
       "      <td>Accessibility</td>\n",
       "    </tr>\n",
       "    <tr>\n",
       "      <th>3</th>\n",
       "      <td>0x88d9050582e1e64b:0x33457ba08c64df20</td>\n",
       "      <td>Health &amp; safety: ['Appointment required' 'Mask required' 'Temperature check required'\\n 'Staff wear masks' 'Staff get temperature checks'\\n 'Staff required to disinfect surfaces between visits']</td>\n",
       "      <td>Health &amp; safety</td>\n",
       "    </tr>\n",
       "    <tr>\n",
       "      <th>4</th>\n",
       "      <td>0x88d9050582e1e64b:0x33457ba08c64df20</td>\n",
       "      <td>Service options: ['Online appointments']</td>\n",
       "      <td>Service options</td>\n",
       "    </tr>\n",
       "    <tr>\n",
       "      <th>...</th>\n",
       "      <td>...</td>\n",
       "      <td>...</td>\n",
       "      <td>...</td>\n",
       "    </tr>\n",
       "    <tr>\n",
       "      <th>82026</th>\n",
       "      <td>0x89b62c2db5856cd3:0x89e0d1a12b77f78a</td>\n",
       "      <td>Accessibility: ['Wheelchair accessible entrance']</td>\n",
       "      <td>Accessibility</td>\n",
       "    </tr>\n",
       "    <tr>\n",
       "      <th>82027</th>\n",
       "      <td>0x89b7fdc26ba070ef:0x376e99b8fe4bfc32</td>\n",
       "      <td>Accessibility: ['Wheelchair accessible entrance' 'Wheelchair accessible parking lot']</td>\n",
       "      <td>Accessibility</td>\n",
       "    </tr>\n",
       "    <tr>\n",
       "      <th>82028</th>\n",
       "      <td>0x54c0e365e43253f9:0x4366520651be08bb</td>\n",
       "      <td>Accessibility: ['Wheelchair accessible parking lot']</td>\n",
       "      <td>Accessibility</td>\n",
       "    </tr>\n",
       "    <tr>\n",
       "      <th>82029</th>\n",
       "      <td>0x54c0e365e43253f9:0x4366520651be08bb</td>\n",
       "      <td>Planning: ['Quick visit']</td>\n",
       "      <td>Planning</td>\n",
       "    </tr>\n",
       "    <tr>\n",
       "      <th>82030</th>\n",
       "      <td>0x54c0e365e43253f9:0x4366520651be08bb</td>\n",
       "      <td>Service options: ['In-store shopping' 'Delivery']</td>\n",
       "      <td>Service options</td>\n",
       "    </tr>\n",
       "  </tbody>\n",
       "</table>\n",
       "<p>82031 rows × 3 columns</p>\n",
       "</div>"
      ],
      "text/plain": [
       "                                  id_negocio                                                                                                                                                                                                misc         category\n",
       "0      0x89c2f6163ac2864f:0xa4213a2f66c15d8f                                                                                                                                                   Accessibility: ['Wheelchair accessible entrance']    Accessibility\n",
       "1       0x864c1f10c079a921:0x95710cd26231cc3                                                                                                                                                   Accessibility: ['Wheelchair accessible entrance']    Accessibility\n",
       "2      0x8824d759c04cb37b:0xef1cb7398b3d692e                                                                                                                                                   Accessibility: ['Wheelchair accessible entrance']    Accessibility\n",
       "3      0x88d9050582e1e64b:0x33457ba08c64df20  Health & safety: ['Appointment required' 'Mask required' 'Temperature check required'\\n 'Staff wear masks' 'Staff get temperature checks'\\n 'Staff required to disinfect surfaces between visits']  Health & safety\n",
       "4      0x88d9050582e1e64b:0x33457ba08c64df20                                                                                                                                                            Service options: ['Online appointments']  Service options\n",
       "...                                      ...                                                                                                                                                                                                 ...              ...\n",
       "82026  0x89b62c2db5856cd3:0x89e0d1a12b77f78a                                                                                                                                                   Accessibility: ['Wheelchair accessible entrance']    Accessibility\n",
       "82027  0x89b7fdc26ba070ef:0x376e99b8fe4bfc32                                                                                                               Accessibility: ['Wheelchair accessible entrance' 'Wheelchair accessible parking lot']    Accessibility\n",
       "82028  0x54c0e365e43253f9:0x4366520651be08bb                                                                                                                                                Accessibility: ['Wheelchair accessible parking lot']    Accessibility\n",
       "82029  0x54c0e365e43253f9:0x4366520651be08bb                                                                                                                                                                           Planning: ['Quick visit']         Planning\n",
       "82030  0x54c0e365e43253f9:0x4366520651be08bb                                                                                                                                                   Service options: ['In-store shopping' 'Delivery']  Service options\n",
       "\n",
       "[82031 rows x 3 columns]"
      ]
     },
     "execution_count": 28,
     "metadata": {},
     "output_type": "execute_result"
    }
   ],
   "source": [
    "# Extraer el texto antes del primer ':'\n",
    "misc['category'] = misc['misc'].str.split(':').str[0]\n",
    "\n",
    "# Obtener las categorías únicas\n",
    "unique_categories = misc['category'].unique()\n",
    "misc"
   ]
  },
  {
   "cell_type": "code",
   "execution_count": 29,
   "metadata": {},
   "outputs": [],
   "source": [
    "# Extraer el contenido después de ':' en la columna 'misc'\n",
    "misc['misc_content'] = misc['misc'].str.split(':').str[1].str.strip()\n",
    "# Usar una expresión regular para extraer cada texto dentro de comillas simples\n",
    "misc['misc_content'] = misc['misc'].str.extractall(r\"'(.*?)'\").groupby(level=0).agg(list)\n",
    "# Separar la lista en filas\n",
    "misc = misc.explode('misc_content')\n",
    "# Muestra de la tabla\n",
    "misc = misc[['id_negocio', 'category', 'misc_content']]"
   ]
  },
  {
   "cell_type": "code",
   "execution_count": 30,
   "metadata": {},
   "outputs": [
    {
     "name": "stdout",
     "output_type": "stream",
     "text": [
      "<class 'pandas.core.frame.DataFrame'>\n",
      "Index: 137923 entries, 0 to 82030\n",
      "Data columns (total 3 columns):\n",
      " #   Column              Non-Null Count   Dtype \n",
      "---  ------              --------------   ----- \n",
      " 0   id_negocio          137923 non-null  object\n",
      " 1   categoria_atributo  137923 non-null  object\n",
      " 2   atributo            137881 non-null  object\n",
      "dtypes: object(3)\n",
      "memory usage: 4.2+ MB\n"
     ]
    }
   ],
   "source": [
    "misc.rename(columns={'category': 'categoria_atributo'}, inplace=True)\n",
    "misc.rename(columns={'misc_content': 'atributo'}, inplace=True)\n",
    "misc.info()"
   ]
  },
  {
   "cell_type": "code",
   "execution_count": 32,
   "metadata": {},
   "outputs": [
    {
     "data": {
      "text/html": [
       "<div>\n",
       "<style scoped>\n",
       "    .dataframe tbody tr th:only-of-type {\n",
       "        vertical-align: middle;\n",
       "    }\n",
       "\n",
       "    .dataframe tbody tr th {\n",
       "        vertical-align: top;\n",
       "    }\n",
       "\n",
       "    .dataframe thead th {\n",
       "        text-align: right;\n",
       "    }\n",
       "</style>\n",
       "<table border=\"1\" class=\"dataframe\">\n",
       "  <thead>\n",
       "    <tr style=\"text-align: right;\">\n",
       "      <th></th>\n",
       "      <th>id_negocio</th>\n",
       "      <th>categoria_atributo</th>\n",
       "      <th>atributo</th>\n",
       "    </tr>\n",
       "  </thead>\n",
       "  <tbody>\n",
       "    <tr>\n",
       "      <th>0</th>\n",
       "      <td>0x89c2f6163ac2864f:0xa4213a2f66c15d8f</td>\n",
       "      <td>Accessibility</td>\n",
       "      <td>Wheelchair accessible entrance</td>\n",
       "    </tr>\n",
       "    <tr>\n",
       "      <th>1</th>\n",
       "      <td>0x864c1f10c079a921:0x95710cd26231cc3</td>\n",
       "      <td>Accessibility</td>\n",
       "      <td>Wheelchair accessible entrance</td>\n",
       "    </tr>\n",
       "    <tr>\n",
       "      <th>2</th>\n",
       "      <td>0x8824d759c04cb37b:0xef1cb7398b3d692e</td>\n",
       "      <td>Accessibility</td>\n",
       "      <td>Wheelchair accessible entrance</td>\n",
       "    </tr>\n",
       "    <tr>\n",
       "      <th>3</th>\n",
       "      <td>0x88d9050582e1e64b:0x33457ba08c64df20</td>\n",
       "      <td>Health &amp; safety</td>\n",
       "      <td>Appointment required</td>\n",
       "    </tr>\n",
       "    <tr>\n",
       "      <th>3</th>\n",
       "      <td>0x88d9050582e1e64b:0x33457ba08c64df20</td>\n",
       "      <td>Health &amp; safety</td>\n",
       "      <td>Mask required</td>\n",
       "    </tr>\n",
       "    <tr>\n",
       "      <th>...</th>\n",
       "      <td>...</td>\n",
       "      <td>...</td>\n",
       "      <td>...</td>\n",
       "    </tr>\n",
       "    <tr>\n",
       "      <th>82027</th>\n",
       "      <td>0x89b7fdc26ba070ef:0x376e99b8fe4bfc32</td>\n",
       "      <td>Accessibility</td>\n",
       "      <td>Wheelchair accessible parking lot</td>\n",
       "    </tr>\n",
       "    <tr>\n",
       "      <th>82028</th>\n",
       "      <td>0x54c0e365e43253f9:0x4366520651be08bb</td>\n",
       "      <td>Accessibility</td>\n",
       "      <td>Wheelchair accessible parking lot</td>\n",
       "    </tr>\n",
       "    <tr>\n",
       "      <th>82029</th>\n",
       "      <td>0x54c0e365e43253f9:0x4366520651be08bb</td>\n",
       "      <td>Planning</td>\n",
       "      <td>Quick visit</td>\n",
       "    </tr>\n",
       "    <tr>\n",
       "      <th>82030</th>\n",
       "      <td>0x54c0e365e43253f9:0x4366520651be08bb</td>\n",
       "      <td>Service options</td>\n",
       "      <td>In-store shopping</td>\n",
       "    </tr>\n",
       "    <tr>\n",
       "      <th>82030</th>\n",
       "      <td>0x54c0e365e43253f9:0x4366520651be08bb</td>\n",
       "      <td>Service options</td>\n",
       "      <td>Delivery</td>\n",
       "    </tr>\n",
       "  </tbody>\n",
       "</table>\n",
       "<p>137923 rows × 3 columns</p>\n",
       "</div>"
      ],
      "text/plain": [
       "                                  id_negocio categoria_atributo                           atributo\n",
       "0      0x89c2f6163ac2864f:0xa4213a2f66c15d8f      Accessibility     Wheelchair accessible entrance\n",
       "1       0x864c1f10c079a921:0x95710cd26231cc3      Accessibility     Wheelchair accessible entrance\n",
       "2      0x8824d759c04cb37b:0xef1cb7398b3d692e      Accessibility     Wheelchair accessible entrance\n",
       "3      0x88d9050582e1e64b:0x33457ba08c64df20    Health & safety               Appointment required\n",
       "3      0x88d9050582e1e64b:0x33457ba08c64df20    Health & safety                      Mask required\n",
       "...                                      ...                ...                                ...\n",
       "82027  0x89b7fdc26ba070ef:0x376e99b8fe4bfc32      Accessibility  Wheelchair accessible parking lot\n",
       "82028  0x54c0e365e43253f9:0x4366520651be08bb      Accessibility  Wheelchair accessible parking lot\n",
       "82029  0x54c0e365e43253f9:0x4366520651be08bb           Planning                        Quick visit\n",
       "82030  0x54c0e365e43253f9:0x4366520651be08bb    Service options                  In-store shopping\n",
       "82030  0x54c0e365e43253f9:0x4366520651be08bb    Service options                           Delivery\n",
       "\n",
       "[137923 rows x 3 columns]"
      ]
     },
     "execution_count": 32,
     "metadata": {},
     "output_type": "execute_result"
    }
   ],
   "source": [
    "import os\n",
    "# Guardamos el nuevo Dataframe g_horarios.\n",
    "os.makedirs('../../../data', exist_ok=True)\n",
    "misc.to_parquet('../../../data/g_misc_v3.parquet', index=False)\n",
    "\n",
    "# Muestra parcial de la tabla y guardado de la informacion.\n",
    "misc"
   ]
  },
  {
   "cell_type": "code",
   "execution_count": 36,
   "metadata": {},
   "outputs": [
    {
     "data": {
      "text/plain": [
       "atributo\n",
       "Wheelchair accessible entrance       27879\n",
       "Wheelchair accessible parking lot     2333\n",
       "Wheelchair accessible restroom        1140\n",
       "Wheelchair-accessible entrance         666\n",
       "Wheelchair accessible seating          593\n",
       "Passenger loading area                 394\n",
       "Wheelchair accessible elevator         303\n",
       "Wheelchair-accessible car park         271\n",
       "Wheelchair-accessible toilet           136\n",
       "Wheelchair-accessible seating           98\n",
       "Wheelchair-accessible lift              31\n",
       "Wheelchair rental                        8\n",
       "Assistive hearing loop                   3\n",
       "Name: count, dtype: int64"
      ]
     },
     "execution_count": 36,
     "metadata": {},
     "output_type": "execute_result"
    }
   ],
   "source": [
    "filtro = misc[misc['categoria_atributo'] == 'Accessibility']\n",
    "filtro = filtro.atributo.value_counts()\n",
    "filtro"
   ]
  }
 ],
 "metadata": {
  "kernelspec": {
   "display_name": "AAentorno",
   "language": "python",
   "name": "python3"
  },
  "language_info": {
   "codemirror_mode": {
    "name": "ipython",
    "version": 3
   },
   "file_extension": ".py",
   "mimetype": "text/x-python",
   "name": "python",
   "nbconvert_exporter": "python",
   "pygments_lexer": "ipython3",
   "version": "3.11.0"
  }
 },
 "nbformat": 4,
 "nbformat_minor": 2
}
