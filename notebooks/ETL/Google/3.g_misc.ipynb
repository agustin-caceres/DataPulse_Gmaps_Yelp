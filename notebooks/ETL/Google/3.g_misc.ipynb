{
 "cells": [
  {
   "cell_type": "markdown",
   "metadata": {},
   "source": [
    "### Este Notebook estara enfocado en el desanidado y normalizacion de los datos de la columna `MISC`. Al terminar continuar con el Notebook 4."
   ]
  },
  {
   "cell_type": "code",
   "execution_count": 2,
   "metadata": {},
   "outputs": [],
   "source": [
    "import pandas as pd"
   ]
  },
  {
   "cell_type": "code",
   "execution_count": null,
   "metadata": {},
   "outputs": [],
   "source": [
    "# Leemos la tabla g_sitios que tenemos hasta el momento.\n",
    "g_sitios = pd.read_parquet(r'C:\\Users\\mauri\\OneDrive\\Escritorio\\proyectogrupal\\data\\google_sitios.parquet', engine='pyarrow')"
   ]
  },
  {
   "cell_type": "code",
   "execution_count": null,
   "metadata": {},
   "outputs": [],
   "source": [
    "# Creamos una nueva tabla misc\n",
    "misc_sitios = g_sitios[['gmap_id', 'MISC']]\n",
    "\n",
    "# Donde MISC sea NULO no hay Información Se pueden Borrar ya que esta tabla es SOLO MISCELANEOS.\n",
    "misc_sitios = misc_sitios.dropna(subset=['MISC'])"
   ]
  },
  {
   "cell_type": "code",
   "execution_count": null,
   "metadata": {},
   "outputs": [],
   "source": [
    "# Se Define una Función que convierte los Diccionarios en Listas para poder Aplicar `explode` despues.  Sólo se toman aquellos pares del diccionario donde value is not None\n",
    "def dict_to_list(diccionario:dict) -> list:\n",
    "    \"\"\" Devuelve el Diccionario de la columna `MISC` y lo retorna\n",
    "                    como una lista de String \"key:Value\" Siempre y cuando el \n",
    "                    value de la pareja no sea Nulo.\n",
    "\n",
    "    Args:\n",
    "        diccionario (dict): diccionario recibido\n",
    "\n",
    "    Returns:\n",
    "        list: Lista a devolver\n",
    "    \"\"\"\n",
    "    return [f\"{key}: {value}\" for key, value in diccionario.items() if value is not None]"
   ]
  },
  {
   "cell_type": "code",
   "execution_count": null,
   "metadata": {},
   "outputs": [],
   "source": [
    "# Aplicamos la funcion definida arriba.\n",
    "misc_sitios['lista_misc'] = misc_sitios['MISC'].apply(dict_to_list)\n",
    "\n",
    "# Muestra parcial de la tabla:\n",
    "misc_sitios.head()"
   ]
  },
  {
   "cell_type": "markdown",
   "metadata": {},
   "source": [
    "Se borra la columna MISC, se aplica explode al dataframe con respecto a la columna `lista_misc` y luego renombrar la columna para tener lista la tabla"
   ]
  },
  {
   "cell_type": "code",
   "execution_count": null,
   "metadata": {},
   "outputs": [],
   "source": [
    "misc_sitios = misc_sitios.drop(columns=['MISC'])\n",
    "\n",
    "misc_sitios = misc_sitios.explode('lista_misc')\n",
    "\n",
    "misc_sitios.rename(columns={'lista_misc': 'misc'}, inplace=True)\n",
    "misc_sitios.head()"
   ]
  },
  {
   "cell_type": "code",
   "execution_count": null,
   "metadata": {},
   "outputs": [],
   "source": [
    "# Guaradamos la tabla desanidada que se conecta a travez de gmap_id con la tabla principal.\n",
    "misc_sitios.to_parquet('datasets/google/sitios/google_misc_sitios.parquet')"
   ]
  },
  {
   "cell_type": "markdown",
   "metadata": {},
   "source": [
    "--- "
   ]
  },
  {
   "cell_type": "markdown",
   "metadata": {},
   "source": [
    "### Volver a esta parte del notebook luego de ejecutar el notebook 7.g_alcance donde se quedaron las filas necesarias para proseguir con esta tabla"
   ]
  },
  {
   "cell_type": "code",
   "execution_count": 26,
   "metadata": {},
   "outputs": [],
   "source": [
    "# Vemos la tabla con las filas actualizadas para actualizar tipos de datos\n",
    "import pandas as pd\n",
    "misc = pd.read_parquet(r'C:\\Users\\mauri\\OneDrive\\Escritorio\\proyectogrupal\\data\\g_misc_v2.parquet', engine='pyarrow')"
   ]
  },
  {
   "cell_type": "code",
   "execution_count": 27,
   "metadata": {},
   "outputs": [
    {
     "data": {
      "text/html": [
       "<div>\n",
       "<style scoped>\n",
       "    .dataframe tbody tr th:only-of-type {\n",
       "        vertical-align: middle;\n",
       "    }\n",
       "\n",
       "    .dataframe tbody tr th {\n",
       "        vertical-align: top;\n",
       "    }\n",
       "\n",
       "    .dataframe thead th {\n",
       "        text-align: right;\n",
       "    }\n",
       "</style>\n",
       "<table border=\"1\" class=\"dataframe\">\n",
       "  <thead>\n",
       "    <tr style=\"text-align: right;\">\n",
       "      <th></th>\n",
       "      <th>id_negocio</th>\n",
       "      <th>misc</th>\n",
       "    </tr>\n",
       "  </thead>\n",
       "  <tbody>\n",
       "    <tr>\n",
       "      <th>0</th>\n",
       "      <td>0x89c2f6163ac2864f:0xa4213a2f66c15d8f</td>\n",
       "      <td>Accessibility: ['Wheelchair accessible entrance']</td>\n",
       "    </tr>\n",
       "    <tr>\n",
       "      <th>1</th>\n",
       "      <td>0x864c1f10c079a921:0x95710cd26231cc3</td>\n",
       "      <td>Accessibility: ['Wheelchair accessible entrance']</td>\n",
       "    </tr>\n",
       "    <tr>\n",
       "      <th>2</th>\n",
       "      <td>0x8824d759c04cb37b:0xef1cb7398b3d692e</td>\n",
       "      <td>Accessibility: ['Wheelchair accessible entrance']</td>\n",
       "    </tr>\n",
       "    <tr>\n",
       "      <th>3</th>\n",
       "      <td>0x88d9050582e1e64b:0x33457ba08c64df20</td>\n",
       "      <td>Health &amp; safety: ['Appointment required' 'Mask required' 'Temperature check required'\\n 'Staff wear masks' 'Staff get temperature checks'\\n 'Staff required to disinfect surfaces between visits']</td>\n",
       "    </tr>\n",
       "    <tr>\n",
       "      <th>4</th>\n",
       "      <td>0x88d9050582e1e64b:0x33457ba08c64df20</td>\n",
       "      <td>Service options: ['Online appointments']</td>\n",
       "    </tr>\n",
       "    <tr>\n",
       "      <th>...</th>\n",
       "      <td>...</td>\n",
       "      <td>...</td>\n",
       "    </tr>\n",
       "    <tr>\n",
       "      <th>82026</th>\n",
       "      <td>0x89b62c2db5856cd3:0x89e0d1a12b77f78a</td>\n",
       "      <td>Accessibility: ['Wheelchair accessible entrance']</td>\n",
       "    </tr>\n",
       "    <tr>\n",
       "      <th>82027</th>\n",
       "      <td>0x89b7fdc26ba070ef:0x376e99b8fe4bfc32</td>\n",
       "      <td>Accessibility: ['Wheelchair accessible entrance' 'Wheelchair accessible parking lot']</td>\n",
       "    </tr>\n",
       "    <tr>\n",
       "      <th>82028</th>\n",
       "      <td>0x54c0e365e43253f9:0x4366520651be08bb</td>\n",
       "      <td>Accessibility: ['Wheelchair accessible parking lot']</td>\n",
       "    </tr>\n",
       "    <tr>\n",
       "      <th>82029</th>\n",
       "      <td>0x54c0e365e43253f9:0x4366520651be08bb</td>\n",
       "      <td>Planning: ['Quick visit']</td>\n",
       "    </tr>\n",
       "    <tr>\n",
       "      <th>82030</th>\n",
       "      <td>0x54c0e365e43253f9:0x4366520651be08bb</td>\n",
       "      <td>Service options: ['In-store shopping' 'Delivery']</td>\n",
       "    </tr>\n",
       "  </tbody>\n",
       "</table>\n",
       "<p>82031 rows × 2 columns</p>\n",
       "</div>"
      ],
      "text/plain": [
       "                                  id_negocio                                                                                                                                                                                                misc\n",
       "0      0x89c2f6163ac2864f:0xa4213a2f66c15d8f                                                                                                                                                   Accessibility: ['Wheelchair accessible entrance']\n",
       "1       0x864c1f10c079a921:0x95710cd26231cc3                                                                                                                                                   Accessibility: ['Wheelchair accessible entrance']\n",
       "2      0x8824d759c04cb37b:0xef1cb7398b3d692e                                                                                                                                                   Accessibility: ['Wheelchair accessible entrance']\n",
       "3      0x88d9050582e1e64b:0x33457ba08c64df20  Health & safety: ['Appointment required' 'Mask required' 'Temperature check required'\\n 'Staff wear masks' 'Staff get temperature checks'\\n 'Staff required to disinfect surfaces between visits']\n",
       "4      0x88d9050582e1e64b:0x33457ba08c64df20                                                                                                                                                            Service options: ['Online appointments']\n",
       "...                                      ...                                                                                                                                                                                                 ...\n",
       "82026  0x89b62c2db5856cd3:0x89e0d1a12b77f78a                                                                                                                                                   Accessibility: ['Wheelchair accessible entrance']\n",
       "82027  0x89b7fdc26ba070ef:0x376e99b8fe4bfc32                                                                                                               Accessibility: ['Wheelchair accessible entrance' 'Wheelchair accessible parking lot']\n",
       "82028  0x54c0e365e43253f9:0x4366520651be08bb                                                                                                                                                Accessibility: ['Wheelchair accessible parking lot']\n",
       "82029  0x54c0e365e43253f9:0x4366520651be08bb                                                                                                                                                                           Planning: ['Quick visit']\n",
       "82030  0x54c0e365e43253f9:0x4366520651be08bb                                                                                                                                                   Service options: ['In-store shopping' 'Delivery']\n",
       "\n",
       "[82031 rows x 2 columns]"
      ]
     },
     "execution_count": 27,
     "metadata": {},
     "output_type": "execute_result"
    }
   ],
   "source": [
    "pd.set_option('display.max_colwidth', None)\n",
    "misc"
   ]
  },
  {
   "cell_type": "code",
   "execution_count": 28,
   "metadata": {},
   "outputs": [
    {
     "data": {
      "text/html": [
       "<div>\n",
       "<style scoped>\n",
       "    .dataframe tbody tr th:only-of-type {\n",
       "        vertical-align: middle;\n",
       "    }\n",
       "\n",
       "    .dataframe tbody tr th {\n",
       "        vertical-align: top;\n",
       "    }\n",
       "\n",
       "    .dataframe thead th {\n",
       "        text-align: right;\n",
       "    }\n",
       "</style>\n",
       "<table border=\"1\" class=\"dataframe\">\n",
       "  <thead>\n",
       "    <tr style=\"text-align: right;\">\n",
       "      <th></th>\n",
       "      <th>id_negocio</th>\n",
       "      <th>misc</th>\n",
       "      <th>category</th>\n",
       "    </tr>\n",
       "  </thead>\n",
       "  <tbody>\n",
       "    <tr>\n",
       "      <th>0</th>\n",
       "      <td>0x89c2f6163ac2864f:0xa4213a2f66c15d8f</td>\n",
       "      <td>Accessibility: ['Wheelchair accessible entrance']</td>\n",
       "      <td>Accessibility</td>\n",
       "    </tr>\n",
       "    <tr>\n",
       "      <th>1</th>\n",
       "      <td>0x864c1f10c079a921:0x95710cd26231cc3</td>\n",
       "      <td>Accessibility: ['Wheelchair accessible entrance']</td>\n",
       "      <td>Accessibility</td>\n",
       "    </tr>\n",
       "    <tr>\n",
       "      <th>2</th>\n",
       "      <td>0x8824d759c04cb37b:0xef1cb7398b3d692e</td>\n",
       "      <td>Accessibility: ['Wheelchair accessible entrance']</td>\n",
       "      <td>Accessibility</td>\n",
       "    </tr>\n",
       "    <tr>\n",
       "      <th>3</th>\n",
       "      <td>0x88d9050582e1e64b:0x33457ba08c64df20</td>\n",
       "      <td>Health &amp; safety: ['Appointment required' 'Mask required' 'Temperature check required'\\n 'Staff wear masks' 'Staff get temperature checks'\\n 'Staff required to disinfect surfaces between visits']</td>\n",
       "      <td>Health &amp; safety</td>\n",
       "    </tr>\n",
       "    <tr>\n",
       "      <th>4</th>\n",
       "      <td>0x88d9050582e1e64b:0x33457ba08c64df20</td>\n",
       "      <td>Service options: ['Online appointments']</td>\n",
       "      <td>Service options</td>\n",
       "    </tr>\n",
       "    <tr>\n",
       "      <th>...</th>\n",
       "      <td>...</td>\n",
       "      <td>...</td>\n",
       "      <td>...</td>\n",
       "    </tr>\n",
       "    <tr>\n",
       "      <th>82026</th>\n",
       "      <td>0x89b62c2db5856cd3:0x89e0d1a12b77f78a</td>\n",
       "      <td>Accessibility: ['Wheelchair accessible entrance']</td>\n",
       "      <td>Accessibility</td>\n",
       "    </tr>\n",
       "    <tr>\n",
       "      <th>82027</th>\n",
       "      <td>0x89b7fdc26ba070ef:0x376e99b8fe4bfc32</td>\n",
       "      <td>Accessibility: ['Wheelchair accessible entrance' 'Wheelchair accessible parking lot']</td>\n",
       "      <td>Accessibility</td>\n",
       "    </tr>\n",
       "    <tr>\n",
       "      <th>82028</th>\n",
       "      <td>0x54c0e365e43253f9:0x4366520651be08bb</td>\n",
       "      <td>Accessibility: ['Wheelchair accessible parking lot']</td>\n",
       "      <td>Accessibility</td>\n",
       "    </tr>\n",
       "    <tr>\n",
       "      <th>82029</th>\n",
       "      <td>0x54c0e365e43253f9:0x4366520651be08bb</td>\n",
       "      <td>Planning: ['Quick visit']</td>\n",
       "      <td>Planning</td>\n",
       "    </tr>\n",
       "    <tr>\n",
       "      <th>82030</th>\n",
       "      <td>0x54c0e365e43253f9:0x4366520651be08bb</td>\n",
       "      <td>Service options: ['In-store shopping' 'Delivery']</td>\n",
       "      <td>Service options</td>\n",
       "    </tr>\n",
       "  </tbody>\n",
       "</table>\n",
       "<p>82031 rows × 3 columns</p>\n",
       "</div>"
      ],
      "text/plain": [
       "                                  id_negocio                                                                                                                                                                                                misc         category\n",
       "0      0x89c2f6163ac2864f:0xa4213a2f66c15d8f                                                                                                                                                   Accessibility: ['Wheelchair accessible entrance']    Accessibility\n",
       "1       0x864c1f10c079a921:0x95710cd26231cc3                                                                                                                                                   Accessibility: ['Wheelchair accessible entrance']    Accessibility\n",
       "2      0x8824d759c04cb37b:0xef1cb7398b3d692e                                                                                                                                                   Accessibility: ['Wheelchair accessible entrance']    Accessibility\n",
       "3      0x88d9050582e1e64b:0x33457ba08c64df20  Health & safety: ['Appointment required' 'Mask required' 'Temperature check required'\\n 'Staff wear masks' 'Staff get temperature checks'\\n 'Staff required to disinfect surfaces between visits']  Health & safety\n",
       "4      0x88d9050582e1e64b:0x33457ba08c64df20                                                                                                                                                            Service options: ['Online appointments']  Service options\n",
       "...                                      ...                                                                                                                                                                                                 ...              ...\n",
       "82026  0x89b62c2db5856cd3:0x89e0d1a12b77f78a                                                                                                                                                   Accessibility: ['Wheelchair accessible entrance']    Accessibility\n",
       "82027  0x89b7fdc26ba070ef:0x376e99b8fe4bfc32                                                                                                               Accessibility: ['Wheelchair accessible entrance' 'Wheelchair accessible parking lot']    Accessibility\n",
       "82028  0x54c0e365e43253f9:0x4366520651be08bb                                                                                                                                                Accessibility: ['Wheelchair accessible parking lot']    Accessibility\n",
       "82029  0x54c0e365e43253f9:0x4366520651be08bb                                                                                                                                                                           Planning: ['Quick visit']         Planning\n",
       "82030  0x54c0e365e43253f9:0x4366520651be08bb                                                                                                                                                   Service options: ['In-store shopping' 'Delivery']  Service options\n",
       "\n",
       "[82031 rows x 3 columns]"
      ]
     },
     "execution_count": 28,
     "metadata": {},
     "output_type": "execute_result"
    }
   ],
   "source": [
    "# Extraer el texto antes del primer ':'\n",
    "misc['category'] = misc['misc'].str.split(':').str[0]\n",
    "\n",
    "# Obtener las categorías únicas\n",
    "unique_categories = misc['category'].unique()\n",
    "misc"
   ]
  },
  {
   "cell_type": "code",
   "execution_count": 29,
   "metadata": {},
   "outputs": [],
   "source": [
    "# Extraer el contenido después de ':' en la columna 'misc'\n",
    "misc['misc_content'] = misc['misc'].str.split(':').str[1].str.strip()\n",
    "# Usar una expresión regular para extraer cada texto dentro de comillas simples\n",
    "misc['misc_content'] = misc['misc'].str.extractall(r\"'(.*?)'\").groupby(level=0).agg(list)\n",
    "# Separar la lista en filas\n",
    "misc = misc.explode('misc_content')\n",
    "# Muestra de la tabla\n",
    "misc = misc[['id_negocio', 'category', 'misc_content']]"
   ]
  },
  {
   "cell_type": "code",
   "execution_count": 30,
   "metadata": {},
   "outputs": [
    {
     "name": "stdout",
     "output_type": "stream",
     "text": [
      "<class 'pandas.core.frame.DataFrame'>\n",
      "Index: 137923 entries, 0 to 82030\n",
      "Data columns (total 3 columns):\n",
      " #   Column              Non-Null Count   Dtype \n",
      "---  ------              --------------   ----- \n",
      " 0   id_negocio          137923 non-null  object\n",
      " 1   categoria_atributo  137923 non-null  object\n",
      " 2   atributo            137881 non-null  object\n",
      "dtypes: object(3)\n",
      "memory usage: 4.2+ MB\n"
     ]
    }
   ],
   "source": [
    "misc.rename(columns={'category': 'categoria_atributo'}, inplace=True)\n",
    "misc.rename(columns={'misc_content': 'atributo'}, inplace=True)\n",
    "misc.info()"
   ]
  },
  {
   "cell_type": "code",
   "execution_count": 25,
   "metadata": {},
   "outputs": [
    {
     "data": {
      "text/html": [
       "<div>\n",
       "<style scoped>\n",
       "    .dataframe tbody tr th:only-of-type {\n",
       "        vertical-align: middle;\n",
       "    }\n",
       "\n",
       "    .dataframe tbody tr th {\n",
       "        vertical-align: top;\n",
       "    }\n",
       "\n",
       "    .dataframe thead th {\n",
       "        text-align: right;\n",
       "    }\n",
       "</style>\n",
       "<table border=\"1\" class=\"dataframe\">\n",
       "  <thead>\n",
       "    <tr style=\"text-align: right;\">\n",
       "      <th></th>\n",
       "      <th>id_negocio</th>\n",
       "      <th>categoria_atributo</th>\n",
       "      <th>atributo</th>\n",
       "    </tr>\n",
       "  </thead>\n",
       "  <tbody>\n",
       "    <tr>\n",
       "      <th>0</th>\n",
       "      <td>0x89c2f6163ac2864f:0xa4213a2f66c15d8f</td>\n",
       "      <td>Accessibility</td>\n",
       "      <td>Wheelchair accessible entrance</td>\n",
       "    </tr>\n",
       "    <tr>\n",
       "      <th>1</th>\n",
       "      <td>0x864c1f10c079a921:0x95710cd26231cc3</td>\n",
       "      <td>Accessibility</td>\n",
       "      <td>Wheelchair accessible entrance</td>\n",
       "    </tr>\n",
       "    <tr>\n",
       "      <th>2</th>\n",
       "      <td>0x88d9050582e1e64b:0x33457ba08c64df20</td>\n",
       "      <td>Service options</td>\n",
       "      <td>Online appointments</td>\n",
       "    </tr>\n",
       "    <tr>\n",
       "      <th>3</th>\n",
       "      <td>0x80c2b7bb7415c183:0x3d3b0d5bc46d3b06</td>\n",
       "      <td>Accessibility</td>\n",
       "      <td>Wheelchair accessible entrance</td>\n",
       "    </tr>\n",
       "    <tr>\n",
       "      <th>4</th>\n",
       "      <td>0x80c2b7bb7415c183:0x3d3b0d5bc46d3b06</td>\n",
       "      <td>Planning</td>\n",
       "      <td>Quick visit</td>\n",
       "    </tr>\n",
       "  </tbody>\n",
       "</table>\n",
       "</div>"
      ],
      "text/plain": [
       "                              id_negocio categoria_atributo  \\\n",
       "0  0x89c2f6163ac2864f:0xa4213a2f66c15d8f      Accessibility   \n",
       "1   0x864c1f10c079a921:0x95710cd26231cc3      Accessibility   \n",
       "2  0x88d9050582e1e64b:0x33457ba08c64df20    Service options   \n",
       "3  0x80c2b7bb7415c183:0x3d3b0d5bc46d3b06      Accessibility   \n",
       "4  0x80c2b7bb7415c183:0x3d3b0d5bc46d3b06           Planning   \n",
       "\n",
       "                         atributo  \n",
       "0  Wheelchair accessible entrance  \n",
       "1  Wheelchair accessible entrance  \n",
       "2             Online appointments  \n",
       "3  Wheelchair accessible entrance  \n",
       "4                     Quick visit  "
      ]
     },
     "execution_count": 25,
     "metadata": {},
     "output_type": "execute_result"
    }
   ],
   "source": [
    "# Leer Archivo\n",
    "misc = pd.read_parquet(r'C:\\Users\\mauri\\OneDrive\\Escritorio\\proyectogrupal\\data\\g_misc_v3.parquet', engine='pyarrow')\n",
    "misc.head()"
   ]
  },
  {
   "cell_type": "markdown",
   "metadata": {},
   "source": [
    "Conteo de nulos"
   ]
  },
  {
   "cell_type": "code",
   "execution_count": 26,
   "metadata": {},
   "outputs": [
    {
     "data": {
      "text/plain": [
       "id_negocio            0\n",
       "categoria_atributo    0\n",
       "atributo              0\n",
       "dtype: int64"
      ]
     },
     "execution_count": 26,
     "metadata": {},
     "output_type": "execute_result"
    }
   ],
   "source": [
    "nulos_por_columna = misc.isnull().sum()\n",
    "nulos_por_columna"
   ]
  },
  {
   "cell_type": "code",
   "execution_count": 7,
   "metadata": {},
   "outputs": [
    {
     "name": "stdout",
     "output_type": "stream",
     "text": [
      "<class 'pandas.core.frame.DataFrame'>\n",
      "Index: 137881 entries, 0 to 137922\n",
      "Data columns (total 3 columns):\n",
      " #   Column              Non-Null Count   Dtype \n",
      "---  ------              --------------   ----- \n",
      " 0   id_negocio          137881 non-null  object\n",
      " 1   categoria_atributo  137881 non-null  object\n",
      " 2   atributo            137881 non-null  object\n",
      "dtypes: object(3)\n",
      "memory usage: 4.2+ MB\n"
     ]
    }
   ],
   "source": [
    "# Eliminar filas nulas\n",
    "misc = misc[misc['atributo'].notnull()]\n",
    "misc.info()"
   ]
  },
  {
   "cell_type": "markdown",
   "metadata": {},
   "source": [
    "Veamos cuantas categorias de atributos hay"
   ]
  },
  {
   "cell_type": "code",
   "execution_count": 8,
   "metadata": {},
   "outputs": [
    {
     "name": "stdout",
     "output_type": "stream",
     "text": [
      "['Accessibility' 'Health & safety' 'Service options' 'Planning'\n",
      " 'From the business' 'Amenities' 'Highlights' 'Payments' 'Atmosphere'\n",
      " 'Crowd' 'Offerings' 'Popular for' 'Dining options' 'Getting here'\n",
      " 'Recycling' 'Health and safety'] \n",
      "total categorias: 16\n"
     ]
    }
   ],
   "source": [
    "categorias = misc['categoria_atributo'].unique()\n",
    "print(categorias,'\\ntotal categorias:',len(categorias))"
   ]
  },
  {
   "cell_type": "markdown",
   "metadata": {},
   "source": [
    "### Existe una categoria duplicada de distinto nombre: \n",
    "- `Health & safety`\n",
    "- `Health and safety`\n",
    "La agrupamos en una sola."
   ]
  },
  {
   "cell_type": "code",
   "execution_count": 9,
   "metadata": {},
   "outputs": [],
   "source": [
    "misc['categoria_atributo'] = misc['categoria_atributo'].replace({'Health & safety': 'Health and safety'})"
   ]
  },
  {
   "cell_type": "markdown",
   "metadata": {},
   "source": [
    "veamos si hay relaciones en otras categorias para agruparlas"
   ]
  },
  {
   "cell_type": "code",
   "execution_count": 10,
   "metadata": {},
   "outputs": [
    {
     "name": "stdout",
     "output_type": "stream",
     "text": [
      "Accessibility\n",
      " ['Wheelchair accessible entrance' 'Wheelchair accessible parking lot'\n",
      " 'Wheelchair accessible restroom' 'Wheelchair accessible elevator'\n",
      " 'Wheelchair accessible seating' 'Passenger loading area'\n",
      " 'Assistive hearing loop' 'Wheelchair rental'\n",
      " 'Wheelchair-accessible entrance' 'Wheelchair-accessible toilet'\n",
      " 'Wheelchair-accessible car park' 'Wheelchair-accessible seating'\n",
      " 'Wheelchair-accessible lift'] \n",
      "\n",
      "Health and safety\n",
      " ['Appointment required' 'Mask required' 'Temperature check required'\n",
      " 'Staff wear masks' 'Staff get temperature checks'\n",
      " 'Staff required to disinfect surfaces between visits'\n",
      " 'Safety dividers at checkout' 'Reservations required'] \n",
      "\n",
      "Service options\n",
      " ['Online appointments' 'In-store shopping' 'Onsite services' 'Delivery'\n",
      " 'Curbside pickup' 'In-store pickup' 'Same-day delivery' 'Takeout'\n",
      " 'Dine-in' 'Online classes' 'Outdoor seating' 'No-contact delivery'\n",
      " 'Online care' 'Online estimates' 'Drive-through' 'Language assistance'\n",
      " 'Outdoor services' 'Takeaway' 'In-store pick-up'] \n",
      "\n",
      "Planning\n",
      " ['Quick visit' 'Dinner reservations recommended' 'Accepts reservations'\n",
      " 'Appointments recommended' 'Membership required' 'Usually a wait'\n",
      " 'Brunch reservations recommended' 'Lunch reservations recommended'] \n",
      "\n",
      "From the business\n",
      " ['Identifies as veteran-led' 'Identifies as women-led'\n",
      " 'Identifies as Black-owned'] \n",
      "\n",
      "Amenities\n",
      " ['Gender-neutral restroom' 'Wi-Fi' 'Good for kids' 'Bar onsite'\n",
      " 'High chairs' 'Restroom' 'Mechanic' 'Child care' 'Restaurant'\n",
      " 'Swimming pool' 'Baggage storage' 'Public restroom' 'All-inclusive'\n",
      " 'Gender-neutral toilets' 'Toilets' 'Bar on site'] \n",
      "\n",
      "Highlights\n",
      " ['LGBTQ friendly' 'Fast service' 'Fireplace' 'Great coffee'\n",
      " 'Great dessert' 'Transgender safespace' 'Live music' 'Great produce'\n",
      " 'Sports' 'Great beer selection' 'Great cocktails'\n",
      " 'Active military discounts' 'Great bar food' 'Serves local specialty'\n",
      " 'Play area' 'Live performances' 'Bar games' 'Great wine list' 'Karaoke'\n",
      " 'Trivia night' 'Rooftop seating' 'Great tea selection' 'Sport'\n",
      " 'Quiz night' 'LGBTQ-friendly' 'Transgender safe space' 'Good discounts'] \n",
      "\n",
      "Payments\n",
      " ['Debit cards' 'NFC mobile payments' 'Credit cards' 'Checks' 'Cash-only'\n",
      " 'Cheques' 'Cash only'] \n",
      "\n",
      "Atmosphere\n",
      " ['Casual' 'Cozy' 'Romantic' 'Quiet' 'Upscale' 'Trending' 'Historic' 'Cosy'\n",
      " 'Upmarket' 'Lively'] \n",
      "\n",
      "Crowd\n",
      " ['Tourists' 'Groups' 'Family-friendly' 'Locals' 'College students'\n",
      " 'University students' 'Family friendly'] \n",
      "\n",
      "Offerings\n",
      " ['Comfort food' 'Healthy options' 'Quick bite' 'Coffee'\n",
      " 'Happy hour drinks' 'Happy hour food' 'Small plates' 'Alcohol' 'Beer'\n",
      " 'Cocktails' 'Hard liquor' 'Organic dishes' 'Vegetarian options' 'Wine'\n",
      " 'Oil change' 'Food' 'Repair services' 'Food at bar' ' menu\" ' ' '\n",
      " 'Service guarantee' 'Car rental' 'Late-night food' 'Car wash'\n",
      " 'Buys used goods' ' shoes\" \"Kids' 'Prepared foods' 'Dancing'\n",
      " 'Organic products' 'Check cashing' 'Assembly service' 'Halal food'\n",
      " 'All you can eat' 'Salad bar' 'Passport photos' 'Used goods'\n",
      " 'Braille menu' 'Happy-hour drinks' 'Happy-hour food' 'Spirits' 'Car hire'] \n",
      "\n",
      "Popular for\n",
      " ['Lunch' 'Dinner' 'Solo dining' 'Breakfast' 'Good for working on laptop'] \n",
      "\n",
      "Dining options\n",
      " ['Dinner' 'Dessert' 'Seating' 'Breakfast' 'Lunch' 'Catering'\n",
      " 'Outside food allowed' 'Counter service' 'Pay ahead'] \n",
      "\n",
      "Getting here\n",
      " ['24-hour transit available'] \n",
      "\n",
      "Recycling\n",
      " ['Glass bottles' 'Metal cans' 'Plastic bottles' 'Ink cartridges'] \n",
      "\n"
     ]
    }
   ],
   "source": [
    "categorias = misc['categoria_atributo'].unique()\n",
    "\n",
    "# Iterar a través de cada categoría y mostrar los atributos únicos\n",
    "for categoria in categorias:\n",
    "    atributos = misc[misc['categoria_atributo'] == categoria]['atributo'].unique()\n",
    "    print(f\"{categoria}\\n\", atributos, \"\\n\")"
   ]
  },
  {
   "cell_type": "markdown",
   "metadata": {},
   "source": [
    "### Viendo los atributos comprendemos que Health and Safety es un atributo de la pandemia el cual hoy ya no es necesario ni tenido en cuenta para lugares turisticos. Por ende vamos a eliminar ese atributo."
   ]
  },
  {
   "cell_type": "code",
   "execution_count": 11,
   "metadata": {},
   "outputs": [
    {
     "name": "stdout",
     "output_type": "stream",
     "text": [
      "['Accessibility' 'Service options' 'Planning' 'From the business'\n",
      " 'Amenities' 'Highlights' 'Payments' 'Atmosphere' 'Crowd' 'Offerings'\n",
      " 'Popular for' 'Dining options' 'Getting here' 'Recycling']\n"
     ]
    }
   ],
   "source": [
    "# Quitamos Health and Safety de los atributos.\n",
    "misc = misc[misc['categoria_atributo'] != 'Health and safety']\n",
    "# Comprobamos\n",
    "categorias = misc['categoria_atributo'].unique()\n",
    "print(categorias)"
   ]
  },
  {
   "cell_type": "markdown",
   "metadata": {},
   "source": [
    "### Tambien vemos muchos atributos repetidos. Algunos contienen - y otros solo espacios. Asi que reemplazamos - por espacios y ver de nuevo las categorias"
   ]
  },
  {
   "cell_type": "markdown",
   "metadata": {},
   "source": [
    "Ademas generalizar todos los tipos de inclusion sexual en una sola categoria. 'LGBTQ Friendly'"
   ]
  },
  {
   "cell_type": "code",
   "execution_count": 12,
   "metadata": {},
   "outputs": [],
   "source": [
    "# Quitar el guion en los valores de 'atributo'\n",
    "misc['atributo'] = misc['atributo'].str.replace('-', ' ', regex=False)\n",
    "\n",
    "# Generalizar el atributo.\n",
    "mapeo_lgbtq = {\n",
    "    'LGBTQ friendly': 'LGBTQ friendly',\n",
    "    'LGBTQ-friendly': 'LGBTQ friendly',\n",
    "    'Transgender safespace': 'LGBTQ friendly',\n",
    "    'Transgender safe space': 'LGBTQ friendly'\n",
    "}\n",
    "\n",
    "mapeo_accesibilidad = {\n",
    "    'Wheelchair accessible restroom': 'Wheelchair accessible toilet',\n",
    "    'Wheelchair accessible parking lot': 'Wheelchair accessible car park',\n",
    "    'Wheelchair accessible lift': 'Wheelchair accessible elevator'\n",
    "}\n",
    "\n",
    "# Aplicar el mapeo a la columna 'atributo'\n",
    "misc['atributo'] = misc['atributo'].replace(mapeo_lgbtq)\n",
    "misc['atributo'] = misc['atributo'].replace(mapeo_accesibilidad)\n"
   ]
  },
  {
   "cell_type": "markdown",
   "metadata": {},
   "source": [
    "Volvamos a ver los atributos"
   ]
  },
  {
   "cell_type": "code",
   "execution_count": 13,
   "metadata": {},
   "outputs": [
    {
     "name": "stdout",
     "output_type": "stream",
     "text": [
      "Accessibility\n",
      " ['Wheelchair accessible entrance' 'Wheelchair accessible car park'\n",
      " 'Wheelchair accessible toilet' 'Wheelchair accessible elevator'\n",
      " 'Wheelchair accessible seating' 'Passenger loading area'\n",
      " 'Assistive hearing loop' 'Wheelchair rental'] \n",
      "\n",
      "Service options\n",
      " ['Online appointments' 'In store shopping' 'Onsite services' 'Delivery'\n",
      " 'Curbside pickup' 'In store pickup' 'Same day delivery' 'Takeout'\n",
      " 'Dine in' 'Online classes' 'Outdoor seating' 'No contact delivery'\n",
      " 'Online care' 'Online estimates' 'Drive through' 'Language assistance'\n",
      " 'Outdoor services' 'Takeaway' 'In store pick up'] \n",
      "\n",
      "Planning\n",
      " ['Quick visit' 'Dinner reservations recommended' 'Accepts reservations'\n",
      " 'Appointments recommended' 'Membership required' 'Usually a wait'\n",
      " 'Brunch reservations recommended' 'Lunch reservations recommended'] \n",
      "\n",
      "From the business\n",
      " ['Identifies as veteran led' 'Identifies as women led'\n",
      " 'Identifies as Black owned'] \n",
      "\n",
      "Amenities\n",
      " ['Gender neutral restroom' 'Wi Fi' 'Good for kids' 'Bar onsite'\n",
      " 'High chairs' 'Restroom' 'Mechanic' 'Child care' 'Restaurant'\n",
      " 'Swimming pool' 'Baggage storage' 'Public restroom' 'All inclusive'\n",
      " 'Gender neutral toilets' 'Toilets' 'Bar on site'] \n",
      "\n",
      "Highlights\n",
      " ['LGBTQ friendly' 'Fast service' 'Fireplace' 'Great coffee'\n",
      " 'Great dessert' 'Live music' 'Great produce' 'Sports'\n",
      " 'Great beer selection' 'Great cocktails' 'Active military discounts'\n",
      " 'Great bar food' 'Serves local specialty' 'Play area' 'Live performances'\n",
      " 'Bar games' 'Great wine list' 'Karaoke' 'Trivia night' 'Rooftop seating'\n",
      " 'Great tea selection' 'Sport' 'Quiz night' 'Good discounts'] \n",
      "\n",
      "Payments\n",
      " ['Debit cards' 'NFC mobile payments' 'Credit cards' 'Checks' 'Cash only'\n",
      " 'Cheques'] \n",
      "\n",
      "Atmosphere\n",
      " ['Casual' 'Cozy' 'Romantic' 'Quiet' 'Upscale' 'Trending' 'Historic' 'Cosy'\n",
      " 'Upmarket' 'Lively'] \n",
      "\n",
      "Crowd\n",
      " ['Tourists' 'Groups' 'Family friendly' 'Locals' 'College students'\n",
      " 'University students'] \n",
      "\n",
      "Offerings\n",
      " ['Comfort food' 'Healthy options' 'Quick bite' 'Coffee'\n",
      " 'Happy hour drinks' 'Happy hour food' 'Small plates' 'Alcohol' 'Beer'\n",
      " 'Cocktails' 'Hard liquor' 'Organic dishes' 'Vegetarian options' 'Wine'\n",
      " 'Oil change' 'Food' 'Repair services' 'Food at bar' ' menu\" ' ' '\n",
      " 'Service guarantee' 'Car rental' 'Late night food' 'Car wash'\n",
      " 'Buys used goods' ' shoes\" \"Kids' 'Prepared foods' 'Dancing'\n",
      " 'Organic products' 'Check cashing' 'Assembly service' 'Halal food'\n",
      " 'All you can eat' 'Salad bar' 'Passport photos' 'Used goods'\n",
      " 'Braille menu' 'Spirits' 'Car hire'] \n",
      "\n",
      "Popular for\n",
      " ['Lunch' 'Dinner' 'Solo dining' 'Breakfast' 'Good for working on laptop'] \n",
      "\n",
      "Dining options\n",
      " ['Dinner' 'Dessert' 'Seating' 'Breakfast' 'Lunch' 'Catering'\n",
      " 'Outside food allowed' 'Counter service' 'Pay ahead'] \n",
      "\n",
      "Getting here\n",
      " ['24 hour transit available'] \n",
      "\n",
      "Recycling\n",
      " ['Glass bottles' 'Metal cans' 'Plastic bottles' 'Ink cartridges'] \n",
      "\n"
     ]
    }
   ],
   "source": [
    "categorias = misc['categoria_atributo'].unique()\n",
    "\n",
    "# Iterar a través de cada categoría y mostrar los atributos únicos\n",
    "for categoria in categorias:\n",
    "    atributos = misc[misc['categoria_atributo'] == categoria]['atributo'].unique()\n",
    "    print(f\"{categoria}\\n\", atributos, \"\\n\")"
   ]
  },
  {
   "cell_type": "markdown",
   "metadata": {},
   "source": [
    "Vemos que dentro de offering se encuentra un atributo 'braille menu' esto es muy importante para determinar la accesibilidad asi que lo agruparemos en esa caegoria. Ademas el atributo 'High chairs' tambien podria entrar dentro de la accesibilidad para problemas de altura."
   ]
  },
  {
   "cell_type": "code",
   "execution_count": 21,
   "metadata": {},
   "outputs": [],
   "source": [
    "# Cambiar la categoría a \"Accessibility\" para registros con \"Offerings\" y \"Braille menu\"\n",
    "misc.loc[(misc['categoria_atributo'] == 'Offerings') & (misc['atributo'] == 'Braille menu'), 'categoria_atributo'] = 'Accessibility'\n",
    "misc.loc[(misc['categoria_atributo'] == 'Amenities') & (misc['atributo'] == 'High chairs'), 'categoria_atributo'] = 'Accessibility'\n",
    "misc.loc[(misc['categoria_atributo'] == 'Accessibility') & (misc['atributo'] == 'Active military discounts'), 'categoria_atributo'] = 'Highlights'\n"
   ]
  },
  {
   "cell_type": "code",
   "execution_count": 23,
   "metadata": {},
   "outputs": [
    {
     "name": "stdout",
     "output_type": "stream",
     "text": [
      "Accessibility\n",
      " ['Wheelchair accessible entrance' 'Wheelchair accessible car park'\n",
      " 'Wheelchair accessible toilet' 'Wheelchair accessible elevator'\n",
      " 'Wheelchair accessible seating' 'High chairs' 'Passenger loading area'\n",
      " 'Assistive hearing loop' 'Braille menu' 'Wheelchair rental'] \n",
      "\n",
      "Service options\n",
      " ['Online appointments' 'In store shopping' 'Onsite services' 'Delivery'\n",
      " 'Curbside pickup' 'In store pickup' 'Same day delivery' 'Takeout'\n",
      " 'Dine in' 'Online classes' 'Outdoor seating' 'No contact delivery'\n",
      " 'Online care' 'Online estimates' 'Drive through' 'Language assistance'\n",
      " 'Outdoor services' 'Takeaway' 'In store pick up'] \n",
      "\n",
      "Planning\n",
      " ['Quick visit' 'Dinner reservations recommended' 'Accepts reservations'\n",
      " 'Appointments recommended' 'Membership required' 'Usually a wait'\n",
      " 'Brunch reservations recommended' 'Lunch reservations recommended'] \n",
      "\n",
      "From the business\n",
      " ['Identifies as veteran led' 'Identifies as women led'\n",
      " 'Identifies as Black owned'] \n",
      "\n",
      "Amenities\n",
      " ['Gender neutral restroom' 'Wi Fi' 'Good for kids' 'Bar onsite' 'Restroom'\n",
      " 'Mechanic' 'Child care' 'Restaurant' 'Swimming pool' 'Baggage storage'\n",
      " 'Public restroom' 'All inclusive' 'Gender neutral toilets' 'Toilets'\n",
      " 'Bar on site'] \n",
      "\n",
      "Highlights\n",
      " ['LGBTQ friendly' 'Fast service' 'Fireplace' 'Great coffee'\n",
      " 'Great dessert' 'Live music' 'Great produce' 'Sports'\n",
      " 'Great beer selection' 'Great cocktails' 'Active military discounts'\n",
      " 'Great bar food' 'Serves local specialty' 'Play area' 'Live performances'\n",
      " 'Bar games' 'Great wine list' 'Karaoke' 'Trivia night' 'Rooftop seating'\n",
      " 'Great tea selection' 'Sport' 'Quiz night' 'Good discounts'] \n",
      "\n",
      "Payments\n",
      " ['Debit cards' 'NFC mobile payments' 'Credit cards' 'Checks' 'Cash only'\n",
      " 'Cheques'] \n",
      "\n",
      "Atmosphere\n",
      " ['Casual' 'Cozy' 'Romantic' 'Quiet' 'Upscale' 'Trending' 'Historic' 'Cosy'\n",
      " 'Upmarket' 'Lively'] \n",
      "\n",
      "Crowd\n",
      " ['Tourists' 'Groups' 'Family friendly' 'Locals' 'College students'\n",
      " 'University students'] \n",
      "\n",
      "Offerings\n",
      " ['Comfort food' 'Healthy options' 'Quick bite' 'Coffee'\n",
      " 'Happy hour drinks' 'Happy hour food' 'Small plates' 'Alcohol' 'Beer'\n",
      " 'Cocktails' 'Hard liquor' 'Organic dishes' 'Vegetarian options' 'Wine'\n",
      " 'Oil change' 'Food' 'Repair services' 'Food at bar' ' menu\" ' ' '\n",
      " 'Service guarantee' 'Car rental' 'Late night food' 'Car wash'\n",
      " 'Buys used goods' ' shoes\" \"Kids' 'Prepared foods' 'Dancing'\n",
      " 'Organic products' 'Check cashing' 'Assembly service' 'Halal food'\n",
      " 'All you can eat' 'Salad bar' 'Passport photos' 'Used goods' 'Spirits'\n",
      " 'Car hire'] \n",
      "\n",
      "Popular for\n",
      " ['Lunch' 'Dinner' 'Solo dining' 'Breakfast' 'Good for working on laptop'] \n",
      "\n",
      "Dining options\n",
      " ['Dinner' 'Dessert' 'Seating' 'Breakfast' 'Lunch' 'Catering'\n",
      " 'Outside food allowed' 'Counter service' 'Pay ahead'] \n",
      "\n",
      "Getting here\n",
      " ['24 hour transit available'] \n",
      "\n",
      "Recycling\n",
      " ['Glass bottles' 'Metal cans' 'Plastic bottles' 'Ink cartridges'] \n",
      "\n"
     ]
    }
   ],
   "source": [
    "# Muestra final\n",
    "categorias = misc['categoria_atributo'].unique()\n",
    "\n",
    "# Iterar a través de cada categoría y mostrar los atributos únicos\n",
    "for categoria in categorias:\n",
    "    atributos = misc[misc['categoria_atributo'] == categoria]['atributo'].unique()\n",
    "    print(f\"{categoria}\\n\", atributos, \"\\n\")"
   ]
  },
  {
   "cell_type": "code",
   "execution_count": 24,
   "metadata": {},
   "outputs": [
    {
     "data": {
      "text/html": [
       "<div>\n",
       "<style scoped>\n",
       "    .dataframe tbody tr th:only-of-type {\n",
       "        vertical-align: middle;\n",
       "    }\n",
       "\n",
       "    .dataframe tbody tr th {\n",
       "        vertical-align: top;\n",
       "    }\n",
       "\n",
       "    .dataframe thead th {\n",
       "        text-align: right;\n",
       "    }\n",
       "</style>\n",
       "<table border=\"1\" class=\"dataframe\">\n",
       "  <thead>\n",
       "    <tr style=\"text-align: right;\">\n",
       "      <th></th>\n",
       "      <th>id_negocio</th>\n",
       "      <th>categoria_atributo</th>\n",
       "      <th>atributo</th>\n",
       "    </tr>\n",
       "  </thead>\n",
       "  <tbody>\n",
       "    <tr>\n",
       "      <th>0</th>\n",
       "      <td>0x89c2f6163ac2864f:0xa4213a2f66c15d8f</td>\n",
       "      <td>Accessibility</td>\n",
       "      <td>Wheelchair accessible entrance</td>\n",
       "    </tr>\n",
       "    <tr>\n",
       "      <th>1</th>\n",
       "      <td>0x864c1f10c079a921:0x95710cd26231cc3</td>\n",
       "      <td>Accessibility</td>\n",
       "      <td>Wheelchair accessible entrance</td>\n",
       "    </tr>\n",
       "    <tr>\n",
       "      <th>2</th>\n",
       "      <td>0x8824d759c04cb37b:0xef1cb7398b3d692e</td>\n",
       "      <td>Accessibility</td>\n",
       "      <td>Wheelchair accessible entrance</td>\n",
       "    </tr>\n",
       "    <tr>\n",
       "      <th>9</th>\n",
       "      <td>0x88d9050582e1e64b:0x33457ba08c64df20</td>\n",
       "      <td>Service options</td>\n",
       "      <td>Online appointments</td>\n",
       "    </tr>\n",
       "    <tr>\n",
       "      <th>10</th>\n",
       "      <td>0x80c2b7bb7415c183:0x3d3b0d5bc46d3b06</td>\n",
       "      <td>Accessibility</td>\n",
       "      <td>Wheelchair accessible entrance</td>\n",
       "    </tr>\n",
       "    <tr>\n",
       "      <th>...</th>\n",
       "      <td>...</td>\n",
       "      <td>...</td>\n",
       "      <td>...</td>\n",
       "    </tr>\n",
       "    <tr>\n",
       "      <th>137918</th>\n",
       "      <td>0x89b7fdc26ba070ef:0x376e99b8fe4bfc32</td>\n",
       "      <td>Accessibility</td>\n",
       "      <td>Wheelchair accessible car park</td>\n",
       "    </tr>\n",
       "    <tr>\n",
       "      <th>137919</th>\n",
       "      <td>0x54c0e365e43253f9:0x4366520651be08bb</td>\n",
       "      <td>Accessibility</td>\n",
       "      <td>Wheelchair accessible car park</td>\n",
       "    </tr>\n",
       "    <tr>\n",
       "      <th>137920</th>\n",
       "      <td>0x54c0e365e43253f9:0x4366520651be08bb</td>\n",
       "      <td>Planning</td>\n",
       "      <td>Quick visit</td>\n",
       "    </tr>\n",
       "    <tr>\n",
       "      <th>137921</th>\n",
       "      <td>0x54c0e365e43253f9:0x4366520651be08bb</td>\n",
       "      <td>Service options</td>\n",
       "      <td>In store shopping</td>\n",
       "    </tr>\n",
       "    <tr>\n",
       "      <th>137922</th>\n",
       "      <td>0x54c0e365e43253f9:0x4366520651be08bb</td>\n",
       "      <td>Service options</td>\n",
       "      <td>Delivery</td>\n",
       "    </tr>\n",
       "  </tbody>\n",
       "</table>\n",
       "<p>128470 rows × 3 columns</p>\n",
       "</div>"
      ],
      "text/plain": [
       "                                   id_negocio categoria_atributo  \\\n",
       "0       0x89c2f6163ac2864f:0xa4213a2f66c15d8f      Accessibility   \n",
       "1        0x864c1f10c079a921:0x95710cd26231cc3      Accessibility   \n",
       "2       0x8824d759c04cb37b:0xef1cb7398b3d692e      Accessibility   \n",
       "9       0x88d9050582e1e64b:0x33457ba08c64df20    Service options   \n",
       "10      0x80c2b7bb7415c183:0x3d3b0d5bc46d3b06      Accessibility   \n",
       "...                                       ...                ...   \n",
       "137918  0x89b7fdc26ba070ef:0x376e99b8fe4bfc32      Accessibility   \n",
       "137919  0x54c0e365e43253f9:0x4366520651be08bb      Accessibility   \n",
       "137920  0x54c0e365e43253f9:0x4366520651be08bb           Planning   \n",
       "137921  0x54c0e365e43253f9:0x4366520651be08bb    Service options   \n",
       "137922  0x54c0e365e43253f9:0x4366520651be08bb    Service options   \n",
       "\n",
       "                              atributo  \n",
       "0       Wheelchair accessible entrance  \n",
       "1       Wheelchair accessible entrance  \n",
       "2       Wheelchair accessible entrance  \n",
       "9                  Online appointments  \n",
       "10      Wheelchair accessible entrance  \n",
       "...                                ...  \n",
       "137918  Wheelchair accessible car park  \n",
       "137919  Wheelchair accessible car park  \n",
       "137920                     Quick visit  \n",
       "137921               In store shopping  \n",
       "137922                        Delivery  \n",
       "\n",
       "[128470 rows x 3 columns]"
      ]
     },
     "execution_count": 24,
     "metadata": {},
     "output_type": "execute_result"
    }
   ],
   "source": [
    "import os\n",
    "# Guardamos el nuevo Dataframe g_misc\n",
    "os.makedirs('../../../data', exist_ok=True)\n",
    "misc.to_parquet('../../../data/g_misc_v3.parquet', index=False)\n",
    "\n",
    "# Muestra parcial de la tabla y guardado de la informacion.\n",
    "misc"
   ]
  }
 ],
 "metadata": {
  "kernelspec": {
   "display_name": "AAentorno",
   "language": "python",
   "name": "python3"
  },
  "language_info": {
   "codemirror_mode": {
    "name": "ipython",
    "version": 3
   },
   "file_extension": ".py",
   "mimetype": "text/x-python",
   "name": "python",
   "nbconvert_exporter": "python",
   "pygments_lexer": "ipython3",
   "version": "3.11.0"
  }
 },
 "nbformat": 4,
 "nbformat_minor": 2
}
