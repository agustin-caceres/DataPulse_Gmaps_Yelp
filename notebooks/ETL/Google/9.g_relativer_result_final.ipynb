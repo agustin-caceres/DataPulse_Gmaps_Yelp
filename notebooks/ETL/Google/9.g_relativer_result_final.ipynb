{
 "cells": [
  {
   "cell_type": "markdown",
   "metadata": {},
   "source": [
    "En este notebook se continuará trabajando con el dataset **\"g_relative_results_v3_parquet\"** para su transformación. De resultado se obtendrá una tabla para su posterior carga a una base de datos."
   ]
  },
  {
   "cell_type": "markdown",
   "metadata": {},
   "source": [
    "Como primer paso voy a importar el dataset."
   ]
  },
  {
   "cell_type": "code",
   "execution_count": 184,
   "metadata": {},
   "outputs": [
    {
     "data": {
      "text/html": [
       "<div>\n",
       "<style scoped>\n",
       "    .dataframe tbody tr th:only-of-type {\n",
       "        vertical-align: middle;\n",
       "    }\n",
       "\n",
       "    .dataframe tbody tr th {\n",
       "        vertical-align: top;\n",
       "    }\n",
       "\n",
       "    .dataframe thead th {\n",
       "        text-align: right;\n",
       "    }\n",
       "</style>\n",
       "<table border=\"1\" class=\"dataframe\">\n",
       "  <thead>\n",
       "    <tr style=\"text-align: right;\">\n",
       "      <th></th>\n",
       "      <th>id_negocio</th>\n",
       "      <th>relative_results</th>\n",
       "    </tr>\n",
       "  </thead>\n",
       "  <tbody>\n",
       "    <tr>\n",
       "      <th>0</th>\n",
       "      <td>0x89c2f6163ac2864f:0xa4213a2f66c15d8f</td>\n",
       "      <td>0x89c25896a272f571:0x591dc6b82a5c9f69</td>\n",
       "    </tr>\n",
       "    <tr>\n",
       "      <th>1</th>\n",
       "      <td>0x89c2f6163ac2864f:0xa4213a2f66c15d8f</td>\n",
       "      <td>0x89c259aa95e35ab1:0xe5bc3090ddbb7303</td>\n",
       "    </tr>\n",
       "    <tr>\n",
       "      <th>2</th>\n",
       "      <td>0x89c2f6163ac2864f:0xa4213a2f66c15d8f</td>\n",
       "      <td>0x89c2f6738352c9b1:0xbd4236721db97644</td>\n",
       "    </tr>\n",
       "    <tr>\n",
       "      <th>3</th>\n",
       "      <td>0x89c2f6163ac2864f:0xa4213a2f66c15d8f</td>\n",
       "      <td>0x89c2f63cfaa99b63:0x9d122f0cb09de6ec</td>\n",
       "    </tr>\n",
       "    <tr>\n",
       "      <th>4</th>\n",
       "      <td>0x89c2f6163ac2864f:0xa4213a2f66c15d8f</td>\n",
       "      <td>0x89c2607f4b59e67f:0x9101ba64ab5e2d9c</td>\n",
       "    </tr>\n",
       "  </tbody>\n",
       "</table>\n",
       "</div>"
      ],
      "text/plain": [
       "                              id_negocio  \\\n",
       "0  0x89c2f6163ac2864f:0xa4213a2f66c15d8f   \n",
       "1  0x89c2f6163ac2864f:0xa4213a2f66c15d8f   \n",
       "2  0x89c2f6163ac2864f:0xa4213a2f66c15d8f   \n",
       "3  0x89c2f6163ac2864f:0xa4213a2f66c15d8f   \n",
       "4  0x89c2f6163ac2864f:0xa4213a2f66c15d8f   \n",
       "\n",
       "                        relative_results  \n",
       "0  0x89c25896a272f571:0x591dc6b82a5c9f69  \n",
       "1  0x89c259aa95e35ab1:0xe5bc3090ddbb7303  \n",
       "2  0x89c2f6738352c9b1:0xbd4236721db97644  \n",
       "3  0x89c2f63cfaa99b63:0x9d122f0cb09de6ec  \n",
       "4  0x89c2607f4b59e67f:0x9101ba64ab5e2d9c  "
      ]
     },
     "execution_count": 184,
     "metadata": {},
     "output_type": "execute_result"
    }
   ],
   "source": [
    "# Importo librería necesaria\n",
    "import pandas as pd\n",
    "\n",
    "df = pd.read_parquet(r\"C:\\Users\\Juli\\Desktop\\g_relative_results_v3.parquet\")\n",
    "\n",
    "# Muestra las primeras filas del archivo para verificar su contenido\n",
    "df.head()"
   ]
  },
  {
   "cell_type": "code",
   "execution_count": 185,
   "metadata": {},
   "outputs": [
    {
     "name": "stdout",
     "output_type": "stream",
     "text": [
      "<class 'pandas.core.frame.DataFrame'>\n",
      "RangeIndex: 69812 entries, 0 to 69811\n",
      "Data columns (total 2 columns):\n",
      " #   Column            Non-Null Count  Dtype \n",
      "---  ------            --------------  ----- \n",
      " 0   id_negocio        69812 non-null  object\n",
      " 1   relative_results  67943 non-null  object\n",
      "dtypes: object(2)\n",
      "memory usage: 1.1+ MB\n"
     ]
    }
   ],
   "source": [
    "df.info()"
   ]
  },
  {
   "cell_type": "code",
   "execution_count": 187,
   "metadata": {},
   "outputs": [],
   "source": [
    "# Realizo una copia del dataframe\n",
    "df_copia = df.copy()"
   ]
  },
  {
   "cell_type": "markdown",
   "metadata": {},
   "source": [
    "Voy a realizar una búsqueda de **valores nulos.**"
   ]
  },
  {
   "cell_type": "code",
   "execution_count": 188,
   "metadata": {},
   "outputs": [
    {
     "name": "stdout",
     "output_type": "stream",
     "text": [
      "id_negocio             0\n",
      "relative_results    1869\n",
      "dtype: int64\n"
     ]
    }
   ],
   "source": [
    "# Cuento los nulos en cada fila\n",
    "cant_nulos = df_copia.isnull().sum()\n",
    "print(cant_nulos)"
   ]
  },
  {
   "cell_type": "code",
   "execution_count": 189,
   "metadata": {},
   "outputs": [
    {
     "data": {
      "text/html": [
       "<div>\n",
       "<style scoped>\n",
       "    .dataframe tbody tr th:only-of-type {\n",
       "        vertical-align: middle;\n",
       "    }\n",
       "\n",
       "    .dataframe tbody tr th {\n",
       "        vertical-align: top;\n",
       "    }\n",
       "\n",
       "    .dataframe thead th {\n",
       "        text-align: right;\n",
       "    }\n",
       "</style>\n",
       "<table border=\"1\" class=\"dataframe\">\n",
       "  <thead>\n",
       "    <tr style=\"text-align: right;\">\n",
       "      <th></th>\n",
       "      <th>id_negocio</th>\n",
       "      <th>relative_results</th>\n",
       "    </tr>\n",
       "  </thead>\n",
       "  <tbody>\n",
       "    <tr>\n",
       "      <th>27</th>\n",
       "      <td>0x80c33190ba5119bf:0x1a8b79348a959bd4</td>\n",
       "      <td>None</td>\n",
       "    </tr>\n",
       "    <tr>\n",
       "      <th>66</th>\n",
       "      <td>0x8637078cc7ea293f:0x56780adebdd561a7</td>\n",
       "      <td>None</td>\n",
       "    </tr>\n",
       "    <tr>\n",
       "      <th>67</th>\n",
       "      <td>0x89ccb14964182235:0x117c242f50e9def1</td>\n",
       "      <td>None</td>\n",
       "    </tr>\n",
       "    <tr>\n",
       "      <th>72</th>\n",
       "      <td>0x8083fd560ecc3d1b:0x83822a243b78ff83</td>\n",
       "      <td>None</td>\n",
       "    </tr>\n",
       "    <tr>\n",
       "      <th>80</th>\n",
       "      <td>0x8640db0e8489dbdb:0x4ce70ca2576c9005</td>\n",
       "      <td>None</td>\n",
       "    </tr>\n",
       "    <tr>\n",
       "      <th>...</th>\n",
       "      <td>...</td>\n",
       "      <td>...</td>\n",
       "    </tr>\n",
       "    <tr>\n",
       "      <th>69552</th>\n",
       "      <td>0x88e76353c905db17:0x3773d93435328b7e</td>\n",
       "      <td>None</td>\n",
       "    </tr>\n",
       "    <tr>\n",
       "      <th>69595</th>\n",
       "      <td>0x89c4c5b181efd00d:0xfa13b3f3ce1e08f2</td>\n",
       "      <td>None</td>\n",
       "    </tr>\n",
       "    <tr>\n",
       "      <th>69726</th>\n",
       "      <td>0x80c2d9df7154560d:0xf714b3bfa2b48916</td>\n",
       "      <td>None</td>\n",
       "    </tr>\n",
       "    <tr>\n",
       "      <th>69752</th>\n",
       "      <td>0x864e994da76408d3:0xbc350830290d819c</td>\n",
       "      <td>None</td>\n",
       "    </tr>\n",
       "    <tr>\n",
       "      <th>69766</th>\n",
       "      <td>0x80dcb86e6c916707:0xeb5310aed911aab8</td>\n",
       "      <td>None</td>\n",
       "    </tr>\n",
       "  </tbody>\n",
       "</table>\n",
       "<p>1869 rows × 2 columns</p>\n",
       "</div>"
      ],
      "text/plain": [
       "                                  id_negocio relative_results\n",
       "27     0x80c33190ba5119bf:0x1a8b79348a959bd4             None\n",
       "66     0x8637078cc7ea293f:0x56780adebdd561a7             None\n",
       "67     0x89ccb14964182235:0x117c242f50e9def1             None\n",
       "72     0x8083fd560ecc3d1b:0x83822a243b78ff83             None\n",
       "80     0x8640db0e8489dbdb:0x4ce70ca2576c9005             None\n",
       "...                                      ...              ...\n",
       "69552  0x88e76353c905db17:0x3773d93435328b7e             None\n",
       "69595  0x89c4c5b181efd00d:0xfa13b3f3ce1e08f2             None\n",
       "69726  0x80c2d9df7154560d:0xf714b3bfa2b48916             None\n",
       "69752  0x864e994da76408d3:0xbc350830290d819c             None\n",
       "69766  0x80dcb86e6c916707:0xeb5310aed911aab8             None\n",
       "\n",
       "[1869 rows x 2 columns]"
      ]
     },
     "execution_count": 189,
     "metadata": {},
     "output_type": "execute_result"
    }
   ],
   "source": [
    "# Muestro las filas que contienen algún valor nulo\n",
    "df_copia[df.isnull().any(axis=1)]"
   ]
  },
  {
   "cell_type": "code",
   "execution_count": 190,
   "metadata": {},
   "outputs": [
    {
     "name": "stdout",
     "output_type": "stream",
     "text": [
      "2.6771901678794476\n"
     ]
    }
   ],
   "source": [
    "# Calculo el porcentaje de nulos de la columna relative_results\n",
    "nulos_relative_results = df_copia['relative_results'].isnull().sum()\n",
    "total_filas = len(df)\n",
    "porcentaje_nulos = (nulos_relative_results / total_filas) * 100\n",
    "\n",
    "print(porcentaje_nulos)"
   ]
  },
  {
   "cell_type": "markdown",
   "metadata": {},
   "source": [
    "Podemos observar que la cantidad de nulos es baja y debido a que uno de los objetivos propuestos en este proyecto es identificar las mejores ubicaciones para nuevos locales basándose en la densidad de competidores y la demanda de usuarios, he decidido dejarlos. Son datos valiosos para el análisis. Voy a reemplazar los nulos por \"sin competencia\"."
   ]
  },
  {
   "cell_type": "code",
   "execution_count": 191,
   "metadata": {},
   "outputs": [],
   "source": [
    "# Desactivo SettingWithCopyWarning\n",
    "pd.options.mode.chained_assignment = None"
   ]
  },
  {
   "cell_type": "code",
   "execution_count": 192,
   "metadata": {},
   "outputs": [],
   "source": [
    "# Reemplazo valores de tipo None o el texto \"None\" por \"sin competencia\"\n",
    "df_copia['relative_results'] = df_copia['relative_results'].replace([None, \"None\"], \"sin competencia\")"
   ]
  },
  {
   "cell_type": "code",
   "execution_count": 193,
   "metadata": {},
   "outputs": [
    {
     "data": {
      "text/html": [
       "<div>\n",
       "<style scoped>\n",
       "    .dataframe tbody tr th:only-of-type {\n",
       "        vertical-align: middle;\n",
       "    }\n",
       "\n",
       "    .dataframe tbody tr th {\n",
       "        vertical-align: top;\n",
       "    }\n",
       "\n",
       "    .dataframe thead th {\n",
       "        text-align: right;\n",
       "    }\n",
       "</style>\n",
       "<table border=\"1\" class=\"dataframe\">\n",
       "  <thead>\n",
       "    <tr style=\"text-align: right;\">\n",
       "      <th></th>\n",
       "      <th>id_negocio</th>\n",
       "      <th>relative_results</th>\n",
       "    </tr>\n",
       "  </thead>\n",
       "  <tbody>\n",
       "    <tr>\n",
       "      <th>27</th>\n",
       "      <td>0x80c33190ba5119bf:0x1a8b79348a959bd4</td>\n",
       "      <td>sin competencia</td>\n",
       "    </tr>\n",
       "    <tr>\n",
       "      <th>66</th>\n",
       "      <td>0x8637078cc7ea293f:0x56780adebdd561a7</td>\n",
       "      <td>sin competencia</td>\n",
       "    </tr>\n",
       "    <tr>\n",
       "      <th>67</th>\n",
       "      <td>0x89ccb14964182235:0x117c242f50e9def1</td>\n",
       "      <td>sin competencia</td>\n",
       "    </tr>\n",
       "    <tr>\n",
       "      <th>72</th>\n",
       "      <td>0x8083fd560ecc3d1b:0x83822a243b78ff83</td>\n",
       "      <td>sin competencia</td>\n",
       "    </tr>\n",
       "    <tr>\n",
       "      <th>80</th>\n",
       "      <td>0x8640db0e8489dbdb:0x4ce70ca2576c9005</td>\n",
       "      <td>sin competencia</td>\n",
       "    </tr>\n",
       "    <tr>\n",
       "      <th>...</th>\n",
       "      <td>...</td>\n",
       "      <td>...</td>\n",
       "    </tr>\n",
       "    <tr>\n",
       "      <th>69552</th>\n",
       "      <td>0x88e76353c905db17:0x3773d93435328b7e</td>\n",
       "      <td>sin competencia</td>\n",
       "    </tr>\n",
       "    <tr>\n",
       "      <th>69595</th>\n",
       "      <td>0x89c4c5b181efd00d:0xfa13b3f3ce1e08f2</td>\n",
       "      <td>sin competencia</td>\n",
       "    </tr>\n",
       "    <tr>\n",
       "      <th>69726</th>\n",
       "      <td>0x80c2d9df7154560d:0xf714b3bfa2b48916</td>\n",
       "      <td>sin competencia</td>\n",
       "    </tr>\n",
       "    <tr>\n",
       "      <th>69752</th>\n",
       "      <td>0x864e994da76408d3:0xbc350830290d819c</td>\n",
       "      <td>sin competencia</td>\n",
       "    </tr>\n",
       "    <tr>\n",
       "      <th>69766</th>\n",
       "      <td>0x80dcb86e6c916707:0xeb5310aed911aab8</td>\n",
       "      <td>sin competencia</td>\n",
       "    </tr>\n",
       "  </tbody>\n",
       "</table>\n",
       "<p>1869 rows × 2 columns</p>\n",
       "</div>"
      ],
      "text/plain": [
       "                                  id_negocio relative_results\n",
       "27     0x80c33190ba5119bf:0x1a8b79348a959bd4  sin competencia\n",
       "66     0x8637078cc7ea293f:0x56780adebdd561a7  sin competencia\n",
       "67     0x89ccb14964182235:0x117c242f50e9def1  sin competencia\n",
       "72     0x8083fd560ecc3d1b:0x83822a243b78ff83  sin competencia\n",
       "80     0x8640db0e8489dbdb:0x4ce70ca2576c9005  sin competencia\n",
       "...                                      ...              ...\n",
       "69552  0x88e76353c905db17:0x3773d93435328b7e  sin competencia\n",
       "69595  0x89c4c5b181efd00d:0xfa13b3f3ce1e08f2  sin competencia\n",
       "69726  0x80c2d9df7154560d:0xf714b3bfa2b48916  sin competencia\n",
       "69752  0x864e994da76408d3:0xbc350830290d819c  sin competencia\n",
       "69766  0x80dcb86e6c916707:0xeb5310aed911aab8  sin competencia\n",
       "\n",
       "[1869 rows x 2 columns]"
      ]
     },
     "execution_count": 193,
     "metadata": {},
     "output_type": "execute_result"
    }
   ],
   "source": [
    "# Filtro y muestro las filas donde relative_results es \"sin competencia\"\n",
    "sin_competencia_filas = df_copia[df_copia['relative_results'] == \"sin competencia\"]\n",
    "sin_competencia_filas"
   ]
  },
  {
   "cell_type": "markdown",
   "metadata": {},
   "source": [
    "Voy a realizar una búsqueda de valores **duplicados.**"
   ]
  },
  {
   "cell_type": "code",
   "execution_count": 194,
   "metadata": {},
   "outputs": [
    {
     "name": "stdout",
     "output_type": "stream",
     "text": [
      "Empty DataFrame\n",
      "Columns: [id_negocio, relative_results]\n",
      "Index: []\n"
     ]
    }
   ],
   "source": [
    "# Identifico y muestro filas duplicadas\n",
    "duplicados = df_copia[df_copia.duplicated(keep=False)]\n",
    "print(duplicados)"
   ]
  },
  {
   "cell_type": "markdown",
   "metadata": {},
   "source": [
    "No se han encontrado filas duplicadas."
   ]
  },
  {
   "cell_type": "markdown",
   "metadata": {},
   "source": [
    "Revisaré si los tipos de datos de las columnas son los que necesito de acuerdo al modelo relacional creado para la base de datos."
   ]
  },
  {
   "cell_type": "code",
   "execution_count": 196,
   "metadata": {},
   "outputs": [
    {
     "name": "stdout",
     "output_type": "stream",
     "text": [
      "id_negocio          object\n",
      "relative_results    object\n",
      "dtype: object\n"
     ]
    }
   ],
   "source": [
    "print(df_copia.dtypes)"
   ]
  },
  {
   "cell_type": "markdown",
   "metadata": {},
   "source": [
    "Exportaré la tabla ya que está lista para ser utilizada en nuestra base de datos."
   ]
  },
  {
   "cell_type": "code",
   "execution_count": 197,
   "metadata": {},
   "outputs": [],
   "source": [
    "df_copia.to_parquet(r\"C:\\Users\\Juli\\Desktop\\g_relative_results_v4.parquet\")"
   ]
  }
 ],
 "metadata": {
  "kernelspec": {
   "display_name": "nuevo_entorno",
   "language": "python",
   "name": "python3"
  },
  "language_info": {
   "codemirror_mode": {
    "name": "ipython",
    "version": 3
   },
   "file_extension": ".py",
   "mimetype": "text/x-python",
   "name": "python",
   "nbconvert_exporter": "python",
   "pygments_lexer": "ipython3",
   "version": "3.12.4"
  }
 },
 "nbformat": 4,
 "nbformat_minor": 2
}
