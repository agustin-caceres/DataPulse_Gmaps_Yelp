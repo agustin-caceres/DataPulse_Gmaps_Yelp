{
 "cells": [
  {
   "cell_type": "markdown",
   "metadata": {},
   "source": [
    "### Este segundo Notebook estara enfocado en importar datos y armar una tabla que será trabajada más adelante en los siguientes notebooks. Al terminar continuar con el Notebook 3."
   ]
  },
  {
   "cell_type": "code",
   "execution_count": 2,
   "metadata": {},
   "outputs": [],
   "source": [
    "import pandas as pd"
   ]
  },
  {
   "cell_type": "code",
   "execution_count": null,
   "metadata": {},
   "outputs": [],
   "source": [
    "# Leemos la tabla g_sitios que tenemos hasta el momento.\n",
    "g_sitios = pd.read_parquet(r'C:\\Users\\mauri\\OneDrive\\Escritorio\\proyectogrupal\\data\\google_sitios.parquet', engine='pyarrow')"
   ]
  },
  {
   "cell_type": "code",
   "execution_count": null,
   "metadata": {},
   "outputs": [],
   "source": [
    "# Creamos una nueva tabla relative_results\n",
    "relative_results = g_sitios[['gmap_id', 'relative_results']]\n",
    "# Desempaquetamos su información.\n",
    "relative_results = relative_results.explode('relative_results')"
   ]
  },
  {
   "cell_type": "code",
   "execution_count": null,
   "metadata": {},
   "outputs": [],
   "source": [
    "# Guaradamos la tabla desanidada que se conecta a travez de gmap_id con la tabla principal.\n",
    "relative_results.to_parquet('datasets/google/sitios/relative_results.parquet')"
   ]
  }
 ],
 "metadata": {
  "kernelspec": {
   "display_name": "AAentorno",
   "language": "python",
   "name": "python3"
  },
  "language_info": {
   "codemirror_mode": {
    "name": "ipython",
    "version": 3
   },
   "file_extension": ".py",
   "mimetype": "text/x-python",
   "name": "python",
   "nbconvert_exporter": "python",
   "pygments_lexer": "ipython3",
   "version": "3.11.0"
  }
 },
 "nbformat": 4,
 "nbformat_minor": 2
}
