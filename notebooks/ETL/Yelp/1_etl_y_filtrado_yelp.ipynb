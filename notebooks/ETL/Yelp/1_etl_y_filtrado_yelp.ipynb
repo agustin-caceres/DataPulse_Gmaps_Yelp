{
 "cells": [
  {
   "cell_type": "code",
   "execution_count": null,
   "metadata": {
    "colab": {
     "base_uri": "https://localhost:8080/"
    },
    "executionInfo": {
     "elapsed": 23985,
     "status": "ok",
     "timestamp": 1730318935757,
     "user": {
      "displayName": "Aliskair Rodríguez",
      "userId": "18238624046305613189"
     },
     "user_tz": 240
    },
    "id": "Yq1SNUQOPJTf",
    "outputId": "4a5b3c16-a595-49e0-9724-5d7e314e4357"
   },
   "outputs": [
    {
     "name": "stdout",
     "output_type": "stream",
     "text": [
      "Mounted at /content/drive\n",
      "/content/drive/MyDrive/Bootcamp_Henry/pro_final\n"
     ]
    }
   ],
   "source": [
    "from google.colab import drive\n",
    "import os\n",
    "drive.mount('/content/drive')\n",
    "os.chdir(\"drive/MyDrive/Bootcamp_Henry/pro_final\")\n",
    "print(os.getcwd())"
   ]
  },
  {
   "cell_type": "markdown",
   "metadata": {
    "id": "qVQZK4JdV4m3"
   },
   "source": [
    "# **Objetivo del Cuaderno Jupyter**\n",
    "- A partir de los archivos recibidos del exterior que contienen los datos de la plataforma `YELP` y apoyandonos en el `Maestro de Categorías` realizado en el equipo, realizar el ETL local de las tablas de yelp que se muestran en la imagen.\n",
    "<img src=\"0_TABLAS_YELP.png\">\n"
   ]
  },
  {
   "cell_type": "markdown",
   "metadata": {
    "id": "KYREKLn5PmJw"
   },
   "source": [
    "Importando Librerias Necesarias"
   ]
  },
  {
   "cell_type": "code",
   "execution_count": null,
   "metadata": {
    "id": "L1IA2lbNPrMZ"
   },
   "outputs": [],
   "source": [
    "import time\n",
    "import pandas as pd\n",
    "import datetime\n",
    "import requests\n",
    "import gc"
   ]
  },
  {
   "cell_type": "markdown",
   "metadata": {
    "id": "OcTcnvzTQhkR"
   },
   "source": [
    "## Importando el archivo `business.pkl` tal como viene del exterior"
   ]
  },
  {
   "cell_type": "code",
   "execution_count": null,
   "metadata": {
    "id": "GPJCIgOCQ1sU"
   },
   "outputs": [],
   "source": [
    "business = pd.read_pickle('datasets/yelp/archivos_originales/business.pkl')"
   ]
  },
  {
   "cell_type": "code",
   "execution_count": null,
   "metadata": {
    "colab": {
     "base_uri": "https://localhost:8080/",
     "height": 446
    },
    "executionInfo": {
     "elapsed": 215,
     "status": "ok",
     "timestamp": 1730222418875,
     "user": {
      "displayName": "Aliskair Rodríguez",
      "userId": "18238624046305613189"
     },
     "user_tz": 240
    },
    "id": "C-osEhaqSpFh",
    "outputId": "66e2f409-fdcb-423f-d678-618d7996b9cc"
   },
   "outputs": [
    {
     "data": {
      "application/vnd.google.colaboratory.intrinsic+json": {
       "type": "dataframe",
       "variable_name": "business"
      },
      "text/html": [
       "\n",
       "  <div id=\"df-827a29a1-fc7a-48c6-972d-29fd479fe269\" class=\"colab-df-container\">\n",
       "    <div>\n",
       "<style scoped>\n",
       "    .dataframe tbody tr th:only-of-type {\n",
       "        vertical-align: middle;\n",
       "    }\n",
       "\n",
       "    .dataframe tbody tr th {\n",
       "        vertical-align: top;\n",
       "    }\n",
       "\n",
       "    .dataframe thead th {\n",
       "        text-align: right;\n",
       "    }\n",
       "</style>\n",
       "<table border=\"1\" class=\"dataframe\">\n",
       "  <thead>\n",
       "    <tr style=\"text-align: right;\">\n",
       "      <th></th>\n",
       "      <th>business_id</th>\n",
       "      <th>name</th>\n",
       "      <th>address</th>\n",
       "      <th>city</th>\n",
       "      <th>state</th>\n",
       "      <th>postal_code</th>\n",
       "      <th>latitude</th>\n",
       "      <th>longitude</th>\n",
       "      <th>stars</th>\n",
       "      <th>review_count</th>\n",
       "      <th>...</th>\n",
       "      <th>state</th>\n",
       "      <th>postal_code</th>\n",
       "      <th>latitude</th>\n",
       "      <th>longitude</th>\n",
       "      <th>stars</th>\n",
       "      <th>review_count</th>\n",
       "      <th>is_open</th>\n",
       "      <th>attributes</th>\n",
       "      <th>categories</th>\n",
       "      <th>hours</th>\n",
       "    </tr>\n",
       "  </thead>\n",
       "  <tbody>\n",
       "    <tr>\n",
       "      <th>0</th>\n",
       "      <td>Pns2l4eNsfO8kk83dixA6A</td>\n",
       "      <td>Abby Rappoport, LAC, CMQ</td>\n",
       "      <td>1616 Chapala St, Ste 2</td>\n",
       "      <td>Santa Barbara</td>\n",
       "      <td>NaN</td>\n",
       "      <td>93101</td>\n",
       "      <td>34.426679</td>\n",
       "      <td>-119.711197</td>\n",
       "      <td>5.0</td>\n",
       "      <td>7</td>\n",
       "      <td>...</td>\n",
       "      <td>NaN</td>\n",
       "      <td>NaN</td>\n",
       "      <td>NaN</td>\n",
       "      <td>NaN</td>\n",
       "      <td>NaN</td>\n",
       "      <td>NaN</td>\n",
       "      <td>NaN</td>\n",
       "      <td>NaN</td>\n",
       "      <td>NaN</td>\n",
       "      <td>NaN</td>\n",
       "    </tr>\n",
       "    <tr>\n",
       "      <th>1</th>\n",
       "      <td>mpf3x-BjTdTEA3yCZrAYPw</td>\n",
       "      <td>The UPS Store</td>\n",
       "      <td>87 Grasso Plaza Shopping Center</td>\n",
       "      <td>Affton</td>\n",
       "      <td>NaN</td>\n",
       "      <td>63123</td>\n",
       "      <td>38.551126</td>\n",
       "      <td>-90.335695</td>\n",
       "      <td>3.0</td>\n",
       "      <td>15</td>\n",
       "      <td>...</td>\n",
       "      <td>NaN</td>\n",
       "      <td>NaN</td>\n",
       "      <td>NaN</td>\n",
       "      <td>NaN</td>\n",
       "      <td>NaN</td>\n",
       "      <td>NaN</td>\n",
       "      <td>NaN</td>\n",
       "      <td>NaN</td>\n",
       "      <td>NaN</td>\n",
       "      <td>NaN</td>\n",
       "    </tr>\n",
       "    <tr>\n",
       "      <th>2</th>\n",
       "      <td>tUFrWirKiKi_TAnsVWINQQ</td>\n",
       "      <td>Target</td>\n",
       "      <td>5255 E Broadway Blvd</td>\n",
       "      <td>Tucson</td>\n",
       "      <td>NaN</td>\n",
       "      <td>85711</td>\n",
       "      <td>32.223236</td>\n",
       "      <td>-110.880452</td>\n",
       "      <td>3.5</td>\n",
       "      <td>22</td>\n",
       "      <td>...</td>\n",
       "      <td>NaN</td>\n",
       "      <td>NaN</td>\n",
       "      <td>NaN</td>\n",
       "      <td>NaN</td>\n",
       "      <td>NaN</td>\n",
       "      <td>NaN</td>\n",
       "      <td>NaN</td>\n",
       "      <td>NaN</td>\n",
       "      <td>NaN</td>\n",
       "      <td>NaN</td>\n",
       "    </tr>\n",
       "    <tr>\n",
       "      <th>3</th>\n",
       "      <td>MTSW4McQd7CbVtyjqoe9mw</td>\n",
       "      <td>St Honore Pastries</td>\n",
       "      <td>935 Race St</td>\n",
       "      <td>Philadelphia</td>\n",
       "      <td>CA</td>\n",
       "      <td>19107</td>\n",
       "      <td>39.955505</td>\n",
       "      <td>-75.155564</td>\n",
       "      <td>4.0</td>\n",
       "      <td>80</td>\n",
       "      <td>...</td>\n",
       "      <td>NaN</td>\n",
       "      <td>NaN</td>\n",
       "      <td>NaN</td>\n",
       "      <td>NaN</td>\n",
       "      <td>NaN</td>\n",
       "      <td>NaN</td>\n",
       "      <td>NaN</td>\n",
       "      <td>NaN</td>\n",
       "      <td>NaN</td>\n",
       "      <td>NaN</td>\n",
       "    </tr>\n",
       "    <tr>\n",
       "      <th>4</th>\n",
       "      <td>mWMc6_wTdE0EUBKIGXDVfA</td>\n",
       "      <td>Perkiomen Valley Brewery</td>\n",
       "      <td>101 Walnut St</td>\n",
       "      <td>Green Lane</td>\n",
       "      <td>MO</td>\n",
       "      <td>18054</td>\n",
       "      <td>40.338183</td>\n",
       "      <td>-75.471659</td>\n",
       "      <td>4.5</td>\n",
       "      <td>13</td>\n",
       "      <td>...</td>\n",
       "      <td>NaN</td>\n",
       "      <td>NaN</td>\n",
       "      <td>NaN</td>\n",
       "      <td>NaN</td>\n",
       "      <td>NaN</td>\n",
       "      <td>NaN</td>\n",
       "      <td>NaN</td>\n",
       "      <td>NaN</td>\n",
       "      <td>NaN</td>\n",
       "      <td>NaN</td>\n",
       "    </tr>\n",
       "  </tbody>\n",
       "</table>\n",
       "<p>5 rows × 28 columns</p>\n",
       "</div>\n",
       "    <div class=\"colab-df-buttons\">\n",
       "\n",
       "  <div class=\"colab-df-container\">\n",
       "    <button class=\"colab-df-convert\" onclick=\"convertToInteractive('df-827a29a1-fc7a-48c6-972d-29fd479fe269')\"\n",
       "            title=\"Convert this dataframe to an interactive table.\"\n",
       "            style=\"display:none;\">\n",
       "\n",
       "  <svg xmlns=\"http://www.w3.org/2000/svg\" height=\"24px\" viewBox=\"0 -960 960 960\">\n",
       "    <path d=\"M120-120v-720h720v720H120Zm60-500h600v-160H180v160Zm220 220h160v-160H400v160Zm0 220h160v-160H400v160ZM180-400h160v-160H180v160Zm440 0h160v-160H620v160ZM180-180h160v-160H180v160Zm440 0h160v-160H620v160Z\"/>\n",
       "  </svg>\n",
       "    </button>\n",
       "\n",
       "  <style>\n",
       "    .colab-df-container {\n",
       "      display:flex;\n",
       "      gap: 12px;\n",
       "    }\n",
       "\n",
       "    .colab-df-convert {\n",
       "      background-color: #E8F0FE;\n",
       "      border: none;\n",
       "      border-radius: 50%;\n",
       "      cursor: pointer;\n",
       "      display: none;\n",
       "      fill: #1967D2;\n",
       "      height: 32px;\n",
       "      padding: 0 0 0 0;\n",
       "      width: 32px;\n",
       "    }\n",
       "\n",
       "    .colab-df-convert:hover {\n",
       "      background-color: #E2EBFA;\n",
       "      box-shadow: 0px 1px 2px rgba(60, 64, 67, 0.3), 0px 1px 3px 1px rgba(60, 64, 67, 0.15);\n",
       "      fill: #174EA6;\n",
       "    }\n",
       "\n",
       "    .colab-df-buttons div {\n",
       "      margin-bottom: 4px;\n",
       "    }\n",
       "\n",
       "    [theme=dark] .colab-df-convert {\n",
       "      background-color: #3B4455;\n",
       "      fill: #D2E3FC;\n",
       "    }\n",
       "\n",
       "    [theme=dark] .colab-df-convert:hover {\n",
       "      background-color: #434B5C;\n",
       "      box-shadow: 0px 1px 3px 1px rgba(0, 0, 0, 0.15);\n",
       "      filter: drop-shadow(0px 1px 2px rgba(0, 0, 0, 0.3));\n",
       "      fill: #FFFFFF;\n",
       "    }\n",
       "  </style>\n",
       "\n",
       "    <script>\n",
       "      const buttonEl =\n",
       "        document.querySelector('#df-827a29a1-fc7a-48c6-972d-29fd479fe269 button.colab-df-convert');\n",
       "      buttonEl.style.display =\n",
       "        google.colab.kernel.accessAllowed ? 'block' : 'none';\n",
       "\n",
       "      async function convertToInteractive(key) {\n",
       "        const element = document.querySelector('#df-827a29a1-fc7a-48c6-972d-29fd479fe269');\n",
       "        const dataTable =\n",
       "          await google.colab.kernel.invokeFunction('convertToInteractive',\n",
       "                                                    [key], {});\n",
       "        if (!dataTable) return;\n",
       "\n",
       "        const docLinkHtml = 'Like what you see? Visit the ' +\n",
       "          '<a target=\"_blank\" href=https://colab.research.google.com/notebooks/data_table.ipynb>data table notebook</a>'\n",
       "          + ' to learn more about interactive tables.';\n",
       "        element.innerHTML = '';\n",
       "        dataTable['output_type'] = 'display_data';\n",
       "        await google.colab.output.renderOutput(dataTable, element);\n",
       "        const docLink = document.createElement('div');\n",
       "        docLink.innerHTML = docLinkHtml;\n",
       "        element.appendChild(docLink);\n",
       "      }\n",
       "    </script>\n",
       "  </div>\n",
       "\n",
       "\n",
       "<div id=\"df-e6e2bca7-b6fe-4915-bc30-dc2f3ad9f1bc\">\n",
       "  <button class=\"colab-df-quickchart\" onclick=\"quickchart('df-e6e2bca7-b6fe-4915-bc30-dc2f3ad9f1bc')\"\n",
       "            title=\"Suggest charts\"\n",
       "            style=\"display:none;\">\n",
       "\n",
       "<svg xmlns=\"http://www.w3.org/2000/svg\" height=\"24px\"viewBox=\"0 0 24 24\"\n",
       "     width=\"24px\">\n",
       "    <g>\n",
       "        <path d=\"M19 3H5c-1.1 0-2 .9-2 2v14c0 1.1.9 2 2 2h14c1.1 0 2-.9 2-2V5c0-1.1-.9-2-2-2zM9 17H7v-7h2v7zm4 0h-2V7h2v10zm4 0h-2v-4h2v4z\"/>\n",
       "    </g>\n",
       "</svg>\n",
       "  </button>\n",
       "\n",
       "<style>\n",
       "  .colab-df-quickchart {\n",
       "      --bg-color: #E8F0FE;\n",
       "      --fill-color: #1967D2;\n",
       "      --hover-bg-color: #E2EBFA;\n",
       "      --hover-fill-color: #174EA6;\n",
       "      --disabled-fill-color: #AAA;\n",
       "      --disabled-bg-color: #DDD;\n",
       "  }\n",
       "\n",
       "  [theme=dark] .colab-df-quickchart {\n",
       "      --bg-color: #3B4455;\n",
       "      --fill-color: #D2E3FC;\n",
       "      --hover-bg-color: #434B5C;\n",
       "      --hover-fill-color: #FFFFFF;\n",
       "      --disabled-bg-color: #3B4455;\n",
       "      --disabled-fill-color: #666;\n",
       "  }\n",
       "\n",
       "  .colab-df-quickchart {\n",
       "    background-color: var(--bg-color);\n",
       "    border: none;\n",
       "    border-radius: 50%;\n",
       "    cursor: pointer;\n",
       "    display: none;\n",
       "    fill: var(--fill-color);\n",
       "    height: 32px;\n",
       "    padding: 0;\n",
       "    width: 32px;\n",
       "  }\n",
       "\n",
       "  .colab-df-quickchart:hover {\n",
       "    background-color: var(--hover-bg-color);\n",
       "    box-shadow: 0 1px 2px rgba(60, 64, 67, 0.3), 0 1px 3px 1px rgba(60, 64, 67, 0.15);\n",
       "    fill: var(--button-hover-fill-color);\n",
       "  }\n",
       "\n",
       "  .colab-df-quickchart-complete:disabled,\n",
       "  .colab-df-quickchart-complete:disabled:hover {\n",
       "    background-color: var(--disabled-bg-color);\n",
       "    fill: var(--disabled-fill-color);\n",
       "    box-shadow: none;\n",
       "  }\n",
       "\n",
       "  .colab-df-spinner {\n",
       "    border: 2px solid var(--fill-color);\n",
       "    border-color: transparent;\n",
       "    border-bottom-color: var(--fill-color);\n",
       "    animation:\n",
       "      spin 1s steps(1) infinite;\n",
       "  }\n",
       "\n",
       "  @keyframes spin {\n",
       "    0% {\n",
       "      border-color: transparent;\n",
       "      border-bottom-color: var(--fill-color);\n",
       "      border-left-color: var(--fill-color);\n",
       "    }\n",
       "    20% {\n",
       "      border-color: transparent;\n",
       "      border-left-color: var(--fill-color);\n",
       "      border-top-color: var(--fill-color);\n",
       "    }\n",
       "    30% {\n",
       "      border-color: transparent;\n",
       "      border-left-color: var(--fill-color);\n",
       "      border-top-color: var(--fill-color);\n",
       "      border-right-color: var(--fill-color);\n",
       "    }\n",
       "    40% {\n",
       "      border-color: transparent;\n",
       "      border-right-color: var(--fill-color);\n",
       "      border-top-color: var(--fill-color);\n",
       "    }\n",
       "    60% {\n",
       "      border-color: transparent;\n",
       "      border-right-color: var(--fill-color);\n",
       "    }\n",
       "    80% {\n",
       "      border-color: transparent;\n",
       "      border-right-color: var(--fill-color);\n",
       "      border-bottom-color: var(--fill-color);\n",
       "    }\n",
       "    90% {\n",
       "      border-color: transparent;\n",
       "      border-bottom-color: var(--fill-color);\n",
       "    }\n",
       "  }\n",
       "</style>\n",
       "\n",
       "  <script>\n",
       "    async function quickchart(key) {\n",
       "      const quickchartButtonEl =\n",
       "        document.querySelector('#' + key + ' button');\n",
       "      quickchartButtonEl.disabled = true;  // To prevent multiple clicks.\n",
       "      quickchartButtonEl.classList.add('colab-df-spinner');\n",
       "      try {\n",
       "        const charts = await google.colab.kernel.invokeFunction(\n",
       "            'suggestCharts', [key], {});\n",
       "      } catch (error) {\n",
       "        console.error('Error during call to suggestCharts:', error);\n",
       "      }\n",
       "      quickchartButtonEl.classList.remove('colab-df-spinner');\n",
       "      quickchartButtonEl.classList.add('colab-df-quickchart-complete');\n",
       "    }\n",
       "    (() => {\n",
       "      let quickchartButtonEl =\n",
       "        document.querySelector('#df-e6e2bca7-b6fe-4915-bc30-dc2f3ad9f1bc button');\n",
       "      quickchartButtonEl.style.display =\n",
       "        google.colab.kernel.accessAllowed ? 'block' : 'none';\n",
       "    })();\n",
       "  </script>\n",
       "</div>\n",
       "\n",
       "    </div>\n",
       "  </div>\n"
      ],
      "text/plain": [
       "              business_id                      name  \\\n",
       "0  Pns2l4eNsfO8kk83dixA6A  Abby Rappoport, LAC, CMQ   \n",
       "1  mpf3x-BjTdTEA3yCZrAYPw             The UPS Store   \n",
       "2  tUFrWirKiKi_TAnsVWINQQ                    Target   \n",
       "3  MTSW4McQd7CbVtyjqoe9mw        St Honore Pastries   \n",
       "4  mWMc6_wTdE0EUBKIGXDVfA  Perkiomen Valley Brewery   \n",
       "\n",
       "                           address           city state postal_code  \\\n",
       "0           1616 Chapala St, Ste 2  Santa Barbara   NaN       93101   \n",
       "1  87 Grasso Plaza Shopping Center         Affton   NaN       63123   \n",
       "2             5255 E Broadway Blvd         Tucson   NaN       85711   \n",
       "3                      935 Race St   Philadelphia    CA       19107   \n",
       "4                    101 Walnut St     Green Lane    MO       18054   \n",
       "\n",
       "    latitude   longitude stars review_count  ... state postal_code latitude  \\\n",
       "0  34.426679 -119.711197   5.0            7  ...   NaN         NaN      NaN   \n",
       "1  38.551126  -90.335695   3.0           15  ...   NaN         NaN      NaN   \n",
       "2  32.223236 -110.880452   3.5           22  ...   NaN         NaN      NaN   \n",
       "3  39.955505  -75.155564   4.0           80  ...   NaN         NaN      NaN   \n",
       "4  40.338183  -75.471659   4.5           13  ...   NaN         NaN      NaN   \n",
       "\n",
       "  longitude stars review_count is_open attributes categories hours  \n",
       "0       NaN   NaN          NaN     NaN        NaN        NaN   NaN  \n",
       "1       NaN   NaN          NaN     NaN        NaN        NaN   NaN  \n",
       "2       NaN   NaN          NaN     NaN        NaN        NaN   NaN  \n",
       "3       NaN   NaN          NaN     NaN        NaN        NaN   NaN  \n",
       "4       NaN   NaN          NaN     NaN        NaN        NaN   NaN  \n",
       "\n",
       "[5 rows x 28 columns]"
      ]
     },
     "execution_count": 4,
     "metadata": {},
     "output_type": "execute_result"
    }
   ],
   "source": [
    "business.head()"
   ]
  },
  {
   "cell_type": "markdown",
   "metadata": {
    "id": "2KeKQ0hpSwX3"
   },
   "source": [
    "Por alguna Razón cargo 28 Columnas.. Las 14 Con datos reales y 14 con datos no reales"
   ]
  },
  {
   "cell_type": "code",
   "execution_count": null,
   "metadata": {
    "id": "VUayLUUtSwF9"
   },
   "outputs": [],
   "source": [
    "business = business.iloc[:,0:14]"
   ]
  },
  {
   "cell_type": "code",
   "execution_count": null,
   "metadata": {
    "colab": {
     "base_uri": "https://localhost:8080/"
    },
    "executionInfo": {
     "elapsed": 223,
     "status": "ok",
     "timestamp": 1730222950961,
     "user": {
      "displayName": "Aliskair Rodríguez",
      "userId": "18238624046305613189"
     },
     "user_tz": 240
    },
    "id": "EmtQPU76UVzA",
    "outputId": "4b2ffdd6-f098-43ad-a08c-cde976dc550c"
   },
   "outputs": [
    {
     "name": "stdout",
     "output_type": "stream",
     "text": [
      "Columna --> business_id Cantidad de Nulos --> 0\n",
      "Columna --> name Cantidad de Nulos --> 0\n",
      "Columna --> address Cantidad de Nulos --> 0\n",
      "Columna --> city Cantidad de Nulos --> 0\n",
      "Columna --> state Cantidad de Nulos --> 3\n",
      "Columna --> postal_code Cantidad de Nulos --> 0\n",
      "Columna --> latitude Cantidad de Nulos --> 0\n",
      "Columna --> longitude Cantidad de Nulos --> 0\n",
      "Columna --> stars Cantidad de Nulos --> 0\n",
      "Columna --> review_count Cantidad de Nulos --> 0\n",
      "Columna --> is_open Cantidad de Nulos --> 0\n",
      "Columna --> attributes Cantidad de Nulos --> 13744\n",
      "Columna --> categories Cantidad de Nulos --> 103\n",
      "Columna --> hours Cantidad de Nulos --> 23223\n"
     ]
    }
   ],
   "source": [
    "for column in business.columns:\n",
    "  print(f'Columna --> {column} Cantidad de Nulos --> {business[column].isnull().sum()}')"
   ]
  },
  {
   "cell_type": "markdown",
   "metadata": {
    "id": "9cG3nOIWTzZ7"
   },
   "source": [
    "En la visualizacion anterior (cuando se hizo el head())se ve como hay un Registro con city = \"Philadelphia\" y state = \"CA\" lo cual no es correcto.  Además de por estudio anterior sabemos que hay Negocios que no Pertenecen a Estados Unidos, además de los 3 registros que traen NAN"
   ]
  },
  {
   "cell_type": "markdown",
   "metadata": {
    "id": "LGlzOfxmWBvh"
   },
   "source": [
    "Obteniendo codigos postales"
   ]
  },
  {
   "cell_type": "code",
   "execution_count": null,
   "metadata": {
    "colab": {
     "base_uri": "https://localhost:8080/"
    },
    "executionInfo": {
     "elapsed": 186,
     "status": "ok",
     "timestamp": 1730223378218,
     "user": {
      "displayName": "Aliskair Rodríguez",
      "userId": "18238624046305613189"
     },
     "user_tz": 240
    },
    "id": "ZbV6NHR8SwDm",
    "outputId": "3720b45a-6e4a-4890-a3a2-a34cc7ddbdab"
   },
   "outputs": [
    {
     "name": "stdout",
     "output_type": "stream",
     "text": [
      "En total hay 3362 Codigos Postales distintos\n"
     ]
    }
   ],
   "source": [
    "lista_codigos_postales = business['postal_code'].unique().tolist()\n",
    "\n",
    "print(f'En total hay {len(lista_codigos_postales)} Codigos Postales distintos')"
   ]
  },
  {
   "cell_type": "markdown",
   "metadata": {
    "id": "qY675joMXHXt"
   },
   "source": [
    "Hemos visto en sondeos que las ciudades si corresponden siempre con codigos postales, pero que hay veces no corresponden con los estados. Ulilizaremos la Api Gratuita de Codigos Postales de Estados Unidos para obtener los Estados que corresponden a cada Codigo Postal. Ya con esa informacion corregiremos los estados o `state` de todo el dataframe"
   ]
  },
  {
   "cell_type": "code",
   "execution_count": null,
   "metadata": {
    "id": "XQxfmwtqSwBy"
   },
   "outputs": [],
   "source": [
    "estados_obtenidos_api = []\n",
    "for i in range(len(lista_codigos_postales)):\n",
    "  codigo_postal = lista_codigos_postales[i]\n",
    "  diccionario = {}\n",
    "  try:\n",
    "    codigo_numero = int(lista_codigos_postales[i])\n",
    "    url = f\"http://api.zippopotam.us/us/{codigo_numero}\"\n",
    "    response = requests.get(url)\n",
    "    if response.status_code == 200:\n",
    "      data = response.json()\n",
    "      estado = data['places'][0]['state abbreviation']\n",
    "      diccionario['codigo_postal'] = codigo_postal\n",
    "      diccionario['state'] = estado\n",
    "    else:\n",
    "      diccionario['codigo_postal'] = codigo_postal\n",
    "      diccionario['state'] = 'BORRAR REGISTRO'\n",
    "  except:\n",
    "    diccionario['codigo_postal'] = codigo_postal\n",
    "    diccionario['state'] = 'BORRAR REGISTRO'\n",
    "\n",
    "  estados_obtenidos_api.append(diccionario)\n",
    "  time.sleep(2)\n",
    "\n",
    "codigos_postales_api = pd.DataFrame(estados_obtenidos_api)\n"
   ]
  },
  {
   "cell_type": "code",
   "execution_count": null,
   "metadata": {
    "colab": {
     "base_uri": "https://localhost:8080/"
    },
    "executionInfo": {
     "elapsed": 166,
     "status": "ok",
     "timestamp": 1730224003106,
     "user": {
      "displayName": "Aliskair Rodríguez",
      "userId": "18238624046305613189"
     },
     "user_tz": 240
    },
    "id": "KZJkc3jTSv80",
    "outputId": "19ac9780-0f5b-41ee-b0c8-4dde5f54dce8"
   },
   "outputs": [
    {
     "data": {
      "text/plain": [
       "['BORRAR REGISTRO',\n",
       " 'LA',\n",
       " 'IL',\n",
       " 'IN',\n",
       " 'TN',\n",
       " 'NC',\n",
       " 'ID',\n",
       " 'PA',\n",
       " 'FL',\n",
       " 'CA',\n",
       " 'MO',\n",
       " 'AZ',\n",
       " 'NV',\n",
       " 'GA',\n",
       " 'OH',\n",
       " 'WA',\n",
       " 'MT',\n",
       " 'CO',\n",
       " 'DE',\n",
       " 'UT',\n",
       " 'NM',\n",
       " 'TX',\n",
       " 'MI',\n",
       " 'MD',\n",
       " 'MN',\n",
       " 'NY']"
      ]
     },
     "execution_count": 13,
     "metadata": {},
     "output_type": "execute_result"
    }
   ],
   "source": [
    "codigos_postales_api['state'].unique().tolist()"
   ]
  },
  {
   "cell_type": "markdown",
   "metadata": {
    "id": "FGQNsw09Y5mr"
   },
   "source": [
    "Bien ahora debemos interactuar con el dataframe `business` para hacer la correcta asignación de estados... Los registros que queden marcados con state = \"BORRAR REGISTRO\" se tratan de ubicaciones que no pertenecen a Estados Unidos. Todos los que sondeamos manualmente pertenecían a Canada"
   ]
  },
  {
   "cell_type": "markdown",
   "metadata": {
    "id": "WMZrKUQwaQ1L"
   },
   "source": [
    "Recordando como viene business"
   ]
  },
  {
   "cell_type": "code",
   "execution_count": null,
   "metadata": {
    "colab": {
     "base_uri": "https://localhost:8080/",
     "height": 170
    },
    "executionInfo": {
     "elapsed": 221,
     "status": "ok",
     "timestamp": 1730224419445,
     "user": {
      "displayName": "Aliskair Rodríguez",
      "userId": "18238624046305613189"
     },
     "user_tz": 240
    },
    "id": "VozancXsaQHt",
    "outputId": "e0a7cf4f-6ec0-407e-eafd-9a48c3820297"
   },
   "outputs": [
    {
     "data": {
      "application/vnd.google.colaboratory.intrinsic+json": {
       "type": "dataframe",
       "variable_name": "business"
      },
      "text/html": [
       "\n",
       "  <div id=\"df-be9a5ab4-3121-43d4-8fb8-cde46694d2fd\" class=\"colab-df-container\">\n",
       "    <div>\n",
       "<style scoped>\n",
       "    .dataframe tbody tr th:only-of-type {\n",
       "        vertical-align: middle;\n",
       "    }\n",
       "\n",
       "    .dataframe tbody tr th {\n",
       "        vertical-align: top;\n",
       "    }\n",
       "\n",
       "    .dataframe thead th {\n",
       "        text-align: right;\n",
       "    }\n",
       "</style>\n",
       "<table border=\"1\" class=\"dataframe\">\n",
       "  <thead>\n",
       "    <tr style=\"text-align: right;\">\n",
       "      <th></th>\n",
       "      <th>business_id</th>\n",
       "      <th>name</th>\n",
       "      <th>address</th>\n",
       "      <th>city</th>\n",
       "      <th>state</th>\n",
       "      <th>postal_code</th>\n",
       "      <th>latitude</th>\n",
       "      <th>longitude</th>\n",
       "      <th>stars</th>\n",
       "      <th>review_count</th>\n",
       "      <th>is_open</th>\n",
       "      <th>attributes</th>\n",
       "      <th>categories</th>\n",
       "      <th>hours</th>\n",
       "    </tr>\n",
       "  </thead>\n",
       "  <tbody>\n",
       "    <tr>\n",
       "      <th>0</th>\n",
       "      <td>Pns2l4eNsfO8kk83dixA6A</td>\n",
       "      <td>Abby Rappoport, LAC, CMQ</td>\n",
       "      <td>1616 Chapala St, Ste 2</td>\n",
       "      <td>Santa Barbara</td>\n",
       "      <td>NaN</td>\n",
       "      <td>93101</td>\n",
       "      <td>34.426679</td>\n",
       "      <td>-119.711197</td>\n",
       "      <td>5.0</td>\n",
       "      <td>7</td>\n",
       "      <td>0</td>\n",
       "      <td>{'ByAppointmentOnly': 'True'}</td>\n",
       "      <td>Doctors, Traditional Chinese Medicine, Naturop...</td>\n",
       "      <td>None</td>\n",
       "    </tr>\n",
       "  </tbody>\n",
       "</table>\n",
       "</div>\n",
       "    <div class=\"colab-df-buttons\">\n",
       "\n",
       "  <div class=\"colab-df-container\">\n",
       "    <button class=\"colab-df-convert\" onclick=\"convertToInteractive('df-be9a5ab4-3121-43d4-8fb8-cde46694d2fd')\"\n",
       "            title=\"Convert this dataframe to an interactive table.\"\n",
       "            style=\"display:none;\">\n",
       "\n",
       "  <svg xmlns=\"http://www.w3.org/2000/svg\" height=\"24px\" viewBox=\"0 -960 960 960\">\n",
       "    <path d=\"M120-120v-720h720v720H120Zm60-500h600v-160H180v160Zm220 220h160v-160H400v160Zm0 220h160v-160H400v160ZM180-400h160v-160H180v160Zm440 0h160v-160H620v160ZM180-180h160v-160H180v160Zm440 0h160v-160H620v160Z\"/>\n",
       "  </svg>\n",
       "    </button>\n",
       "\n",
       "  <style>\n",
       "    .colab-df-container {\n",
       "      display:flex;\n",
       "      gap: 12px;\n",
       "    }\n",
       "\n",
       "    .colab-df-convert {\n",
       "      background-color: #E8F0FE;\n",
       "      border: none;\n",
       "      border-radius: 50%;\n",
       "      cursor: pointer;\n",
       "      display: none;\n",
       "      fill: #1967D2;\n",
       "      height: 32px;\n",
       "      padding: 0 0 0 0;\n",
       "      width: 32px;\n",
       "    }\n",
       "\n",
       "    .colab-df-convert:hover {\n",
       "      background-color: #E2EBFA;\n",
       "      box-shadow: 0px 1px 2px rgba(60, 64, 67, 0.3), 0px 1px 3px 1px rgba(60, 64, 67, 0.15);\n",
       "      fill: #174EA6;\n",
       "    }\n",
       "\n",
       "    .colab-df-buttons div {\n",
       "      margin-bottom: 4px;\n",
       "    }\n",
       "\n",
       "    [theme=dark] .colab-df-convert {\n",
       "      background-color: #3B4455;\n",
       "      fill: #D2E3FC;\n",
       "    }\n",
       "\n",
       "    [theme=dark] .colab-df-convert:hover {\n",
       "      background-color: #434B5C;\n",
       "      box-shadow: 0px 1px 3px 1px rgba(0, 0, 0, 0.15);\n",
       "      filter: drop-shadow(0px 1px 2px rgba(0, 0, 0, 0.3));\n",
       "      fill: #FFFFFF;\n",
       "    }\n",
       "  </style>\n",
       "\n",
       "    <script>\n",
       "      const buttonEl =\n",
       "        document.querySelector('#df-be9a5ab4-3121-43d4-8fb8-cde46694d2fd button.colab-df-convert');\n",
       "      buttonEl.style.display =\n",
       "        google.colab.kernel.accessAllowed ? 'block' : 'none';\n",
       "\n",
       "      async function convertToInteractive(key) {\n",
       "        const element = document.querySelector('#df-be9a5ab4-3121-43d4-8fb8-cde46694d2fd');\n",
       "        const dataTable =\n",
       "          await google.colab.kernel.invokeFunction('convertToInteractive',\n",
       "                                                    [key], {});\n",
       "        if (!dataTable) return;\n",
       "\n",
       "        const docLinkHtml = 'Like what you see? Visit the ' +\n",
       "          '<a target=\"_blank\" href=https://colab.research.google.com/notebooks/data_table.ipynb>data table notebook</a>'\n",
       "          + ' to learn more about interactive tables.';\n",
       "        element.innerHTML = '';\n",
       "        dataTable['output_type'] = 'display_data';\n",
       "        await google.colab.output.renderOutput(dataTable, element);\n",
       "        const docLink = document.createElement('div');\n",
       "        docLink.innerHTML = docLinkHtml;\n",
       "        element.appendChild(docLink);\n",
       "      }\n",
       "    </script>\n",
       "  </div>\n",
       "\n",
       "\n",
       "    </div>\n",
       "  </div>\n"
      ],
      "text/plain": [
       "              business_id                      name                 address  \\\n",
       "0  Pns2l4eNsfO8kk83dixA6A  Abby Rappoport, LAC, CMQ  1616 Chapala St, Ste 2   \n",
       "\n",
       "            city state postal_code   latitude   longitude stars review_count  \\\n",
       "0  Santa Barbara   NaN       93101  34.426679 -119.711197   5.0            7   \n",
       "\n",
       "  is_open                     attributes  \\\n",
       "0       0  {'ByAppointmentOnly': 'True'}   \n",
       "\n",
       "                                          categories hours  \n",
       "0  Doctors, Traditional Chinese Medicine, Naturop...  None  "
      ]
     },
     "execution_count": 14,
     "metadata": {},
     "output_type": "execute_result"
    }
   ],
   "source": [
    "business.head(1)"
   ]
  },
  {
   "cell_type": "code",
   "execution_count": null,
   "metadata": {
    "colab": {
     "base_uri": "https://localhost:8080/",
     "height": 573
    },
    "executionInfo": {
     "elapsed": 144140,
     "status": "ok",
     "timestamp": 1730319332359,
     "user": {
      "displayName": "Aliskair Rodríguez",
      "userId": "18238624046305613189"
     },
     "user_tz": 240
    },
    "id": "2_3sLTVdaYbe",
    "outputId": "28b5a8b5-2f91-4f77-f446-fc1eaceb9425"
   },
   "outputs": [
    {
     "data": {
      "application/vnd.google.colaboratory.intrinsic+json": {
       "type": "dataframe",
       "variable_name": "business"
      },
      "text/html": [
       "\n",
       "  <div id=\"df-f664bd1e-adae-4382-b267-e5c94bf33d19\" class=\"colab-df-container\">\n",
       "    <div>\n",
       "<style scoped>\n",
       "    .dataframe tbody tr th:only-of-type {\n",
       "        vertical-align: middle;\n",
       "    }\n",
       "\n",
       "    .dataframe tbody tr th {\n",
       "        vertical-align: top;\n",
       "    }\n",
       "\n",
       "    .dataframe thead th {\n",
       "        text-align: right;\n",
       "    }\n",
       "</style>\n",
       "<table border=\"1\" class=\"dataframe\">\n",
       "  <thead>\n",
       "    <tr style=\"text-align: right;\">\n",
       "      <th></th>\n",
       "      <th>business_id</th>\n",
       "      <th>name</th>\n",
       "      <th>address</th>\n",
       "      <th>city</th>\n",
       "      <th>state</th>\n",
       "      <th>postal_code</th>\n",
       "      <th>latitude</th>\n",
       "      <th>longitude</th>\n",
       "      <th>stars</th>\n",
       "      <th>review_count</th>\n",
       "      <th>is_open</th>\n",
       "      <th>attributes</th>\n",
       "      <th>categories</th>\n",
       "      <th>hours</th>\n",
       "    </tr>\n",
       "  </thead>\n",
       "  <tbody>\n",
       "    <tr>\n",
       "      <th>0</th>\n",
       "      <td>Pns2l4eNsfO8kk83dixA6A</td>\n",
       "      <td>Abby Rappoport, LAC, CMQ</td>\n",
       "      <td>1616 Chapala St, Ste 2</td>\n",
       "      <td>Santa Barbara</td>\n",
       "      <td>CA</td>\n",
       "      <td>93101</td>\n",
       "      <td>34.426679</td>\n",
       "      <td>-119.711197</td>\n",
       "      <td>5.0</td>\n",
       "      <td>7</td>\n",
       "      <td>0</td>\n",
       "      <td>{'ByAppointmentOnly': 'True'}</td>\n",
       "      <td>Doctors, Traditional Chinese Medicine, Naturop...</td>\n",
       "      <td>None</td>\n",
       "    </tr>\n",
       "    <tr>\n",
       "      <th>1</th>\n",
       "      <td>mpf3x-BjTdTEA3yCZrAYPw</td>\n",
       "      <td>The UPS Store</td>\n",
       "      <td>87 Grasso Plaza Shopping Center</td>\n",
       "      <td>Affton</td>\n",
       "      <td>MO</td>\n",
       "      <td>63123</td>\n",
       "      <td>38.551126</td>\n",
       "      <td>-90.335695</td>\n",
       "      <td>3.0</td>\n",
       "      <td>15</td>\n",
       "      <td>1</td>\n",
       "      <td>{'BusinessAcceptsCreditCards': 'True'}</td>\n",
       "      <td>Shipping Centers, Local Services, Notaries, Ma...</td>\n",
       "      <td>{'Monday': '0:0-0:0', 'Tuesday': '8:0-18:30', ...</td>\n",
       "    </tr>\n",
       "    <tr>\n",
       "      <th>2</th>\n",
       "      <td>tUFrWirKiKi_TAnsVWINQQ</td>\n",
       "      <td>Target</td>\n",
       "      <td>5255 E Broadway Blvd</td>\n",
       "      <td>Tucson</td>\n",
       "      <td>AZ</td>\n",
       "      <td>85711</td>\n",
       "      <td>32.223236</td>\n",
       "      <td>-110.880452</td>\n",
       "      <td>3.5</td>\n",
       "      <td>22</td>\n",
       "      <td>0</td>\n",
       "      <td>{'BikeParking': 'True', 'BusinessAcceptsCredit...</td>\n",
       "      <td>Department Stores, Shopping, Fashion, Home &amp; G...</td>\n",
       "      <td>{'Monday': '8:0-22:0', 'Tuesday': '8:0-22:0', ...</td>\n",
       "    </tr>\n",
       "    <tr>\n",
       "      <th>3</th>\n",
       "      <td>MTSW4McQd7CbVtyjqoe9mw</td>\n",
       "      <td>St Honore Pastries</td>\n",
       "      <td>935 Race St</td>\n",
       "      <td>Philadelphia</td>\n",
       "      <td>PA</td>\n",
       "      <td>19107</td>\n",
       "      <td>39.955505</td>\n",
       "      <td>-75.155564</td>\n",
       "      <td>4.0</td>\n",
       "      <td>80</td>\n",
       "      <td>1</td>\n",
       "      <td>{'RestaurantsDelivery': 'False', 'OutdoorSeati...</td>\n",
       "      <td>Restaurants, Food, Bubble Tea, Coffee &amp; Tea, B...</td>\n",
       "      <td>{'Monday': '7:0-20:0', 'Tuesday': '7:0-20:0', ...</td>\n",
       "    </tr>\n",
       "    <tr>\n",
       "      <th>4</th>\n",
       "      <td>mWMc6_wTdE0EUBKIGXDVfA</td>\n",
       "      <td>Perkiomen Valley Brewery</td>\n",
       "      <td>101 Walnut St</td>\n",
       "      <td>Green Lane</td>\n",
       "      <td>PA</td>\n",
       "      <td>18054</td>\n",
       "      <td>40.338183</td>\n",
       "      <td>-75.471659</td>\n",
       "      <td>4.5</td>\n",
       "      <td>13</td>\n",
       "      <td>1</td>\n",
       "      <td>{'BusinessAcceptsCreditCards': 'True', 'Wheelc...</td>\n",
       "      <td>Brewpubs, Breweries, Food</td>\n",
       "      <td>{'Wednesday': '14:0-22:0', 'Thursday': '16:0-2...</td>\n",
       "    </tr>\n",
       "  </tbody>\n",
       "</table>\n",
       "</div>\n",
       "    <div class=\"colab-df-buttons\">\n",
       "\n",
       "  <div class=\"colab-df-container\">\n",
       "    <button class=\"colab-df-convert\" onclick=\"convertToInteractive('df-f664bd1e-adae-4382-b267-e5c94bf33d19')\"\n",
       "            title=\"Convert this dataframe to an interactive table.\"\n",
       "            style=\"display:none;\">\n",
       "\n",
       "  <svg xmlns=\"http://www.w3.org/2000/svg\" height=\"24px\" viewBox=\"0 -960 960 960\">\n",
       "    <path d=\"M120-120v-720h720v720H120Zm60-500h600v-160H180v160Zm220 220h160v-160H400v160Zm0 220h160v-160H400v160ZM180-400h160v-160H180v160Zm440 0h160v-160H620v160ZM180-180h160v-160H180v160Zm440 0h160v-160H620v160Z\"/>\n",
       "  </svg>\n",
       "    </button>\n",
       "\n",
       "  <style>\n",
       "    .colab-df-container {\n",
       "      display:flex;\n",
       "      gap: 12px;\n",
       "    }\n",
       "\n",
       "    .colab-df-convert {\n",
       "      background-color: #E8F0FE;\n",
       "      border: none;\n",
       "      border-radius: 50%;\n",
       "      cursor: pointer;\n",
       "      display: none;\n",
       "      fill: #1967D2;\n",
       "      height: 32px;\n",
       "      padding: 0 0 0 0;\n",
       "      width: 32px;\n",
       "    }\n",
       "\n",
       "    .colab-df-convert:hover {\n",
       "      background-color: #E2EBFA;\n",
       "      box-shadow: 0px 1px 2px rgba(60, 64, 67, 0.3), 0px 1px 3px 1px rgba(60, 64, 67, 0.15);\n",
       "      fill: #174EA6;\n",
       "    }\n",
       "\n",
       "    .colab-df-buttons div {\n",
       "      margin-bottom: 4px;\n",
       "    }\n",
       "\n",
       "    [theme=dark] .colab-df-convert {\n",
       "      background-color: #3B4455;\n",
       "      fill: #D2E3FC;\n",
       "    }\n",
       "\n",
       "    [theme=dark] .colab-df-convert:hover {\n",
       "      background-color: #434B5C;\n",
       "      box-shadow: 0px 1px 3px 1px rgba(0, 0, 0, 0.15);\n",
       "      filter: drop-shadow(0px 1px 2px rgba(0, 0, 0, 0.3));\n",
       "      fill: #FFFFFF;\n",
       "    }\n",
       "  </style>\n",
       "\n",
       "    <script>\n",
       "      const buttonEl =\n",
       "        document.querySelector('#df-f664bd1e-adae-4382-b267-e5c94bf33d19 button.colab-df-convert');\n",
       "      buttonEl.style.display =\n",
       "        google.colab.kernel.accessAllowed ? 'block' : 'none';\n",
       "\n",
       "      async function convertToInteractive(key) {\n",
       "        const element = document.querySelector('#df-f664bd1e-adae-4382-b267-e5c94bf33d19');\n",
       "        const dataTable =\n",
       "          await google.colab.kernel.invokeFunction('convertToInteractive',\n",
       "                                                    [key], {});\n",
       "        if (!dataTable) return;\n",
       "\n",
       "        const docLinkHtml = 'Like what you see? Visit the ' +\n",
       "          '<a target=\"_blank\" href=https://colab.research.google.com/notebooks/data_table.ipynb>data table notebook</a>'\n",
       "          + ' to learn more about interactive tables.';\n",
       "        element.innerHTML = '';\n",
       "        dataTable['output_type'] = 'display_data';\n",
       "        await google.colab.output.renderOutput(dataTable, element);\n",
       "        const docLink = document.createElement('div');\n",
       "        docLink.innerHTML = docLinkHtml;\n",
       "        element.appendChild(docLink);\n",
       "      }\n",
       "    </script>\n",
       "  </div>\n",
       "\n",
       "\n",
       "<div id=\"df-a06c4b68-79db-47ab-bbab-5d47c3b14dd0\">\n",
       "  <button class=\"colab-df-quickchart\" onclick=\"quickchart('df-a06c4b68-79db-47ab-bbab-5d47c3b14dd0')\"\n",
       "            title=\"Suggest charts\"\n",
       "            style=\"display:none;\">\n",
       "\n",
       "<svg xmlns=\"http://www.w3.org/2000/svg\" height=\"24px\"viewBox=\"0 0 24 24\"\n",
       "     width=\"24px\">\n",
       "    <g>\n",
       "        <path d=\"M19 3H5c-1.1 0-2 .9-2 2v14c0 1.1.9 2 2 2h14c1.1 0 2-.9 2-2V5c0-1.1-.9-2-2-2zM9 17H7v-7h2v7zm4 0h-2V7h2v10zm4 0h-2v-4h2v4z\"/>\n",
       "    </g>\n",
       "</svg>\n",
       "  </button>\n",
       "\n",
       "<style>\n",
       "  .colab-df-quickchart {\n",
       "      --bg-color: #E8F0FE;\n",
       "      --fill-color: #1967D2;\n",
       "      --hover-bg-color: #E2EBFA;\n",
       "      --hover-fill-color: #174EA6;\n",
       "      --disabled-fill-color: #AAA;\n",
       "      --disabled-bg-color: #DDD;\n",
       "  }\n",
       "\n",
       "  [theme=dark] .colab-df-quickchart {\n",
       "      --bg-color: #3B4455;\n",
       "      --fill-color: #D2E3FC;\n",
       "      --hover-bg-color: #434B5C;\n",
       "      --hover-fill-color: #FFFFFF;\n",
       "      --disabled-bg-color: #3B4455;\n",
       "      --disabled-fill-color: #666;\n",
       "  }\n",
       "\n",
       "  .colab-df-quickchart {\n",
       "    background-color: var(--bg-color);\n",
       "    border: none;\n",
       "    border-radius: 50%;\n",
       "    cursor: pointer;\n",
       "    display: none;\n",
       "    fill: var(--fill-color);\n",
       "    height: 32px;\n",
       "    padding: 0;\n",
       "    width: 32px;\n",
       "  }\n",
       "\n",
       "  .colab-df-quickchart:hover {\n",
       "    background-color: var(--hover-bg-color);\n",
       "    box-shadow: 0 1px 2px rgba(60, 64, 67, 0.3), 0 1px 3px 1px rgba(60, 64, 67, 0.15);\n",
       "    fill: var(--button-hover-fill-color);\n",
       "  }\n",
       "\n",
       "  .colab-df-quickchart-complete:disabled,\n",
       "  .colab-df-quickchart-complete:disabled:hover {\n",
       "    background-color: var(--disabled-bg-color);\n",
       "    fill: var(--disabled-fill-color);\n",
       "    box-shadow: none;\n",
       "  }\n",
       "\n",
       "  .colab-df-spinner {\n",
       "    border: 2px solid var(--fill-color);\n",
       "    border-color: transparent;\n",
       "    border-bottom-color: var(--fill-color);\n",
       "    animation:\n",
       "      spin 1s steps(1) infinite;\n",
       "  }\n",
       "\n",
       "  @keyframes spin {\n",
       "    0% {\n",
       "      border-color: transparent;\n",
       "      border-bottom-color: var(--fill-color);\n",
       "      border-left-color: var(--fill-color);\n",
       "    }\n",
       "    20% {\n",
       "      border-color: transparent;\n",
       "      border-left-color: var(--fill-color);\n",
       "      border-top-color: var(--fill-color);\n",
       "    }\n",
       "    30% {\n",
       "      border-color: transparent;\n",
       "      border-left-color: var(--fill-color);\n",
       "      border-top-color: var(--fill-color);\n",
       "      border-right-color: var(--fill-color);\n",
       "    }\n",
       "    40% {\n",
       "      border-color: transparent;\n",
       "      border-right-color: var(--fill-color);\n",
       "      border-top-color: var(--fill-color);\n",
       "    }\n",
       "    60% {\n",
       "      border-color: transparent;\n",
       "      border-right-color: var(--fill-color);\n",
       "    }\n",
       "    80% {\n",
       "      border-color: transparent;\n",
       "      border-right-color: var(--fill-color);\n",
       "      border-bottom-color: var(--fill-color);\n",
       "    }\n",
       "    90% {\n",
       "      border-color: transparent;\n",
       "      border-bottom-color: var(--fill-color);\n",
       "    }\n",
       "  }\n",
       "</style>\n",
       "\n",
       "  <script>\n",
       "    async function quickchart(key) {\n",
       "      const quickchartButtonEl =\n",
       "        document.querySelector('#' + key + ' button');\n",
       "      quickchartButtonEl.disabled = true;  // To prevent multiple clicks.\n",
       "      quickchartButtonEl.classList.add('colab-df-spinner');\n",
       "      try {\n",
       "        const charts = await google.colab.kernel.invokeFunction(\n",
       "            'suggestCharts', [key], {});\n",
       "      } catch (error) {\n",
       "        console.error('Error during call to suggestCharts:', error);\n",
       "      }\n",
       "      quickchartButtonEl.classList.remove('colab-df-spinner');\n",
       "      quickchartButtonEl.classList.add('colab-df-quickchart-complete');\n",
       "    }\n",
       "    (() => {\n",
       "      let quickchartButtonEl =\n",
       "        document.querySelector('#df-a06c4b68-79db-47ab-bbab-5d47c3b14dd0 button');\n",
       "      quickchartButtonEl.style.display =\n",
       "        google.colab.kernel.accessAllowed ? 'block' : 'none';\n",
       "    })();\n",
       "  </script>\n",
       "</div>\n",
       "\n",
       "    </div>\n",
       "  </div>\n"
      ],
      "text/plain": [
       "              business_id                      name  \\\n",
       "0  Pns2l4eNsfO8kk83dixA6A  Abby Rappoport, LAC, CMQ   \n",
       "1  mpf3x-BjTdTEA3yCZrAYPw             The UPS Store   \n",
       "2  tUFrWirKiKi_TAnsVWINQQ                    Target   \n",
       "3  MTSW4McQd7CbVtyjqoe9mw        St Honore Pastries   \n",
       "4  mWMc6_wTdE0EUBKIGXDVfA  Perkiomen Valley Brewery   \n",
       "\n",
       "                           address           city state postal_code  \\\n",
       "0           1616 Chapala St, Ste 2  Santa Barbara    CA       93101   \n",
       "1  87 Grasso Plaza Shopping Center         Affton    MO       63123   \n",
       "2             5255 E Broadway Blvd         Tucson    AZ       85711   \n",
       "3                      935 Race St   Philadelphia    PA       19107   \n",
       "4                    101 Walnut St     Green Lane    PA       18054   \n",
       "\n",
       "    latitude   longitude stars review_count is_open  \\\n",
       "0  34.426679 -119.711197   5.0            7       0   \n",
       "1  38.551126  -90.335695   3.0           15       1   \n",
       "2  32.223236 -110.880452   3.5           22       0   \n",
       "3  39.955505  -75.155564   4.0           80       1   \n",
       "4  40.338183  -75.471659   4.5           13       1   \n",
       "\n",
       "                                          attributes  \\\n",
       "0                      {'ByAppointmentOnly': 'True'}   \n",
       "1             {'BusinessAcceptsCreditCards': 'True'}   \n",
       "2  {'BikeParking': 'True', 'BusinessAcceptsCredit...   \n",
       "3  {'RestaurantsDelivery': 'False', 'OutdoorSeati...   \n",
       "4  {'BusinessAcceptsCreditCards': 'True', 'Wheelc...   \n",
       "\n",
       "                                          categories  \\\n",
       "0  Doctors, Traditional Chinese Medicine, Naturop...   \n",
       "1  Shipping Centers, Local Services, Notaries, Ma...   \n",
       "2  Department Stores, Shopping, Fashion, Home & G...   \n",
       "3  Restaurants, Food, Bubble Tea, Coffee & Tea, B...   \n",
       "4                          Brewpubs, Breweries, Food   \n",
       "\n",
       "                                               hours  \n",
       "0                                               None  \n",
       "1  {'Monday': '0:0-0:0', 'Tuesday': '8:0-18:30', ...  \n",
       "2  {'Monday': '8:0-22:0', 'Tuesday': '8:0-22:0', ...  \n",
       "3  {'Monday': '7:0-20:0', 'Tuesday': '7:0-20:0', ...  \n",
       "4  {'Wednesday': '14:0-22:0', 'Thursday': '16:0-2...  "
      ]
     },
     "execution_count": 7,
     "metadata": {},
     "output_type": "execute_result"
    }
   ],
   "source": [
    "\"\"\"\n",
    "Columnas en business\n",
    "colomna 4  --> state\n",
    "columna 5  --> postal_code\n",
    "\"\"\"\n",
    "\n",
    "\n",
    "for i in range(business.shape[0]):\n",
    "  codigo_postal = business.iloc[i,5]\n",
    "  # Filtrando el dataframe que se obtuvo de la Api de Codigos Postales\n",
    "  mask = codigos_postales_api['codigo_postal'] == codigo_postal\n",
    "  business.iloc[i,4] = codigos_postales_api.loc[mask]['state'].values[0]\n",
    "\n",
    "business.head()"
   ]
  },
  {
   "cell_type": "markdown",
   "metadata": {
    "id": "jxSTT_zrc7ON"
   },
   "source": [
    "Se deben Borrar los registros que no pertenecen a Estados Unidos"
   ]
  },
  {
   "cell_type": "code",
   "execution_count": null,
   "metadata": {
    "id": "X89iyz64aYSO"
   },
   "outputs": [],
   "source": [
    "mask = business['state'] != 'BORRAR REGISTRO'\n",
    "business = business.loc[mask]"
   ]
  },
  {
   "cell_type": "markdown",
   "metadata": {
    "id": "ToAwrpmxdkhA"
   },
   "source": [
    "Vamos a filtrar en `business` solo aquellos negocios que sean restaurantes"
   ]
  },
  {
   "cell_type": "markdown",
   "metadata": {
    "id": "sSb37tZvQMU_"
   },
   "source": [
    "### Importacion del archivo que en el EDR se llama `y_categories_business` como quedó despues de haber hecho el Maestro de Categorias"
   ]
  },
  {
   "cell_type": "code",
   "execution_count": null,
   "metadata": {
    "id": "Mk20NB9bQIb5"
   },
   "outputs": [],
   "source": [
    "categorias_yelp = pd.read_parquet('datasets/categorias/yelp_categories_final.parquet')"
   ]
  },
  {
   "cell_type": "code",
   "execution_count": null,
   "metadata": {
    "colab": {
     "base_uri": "https://localhost:8080/",
     "height": 223
    },
    "executionInfo": {
     "elapsed": 316,
     "status": "ok",
     "timestamp": 1730319363705,
     "user": {
      "displayName": "Aliskair Rodríguez",
      "userId": "18238624046305613189"
     },
     "user_tz": 240
    },
    "id": "ez2u_0H1fKDB",
    "outputId": "a55362ad-c0fc-4f6c-ee7f-0d3d32f842cc"
   },
   "outputs": [
    {
     "name": "stdout",
     "output_type": "stream",
     "text": [
      "(668662, 5)\n"
     ]
    },
    {
     "data": {
      "application/vnd.google.colaboratory.intrinsic+json": {
       "type": "dataframe",
       "variable_name": "categorias_yelp"
      },
      "text/html": [
       "\n",
       "  <div id=\"df-278a929d-a010-4d7d-9a4b-f876cfe91a2c\" class=\"colab-df-container\">\n",
       "    <div>\n",
       "<style scoped>\n",
       "    .dataframe tbody tr th:only-of-type {\n",
       "        vertical-align: middle;\n",
       "    }\n",
       "\n",
       "    .dataframe tbody tr th {\n",
       "        vertical-align: top;\n",
       "    }\n",
       "\n",
       "    .dataframe thead th {\n",
       "        text-align: right;\n",
       "    }\n",
       "</style>\n",
       "<table border=\"1\" class=\"dataframe\">\n",
       "  <thead>\n",
       "    <tr style=\"text-align: right;\">\n",
       "      <th></th>\n",
       "      <th>business_id</th>\n",
       "      <th>category_id_yelp</th>\n",
       "      <th>category</th>\n",
       "      <th>category_general</th>\n",
       "      <th>id_category_general</th>\n",
       "    </tr>\n",
       "  </thead>\n",
       "  <tbody>\n",
       "    <tr>\n",
       "      <th>0</th>\n",
       "      <td>Pns2l4eNsfO8kk83dixA6A</td>\n",
       "      <td>1</td>\n",
       "      <td>doctors</td>\n",
       "      <td>Salud y Cuidado</td>\n",
       "      <td>6</td>\n",
       "    </tr>\n",
       "    <tr>\n",
       "      <th>1</th>\n",
       "      <td>Pns2l4eNsfO8kk83dixA6A</td>\n",
       "      <td>2</td>\n",
       "      <td>traditional chinese medicine</td>\n",
       "      <td>Salud y Cuidado</td>\n",
       "      <td>6</td>\n",
       "    </tr>\n",
       "    <tr>\n",
       "      <th>2</th>\n",
       "      <td>Pns2l4eNsfO8kk83dixA6A</td>\n",
       "      <td>3</td>\n",
       "      <td>naturopathic/holistic</td>\n",
       "      <td>Salud y Cuidado</td>\n",
       "      <td>6</td>\n",
       "    </tr>\n",
       "    <tr>\n",
       "      <th>3</th>\n",
       "      <td>Pns2l4eNsfO8kk83dixA6A</td>\n",
       "      <td>4</td>\n",
       "      <td>acupuncture</td>\n",
       "      <td>Salud y Cuidado</td>\n",
       "      <td>6</td>\n",
       "    </tr>\n",
       "    <tr>\n",
       "      <th>4</th>\n",
       "      <td>Pns2l4eNsfO8kk83dixA6A</td>\n",
       "      <td>5</td>\n",
       "      <td>health &amp; medical</td>\n",
       "      <td>Salud y Cuidado</td>\n",
       "      <td>6</td>\n",
       "    </tr>\n",
       "  </tbody>\n",
       "</table>\n",
       "</div>\n",
       "    <div class=\"colab-df-buttons\">\n",
       "\n",
       "  <div class=\"colab-df-container\">\n",
       "    <button class=\"colab-df-convert\" onclick=\"convertToInteractive('df-278a929d-a010-4d7d-9a4b-f876cfe91a2c')\"\n",
       "            title=\"Convert this dataframe to an interactive table.\"\n",
       "            style=\"display:none;\">\n",
       "\n",
       "  <svg xmlns=\"http://www.w3.org/2000/svg\" height=\"24px\" viewBox=\"0 -960 960 960\">\n",
       "    <path d=\"M120-120v-720h720v720H120Zm60-500h600v-160H180v160Zm220 220h160v-160H400v160Zm0 220h160v-160H400v160ZM180-400h160v-160H180v160Zm440 0h160v-160H620v160ZM180-180h160v-160H180v160Zm440 0h160v-160H620v160Z\"/>\n",
       "  </svg>\n",
       "    </button>\n",
       "\n",
       "  <style>\n",
       "    .colab-df-container {\n",
       "      display:flex;\n",
       "      gap: 12px;\n",
       "    }\n",
       "\n",
       "    .colab-df-convert {\n",
       "      background-color: #E8F0FE;\n",
       "      border: none;\n",
       "      border-radius: 50%;\n",
       "      cursor: pointer;\n",
       "      display: none;\n",
       "      fill: #1967D2;\n",
       "      height: 32px;\n",
       "      padding: 0 0 0 0;\n",
       "      width: 32px;\n",
       "    }\n",
       "\n",
       "    .colab-df-convert:hover {\n",
       "      background-color: #E2EBFA;\n",
       "      box-shadow: 0px 1px 2px rgba(60, 64, 67, 0.3), 0px 1px 3px 1px rgba(60, 64, 67, 0.15);\n",
       "      fill: #174EA6;\n",
       "    }\n",
       "\n",
       "    .colab-df-buttons div {\n",
       "      margin-bottom: 4px;\n",
       "    }\n",
       "\n",
       "    [theme=dark] .colab-df-convert {\n",
       "      background-color: #3B4455;\n",
       "      fill: #D2E3FC;\n",
       "    }\n",
       "\n",
       "    [theme=dark] .colab-df-convert:hover {\n",
       "      background-color: #434B5C;\n",
       "      box-shadow: 0px 1px 3px 1px rgba(0, 0, 0, 0.15);\n",
       "      filter: drop-shadow(0px 1px 2px rgba(0, 0, 0, 0.3));\n",
       "      fill: #FFFFFF;\n",
       "    }\n",
       "  </style>\n",
       "\n",
       "    <script>\n",
       "      const buttonEl =\n",
       "        document.querySelector('#df-278a929d-a010-4d7d-9a4b-f876cfe91a2c button.colab-df-convert');\n",
       "      buttonEl.style.display =\n",
       "        google.colab.kernel.accessAllowed ? 'block' : 'none';\n",
       "\n",
       "      async function convertToInteractive(key) {\n",
       "        const element = document.querySelector('#df-278a929d-a010-4d7d-9a4b-f876cfe91a2c');\n",
       "        const dataTable =\n",
       "          await google.colab.kernel.invokeFunction('convertToInteractive',\n",
       "                                                    [key], {});\n",
       "        if (!dataTable) return;\n",
       "\n",
       "        const docLinkHtml = 'Like what you see? Visit the ' +\n",
       "          '<a target=\"_blank\" href=https://colab.research.google.com/notebooks/data_table.ipynb>data table notebook</a>'\n",
       "          + ' to learn more about interactive tables.';\n",
       "        element.innerHTML = '';\n",
       "        dataTable['output_type'] = 'display_data';\n",
       "        await google.colab.output.renderOutput(dataTable, element);\n",
       "        const docLink = document.createElement('div');\n",
       "        docLink.innerHTML = docLinkHtml;\n",
       "        element.appendChild(docLink);\n",
       "      }\n",
       "    </script>\n",
       "  </div>\n",
       "\n",
       "\n",
       "<div id=\"df-22cc07cb-4c5c-4e49-bbd6-4abfed430089\">\n",
       "  <button class=\"colab-df-quickchart\" onclick=\"quickchart('df-22cc07cb-4c5c-4e49-bbd6-4abfed430089')\"\n",
       "            title=\"Suggest charts\"\n",
       "            style=\"display:none;\">\n",
       "\n",
       "<svg xmlns=\"http://www.w3.org/2000/svg\" height=\"24px\"viewBox=\"0 0 24 24\"\n",
       "     width=\"24px\">\n",
       "    <g>\n",
       "        <path d=\"M19 3H5c-1.1 0-2 .9-2 2v14c0 1.1.9 2 2 2h14c1.1 0 2-.9 2-2V5c0-1.1-.9-2-2-2zM9 17H7v-7h2v7zm4 0h-2V7h2v10zm4 0h-2v-4h2v4z\"/>\n",
       "    </g>\n",
       "</svg>\n",
       "  </button>\n",
       "\n",
       "<style>\n",
       "  .colab-df-quickchart {\n",
       "      --bg-color: #E8F0FE;\n",
       "      --fill-color: #1967D2;\n",
       "      --hover-bg-color: #E2EBFA;\n",
       "      --hover-fill-color: #174EA6;\n",
       "      --disabled-fill-color: #AAA;\n",
       "      --disabled-bg-color: #DDD;\n",
       "  }\n",
       "\n",
       "  [theme=dark] .colab-df-quickchart {\n",
       "      --bg-color: #3B4455;\n",
       "      --fill-color: #D2E3FC;\n",
       "      --hover-bg-color: #434B5C;\n",
       "      --hover-fill-color: #FFFFFF;\n",
       "      --disabled-bg-color: #3B4455;\n",
       "      --disabled-fill-color: #666;\n",
       "  }\n",
       "\n",
       "  .colab-df-quickchart {\n",
       "    background-color: var(--bg-color);\n",
       "    border: none;\n",
       "    border-radius: 50%;\n",
       "    cursor: pointer;\n",
       "    display: none;\n",
       "    fill: var(--fill-color);\n",
       "    height: 32px;\n",
       "    padding: 0;\n",
       "    width: 32px;\n",
       "  }\n",
       "\n",
       "  .colab-df-quickchart:hover {\n",
       "    background-color: var(--hover-bg-color);\n",
       "    box-shadow: 0 1px 2px rgba(60, 64, 67, 0.3), 0 1px 3px 1px rgba(60, 64, 67, 0.15);\n",
       "    fill: var(--button-hover-fill-color);\n",
       "  }\n",
       "\n",
       "  .colab-df-quickchart-complete:disabled,\n",
       "  .colab-df-quickchart-complete:disabled:hover {\n",
       "    background-color: var(--disabled-bg-color);\n",
       "    fill: var(--disabled-fill-color);\n",
       "    box-shadow: none;\n",
       "  }\n",
       "\n",
       "  .colab-df-spinner {\n",
       "    border: 2px solid var(--fill-color);\n",
       "    border-color: transparent;\n",
       "    border-bottom-color: var(--fill-color);\n",
       "    animation:\n",
       "      spin 1s steps(1) infinite;\n",
       "  }\n",
       "\n",
       "  @keyframes spin {\n",
       "    0% {\n",
       "      border-color: transparent;\n",
       "      border-bottom-color: var(--fill-color);\n",
       "      border-left-color: var(--fill-color);\n",
       "    }\n",
       "    20% {\n",
       "      border-color: transparent;\n",
       "      border-left-color: var(--fill-color);\n",
       "      border-top-color: var(--fill-color);\n",
       "    }\n",
       "    30% {\n",
       "      border-color: transparent;\n",
       "      border-left-color: var(--fill-color);\n",
       "      border-top-color: var(--fill-color);\n",
       "      border-right-color: var(--fill-color);\n",
       "    }\n",
       "    40% {\n",
       "      border-color: transparent;\n",
       "      border-right-color: var(--fill-color);\n",
       "      border-top-color: var(--fill-color);\n",
       "    }\n",
       "    60% {\n",
       "      border-color: transparent;\n",
       "      border-right-color: var(--fill-color);\n",
       "    }\n",
       "    80% {\n",
       "      border-color: transparent;\n",
       "      border-right-color: var(--fill-color);\n",
       "      border-bottom-color: var(--fill-color);\n",
       "    }\n",
       "    90% {\n",
       "      border-color: transparent;\n",
       "      border-bottom-color: var(--fill-color);\n",
       "    }\n",
       "  }\n",
       "</style>\n",
       "\n",
       "  <script>\n",
       "    async function quickchart(key) {\n",
       "      const quickchartButtonEl =\n",
       "        document.querySelector('#' + key + ' button');\n",
       "      quickchartButtonEl.disabled = true;  // To prevent multiple clicks.\n",
       "      quickchartButtonEl.classList.add('colab-df-spinner');\n",
       "      try {\n",
       "        const charts = await google.colab.kernel.invokeFunction(\n",
       "            'suggestCharts', [key], {});\n",
       "      } catch (error) {\n",
       "        console.error('Error during call to suggestCharts:', error);\n",
       "      }\n",
       "      quickchartButtonEl.classList.remove('colab-df-spinner');\n",
       "      quickchartButtonEl.classList.add('colab-df-quickchart-complete');\n",
       "    }\n",
       "    (() => {\n",
       "      let quickchartButtonEl =\n",
       "        document.querySelector('#df-22cc07cb-4c5c-4e49-bbd6-4abfed430089 button');\n",
       "      quickchartButtonEl.style.display =\n",
       "        google.colab.kernel.accessAllowed ? 'block' : 'none';\n",
       "    })();\n",
       "  </script>\n",
       "</div>\n",
       "\n",
       "    </div>\n",
       "  </div>\n"
      ],
      "text/plain": [
       "              business_id  category_id_yelp                      category  \\\n",
       "0  Pns2l4eNsfO8kk83dixA6A                 1                       doctors   \n",
       "1  Pns2l4eNsfO8kk83dixA6A                 2  traditional chinese medicine   \n",
       "2  Pns2l4eNsfO8kk83dixA6A                 3         naturopathic/holistic   \n",
       "3  Pns2l4eNsfO8kk83dixA6A                 4                   acupuncture   \n",
       "4  Pns2l4eNsfO8kk83dixA6A                 5              health & medical   \n",
       "\n",
       "  category_general  id_category_general  \n",
       "0  Salud y Cuidado                    6  \n",
       "1  Salud y Cuidado                    6  \n",
       "2  Salud y Cuidado                    6  \n",
       "3  Salud y Cuidado                    6  \n",
       "4  Salud y Cuidado                    6  "
      ]
     },
     "execution_count": 10,
     "metadata": {},
     "output_type": "execute_result"
    }
   ],
   "source": [
    "print(categorias_yelp.shape)\n",
    "categorias_yelp.head()"
   ]
  },
  {
   "cell_type": "markdown",
   "metadata": {
    "id": "yjADhRyKfwb-"
   },
   "source": [
    "## Filtrado"
   ]
  },
  {
   "cell_type": "code",
   "execution_count": null,
   "metadata": {
    "colab": {
     "base_uri": "https://localhost:8080/"
    },
    "executionInfo": {
     "elapsed": 331,
     "status": "ok",
     "timestamp": 1730319391262,
     "user": {
      "displayName": "Aliskair Rodríguez",
      "userId": "18238624046305613189"
     },
     "user_tz": 240
    },
    "id": "8fKsqaiJff-D",
    "outputId": "e1a3d157-36fb-44a6-9e39-f789a721bb64"
   },
   "outputs": [
    {
     "name": "stdout",
     "output_type": "stream",
     "text": [
      "Quedaron 28470 negocios para el estudio\n"
     ]
    }
   ],
   "source": [
    "# Filtro en Categorias por alimentos y bebidas y obtengo una lista de los negocios\n",
    "mask = categorias_yelp['category_general'] == 'Alimentos y Bebidas'\n",
    "lista_business_alimentos_bebidas = categorias_yelp.loc[mask]['business_id'].unique().tolist()\n",
    "\n",
    "# ahora con la lista de los business_id se filtra a la tabla business\n",
    "mask = business['business_id'].isin(lista_business_alimentos_bebidas)\n",
    "business = business.loc[mask]\n",
    "\n",
    "print(f'Quedaron {business.shape[0]} negocios para el estudio')"
   ]
  },
  {
   "cell_type": "markdown",
   "metadata": {
    "id": "7l4aYi_0ptph"
   },
   "source": [
    "Veamos como sigue la situacion de Nulos"
   ]
  },
  {
   "cell_type": "code",
   "execution_count": null,
   "metadata": {
    "colab": {
     "base_uri": "https://localhost:8080/"
    },
    "executionInfo": {
     "elapsed": 314,
     "status": "ok",
     "timestamp": 1730228492189,
     "user": {
      "displayName": "Aliskair Rodríguez",
      "userId": "18238624046305613189"
     },
     "user_tz": 240
    },
    "id": "aR-tlG_XhGr4",
    "outputId": "973dc660-8f0e-4c52-b404-f586cba9fc2d"
   },
   "outputs": [
    {
     "name": "stdout",
     "output_type": "stream",
     "text": [
      "Columna --> business_id Cantidad de Nulos --> 0\n",
      "Columna --> name Cantidad de Nulos --> 0\n",
      "Columna --> address Cantidad de Nulos --> 0\n",
      "Columna --> city Cantidad de Nulos --> 0\n",
      "Columna --> state Cantidad de Nulos --> 0\n",
      "Columna --> postal_code Cantidad de Nulos --> 0\n",
      "Columna --> latitude Cantidad de Nulos --> 0\n",
      "Columna --> longitude Cantidad de Nulos --> 0\n",
      "Columna --> stars Cantidad de Nulos --> 0\n",
      "Columna --> review_count Cantidad de Nulos --> 0\n",
      "Columna --> is_open Cantidad de Nulos --> 0\n",
      "Columna --> attributes Cantidad de Nulos --> 1894\n",
      "Columna --> categories Cantidad de Nulos --> 0\n",
      "Columna --> hours Cantidad de Nulos --> 2361\n"
     ]
    }
   ],
   "source": [
    "for column in business.columns:\n",
    "  print(f'Columna --> {column} Cantidad de Nulos --> {business[column].isnull().sum()}')"
   ]
  },
  {
   "cell_type": "markdown",
   "metadata": {
    "id": "lxfp4NPWqBQ0"
   },
   "source": [
    "Dado que quedaron pocos datos al filtrar permaneceré con todos los registros. Lo único es que vamos a cambiarlos por \"No Disponible\" para identificar y evitar posibles errores con Nulos"
   ]
  },
  {
   "cell_type": "code",
   "execution_count": null,
   "metadata": {
    "id": "StACgfW_qYfk"
   },
   "outputs": [],
   "source": [
    "business.loc[:, 'attributes'] = business['attributes'].fillna('No Disponible')\n",
    "\n",
    "business.loc[:, 'hours'] = business['hours'].fillna('No Disponible')"
   ]
  },
  {
   "cell_type": "markdown",
   "metadata": {
    "id": "icPb8IEbrztC"
   },
   "source": [
    "La Columna `categories` ya no debe estar acá ya que fue extraida por el equipo que realizó el maestro de Categorias"
   ]
  },
  {
   "cell_type": "code",
   "execution_count": null,
   "metadata": {
    "id": "1JRVfWnXsHuh"
   },
   "outputs": [],
   "source": [
    "business = business.drop(columns=['categories'])"
   ]
  },
  {
   "cell_type": "markdown",
   "metadata": {
    "id": "tBxqVlsJs-J9"
   },
   "source": [
    "Necesitamos extraer el `business_id` junto con `attributes` para armar la tabla `y_attributes_business`"
   ]
  },
  {
   "cell_type": "code",
   "execution_count": null,
   "metadata": {
    "colab": {
     "base_uri": "https://localhost:8080/",
     "height": 206
    },
    "executionInfo": {
     "elapsed": 219,
     "status": "ok",
     "timestamp": 1730319427301,
     "user": {
      "displayName": "Aliskair Rodríguez",
      "userId": "18238624046305613189"
     },
     "user_tz": 240
    },
    "id": "Vsgv1dP2sXlC",
    "outputId": "8a5535d6-10d8-4c8a-b89e-0f499ddb103e"
   },
   "outputs": [
    {
     "data": {
      "application/vnd.google.colaboratory.intrinsic+json": {
       "summary": "{\n  \"name\": \"attributes\",\n  \"rows\": 28470,\n  \"fields\": [\n    {\n      \"column\": \"business_id\",\n      \"properties\": {\n        \"dtype\": \"string\",\n        \"num_unique_values\": 28470,\n        \"samples\": [\n          \"zVrKd23EbHay6SKKQp-1Kg\",\n          \"YKK2g0Y2vmiOpOb_UANZcg\",\n          \"FXj02QYnpbLGzR5MGW_LHw\"\n        ],\n        \"semantic_type\": \"\",\n        \"description\": \"\"\n      }\n    },\n    {\n      \"column\": \"attributes\",\n      \"properties\": {\n        \"dtype\": \"object\",\n        \"semantic_type\": \"\",\n        \"description\": \"\"\n      }\n    }\n  ]\n}",
       "type": "dataframe",
       "variable_name": "attributes"
      },
      "text/html": [
       "\n",
       "  <div id=\"df-f2fac1ad-c31c-49fe-b890-285063806e56\" class=\"colab-df-container\">\n",
       "    <div>\n",
       "<style scoped>\n",
       "    .dataframe tbody tr th:only-of-type {\n",
       "        vertical-align: middle;\n",
       "    }\n",
       "\n",
       "    .dataframe tbody tr th {\n",
       "        vertical-align: top;\n",
       "    }\n",
       "\n",
       "    .dataframe thead th {\n",
       "        text-align: right;\n",
       "    }\n",
       "</style>\n",
       "<table border=\"1\" class=\"dataframe\">\n",
       "  <thead>\n",
       "    <tr style=\"text-align: right;\">\n",
       "      <th></th>\n",
       "      <th>business_id</th>\n",
       "      <th>attributes</th>\n",
       "    </tr>\n",
       "  </thead>\n",
       "  <tbody>\n",
       "    <tr>\n",
       "      <th>1</th>\n",
       "      <td>mpf3x-BjTdTEA3yCZrAYPw</td>\n",
       "      <td>{'BusinessAcceptsCreditCards': 'True'}</td>\n",
       "    </tr>\n",
       "    <tr>\n",
       "      <th>2</th>\n",
       "      <td>tUFrWirKiKi_TAnsVWINQQ</td>\n",
       "      <td>{'BikeParking': 'True', 'BusinessAcceptsCredit...</td>\n",
       "    </tr>\n",
       "    <tr>\n",
       "      <th>10</th>\n",
       "      <td>UJsufbvfyfONHeWdvAHKjA</td>\n",
       "      <td>{'RestaurantsPriceRange2': '2', 'BikeParking':...</td>\n",
       "    </tr>\n",
       "    <tr>\n",
       "      <th>37</th>\n",
       "      <td>mGFsPRHdE6SMV1gYQ6GzgQ</td>\n",
       "      <td>{'BusinessParking': '{'garage': False, 'street...</td>\n",
       "    </tr>\n",
       "    <tr>\n",
       "      <th>44</th>\n",
       "      <td>mglME3E7esPSpIF5bias8w</td>\n",
       "      <td>{'RestaurantsPriceRange2': '3', 'BikeParking':...</td>\n",
       "    </tr>\n",
       "  </tbody>\n",
       "</table>\n",
       "</div>\n",
       "    <div class=\"colab-df-buttons\">\n",
       "\n",
       "  <div class=\"colab-df-container\">\n",
       "    <button class=\"colab-df-convert\" onclick=\"convertToInteractive('df-f2fac1ad-c31c-49fe-b890-285063806e56')\"\n",
       "            title=\"Convert this dataframe to an interactive table.\"\n",
       "            style=\"display:none;\">\n",
       "\n",
       "  <svg xmlns=\"http://www.w3.org/2000/svg\" height=\"24px\" viewBox=\"0 -960 960 960\">\n",
       "    <path d=\"M120-120v-720h720v720H120Zm60-500h600v-160H180v160Zm220 220h160v-160H400v160Zm0 220h160v-160H400v160ZM180-400h160v-160H180v160Zm440 0h160v-160H620v160ZM180-180h160v-160H180v160Zm440 0h160v-160H620v160Z\"/>\n",
       "  </svg>\n",
       "    </button>\n",
       "\n",
       "  <style>\n",
       "    .colab-df-container {\n",
       "      display:flex;\n",
       "      gap: 12px;\n",
       "    }\n",
       "\n",
       "    .colab-df-convert {\n",
       "      background-color: #E8F0FE;\n",
       "      border: none;\n",
       "      border-radius: 50%;\n",
       "      cursor: pointer;\n",
       "      display: none;\n",
       "      fill: #1967D2;\n",
       "      height: 32px;\n",
       "      padding: 0 0 0 0;\n",
       "      width: 32px;\n",
       "    }\n",
       "\n",
       "    .colab-df-convert:hover {\n",
       "      background-color: #E2EBFA;\n",
       "      box-shadow: 0px 1px 2px rgba(60, 64, 67, 0.3), 0px 1px 3px 1px rgba(60, 64, 67, 0.15);\n",
       "      fill: #174EA6;\n",
       "    }\n",
       "\n",
       "    .colab-df-buttons div {\n",
       "      margin-bottom: 4px;\n",
       "    }\n",
       "\n",
       "    [theme=dark] .colab-df-convert {\n",
       "      background-color: #3B4455;\n",
       "      fill: #D2E3FC;\n",
       "    }\n",
       "\n",
       "    [theme=dark] .colab-df-convert:hover {\n",
       "      background-color: #434B5C;\n",
       "      box-shadow: 0px 1px 3px 1px rgba(0, 0, 0, 0.15);\n",
       "      filter: drop-shadow(0px 1px 2px rgba(0, 0, 0, 0.3));\n",
       "      fill: #FFFFFF;\n",
       "    }\n",
       "  </style>\n",
       "\n",
       "    <script>\n",
       "      const buttonEl =\n",
       "        document.querySelector('#df-f2fac1ad-c31c-49fe-b890-285063806e56 button.colab-df-convert');\n",
       "      buttonEl.style.display =\n",
       "        google.colab.kernel.accessAllowed ? 'block' : 'none';\n",
       "\n",
       "      async function convertToInteractive(key) {\n",
       "        const element = document.querySelector('#df-f2fac1ad-c31c-49fe-b890-285063806e56');\n",
       "        const dataTable =\n",
       "          await google.colab.kernel.invokeFunction('convertToInteractive',\n",
       "                                                    [key], {});\n",
       "        if (!dataTable) return;\n",
       "\n",
       "        const docLinkHtml = 'Like what you see? Visit the ' +\n",
       "          '<a target=\"_blank\" href=https://colab.research.google.com/notebooks/data_table.ipynb>data table notebook</a>'\n",
       "          + ' to learn more about interactive tables.';\n",
       "        element.innerHTML = '';\n",
       "        dataTable['output_type'] = 'display_data';\n",
       "        await google.colab.output.renderOutput(dataTable, element);\n",
       "        const docLink = document.createElement('div');\n",
       "        docLink.innerHTML = docLinkHtml;\n",
       "        element.appendChild(docLink);\n",
       "      }\n",
       "    </script>\n",
       "  </div>\n",
       "\n",
       "\n",
       "<div id=\"df-c5de8910-7233-475f-8496-2362d863ffbc\">\n",
       "  <button class=\"colab-df-quickchart\" onclick=\"quickchart('df-c5de8910-7233-475f-8496-2362d863ffbc')\"\n",
       "            title=\"Suggest charts\"\n",
       "            style=\"display:none;\">\n",
       "\n",
       "<svg xmlns=\"http://www.w3.org/2000/svg\" height=\"24px\"viewBox=\"0 0 24 24\"\n",
       "     width=\"24px\">\n",
       "    <g>\n",
       "        <path d=\"M19 3H5c-1.1 0-2 .9-2 2v14c0 1.1.9 2 2 2h14c1.1 0 2-.9 2-2V5c0-1.1-.9-2-2-2zM9 17H7v-7h2v7zm4 0h-2V7h2v10zm4 0h-2v-4h2v4z\"/>\n",
       "    </g>\n",
       "</svg>\n",
       "  </button>\n",
       "\n",
       "<style>\n",
       "  .colab-df-quickchart {\n",
       "      --bg-color: #E8F0FE;\n",
       "      --fill-color: #1967D2;\n",
       "      --hover-bg-color: #E2EBFA;\n",
       "      --hover-fill-color: #174EA6;\n",
       "      --disabled-fill-color: #AAA;\n",
       "      --disabled-bg-color: #DDD;\n",
       "  }\n",
       "\n",
       "  [theme=dark] .colab-df-quickchart {\n",
       "      --bg-color: #3B4455;\n",
       "      --fill-color: #D2E3FC;\n",
       "      --hover-bg-color: #434B5C;\n",
       "      --hover-fill-color: #FFFFFF;\n",
       "      --disabled-bg-color: #3B4455;\n",
       "      --disabled-fill-color: #666;\n",
       "  }\n",
       "\n",
       "  .colab-df-quickchart {\n",
       "    background-color: var(--bg-color);\n",
       "    border: none;\n",
       "    border-radius: 50%;\n",
       "    cursor: pointer;\n",
       "    display: none;\n",
       "    fill: var(--fill-color);\n",
       "    height: 32px;\n",
       "    padding: 0;\n",
       "    width: 32px;\n",
       "  }\n",
       "\n",
       "  .colab-df-quickchart:hover {\n",
       "    background-color: var(--hover-bg-color);\n",
       "    box-shadow: 0 1px 2px rgba(60, 64, 67, 0.3), 0 1px 3px 1px rgba(60, 64, 67, 0.15);\n",
       "    fill: var(--button-hover-fill-color);\n",
       "  }\n",
       "\n",
       "  .colab-df-quickchart-complete:disabled,\n",
       "  .colab-df-quickchart-complete:disabled:hover {\n",
       "    background-color: var(--disabled-bg-color);\n",
       "    fill: var(--disabled-fill-color);\n",
       "    box-shadow: none;\n",
       "  }\n",
       "\n",
       "  .colab-df-spinner {\n",
       "    border: 2px solid var(--fill-color);\n",
       "    border-color: transparent;\n",
       "    border-bottom-color: var(--fill-color);\n",
       "    animation:\n",
       "      spin 1s steps(1) infinite;\n",
       "  }\n",
       "\n",
       "  @keyframes spin {\n",
       "    0% {\n",
       "      border-color: transparent;\n",
       "      border-bottom-color: var(--fill-color);\n",
       "      border-left-color: var(--fill-color);\n",
       "    }\n",
       "    20% {\n",
       "      border-color: transparent;\n",
       "      border-left-color: var(--fill-color);\n",
       "      border-top-color: var(--fill-color);\n",
       "    }\n",
       "    30% {\n",
       "      border-color: transparent;\n",
       "      border-left-color: var(--fill-color);\n",
       "      border-top-color: var(--fill-color);\n",
       "      border-right-color: var(--fill-color);\n",
       "    }\n",
       "    40% {\n",
       "      border-color: transparent;\n",
       "      border-right-color: var(--fill-color);\n",
       "      border-top-color: var(--fill-color);\n",
       "    }\n",
       "    60% {\n",
       "      border-color: transparent;\n",
       "      border-right-color: var(--fill-color);\n",
       "    }\n",
       "    80% {\n",
       "      border-color: transparent;\n",
       "      border-right-color: var(--fill-color);\n",
       "      border-bottom-color: var(--fill-color);\n",
       "    }\n",
       "    90% {\n",
       "      border-color: transparent;\n",
       "      border-bottom-color: var(--fill-color);\n",
       "    }\n",
       "  }\n",
       "</style>\n",
       "\n",
       "  <script>\n",
       "    async function quickchart(key) {\n",
       "      const quickchartButtonEl =\n",
       "        document.querySelector('#' + key + ' button');\n",
       "      quickchartButtonEl.disabled = true;  // To prevent multiple clicks.\n",
       "      quickchartButtonEl.classList.add('colab-df-spinner');\n",
       "      try {\n",
       "        const charts = await google.colab.kernel.invokeFunction(\n",
       "            'suggestCharts', [key], {});\n",
       "      } catch (error) {\n",
       "        console.error('Error during call to suggestCharts:', error);\n",
       "      }\n",
       "      quickchartButtonEl.classList.remove('colab-df-spinner');\n",
       "      quickchartButtonEl.classList.add('colab-df-quickchart-complete');\n",
       "    }\n",
       "    (() => {\n",
       "      let quickchartButtonEl =\n",
       "        document.querySelector('#df-c5de8910-7233-475f-8496-2362d863ffbc button');\n",
       "      quickchartButtonEl.style.display =\n",
       "        google.colab.kernel.accessAllowed ? 'block' : 'none';\n",
       "    })();\n",
       "  </script>\n",
       "</div>\n",
       "\n",
       "    </div>\n",
       "  </div>\n"
      ],
      "text/plain": [
       "               business_id                                         attributes\n",
       "1   mpf3x-BjTdTEA3yCZrAYPw             {'BusinessAcceptsCreditCards': 'True'}\n",
       "2   tUFrWirKiKi_TAnsVWINQQ  {'BikeParking': 'True', 'BusinessAcceptsCredit...\n",
       "10  UJsufbvfyfONHeWdvAHKjA  {'RestaurantsPriceRange2': '2', 'BikeParking':...\n",
       "37  mGFsPRHdE6SMV1gYQ6GzgQ  {'BusinessParking': '{'garage': False, 'street...\n",
       "44  mglME3E7esPSpIF5bias8w  {'RestaurantsPriceRange2': '3', 'BikeParking':..."
      ]
     },
     "execution_count": 14,
     "metadata": {},
     "output_type": "execute_result"
    }
   ],
   "source": [
    "attributes = business[['business_id', 'attributes']]\n",
    "attributes.head()"
   ]
  },
  {
   "cell_type": "markdown",
   "metadata": {
    "id": "8xMaDYBEC6_2"
   },
   "source": [
    "Elimino los registros `No Disponible` de esta tabla `attributes`"
   ]
  },
  {
   "cell_type": "code",
   "execution_count": null,
   "metadata": {
    "colab": {
     "base_uri": "https://localhost:8080/",
     "height": 206
    },
    "executionInfo": {
     "elapsed": 791,
     "status": "ok",
     "timestamp": 1730320051119,
     "user": {
      "displayName": "Aliskair Rodríguez",
      "userId": "18238624046305613189"
     },
     "user_tz": 240
    },
    "id": "UQEMvNj4DGGG",
    "outputId": "fab7b872-eeb3-448b-f98c-cac01d5a421a"
   },
   "outputs": [
    {
     "data": {
      "application/vnd.google.colaboratory.intrinsic+json": {
       "summary": "{\n  \"name\": \"attributes\",\n  \"rows\": 26576,\n  \"fields\": [\n    {\n      \"column\": \"business_id\",\n      \"properties\": {\n        \"dtype\": \"string\",\n        \"num_unique_values\": 26576,\n        \"samples\": [\n          \"4nr-pXYTCYFZyVEihV2BAw\",\n          \"negMN-LyGaRkELtB_3DNVA\",\n          \"zVI1qZY8_VjrIwg_nI36GQ\"\n        ],\n        \"semantic_type\": \"\",\n        \"description\": \"\"\n      }\n    },\n    {\n      \"column\": \"attributes\",\n      \"properties\": {\n        \"dtype\": \"object\",\n        \"semantic_type\": \"\",\n        \"description\": \"\"\n      }\n    }\n  ]\n}",
       "type": "dataframe",
       "variable_name": "attributes"
      },
      "text/html": [
       "\n",
       "  <div id=\"df-fb57c649-62b0-4f75-bd98-d2d0bf172230\" class=\"colab-df-container\">\n",
       "    <div>\n",
       "<style scoped>\n",
       "    .dataframe tbody tr th:only-of-type {\n",
       "        vertical-align: middle;\n",
       "    }\n",
       "\n",
       "    .dataframe tbody tr th {\n",
       "        vertical-align: top;\n",
       "    }\n",
       "\n",
       "    .dataframe thead th {\n",
       "        text-align: right;\n",
       "    }\n",
       "</style>\n",
       "<table border=\"1\" class=\"dataframe\">\n",
       "  <thead>\n",
       "    <tr style=\"text-align: right;\">\n",
       "      <th></th>\n",
       "      <th>business_id</th>\n",
       "      <th>attributes</th>\n",
       "    </tr>\n",
       "  </thead>\n",
       "  <tbody>\n",
       "    <tr>\n",
       "      <th>1</th>\n",
       "      <td>mpf3x-BjTdTEA3yCZrAYPw</td>\n",
       "      <td>{'BusinessAcceptsCreditCards': 'True'}</td>\n",
       "    </tr>\n",
       "    <tr>\n",
       "      <th>2</th>\n",
       "      <td>tUFrWirKiKi_TAnsVWINQQ</td>\n",
       "      <td>{'BikeParking': 'True', 'BusinessAcceptsCredit...</td>\n",
       "    </tr>\n",
       "    <tr>\n",
       "      <th>10</th>\n",
       "      <td>UJsufbvfyfONHeWdvAHKjA</td>\n",
       "      <td>{'RestaurantsPriceRange2': '2', 'BikeParking':...</td>\n",
       "    </tr>\n",
       "    <tr>\n",
       "      <th>37</th>\n",
       "      <td>mGFsPRHdE6SMV1gYQ6GzgQ</td>\n",
       "      <td>{'BusinessParking': '{'garage': False, 'street...</td>\n",
       "    </tr>\n",
       "    <tr>\n",
       "      <th>44</th>\n",
       "      <td>mglME3E7esPSpIF5bias8w</td>\n",
       "      <td>{'RestaurantsPriceRange2': '3', 'BikeParking':...</td>\n",
       "    </tr>\n",
       "  </tbody>\n",
       "</table>\n",
       "</div>\n",
       "    <div class=\"colab-df-buttons\">\n",
       "\n",
       "  <div class=\"colab-df-container\">\n",
       "    <button class=\"colab-df-convert\" onclick=\"convertToInteractive('df-fb57c649-62b0-4f75-bd98-d2d0bf172230')\"\n",
       "            title=\"Convert this dataframe to an interactive table.\"\n",
       "            style=\"display:none;\">\n",
       "\n",
       "  <svg xmlns=\"http://www.w3.org/2000/svg\" height=\"24px\" viewBox=\"0 -960 960 960\">\n",
       "    <path d=\"M120-120v-720h720v720H120Zm60-500h600v-160H180v160Zm220 220h160v-160H400v160Zm0 220h160v-160H400v160ZM180-400h160v-160H180v160Zm440 0h160v-160H620v160ZM180-180h160v-160H180v160Zm440 0h160v-160H620v160Z\"/>\n",
       "  </svg>\n",
       "    </button>\n",
       "\n",
       "  <style>\n",
       "    .colab-df-container {\n",
       "      display:flex;\n",
       "      gap: 12px;\n",
       "    }\n",
       "\n",
       "    .colab-df-convert {\n",
       "      background-color: #E8F0FE;\n",
       "      border: none;\n",
       "      border-radius: 50%;\n",
       "      cursor: pointer;\n",
       "      display: none;\n",
       "      fill: #1967D2;\n",
       "      height: 32px;\n",
       "      padding: 0 0 0 0;\n",
       "      width: 32px;\n",
       "    }\n",
       "\n",
       "    .colab-df-convert:hover {\n",
       "      background-color: #E2EBFA;\n",
       "      box-shadow: 0px 1px 2px rgba(60, 64, 67, 0.3), 0px 1px 3px 1px rgba(60, 64, 67, 0.15);\n",
       "      fill: #174EA6;\n",
       "    }\n",
       "\n",
       "    .colab-df-buttons div {\n",
       "      margin-bottom: 4px;\n",
       "    }\n",
       "\n",
       "    [theme=dark] .colab-df-convert {\n",
       "      background-color: #3B4455;\n",
       "      fill: #D2E3FC;\n",
       "    }\n",
       "\n",
       "    [theme=dark] .colab-df-convert:hover {\n",
       "      background-color: #434B5C;\n",
       "      box-shadow: 0px 1px 3px 1px rgba(0, 0, 0, 0.15);\n",
       "      filter: drop-shadow(0px 1px 2px rgba(0, 0, 0, 0.3));\n",
       "      fill: #FFFFFF;\n",
       "    }\n",
       "  </style>\n",
       "\n",
       "    <script>\n",
       "      const buttonEl =\n",
       "        document.querySelector('#df-fb57c649-62b0-4f75-bd98-d2d0bf172230 button.colab-df-convert');\n",
       "      buttonEl.style.display =\n",
       "        google.colab.kernel.accessAllowed ? 'block' : 'none';\n",
       "\n",
       "      async function convertToInteractive(key) {\n",
       "        const element = document.querySelector('#df-fb57c649-62b0-4f75-bd98-d2d0bf172230');\n",
       "        const dataTable =\n",
       "          await google.colab.kernel.invokeFunction('convertToInteractive',\n",
       "                                                    [key], {});\n",
       "        if (!dataTable) return;\n",
       "\n",
       "        const docLinkHtml = 'Like what you see? Visit the ' +\n",
       "          '<a target=\"_blank\" href=https://colab.research.google.com/notebooks/data_table.ipynb>data table notebook</a>'\n",
       "          + ' to learn more about interactive tables.';\n",
       "        element.innerHTML = '';\n",
       "        dataTable['output_type'] = 'display_data';\n",
       "        await google.colab.output.renderOutput(dataTable, element);\n",
       "        const docLink = document.createElement('div');\n",
       "        docLink.innerHTML = docLinkHtml;\n",
       "        element.appendChild(docLink);\n",
       "      }\n",
       "    </script>\n",
       "  </div>\n",
       "\n",
       "\n",
       "<div id=\"df-3de8881b-cc29-4180-b08c-b597dad0da1b\">\n",
       "  <button class=\"colab-df-quickchart\" onclick=\"quickchart('df-3de8881b-cc29-4180-b08c-b597dad0da1b')\"\n",
       "            title=\"Suggest charts\"\n",
       "            style=\"display:none;\">\n",
       "\n",
       "<svg xmlns=\"http://www.w3.org/2000/svg\" height=\"24px\"viewBox=\"0 0 24 24\"\n",
       "     width=\"24px\">\n",
       "    <g>\n",
       "        <path d=\"M19 3H5c-1.1 0-2 .9-2 2v14c0 1.1.9 2 2 2h14c1.1 0 2-.9 2-2V5c0-1.1-.9-2-2-2zM9 17H7v-7h2v7zm4 0h-2V7h2v10zm4 0h-2v-4h2v4z\"/>\n",
       "    </g>\n",
       "</svg>\n",
       "  </button>\n",
       "\n",
       "<style>\n",
       "  .colab-df-quickchart {\n",
       "      --bg-color: #E8F0FE;\n",
       "      --fill-color: #1967D2;\n",
       "      --hover-bg-color: #E2EBFA;\n",
       "      --hover-fill-color: #174EA6;\n",
       "      --disabled-fill-color: #AAA;\n",
       "      --disabled-bg-color: #DDD;\n",
       "  }\n",
       "\n",
       "  [theme=dark] .colab-df-quickchart {\n",
       "      --bg-color: #3B4455;\n",
       "      --fill-color: #D2E3FC;\n",
       "      --hover-bg-color: #434B5C;\n",
       "      --hover-fill-color: #FFFFFF;\n",
       "      --disabled-bg-color: #3B4455;\n",
       "      --disabled-fill-color: #666;\n",
       "  }\n",
       "\n",
       "  .colab-df-quickchart {\n",
       "    background-color: var(--bg-color);\n",
       "    border: none;\n",
       "    border-radius: 50%;\n",
       "    cursor: pointer;\n",
       "    display: none;\n",
       "    fill: var(--fill-color);\n",
       "    height: 32px;\n",
       "    padding: 0;\n",
       "    width: 32px;\n",
       "  }\n",
       "\n",
       "  .colab-df-quickchart:hover {\n",
       "    background-color: var(--hover-bg-color);\n",
       "    box-shadow: 0 1px 2px rgba(60, 64, 67, 0.3), 0 1px 3px 1px rgba(60, 64, 67, 0.15);\n",
       "    fill: var(--button-hover-fill-color);\n",
       "  }\n",
       "\n",
       "  .colab-df-quickchart-complete:disabled,\n",
       "  .colab-df-quickchart-complete:disabled:hover {\n",
       "    background-color: var(--disabled-bg-color);\n",
       "    fill: var(--disabled-fill-color);\n",
       "    box-shadow: none;\n",
       "  }\n",
       "\n",
       "  .colab-df-spinner {\n",
       "    border: 2px solid var(--fill-color);\n",
       "    border-color: transparent;\n",
       "    border-bottom-color: var(--fill-color);\n",
       "    animation:\n",
       "      spin 1s steps(1) infinite;\n",
       "  }\n",
       "\n",
       "  @keyframes spin {\n",
       "    0% {\n",
       "      border-color: transparent;\n",
       "      border-bottom-color: var(--fill-color);\n",
       "      border-left-color: var(--fill-color);\n",
       "    }\n",
       "    20% {\n",
       "      border-color: transparent;\n",
       "      border-left-color: var(--fill-color);\n",
       "      border-top-color: var(--fill-color);\n",
       "    }\n",
       "    30% {\n",
       "      border-color: transparent;\n",
       "      border-left-color: var(--fill-color);\n",
       "      border-top-color: var(--fill-color);\n",
       "      border-right-color: var(--fill-color);\n",
       "    }\n",
       "    40% {\n",
       "      border-color: transparent;\n",
       "      border-right-color: var(--fill-color);\n",
       "      border-top-color: var(--fill-color);\n",
       "    }\n",
       "    60% {\n",
       "      border-color: transparent;\n",
       "      border-right-color: var(--fill-color);\n",
       "    }\n",
       "    80% {\n",
       "      border-color: transparent;\n",
       "      border-right-color: var(--fill-color);\n",
       "      border-bottom-color: var(--fill-color);\n",
       "    }\n",
       "    90% {\n",
       "      border-color: transparent;\n",
       "      border-bottom-color: var(--fill-color);\n",
       "    }\n",
       "  }\n",
       "</style>\n",
       "\n",
       "  <script>\n",
       "    async function quickchart(key) {\n",
       "      const quickchartButtonEl =\n",
       "        document.querySelector('#' + key + ' button');\n",
       "      quickchartButtonEl.disabled = true;  // To prevent multiple clicks.\n",
       "      quickchartButtonEl.classList.add('colab-df-spinner');\n",
       "      try {\n",
       "        const charts = await google.colab.kernel.invokeFunction(\n",
       "            'suggestCharts', [key], {});\n",
       "      } catch (error) {\n",
       "        console.error('Error during call to suggestCharts:', error);\n",
       "      }\n",
       "      quickchartButtonEl.classList.remove('colab-df-spinner');\n",
       "      quickchartButtonEl.classList.add('colab-df-quickchart-complete');\n",
       "    }\n",
       "    (() => {\n",
       "      let quickchartButtonEl =\n",
       "        document.querySelector('#df-3de8881b-cc29-4180-b08c-b597dad0da1b button');\n",
       "      quickchartButtonEl.style.display =\n",
       "        google.colab.kernel.accessAllowed ? 'block' : 'none';\n",
       "    })();\n",
       "  </script>\n",
       "</div>\n",
       "\n",
       "    </div>\n",
       "  </div>\n"
      ],
      "text/plain": [
       "               business_id                                         attributes\n",
       "1   mpf3x-BjTdTEA3yCZrAYPw             {'BusinessAcceptsCreditCards': 'True'}\n",
       "2   tUFrWirKiKi_TAnsVWINQQ  {'BikeParking': 'True', 'BusinessAcceptsCredit...\n",
       "10  UJsufbvfyfONHeWdvAHKjA  {'RestaurantsPriceRange2': '2', 'BikeParking':...\n",
       "37  mGFsPRHdE6SMV1gYQ6GzgQ  {'BusinessParking': '{'garage': False, 'street...\n",
       "44  mglME3E7esPSpIF5bias8w  {'RestaurantsPriceRange2': '3', 'BikeParking':..."
      ]
     },
     "execution_count": 26,
     "metadata": {},
     "output_type": "execute_result"
    }
   ],
   "source": [
    "attributes = attributes[attributes['attributes'] != 'No Disponible']\n",
    "attributes.head()"
   ]
  },
  {
   "cell_type": "markdown",
   "metadata": {
    "id": "MAsHnWJZt2C8"
   },
   "source": [
    "Seguiré trabajando con la tabla `y_business`. Para ello debo borrar la columna `attribute`"
   ]
  },
  {
   "cell_type": "code",
   "execution_count": null,
   "metadata": {
    "colab": {
     "base_uri": "https://localhost:8080/",
     "height": 553
    },
    "executionInfo": {
     "elapsed": 519,
     "status": "ok",
     "timestamp": 1730229809296,
     "user": {
      "displayName": "Aliskair Rodríguez",
      "userId": "18238624046305613189"
     },
     "user_tz": 240
    },
    "id": "eyce2FecuMv7",
    "outputId": "9315ad40-3f6b-4ce6-e32e-82a16f32e345"
   },
   "outputs": [
    {
     "data": {
      "application/vnd.google.colaboratory.intrinsic+json": {
       "repr_error": "0",
       "type": "dataframe",
       "variable_name": "business"
      },
      "text/html": [
       "\n",
       "  <div id=\"df-983c2b51-4da0-4f72-8662-f2da72e7b906\" class=\"colab-df-container\">\n",
       "    <div>\n",
       "<style scoped>\n",
       "    .dataframe tbody tr th:only-of-type {\n",
       "        vertical-align: middle;\n",
       "    }\n",
       "\n",
       "    .dataframe tbody tr th {\n",
       "        vertical-align: top;\n",
       "    }\n",
       "\n",
       "    .dataframe thead th {\n",
       "        text-align: right;\n",
       "    }\n",
       "</style>\n",
       "<table border=\"1\" class=\"dataframe\">\n",
       "  <thead>\n",
       "    <tr style=\"text-align: right;\">\n",
       "      <th></th>\n",
       "      <th>business_id</th>\n",
       "      <th>name</th>\n",
       "      <th>address</th>\n",
       "      <th>city</th>\n",
       "      <th>state</th>\n",
       "      <th>postal_code</th>\n",
       "      <th>latitude</th>\n",
       "      <th>longitude</th>\n",
       "      <th>stars</th>\n",
       "      <th>review_count</th>\n",
       "      <th>is_open</th>\n",
       "      <th>hours</th>\n",
       "    </tr>\n",
       "  </thead>\n",
       "  <tbody>\n",
       "    <tr>\n",
       "      <th>1</th>\n",
       "      <td>mpf3x-BjTdTEA3yCZrAYPw</td>\n",
       "      <td>The UPS Store</td>\n",
       "      <td>87 Grasso Plaza Shopping Center</td>\n",
       "      <td>Affton</td>\n",
       "      <td>MO</td>\n",
       "      <td>63123</td>\n",
       "      <td>38.551126</td>\n",
       "      <td>-90.335695</td>\n",
       "      <td>3.0</td>\n",
       "      <td>15</td>\n",
       "      <td>1</td>\n",
       "      <td>{'Monday': '0:0-0:0', 'Tuesday': '8:0-18:30', ...</td>\n",
       "    </tr>\n",
       "    <tr>\n",
       "      <th>2</th>\n",
       "      <td>tUFrWirKiKi_TAnsVWINQQ</td>\n",
       "      <td>Target</td>\n",
       "      <td>5255 E Broadway Blvd</td>\n",
       "      <td>Tucson</td>\n",
       "      <td>AZ</td>\n",
       "      <td>85711</td>\n",
       "      <td>32.223236</td>\n",
       "      <td>-110.880452</td>\n",
       "      <td>3.5</td>\n",
       "      <td>22</td>\n",
       "      <td>0</td>\n",
       "      <td>{'Monday': '8:0-22:0', 'Tuesday': '8:0-22:0', ...</td>\n",
       "    </tr>\n",
       "    <tr>\n",
       "      <th>10</th>\n",
       "      <td>UJsufbvfyfONHeWdvAHKjA</td>\n",
       "      <td>Marshalls</td>\n",
       "      <td>21705 Village Lakes Sc Dr</td>\n",
       "      <td>Land O' Lakes</td>\n",
       "      <td>FL</td>\n",
       "      <td>34639</td>\n",
       "      <td>28.190459</td>\n",
       "      <td>-82.45738</td>\n",
       "      <td>3.5</td>\n",
       "      <td>6</td>\n",
       "      <td>1</td>\n",
       "      <td>{'Monday': '9:30-21:30', 'Tuesday': '9:30-21:3...</td>\n",
       "    </tr>\n",
       "    <tr>\n",
       "      <th>37</th>\n",
       "      <td>mGFsPRHdE6SMV1gYQ6GzgQ</td>\n",
       "      <td>T-Mobile</td>\n",
       "      <td>4735 Concord Pike</td>\n",
       "      <td>Wilmington</td>\n",
       "      <td>DE</td>\n",
       "      <td>19803</td>\n",
       "      <td>39.822176</td>\n",
       "      <td>-75.546007</td>\n",
       "      <td>2.0</td>\n",
       "      <td>6</td>\n",
       "      <td>1</td>\n",
       "      <td>{'Monday': '0:0-0:0', 'Tuesday': '10:0-20:0', ...</td>\n",
       "    </tr>\n",
       "    <tr>\n",
       "      <th>44</th>\n",
       "      <td>mglME3E7esPSpIF5bias8w</td>\n",
       "      <td>Pier 1</td>\n",
       "      <td>1014 Baltimore Pike</td>\n",
       "      <td>Springfield</td>\n",
       "      <td>PA</td>\n",
       "      <td>19064</td>\n",
       "      <td>39.91527</td>\n",
       "      <td>-75.342681</td>\n",
       "      <td>2.5</td>\n",
       "      <td>8</td>\n",
       "      <td>0</td>\n",
       "      <td>{'Monday': '10:0-20:0', 'Tuesday': '10:0-20:0'...</td>\n",
       "    </tr>\n",
       "  </tbody>\n",
       "</table>\n",
       "</div>\n",
       "    <div class=\"colab-df-buttons\">\n",
       "\n",
       "  <div class=\"colab-df-container\">\n",
       "    <button class=\"colab-df-convert\" onclick=\"convertToInteractive('df-983c2b51-4da0-4f72-8662-f2da72e7b906')\"\n",
       "            title=\"Convert this dataframe to an interactive table.\"\n",
       "            style=\"display:none;\">\n",
       "\n",
       "  <svg xmlns=\"http://www.w3.org/2000/svg\" height=\"24px\" viewBox=\"0 -960 960 960\">\n",
       "    <path d=\"M120-120v-720h720v720H120Zm60-500h600v-160H180v160Zm220 220h160v-160H400v160Zm0 220h160v-160H400v160ZM180-400h160v-160H180v160Zm440 0h160v-160H620v160ZM180-180h160v-160H180v160Zm440 0h160v-160H620v160Z\"/>\n",
       "  </svg>\n",
       "    </button>\n",
       "\n",
       "  <style>\n",
       "    .colab-df-container {\n",
       "      display:flex;\n",
       "      gap: 12px;\n",
       "    }\n",
       "\n",
       "    .colab-df-convert {\n",
       "      background-color: #E8F0FE;\n",
       "      border: none;\n",
       "      border-radius: 50%;\n",
       "      cursor: pointer;\n",
       "      display: none;\n",
       "      fill: #1967D2;\n",
       "      height: 32px;\n",
       "      padding: 0 0 0 0;\n",
       "      width: 32px;\n",
       "    }\n",
       "\n",
       "    .colab-df-convert:hover {\n",
       "      background-color: #E2EBFA;\n",
       "      box-shadow: 0px 1px 2px rgba(60, 64, 67, 0.3), 0px 1px 3px 1px rgba(60, 64, 67, 0.15);\n",
       "      fill: #174EA6;\n",
       "    }\n",
       "\n",
       "    .colab-df-buttons div {\n",
       "      margin-bottom: 4px;\n",
       "    }\n",
       "\n",
       "    [theme=dark] .colab-df-convert {\n",
       "      background-color: #3B4455;\n",
       "      fill: #D2E3FC;\n",
       "    }\n",
       "\n",
       "    [theme=dark] .colab-df-convert:hover {\n",
       "      background-color: #434B5C;\n",
       "      box-shadow: 0px 1px 3px 1px rgba(0, 0, 0, 0.15);\n",
       "      filter: drop-shadow(0px 1px 2px rgba(0, 0, 0, 0.3));\n",
       "      fill: #FFFFFF;\n",
       "    }\n",
       "  </style>\n",
       "\n",
       "    <script>\n",
       "      const buttonEl =\n",
       "        document.querySelector('#df-983c2b51-4da0-4f72-8662-f2da72e7b906 button.colab-df-convert');\n",
       "      buttonEl.style.display =\n",
       "        google.colab.kernel.accessAllowed ? 'block' : 'none';\n",
       "\n",
       "      async function convertToInteractive(key) {\n",
       "        const element = document.querySelector('#df-983c2b51-4da0-4f72-8662-f2da72e7b906');\n",
       "        const dataTable =\n",
       "          await google.colab.kernel.invokeFunction('convertToInteractive',\n",
       "                                                    [key], {});\n",
       "        if (!dataTable) return;\n",
       "\n",
       "        const docLinkHtml = 'Like what you see? Visit the ' +\n",
       "          '<a target=\"_blank\" href=https://colab.research.google.com/notebooks/data_table.ipynb>data table notebook</a>'\n",
       "          + ' to learn more about interactive tables.';\n",
       "        element.innerHTML = '';\n",
       "        dataTable['output_type'] = 'display_data';\n",
       "        await google.colab.output.renderOutput(dataTable, element);\n",
       "        const docLink = document.createElement('div');\n",
       "        docLink.innerHTML = docLinkHtml;\n",
       "        element.appendChild(docLink);\n",
       "      }\n",
       "    </script>\n",
       "  </div>\n",
       "\n",
       "\n",
       "<div id=\"df-34a46d48-1119-43ee-90b6-292267095e2b\">\n",
       "  <button class=\"colab-df-quickchart\" onclick=\"quickchart('df-34a46d48-1119-43ee-90b6-292267095e2b')\"\n",
       "            title=\"Suggest charts\"\n",
       "            style=\"display:none;\">\n",
       "\n",
       "<svg xmlns=\"http://www.w3.org/2000/svg\" height=\"24px\"viewBox=\"0 0 24 24\"\n",
       "     width=\"24px\">\n",
       "    <g>\n",
       "        <path d=\"M19 3H5c-1.1 0-2 .9-2 2v14c0 1.1.9 2 2 2h14c1.1 0 2-.9 2-2V5c0-1.1-.9-2-2-2zM9 17H7v-7h2v7zm4 0h-2V7h2v10zm4 0h-2v-4h2v4z\"/>\n",
       "    </g>\n",
       "</svg>\n",
       "  </button>\n",
       "\n",
       "<style>\n",
       "  .colab-df-quickchart {\n",
       "      --bg-color: #E8F0FE;\n",
       "      --fill-color: #1967D2;\n",
       "      --hover-bg-color: #E2EBFA;\n",
       "      --hover-fill-color: #174EA6;\n",
       "      --disabled-fill-color: #AAA;\n",
       "      --disabled-bg-color: #DDD;\n",
       "  }\n",
       "\n",
       "  [theme=dark] .colab-df-quickchart {\n",
       "      --bg-color: #3B4455;\n",
       "      --fill-color: #D2E3FC;\n",
       "      --hover-bg-color: #434B5C;\n",
       "      --hover-fill-color: #FFFFFF;\n",
       "      --disabled-bg-color: #3B4455;\n",
       "      --disabled-fill-color: #666;\n",
       "  }\n",
       "\n",
       "  .colab-df-quickchart {\n",
       "    background-color: var(--bg-color);\n",
       "    border: none;\n",
       "    border-radius: 50%;\n",
       "    cursor: pointer;\n",
       "    display: none;\n",
       "    fill: var(--fill-color);\n",
       "    height: 32px;\n",
       "    padding: 0;\n",
       "    width: 32px;\n",
       "  }\n",
       "\n",
       "  .colab-df-quickchart:hover {\n",
       "    background-color: var(--hover-bg-color);\n",
       "    box-shadow: 0 1px 2px rgba(60, 64, 67, 0.3), 0 1px 3px 1px rgba(60, 64, 67, 0.15);\n",
       "    fill: var(--button-hover-fill-color);\n",
       "  }\n",
       "\n",
       "  .colab-df-quickchart-complete:disabled,\n",
       "  .colab-df-quickchart-complete:disabled:hover {\n",
       "    background-color: var(--disabled-bg-color);\n",
       "    fill: var(--disabled-fill-color);\n",
       "    box-shadow: none;\n",
       "  }\n",
       "\n",
       "  .colab-df-spinner {\n",
       "    border: 2px solid var(--fill-color);\n",
       "    border-color: transparent;\n",
       "    border-bottom-color: var(--fill-color);\n",
       "    animation:\n",
       "      spin 1s steps(1) infinite;\n",
       "  }\n",
       "\n",
       "  @keyframes spin {\n",
       "    0% {\n",
       "      border-color: transparent;\n",
       "      border-bottom-color: var(--fill-color);\n",
       "      border-left-color: var(--fill-color);\n",
       "    }\n",
       "    20% {\n",
       "      border-color: transparent;\n",
       "      border-left-color: var(--fill-color);\n",
       "      border-top-color: var(--fill-color);\n",
       "    }\n",
       "    30% {\n",
       "      border-color: transparent;\n",
       "      border-left-color: var(--fill-color);\n",
       "      border-top-color: var(--fill-color);\n",
       "      border-right-color: var(--fill-color);\n",
       "    }\n",
       "    40% {\n",
       "      border-color: transparent;\n",
       "      border-right-color: var(--fill-color);\n",
       "      border-top-color: var(--fill-color);\n",
       "    }\n",
       "    60% {\n",
       "      border-color: transparent;\n",
       "      border-right-color: var(--fill-color);\n",
       "    }\n",
       "    80% {\n",
       "      border-color: transparent;\n",
       "      border-right-color: var(--fill-color);\n",
       "      border-bottom-color: var(--fill-color);\n",
       "    }\n",
       "    90% {\n",
       "      border-color: transparent;\n",
       "      border-bottom-color: var(--fill-color);\n",
       "    }\n",
       "  }\n",
       "</style>\n",
       "\n",
       "  <script>\n",
       "    async function quickchart(key) {\n",
       "      const quickchartButtonEl =\n",
       "        document.querySelector('#' + key + ' button');\n",
       "      quickchartButtonEl.disabled = true;  // To prevent multiple clicks.\n",
       "      quickchartButtonEl.classList.add('colab-df-spinner');\n",
       "      try {\n",
       "        const charts = await google.colab.kernel.invokeFunction(\n",
       "            'suggestCharts', [key], {});\n",
       "      } catch (error) {\n",
       "        console.error('Error during call to suggestCharts:', error);\n",
       "      }\n",
       "      quickchartButtonEl.classList.remove('colab-df-spinner');\n",
       "      quickchartButtonEl.classList.add('colab-df-quickchart-complete');\n",
       "    }\n",
       "    (() => {\n",
       "      let quickchartButtonEl =\n",
       "        document.querySelector('#df-34a46d48-1119-43ee-90b6-292267095e2b button');\n",
       "      quickchartButtonEl.style.display =\n",
       "        google.colab.kernel.accessAllowed ? 'block' : 'none';\n",
       "    })();\n",
       "  </script>\n",
       "</div>\n",
       "\n",
       "    </div>\n",
       "  </div>\n"
      ],
      "text/plain": [
       "               business_id           name                          address  \\\n",
       "1   mpf3x-BjTdTEA3yCZrAYPw  The UPS Store  87 Grasso Plaza Shopping Center   \n",
       "2   tUFrWirKiKi_TAnsVWINQQ         Target             5255 E Broadway Blvd   \n",
       "10  UJsufbvfyfONHeWdvAHKjA      Marshalls        21705 Village Lakes Sc Dr   \n",
       "37  mGFsPRHdE6SMV1gYQ6GzgQ       T-Mobile                4735 Concord Pike   \n",
       "44  mglME3E7esPSpIF5bias8w         Pier 1              1014 Baltimore Pike   \n",
       "\n",
       "             city state postal_code   latitude   longitude stars review_count  \\\n",
       "1          Affton    MO       63123  38.551126  -90.335695   3.0           15   \n",
       "2          Tucson    AZ       85711  32.223236 -110.880452   3.5           22   \n",
       "10  Land O' Lakes    FL       34639  28.190459   -82.45738   3.5            6   \n",
       "37     Wilmington    DE       19803  39.822176  -75.546007   2.0            6   \n",
       "44    Springfield    PA       19064   39.91527  -75.342681   2.5            8   \n",
       "\n",
       "   is_open                                              hours  \n",
       "1        1  {'Monday': '0:0-0:0', 'Tuesday': '8:0-18:30', ...  \n",
       "2        0  {'Monday': '8:0-22:0', 'Tuesday': '8:0-22:0', ...  \n",
       "10       1  {'Monday': '9:30-21:30', 'Tuesday': '9:30-21:3...  \n",
       "37       1  {'Monday': '0:0-0:0', 'Tuesday': '10:0-20:0', ...  \n",
       "44       0  {'Monday': '10:0-20:0', 'Tuesday': '10:0-20:0'...  "
      ]
     },
     "execution_count": 40,
     "metadata": {},
     "output_type": "execute_result"
    }
   ],
   "source": [
    "business = business.drop(columns=['attributes'])\n",
    "business.head()"
   ]
  },
  {
   "cell_type": "markdown",
   "metadata": {
    "id": "62KC9OhJvAhC"
   },
   "source": [
    "Debo crear una funcion que retorne los Horarios de los distintos dias"
   ]
  },
  {
   "cell_type": "code",
   "execution_count": null,
   "metadata": {
    "id": "9gfUb9t9vJF6"
   },
   "outputs": [],
   "source": [
    "def retornar_horario(data:dict|str, dia:str) -> str:\n",
    "  \"\"\"\n",
    "  retornar_horario: Recibe el diccionario con los horario y el dia en question y\n",
    "                    devuelve el horario de ese dia\n",
    "  Args:\n",
    "      data (dict | str): Diccionario de Horarios | string en caso \"No Disponible\"\n",
    "      dia (str): Dia del que se quiere el horario\n",
    "\n",
    "  Returns:\n",
    "      str: Horario del dia preguntado\n",
    "  \"\"\"\n",
    "  if data == 'No Disponible':\n",
    "    return 'No Disponible'\n",
    "  else:\n",
    "    if dia in data.keys():\n",
    "      return data[dia]\n",
    "    else:\n",
    "      return \"No Disponible\""
   ]
  },
  {
   "cell_type": "markdown",
   "metadata": {
    "id": "84CX6BXhvQNl"
   },
   "source": [
    "Creando las Columnas de los distintos dias"
   ]
  },
  {
   "cell_type": "code",
   "execution_count": null,
   "metadata": {
    "colab": {
     "base_uri": "https://localhost:8080/",
     "height": 608
    },
    "executionInfo": {
     "elapsed": 516,
     "status": "ok",
     "timestamp": 1730230162991,
     "user": {
      "displayName": "Aliskair Rodríguez",
      "userId": "18238624046305613189"
     },
     "user_tz": 240
    },
    "id": "m_0Z8rW9vQmD",
    "outputId": "17b07cc9-adbb-41d3-9489-d4d19cfb6851"
   },
   "outputs": [
    {
     "data": {
      "application/vnd.google.colaboratory.intrinsic+json": {
       "repr_error": "0",
       "type": "dataframe",
       "variable_name": "business"
      },
      "text/html": [
       "\n",
       "  <div id=\"df-2068a80b-9b40-4ebb-8345-2ea14f779b05\" class=\"colab-df-container\">\n",
       "    <div>\n",
       "<style scoped>\n",
       "    .dataframe tbody tr th:only-of-type {\n",
       "        vertical-align: middle;\n",
       "    }\n",
       "\n",
       "    .dataframe tbody tr th {\n",
       "        vertical-align: top;\n",
       "    }\n",
       "\n",
       "    .dataframe thead th {\n",
       "        text-align: right;\n",
       "    }\n",
       "</style>\n",
       "<table border=\"1\" class=\"dataframe\">\n",
       "  <thead>\n",
       "    <tr style=\"text-align: right;\">\n",
       "      <th></th>\n",
       "      <th>business_id</th>\n",
       "      <th>name</th>\n",
       "      <th>address</th>\n",
       "      <th>city</th>\n",
       "      <th>state</th>\n",
       "      <th>postal_code</th>\n",
       "      <th>latitude</th>\n",
       "      <th>longitude</th>\n",
       "      <th>stars</th>\n",
       "      <th>review_count</th>\n",
       "      <th>is_open</th>\n",
       "      <th>hours</th>\n",
       "      <th>monday</th>\n",
       "      <th>tuesday</th>\n",
       "      <th>wednesday</th>\n",
       "      <th>thursday</th>\n",
       "      <th>friday</th>\n",
       "      <th>saturday</th>\n",
       "      <th>sunday</th>\n",
       "    </tr>\n",
       "  </thead>\n",
       "  <tbody>\n",
       "    <tr>\n",
       "      <th>1</th>\n",
       "      <td>mpf3x-BjTdTEA3yCZrAYPw</td>\n",
       "      <td>The UPS Store</td>\n",
       "      <td>87 Grasso Plaza Shopping Center</td>\n",
       "      <td>Affton</td>\n",
       "      <td>MO</td>\n",
       "      <td>63123</td>\n",
       "      <td>38.551126</td>\n",
       "      <td>-90.335695</td>\n",
       "      <td>3.0</td>\n",
       "      <td>15</td>\n",
       "      <td>1</td>\n",
       "      <td>{'Monday': '0:0-0:0', 'Tuesday': '8:0-18:30', ...</td>\n",
       "      <td>0:0-0:0</td>\n",
       "      <td>8:0-18:30</td>\n",
       "      <td>8:0-18:30</td>\n",
       "      <td>8:0-18:30</td>\n",
       "      <td>8:0-18:30</td>\n",
       "      <td>8:0-14:0</td>\n",
       "      <td>No Disponible</td>\n",
       "    </tr>\n",
       "    <tr>\n",
       "      <th>2</th>\n",
       "      <td>tUFrWirKiKi_TAnsVWINQQ</td>\n",
       "      <td>Target</td>\n",
       "      <td>5255 E Broadway Blvd</td>\n",
       "      <td>Tucson</td>\n",
       "      <td>AZ</td>\n",
       "      <td>85711</td>\n",
       "      <td>32.223236</td>\n",
       "      <td>-110.880452</td>\n",
       "      <td>3.5</td>\n",
       "      <td>22</td>\n",
       "      <td>0</td>\n",
       "      <td>{'Monday': '8:0-22:0', 'Tuesday': '8:0-22:0', ...</td>\n",
       "      <td>8:0-22:0</td>\n",
       "      <td>8:0-22:0</td>\n",
       "      <td>8:0-22:0</td>\n",
       "      <td>8:0-22:0</td>\n",
       "      <td>8:0-23:0</td>\n",
       "      <td>8:0-23:0</td>\n",
       "      <td>8:0-22:0</td>\n",
       "    </tr>\n",
       "    <tr>\n",
       "      <th>10</th>\n",
       "      <td>UJsufbvfyfONHeWdvAHKjA</td>\n",
       "      <td>Marshalls</td>\n",
       "      <td>21705 Village Lakes Sc Dr</td>\n",
       "      <td>Land O' Lakes</td>\n",
       "      <td>FL</td>\n",
       "      <td>34639</td>\n",
       "      <td>28.190459</td>\n",
       "      <td>-82.45738</td>\n",
       "      <td>3.5</td>\n",
       "      <td>6</td>\n",
       "      <td>1</td>\n",
       "      <td>{'Monday': '9:30-21:30', 'Tuesday': '9:30-21:3...</td>\n",
       "      <td>9:30-21:30</td>\n",
       "      <td>9:30-21:30</td>\n",
       "      <td>9:30-21:30</td>\n",
       "      <td>9:30-21:30</td>\n",
       "      <td>9:30-21:30</td>\n",
       "      <td>9:30-21:30</td>\n",
       "      <td>10:0-20:0</td>\n",
       "    </tr>\n",
       "    <tr>\n",
       "      <th>37</th>\n",
       "      <td>mGFsPRHdE6SMV1gYQ6GzgQ</td>\n",
       "      <td>T-Mobile</td>\n",
       "      <td>4735 Concord Pike</td>\n",
       "      <td>Wilmington</td>\n",
       "      <td>DE</td>\n",
       "      <td>19803</td>\n",
       "      <td>39.822176</td>\n",
       "      <td>-75.546007</td>\n",
       "      <td>2.0</td>\n",
       "      <td>6</td>\n",
       "      <td>1</td>\n",
       "      <td>{'Monday': '0:0-0:0', 'Tuesday': '10:0-20:0', ...</td>\n",
       "      <td>0:0-0:0</td>\n",
       "      <td>10:0-20:0</td>\n",
       "      <td>10:0-20:0</td>\n",
       "      <td>10:0-20:0</td>\n",
       "      <td>10:0-20:0</td>\n",
       "      <td>10:0-20:0</td>\n",
       "      <td>11:0-18:0</td>\n",
       "    </tr>\n",
       "    <tr>\n",
       "      <th>44</th>\n",
       "      <td>mglME3E7esPSpIF5bias8w</td>\n",
       "      <td>Pier 1</td>\n",
       "      <td>1014 Baltimore Pike</td>\n",
       "      <td>Springfield</td>\n",
       "      <td>PA</td>\n",
       "      <td>19064</td>\n",
       "      <td>39.91527</td>\n",
       "      <td>-75.342681</td>\n",
       "      <td>2.5</td>\n",
       "      <td>8</td>\n",
       "      <td>0</td>\n",
       "      <td>{'Monday': '10:0-20:0', 'Tuesday': '10:0-20:0'...</td>\n",
       "      <td>10:0-20:0</td>\n",
       "      <td>10:0-20:0</td>\n",
       "      <td>10:0-20:0</td>\n",
       "      <td>10:0-20:0</td>\n",
       "      <td>10:0-21:0</td>\n",
       "      <td>10:0-21:0</td>\n",
       "      <td>11:0-19:0</td>\n",
       "    </tr>\n",
       "  </tbody>\n",
       "</table>\n",
       "</div>\n",
       "    <div class=\"colab-df-buttons\">\n",
       "\n",
       "  <div class=\"colab-df-container\">\n",
       "    <button class=\"colab-df-convert\" onclick=\"convertToInteractive('df-2068a80b-9b40-4ebb-8345-2ea14f779b05')\"\n",
       "            title=\"Convert this dataframe to an interactive table.\"\n",
       "            style=\"display:none;\">\n",
       "\n",
       "  <svg xmlns=\"http://www.w3.org/2000/svg\" height=\"24px\" viewBox=\"0 -960 960 960\">\n",
       "    <path d=\"M120-120v-720h720v720H120Zm60-500h600v-160H180v160Zm220 220h160v-160H400v160Zm0 220h160v-160H400v160ZM180-400h160v-160H180v160Zm440 0h160v-160H620v160ZM180-180h160v-160H180v160Zm440 0h160v-160H620v160Z\"/>\n",
       "  </svg>\n",
       "    </button>\n",
       "\n",
       "  <style>\n",
       "    .colab-df-container {\n",
       "      display:flex;\n",
       "      gap: 12px;\n",
       "    }\n",
       "\n",
       "    .colab-df-convert {\n",
       "      background-color: #E8F0FE;\n",
       "      border: none;\n",
       "      border-radius: 50%;\n",
       "      cursor: pointer;\n",
       "      display: none;\n",
       "      fill: #1967D2;\n",
       "      height: 32px;\n",
       "      padding: 0 0 0 0;\n",
       "      width: 32px;\n",
       "    }\n",
       "\n",
       "    .colab-df-convert:hover {\n",
       "      background-color: #E2EBFA;\n",
       "      box-shadow: 0px 1px 2px rgba(60, 64, 67, 0.3), 0px 1px 3px 1px rgba(60, 64, 67, 0.15);\n",
       "      fill: #174EA6;\n",
       "    }\n",
       "\n",
       "    .colab-df-buttons div {\n",
       "      margin-bottom: 4px;\n",
       "    }\n",
       "\n",
       "    [theme=dark] .colab-df-convert {\n",
       "      background-color: #3B4455;\n",
       "      fill: #D2E3FC;\n",
       "    }\n",
       "\n",
       "    [theme=dark] .colab-df-convert:hover {\n",
       "      background-color: #434B5C;\n",
       "      box-shadow: 0px 1px 3px 1px rgba(0, 0, 0, 0.15);\n",
       "      filter: drop-shadow(0px 1px 2px rgba(0, 0, 0, 0.3));\n",
       "      fill: #FFFFFF;\n",
       "    }\n",
       "  </style>\n",
       "\n",
       "    <script>\n",
       "      const buttonEl =\n",
       "        document.querySelector('#df-2068a80b-9b40-4ebb-8345-2ea14f779b05 button.colab-df-convert');\n",
       "      buttonEl.style.display =\n",
       "        google.colab.kernel.accessAllowed ? 'block' : 'none';\n",
       "\n",
       "      async function convertToInteractive(key) {\n",
       "        const element = document.querySelector('#df-2068a80b-9b40-4ebb-8345-2ea14f779b05');\n",
       "        const dataTable =\n",
       "          await google.colab.kernel.invokeFunction('convertToInteractive',\n",
       "                                                    [key], {});\n",
       "        if (!dataTable) return;\n",
       "\n",
       "        const docLinkHtml = 'Like what you see? Visit the ' +\n",
       "          '<a target=\"_blank\" href=https://colab.research.google.com/notebooks/data_table.ipynb>data table notebook</a>'\n",
       "          + ' to learn more about interactive tables.';\n",
       "        element.innerHTML = '';\n",
       "        dataTable['output_type'] = 'display_data';\n",
       "        await google.colab.output.renderOutput(dataTable, element);\n",
       "        const docLink = document.createElement('div');\n",
       "        docLink.innerHTML = docLinkHtml;\n",
       "        element.appendChild(docLink);\n",
       "      }\n",
       "    </script>\n",
       "  </div>\n",
       "\n",
       "\n",
       "<div id=\"df-f07f8ea5-dcd0-4238-93a5-d1eda544302f\">\n",
       "  <button class=\"colab-df-quickchart\" onclick=\"quickchart('df-f07f8ea5-dcd0-4238-93a5-d1eda544302f')\"\n",
       "            title=\"Suggest charts\"\n",
       "            style=\"display:none;\">\n",
       "\n",
       "<svg xmlns=\"http://www.w3.org/2000/svg\" height=\"24px\"viewBox=\"0 0 24 24\"\n",
       "     width=\"24px\">\n",
       "    <g>\n",
       "        <path d=\"M19 3H5c-1.1 0-2 .9-2 2v14c0 1.1.9 2 2 2h14c1.1 0 2-.9 2-2V5c0-1.1-.9-2-2-2zM9 17H7v-7h2v7zm4 0h-2V7h2v10zm4 0h-2v-4h2v4z\"/>\n",
       "    </g>\n",
       "</svg>\n",
       "  </button>\n",
       "\n",
       "<style>\n",
       "  .colab-df-quickchart {\n",
       "      --bg-color: #E8F0FE;\n",
       "      --fill-color: #1967D2;\n",
       "      --hover-bg-color: #E2EBFA;\n",
       "      --hover-fill-color: #174EA6;\n",
       "      --disabled-fill-color: #AAA;\n",
       "      --disabled-bg-color: #DDD;\n",
       "  }\n",
       "\n",
       "  [theme=dark] .colab-df-quickchart {\n",
       "      --bg-color: #3B4455;\n",
       "      --fill-color: #D2E3FC;\n",
       "      --hover-bg-color: #434B5C;\n",
       "      --hover-fill-color: #FFFFFF;\n",
       "      --disabled-bg-color: #3B4455;\n",
       "      --disabled-fill-color: #666;\n",
       "  }\n",
       "\n",
       "  .colab-df-quickchart {\n",
       "    background-color: var(--bg-color);\n",
       "    border: none;\n",
       "    border-radius: 50%;\n",
       "    cursor: pointer;\n",
       "    display: none;\n",
       "    fill: var(--fill-color);\n",
       "    height: 32px;\n",
       "    padding: 0;\n",
       "    width: 32px;\n",
       "  }\n",
       "\n",
       "  .colab-df-quickchart:hover {\n",
       "    background-color: var(--hover-bg-color);\n",
       "    box-shadow: 0 1px 2px rgba(60, 64, 67, 0.3), 0 1px 3px 1px rgba(60, 64, 67, 0.15);\n",
       "    fill: var(--button-hover-fill-color);\n",
       "  }\n",
       "\n",
       "  .colab-df-quickchart-complete:disabled,\n",
       "  .colab-df-quickchart-complete:disabled:hover {\n",
       "    background-color: var(--disabled-bg-color);\n",
       "    fill: var(--disabled-fill-color);\n",
       "    box-shadow: none;\n",
       "  }\n",
       "\n",
       "  .colab-df-spinner {\n",
       "    border: 2px solid var(--fill-color);\n",
       "    border-color: transparent;\n",
       "    border-bottom-color: var(--fill-color);\n",
       "    animation:\n",
       "      spin 1s steps(1) infinite;\n",
       "  }\n",
       "\n",
       "  @keyframes spin {\n",
       "    0% {\n",
       "      border-color: transparent;\n",
       "      border-bottom-color: var(--fill-color);\n",
       "      border-left-color: var(--fill-color);\n",
       "    }\n",
       "    20% {\n",
       "      border-color: transparent;\n",
       "      border-left-color: var(--fill-color);\n",
       "      border-top-color: var(--fill-color);\n",
       "    }\n",
       "    30% {\n",
       "      border-color: transparent;\n",
       "      border-left-color: var(--fill-color);\n",
       "      border-top-color: var(--fill-color);\n",
       "      border-right-color: var(--fill-color);\n",
       "    }\n",
       "    40% {\n",
       "      border-color: transparent;\n",
       "      border-right-color: var(--fill-color);\n",
       "      border-top-color: var(--fill-color);\n",
       "    }\n",
       "    60% {\n",
       "      border-color: transparent;\n",
       "      border-right-color: var(--fill-color);\n",
       "    }\n",
       "    80% {\n",
       "      border-color: transparent;\n",
       "      border-right-color: var(--fill-color);\n",
       "      border-bottom-color: var(--fill-color);\n",
       "    }\n",
       "    90% {\n",
       "      border-color: transparent;\n",
       "      border-bottom-color: var(--fill-color);\n",
       "    }\n",
       "  }\n",
       "</style>\n",
       "\n",
       "  <script>\n",
       "    async function quickchart(key) {\n",
       "      const quickchartButtonEl =\n",
       "        document.querySelector('#' + key + ' button');\n",
       "      quickchartButtonEl.disabled = true;  // To prevent multiple clicks.\n",
       "      quickchartButtonEl.classList.add('colab-df-spinner');\n",
       "      try {\n",
       "        const charts = await google.colab.kernel.invokeFunction(\n",
       "            'suggestCharts', [key], {});\n",
       "      } catch (error) {\n",
       "        console.error('Error during call to suggestCharts:', error);\n",
       "      }\n",
       "      quickchartButtonEl.classList.remove('colab-df-spinner');\n",
       "      quickchartButtonEl.classList.add('colab-df-quickchart-complete');\n",
       "    }\n",
       "    (() => {\n",
       "      let quickchartButtonEl =\n",
       "        document.querySelector('#df-f07f8ea5-dcd0-4238-93a5-d1eda544302f button');\n",
       "      quickchartButtonEl.style.display =\n",
       "        google.colab.kernel.accessAllowed ? 'block' : 'none';\n",
       "    })();\n",
       "  </script>\n",
       "</div>\n",
       "\n",
       "    </div>\n",
       "  </div>\n"
      ],
      "text/plain": [
       "               business_id           name                          address  \\\n",
       "1   mpf3x-BjTdTEA3yCZrAYPw  The UPS Store  87 Grasso Plaza Shopping Center   \n",
       "2   tUFrWirKiKi_TAnsVWINQQ         Target             5255 E Broadway Blvd   \n",
       "10  UJsufbvfyfONHeWdvAHKjA      Marshalls        21705 Village Lakes Sc Dr   \n",
       "37  mGFsPRHdE6SMV1gYQ6GzgQ       T-Mobile                4735 Concord Pike   \n",
       "44  mglME3E7esPSpIF5bias8w         Pier 1              1014 Baltimore Pike   \n",
       "\n",
       "             city state postal_code   latitude   longitude stars review_count  \\\n",
       "1          Affton    MO       63123  38.551126  -90.335695   3.0           15   \n",
       "2          Tucson    AZ       85711  32.223236 -110.880452   3.5           22   \n",
       "10  Land O' Lakes    FL       34639  28.190459   -82.45738   3.5            6   \n",
       "37     Wilmington    DE       19803  39.822176  -75.546007   2.0            6   \n",
       "44    Springfield    PA       19064   39.91527  -75.342681   2.5            8   \n",
       "\n",
       "   is_open                                              hours      monday  \\\n",
       "1        1  {'Monday': '0:0-0:0', 'Tuesday': '8:0-18:30', ...     0:0-0:0   \n",
       "2        0  {'Monday': '8:0-22:0', 'Tuesday': '8:0-22:0', ...    8:0-22:0   \n",
       "10       1  {'Monday': '9:30-21:30', 'Tuesday': '9:30-21:3...  9:30-21:30   \n",
       "37       1  {'Monday': '0:0-0:0', 'Tuesday': '10:0-20:0', ...     0:0-0:0   \n",
       "44       0  {'Monday': '10:0-20:0', 'Tuesday': '10:0-20:0'...   10:0-20:0   \n",
       "\n",
       "       tuesday   wednesday    thursday      friday    saturday         sunday  \n",
       "1    8:0-18:30   8:0-18:30   8:0-18:30   8:0-18:30    8:0-14:0  No Disponible  \n",
       "2     8:0-22:0    8:0-22:0    8:0-22:0    8:0-23:0    8:0-23:0       8:0-22:0  \n",
       "10  9:30-21:30  9:30-21:30  9:30-21:30  9:30-21:30  9:30-21:30      10:0-20:0  \n",
       "37   10:0-20:0   10:0-20:0   10:0-20:0   10:0-20:0   10:0-20:0      11:0-18:0  \n",
       "44   10:0-20:0   10:0-20:0   10:0-20:0   10:0-21:0   10:0-21:0      11:0-19:0  "
      ]
     },
     "execution_count": 51,
     "metadata": {},
     "output_type": "execute_result"
    }
   ],
   "source": [
    "business['monday'] = business['hours'].apply(lambda x: retornar_horario(x, dia='Monday'))\n",
    "\n",
    "business['tuesday'] = business['hours'].apply(lambda x: retornar_horario(x, dia='Tuesday'))\n",
    "\n",
    "business['wednesday'] = business['hours'].apply(lambda x: retornar_horario(x, dia='Wednesday'))\n",
    "\n",
    "business['thursday'] = business['hours'].apply(lambda x: retornar_horario(x, dia='Thursday'))\n",
    "\n",
    "business['friday'] = business['hours'].apply(lambda x: retornar_horario(x, dia='Friday'))\n",
    "\n",
    "business['saturday'] = business['hours'].apply(lambda x: retornar_horario(x, dia='Saturday'))\n",
    "\n",
    "business['sunday'] = business['hours'].apply(lambda x: retornar_horario(x, dia='Sunday'))\n",
    "\n",
    "business.head()"
   ]
  },
  {
   "cell_type": "markdown",
   "metadata": {
    "id": "pN1c3YUUwvIC"
   },
   "source": [
    "Ahora de se debe borrar la columna `hours` y ya estaría lista: la tabla `y_business`"
   ]
  },
  {
   "cell_type": "code",
   "execution_count": null,
   "metadata": {
    "id": "_7SGXDM1xeXZ"
   },
   "outputs": [],
   "source": [
    "business = business.drop(columns=['hours'])"
   ]
  },
  {
   "cell_type": "markdown",
   "metadata": {
    "id": "lM0fgtQryw6z"
   },
   "source": [
    "## Ahora crearemos un Dataframe con el archivo `tip.json` tal como viene del exterior"
   ]
  },
  {
   "cell_type": "code",
   "execution_count": null,
   "metadata": {
    "id": "CPezQE-d0W9O"
   },
   "outputs": [],
   "source": [
    "tip = pd.read_json('datasets/yelp/archivos_originales/tip.json', lines=True)"
   ]
  },
  {
   "cell_type": "code",
   "execution_count": null,
   "metadata": {
    "colab": {
     "base_uri": "https://localhost:8080/",
     "height": 206
    },
    "executionInfo": {
     "elapsed": 305,
     "status": "ok",
     "timestamp": 1730231417348,
     "user": {
      "displayName": "Aliskair Rodríguez",
      "userId": "18238624046305613189"
     },
     "user_tz": 240
    },
    "id": "1GgdMBC-1COp",
    "outputId": "b634c973-50a9-4b27-e343-a82ae7d4c73d"
   },
   "outputs": [
    {
     "data": {
      "application/vnd.google.colaboratory.intrinsic+json": {
       "type": "dataframe",
       "variable_name": "tip"
      },
      "text/html": [
       "\n",
       "  <div id=\"df-70c77e00-a0e2-4a00-b34f-f6fab41ef064\" class=\"colab-df-container\">\n",
       "    <div>\n",
       "<style scoped>\n",
       "    .dataframe tbody tr th:only-of-type {\n",
       "        vertical-align: middle;\n",
       "    }\n",
       "\n",
       "    .dataframe tbody tr th {\n",
       "        vertical-align: top;\n",
       "    }\n",
       "\n",
       "    .dataframe thead th {\n",
       "        text-align: right;\n",
       "    }\n",
       "</style>\n",
       "<table border=\"1\" class=\"dataframe\">\n",
       "  <thead>\n",
       "    <tr style=\"text-align: right;\">\n",
       "      <th></th>\n",
       "      <th>user_id</th>\n",
       "      <th>business_id</th>\n",
       "      <th>text</th>\n",
       "      <th>date</th>\n",
       "      <th>compliment_count</th>\n",
       "    </tr>\n",
       "  </thead>\n",
       "  <tbody>\n",
       "    <tr>\n",
       "      <th>0</th>\n",
       "      <td>AGNUgVwnZUey3gcPCJ76iw</td>\n",
       "      <td>3uLgwr0qeCNMjKenHJwPGQ</td>\n",
       "      <td>Avengers time with the ladies.</td>\n",
       "      <td>2012-05-18 02:17:21</td>\n",
       "      <td>0</td>\n",
       "    </tr>\n",
       "    <tr>\n",
       "      <th>1</th>\n",
       "      <td>NBN4MgHP9D3cw--SnauTkA</td>\n",
       "      <td>QoezRbYQncpRqyrLH6Iqjg</td>\n",
       "      <td>They have lots of good deserts and tasty cuban...</td>\n",
       "      <td>2013-02-05 18:35:10</td>\n",
       "      <td>0</td>\n",
       "    </tr>\n",
       "    <tr>\n",
       "      <th>2</th>\n",
       "      <td>-copOvldyKh1qr-vzkDEvw</td>\n",
       "      <td>MYoRNLb5chwjQe3c_k37Gg</td>\n",
       "      <td>It's open even when you think it isn't</td>\n",
       "      <td>2013-08-18 00:56:08</td>\n",
       "      <td>0</td>\n",
       "    </tr>\n",
       "    <tr>\n",
       "      <th>3</th>\n",
       "      <td>FjMQVZjSqY8syIO-53KFKw</td>\n",
       "      <td>hV-bABTK-glh5wj31ps_Jw</td>\n",
       "      <td>Very decent fried chicken</td>\n",
       "      <td>2017-06-27 23:05:38</td>\n",
       "      <td>0</td>\n",
       "    </tr>\n",
       "    <tr>\n",
       "      <th>4</th>\n",
       "      <td>ld0AperBXk1h6UbqmM80zw</td>\n",
       "      <td>_uN0OudeJ3Zl_tf6nxg5ww</td>\n",
       "      <td>Appetizers.. platter special for lunch</td>\n",
       "      <td>2012-10-06 19:43:09</td>\n",
       "      <td>0</td>\n",
       "    </tr>\n",
       "  </tbody>\n",
       "</table>\n",
       "</div>\n",
       "    <div class=\"colab-df-buttons\">\n",
       "\n",
       "  <div class=\"colab-df-container\">\n",
       "    <button class=\"colab-df-convert\" onclick=\"convertToInteractive('df-70c77e00-a0e2-4a00-b34f-f6fab41ef064')\"\n",
       "            title=\"Convert this dataframe to an interactive table.\"\n",
       "            style=\"display:none;\">\n",
       "\n",
       "  <svg xmlns=\"http://www.w3.org/2000/svg\" height=\"24px\" viewBox=\"0 -960 960 960\">\n",
       "    <path d=\"M120-120v-720h720v720H120Zm60-500h600v-160H180v160Zm220 220h160v-160H400v160Zm0 220h160v-160H400v160ZM180-400h160v-160H180v160Zm440 0h160v-160H620v160ZM180-180h160v-160H180v160Zm440 0h160v-160H620v160Z\"/>\n",
       "  </svg>\n",
       "    </button>\n",
       "\n",
       "  <style>\n",
       "    .colab-df-container {\n",
       "      display:flex;\n",
       "      gap: 12px;\n",
       "    }\n",
       "\n",
       "    .colab-df-convert {\n",
       "      background-color: #E8F0FE;\n",
       "      border: none;\n",
       "      border-radius: 50%;\n",
       "      cursor: pointer;\n",
       "      display: none;\n",
       "      fill: #1967D2;\n",
       "      height: 32px;\n",
       "      padding: 0 0 0 0;\n",
       "      width: 32px;\n",
       "    }\n",
       "\n",
       "    .colab-df-convert:hover {\n",
       "      background-color: #E2EBFA;\n",
       "      box-shadow: 0px 1px 2px rgba(60, 64, 67, 0.3), 0px 1px 3px 1px rgba(60, 64, 67, 0.15);\n",
       "      fill: #174EA6;\n",
       "    }\n",
       "\n",
       "    .colab-df-buttons div {\n",
       "      margin-bottom: 4px;\n",
       "    }\n",
       "\n",
       "    [theme=dark] .colab-df-convert {\n",
       "      background-color: #3B4455;\n",
       "      fill: #D2E3FC;\n",
       "    }\n",
       "\n",
       "    [theme=dark] .colab-df-convert:hover {\n",
       "      background-color: #434B5C;\n",
       "      box-shadow: 0px 1px 3px 1px rgba(0, 0, 0, 0.15);\n",
       "      filter: drop-shadow(0px 1px 2px rgba(0, 0, 0, 0.3));\n",
       "      fill: #FFFFFF;\n",
       "    }\n",
       "  </style>\n",
       "\n",
       "    <script>\n",
       "      const buttonEl =\n",
       "        document.querySelector('#df-70c77e00-a0e2-4a00-b34f-f6fab41ef064 button.colab-df-convert');\n",
       "      buttonEl.style.display =\n",
       "        google.colab.kernel.accessAllowed ? 'block' : 'none';\n",
       "\n",
       "      async function convertToInteractive(key) {\n",
       "        const element = document.querySelector('#df-70c77e00-a0e2-4a00-b34f-f6fab41ef064');\n",
       "        const dataTable =\n",
       "          await google.colab.kernel.invokeFunction('convertToInteractive',\n",
       "                                                    [key], {});\n",
       "        if (!dataTable) return;\n",
       "\n",
       "        const docLinkHtml = 'Like what you see? Visit the ' +\n",
       "          '<a target=\"_blank\" href=https://colab.research.google.com/notebooks/data_table.ipynb>data table notebook</a>'\n",
       "          + ' to learn more about interactive tables.';\n",
       "        element.innerHTML = '';\n",
       "        dataTable['output_type'] = 'display_data';\n",
       "        await google.colab.output.renderOutput(dataTable, element);\n",
       "        const docLink = document.createElement('div');\n",
       "        docLink.innerHTML = docLinkHtml;\n",
       "        element.appendChild(docLink);\n",
       "      }\n",
       "    </script>\n",
       "  </div>\n",
       "\n",
       "\n",
       "<div id=\"df-da1b32d5-e056-4a57-9635-8672538ee40f\">\n",
       "  <button class=\"colab-df-quickchart\" onclick=\"quickchart('df-da1b32d5-e056-4a57-9635-8672538ee40f')\"\n",
       "            title=\"Suggest charts\"\n",
       "            style=\"display:none;\">\n",
       "\n",
       "<svg xmlns=\"http://www.w3.org/2000/svg\" height=\"24px\"viewBox=\"0 0 24 24\"\n",
       "     width=\"24px\">\n",
       "    <g>\n",
       "        <path d=\"M19 3H5c-1.1 0-2 .9-2 2v14c0 1.1.9 2 2 2h14c1.1 0 2-.9 2-2V5c0-1.1-.9-2-2-2zM9 17H7v-7h2v7zm4 0h-2V7h2v10zm4 0h-2v-4h2v4z\"/>\n",
       "    </g>\n",
       "</svg>\n",
       "  </button>\n",
       "\n",
       "<style>\n",
       "  .colab-df-quickchart {\n",
       "      --bg-color: #E8F0FE;\n",
       "      --fill-color: #1967D2;\n",
       "      --hover-bg-color: #E2EBFA;\n",
       "      --hover-fill-color: #174EA6;\n",
       "      --disabled-fill-color: #AAA;\n",
       "      --disabled-bg-color: #DDD;\n",
       "  }\n",
       "\n",
       "  [theme=dark] .colab-df-quickchart {\n",
       "      --bg-color: #3B4455;\n",
       "      --fill-color: #D2E3FC;\n",
       "      --hover-bg-color: #434B5C;\n",
       "      --hover-fill-color: #FFFFFF;\n",
       "      --disabled-bg-color: #3B4455;\n",
       "      --disabled-fill-color: #666;\n",
       "  }\n",
       "\n",
       "  .colab-df-quickchart {\n",
       "    background-color: var(--bg-color);\n",
       "    border: none;\n",
       "    border-radius: 50%;\n",
       "    cursor: pointer;\n",
       "    display: none;\n",
       "    fill: var(--fill-color);\n",
       "    height: 32px;\n",
       "    padding: 0;\n",
       "    width: 32px;\n",
       "  }\n",
       "\n",
       "  .colab-df-quickchart:hover {\n",
       "    background-color: var(--hover-bg-color);\n",
       "    box-shadow: 0 1px 2px rgba(60, 64, 67, 0.3), 0 1px 3px 1px rgba(60, 64, 67, 0.15);\n",
       "    fill: var(--button-hover-fill-color);\n",
       "  }\n",
       "\n",
       "  .colab-df-quickchart-complete:disabled,\n",
       "  .colab-df-quickchart-complete:disabled:hover {\n",
       "    background-color: var(--disabled-bg-color);\n",
       "    fill: var(--disabled-fill-color);\n",
       "    box-shadow: none;\n",
       "  }\n",
       "\n",
       "  .colab-df-spinner {\n",
       "    border: 2px solid var(--fill-color);\n",
       "    border-color: transparent;\n",
       "    border-bottom-color: var(--fill-color);\n",
       "    animation:\n",
       "      spin 1s steps(1) infinite;\n",
       "  }\n",
       "\n",
       "  @keyframes spin {\n",
       "    0% {\n",
       "      border-color: transparent;\n",
       "      border-bottom-color: var(--fill-color);\n",
       "      border-left-color: var(--fill-color);\n",
       "    }\n",
       "    20% {\n",
       "      border-color: transparent;\n",
       "      border-left-color: var(--fill-color);\n",
       "      border-top-color: var(--fill-color);\n",
       "    }\n",
       "    30% {\n",
       "      border-color: transparent;\n",
       "      border-left-color: var(--fill-color);\n",
       "      border-top-color: var(--fill-color);\n",
       "      border-right-color: var(--fill-color);\n",
       "    }\n",
       "    40% {\n",
       "      border-color: transparent;\n",
       "      border-right-color: var(--fill-color);\n",
       "      border-top-color: var(--fill-color);\n",
       "    }\n",
       "    60% {\n",
       "      border-color: transparent;\n",
       "      border-right-color: var(--fill-color);\n",
       "    }\n",
       "    80% {\n",
       "      border-color: transparent;\n",
       "      border-right-color: var(--fill-color);\n",
       "      border-bottom-color: var(--fill-color);\n",
       "    }\n",
       "    90% {\n",
       "      border-color: transparent;\n",
       "      border-bottom-color: var(--fill-color);\n",
       "    }\n",
       "  }\n",
       "</style>\n",
       "\n",
       "  <script>\n",
       "    async function quickchart(key) {\n",
       "      const quickchartButtonEl =\n",
       "        document.querySelector('#' + key + ' button');\n",
       "      quickchartButtonEl.disabled = true;  // To prevent multiple clicks.\n",
       "      quickchartButtonEl.classList.add('colab-df-spinner');\n",
       "      try {\n",
       "        const charts = await google.colab.kernel.invokeFunction(\n",
       "            'suggestCharts', [key], {});\n",
       "      } catch (error) {\n",
       "        console.error('Error during call to suggestCharts:', error);\n",
       "      }\n",
       "      quickchartButtonEl.classList.remove('colab-df-spinner');\n",
       "      quickchartButtonEl.classList.add('colab-df-quickchart-complete');\n",
       "    }\n",
       "    (() => {\n",
       "      let quickchartButtonEl =\n",
       "        document.querySelector('#df-da1b32d5-e056-4a57-9635-8672538ee40f button');\n",
       "      quickchartButtonEl.style.display =\n",
       "        google.colab.kernel.accessAllowed ? 'block' : 'none';\n",
       "    })();\n",
       "  </script>\n",
       "</div>\n",
       "\n",
       "    </div>\n",
       "  </div>\n"
      ],
      "text/plain": [
       "                  user_id             business_id  \\\n",
       "0  AGNUgVwnZUey3gcPCJ76iw  3uLgwr0qeCNMjKenHJwPGQ   \n",
       "1  NBN4MgHP9D3cw--SnauTkA  QoezRbYQncpRqyrLH6Iqjg   \n",
       "2  -copOvldyKh1qr-vzkDEvw  MYoRNLb5chwjQe3c_k37Gg   \n",
       "3  FjMQVZjSqY8syIO-53KFKw  hV-bABTK-glh5wj31ps_Jw   \n",
       "4  ld0AperBXk1h6UbqmM80zw  _uN0OudeJ3Zl_tf6nxg5ww   \n",
       "\n",
       "                                                text                date  \\\n",
       "0                     Avengers time with the ladies. 2012-05-18 02:17:21   \n",
       "1  They have lots of good deserts and tasty cuban... 2013-02-05 18:35:10   \n",
       "2             It's open even when you think it isn't 2013-08-18 00:56:08   \n",
       "3                          Very decent fried chicken 2017-06-27 23:05:38   \n",
       "4             Appetizers.. platter special for lunch 2012-10-06 19:43:09   \n",
       "\n",
       "   compliment_count  \n",
       "0                 0  \n",
       "1                 0  \n",
       "2                 0  \n",
       "3                 0  \n",
       "4                 0  "
      ]
     },
     "execution_count": 57,
     "metadata": {},
     "output_type": "execute_result"
    }
   ],
   "source": [
    "tip.head()"
   ]
  },
  {
   "cell_type": "markdown",
   "metadata": {
    "id": "HXfyQI7x1Hva"
   },
   "source": [
    "Filtraremos los business_id tomando en cuenta la lista que obtuvimos del Maestro de Categorias del Inicio de este cuaderno Jupyter"
   ]
  },
  {
   "cell_type": "code",
   "execution_count": null,
   "metadata": {
    "id": "NfiSPCiJ1ITJ"
   },
   "outputs": [],
   "source": [
    "mask = tip['business_id'].isin(lista_business_alimentos_bebidas)\n",
    "tip = tip.loc[mask]"
   ]
  },
  {
   "cell_type": "markdown",
   "metadata": {
    "id": "VisNEblC2CeR"
   },
   "source": [
    "Observando Valores Nulos"
   ]
  },
  {
   "cell_type": "code",
   "execution_count": null,
   "metadata": {
    "colab": {
     "base_uri": "https://localhost:8080/",
     "height": 241
    },
    "executionInfo": {
     "elapsed": 212,
     "status": "ok",
     "timestamp": 1730231687195,
     "user": {
      "displayName": "Aliskair Rodríguez",
      "userId": "18238624046305613189"
     },
     "user_tz": 240
    },
    "id": "BYyeVsJd2E-H",
    "outputId": "3f41ec54-ae20-4fe9-a3ec-2a849febbeb2"
   },
   "outputs": [
    {
     "data": {
      "text/html": [
       "<div>\n",
       "<style scoped>\n",
       "    .dataframe tbody tr th:only-of-type {\n",
       "        vertical-align: middle;\n",
       "    }\n",
       "\n",
       "    .dataframe tbody tr th {\n",
       "        vertical-align: top;\n",
       "    }\n",
       "\n",
       "    .dataframe thead th {\n",
       "        text-align: right;\n",
       "    }\n",
       "</style>\n",
       "<table border=\"1\" class=\"dataframe\">\n",
       "  <thead>\n",
       "    <tr style=\"text-align: right;\">\n",
       "      <th></th>\n",
       "      <th>0</th>\n",
       "    </tr>\n",
       "  </thead>\n",
       "  <tbody>\n",
       "    <tr>\n",
       "      <th>user_id</th>\n",
       "      <td>0</td>\n",
       "    </tr>\n",
       "    <tr>\n",
       "      <th>business_id</th>\n",
       "      <td>0</td>\n",
       "    </tr>\n",
       "    <tr>\n",
       "      <th>text</th>\n",
       "      <td>0</td>\n",
       "    </tr>\n",
       "    <tr>\n",
       "      <th>date</th>\n",
       "      <td>0</td>\n",
       "    </tr>\n",
       "    <tr>\n",
       "      <th>compliment_count</th>\n",
       "      <td>0</td>\n",
       "    </tr>\n",
       "  </tbody>\n",
       "</table>\n",
       "</div><br><label><b>dtype:</b> int64</label>"
      ],
      "text/plain": [
       "user_id             0\n",
       "business_id         0\n",
       "text                0\n",
       "date                0\n",
       "compliment_count    0\n",
       "dtype: int64"
      ]
     },
     "execution_count": 61,
     "metadata": {},
     "output_type": "execute_result"
    }
   ],
   "source": [
    "tip.isna().sum()"
   ]
  },
  {
   "cell_type": "markdown",
   "metadata": {
    "id": "pn3W90RYXU2p"
   },
   "source": [
    "Obtendremos solo la fecha"
   ]
  },
  {
   "cell_type": "code",
   "execution_count": null,
   "metadata": {
    "colab": {
     "base_uri": "https://localhost:8080/",
     "height": 255
    },
    "executionInfo": {
     "elapsed": 345,
     "status": "ok",
     "timestamp": 1730307621587,
     "user": {
      "displayName": "Aliskair Rodríguez",
      "userId": "18238624046305613189"
     },
     "user_tz": 240
    },
    "id": "cisi8K3HWUzb",
    "outputId": "849050c9-aac3-42c7-aa33-0e6309290150"
   },
   "outputs": [
    {
     "data": {
      "text/html": [
       "<div><style>\n",
       ".dataframe > thead > tr,\n",
       ".dataframe > tbody > tr {\n",
       "  text-align: right;\n",
       "  white-space: pre-wrap;\n",
       "}\n",
       "</style>\n",
       "<small>shape: (5, 5)</small><table border=\"1\" class=\"dataframe\"><thead><tr><th>user_id</th><th>business_id</th><th>text</th><th>compliment_count</th><th>date</th></tr><tr><td>str</td><td>str</td><td>str</td><td>i64</td><td>date</td></tr></thead><tbody><tr><td>&quot;-copOvldyKh1qr-vzkDEvw&quot;</td><td>&quot;MYoRNLb5chwjQe3c_k37Gg&quot;</td><td>&quot;It&#x27;s open even when you think …</td><td>0</td><td>2013-08-18</td></tr><tr><td>&quot;4ay-fdVks5WMerYL_htkGQ&quot;</td><td>&quot;pICJRcyqW1cF96Q3XhLSbw&quot;</td><td>&quot;Starbucks substitute in boring…</td><td>0</td><td>2012-06-09</td></tr><tr><td>&quot;JsXhBw6MntzTJjH_Ue5udw&quot;</td><td>&quot;wLHodvVFLTgK3nl2XG8OCw&quot;</td><td>&quot;Very good will definitely be c…</td><td>0</td><td>2017-03-23</td></tr><tr><td>&quot;Ll5l4WTKPH7zWQWA68Rhdw&quot;</td><td>&quot;LJaR65ALpz261_dlVWqV2g&quot;</td><td>&quot;Helping Mona find a new phone.&quot;</td><td>0</td><td>2012-06-02</td></tr><tr><td>&quot;phKNHTaokisQkZ7qQbxryA&quot;</td><td>&quot;pWuoHHu0LuVrD0HjadDygg&quot;</td><td>&quot;Crepes please!!!&quot;</td><td>0</td><td>2010-11-21</td></tr></tbody></table></div>"
      ],
      "text/plain": [
       "shape: (5, 5)\n",
       "┌──────────────────────┬─────────────────────┬─────────────────────┬──────────────────┬────────────┐\n",
       "│ user_id              ┆ business_id         ┆ text                ┆ compliment_count ┆ date       │\n",
       "│ ---                  ┆ ---                 ┆ ---                 ┆ ---              ┆ ---        │\n",
       "│ str                  ┆ str                 ┆ str                 ┆ i64              ┆ date       │\n",
       "╞══════════════════════╪═════════════════════╪═════════════════════╪══════════════════╪════════════╡\n",
       "│ -copOvldyKh1qr-vzkDE ┆ MYoRNLb5chwjQe3c_k3 ┆ It's open even when ┆ 0                ┆ 2013-08-18 │\n",
       "│ vw                   ┆ 7Gg                 ┆ you think …         ┆                  ┆            │\n",
       "│ 4ay-fdVks5WMerYL_htk ┆ pICJRcyqW1cF96Q3XhL ┆ Starbucks           ┆ 0                ┆ 2012-06-09 │\n",
       "│ GQ                   ┆ Sbw                 ┆ substitute in       ┆                  ┆            │\n",
       "│                      ┆                     ┆ boring…             ┆                  ┆            │\n",
       "│ JsXhBw6MntzTJjH_Ue5u ┆ wLHodvVFLTgK3nl2XG8 ┆ Very good will      ┆ 0                ┆ 2017-03-23 │\n",
       "│ dw                   ┆ OCw                 ┆ definitely be c…    ┆                  ┆            │\n",
       "│ Ll5l4WTKPH7zWQWA68Rh ┆ LJaR65ALpz261_dlVWq ┆ Helping Mona find a ┆ 0                ┆ 2012-06-02 │\n",
       "│ dw                   ┆ V2g                 ┆ new phone.          ┆                  ┆            │\n",
       "│ phKNHTaokisQkZ7qQbxr ┆ pWuoHHu0LuVrD0HjadD ┆ Crepes please!!!    ┆ 0                ┆ 2010-11-21 │\n",
       "│ yA                   ┆ ygg                 ┆                     ┆                  ┆            │\n",
       "└──────────────────────┴─────────────────────┴─────────────────────┴──────────────────┴────────────┘"
      ]
     },
     "execution_count": 9,
     "metadata": {},
     "output_type": "execute_result"
    }
   ],
   "source": [
    "# Creamos la nueva Columna\n",
    "tip['date_only'] = tip['date'].dt.date\n",
    "\n",
    "# Borramos la antigua columna\n",
    "tip = tip.drop(columns=['date'])\n",
    "\n",
    "# Renombramos\n",
    "tip = tip.rename(columns={'date_only': 'date'})\n",
    "\n",
    "tip.head()"
   ]
  },
  {
   "cell_type": "markdown",
   "metadata": {
    "id": "zitqGN6u2nBP"
   },
   "source": [
    "## Ahora crearemos un Dataframe con el archivo `checkin.json` tal como viene del exterior"
   ]
  },
  {
   "cell_type": "code",
   "execution_count": null,
   "metadata": {
    "id": "8Ar2R5zH2HS8"
   },
   "outputs": [],
   "source": [
    "checkin = pd.read_json('datasets/yelp/archivos_originales/checkin.json', lines=True)"
   ]
  },
  {
   "cell_type": "code",
   "execution_count": null,
   "metadata": {
    "colab": {
     "base_uri": "https://localhost:8080/",
     "height": 206
    },
    "executionInfo": {
     "elapsed": 282,
     "status": "ok",
     "timestamp": 1730232143279,
     "user": {
      "displayName": "Aliskair Rodríguez",
      "userId": "18238624046305613189"
     },
     "user_tz": 240
    },
    "id": "tboEiBNI30KZ",
    "outputId": "d3e25254-7c8e-4890-fe04-9ff2d2691be1"
   },
   "outputs": [
    {
     "data": {
      "application/vnd.google.colaboratory.intrinsic+json": {
       "type": "dataframe",
       "variable_name": "checkin"
      },
      "text/html": [
       "\n",
       "  <div id=\"df-439c1904-cf1c-44c1-a0d9-28e63bcb506b\" class=\"colab-df-container\">\n",
       "    <div>\n",
       "<style scoped>\n",
       "    .dataframe tbody tr th:only-of-type {\n",
       "        vertical-align: middle;\n",
       "    }\n",
       "\n",
       "    .dataframe tbody tr th {\n",
       "        vertical-align: top;\n",
       "    }\n",
       "\n",
       "    .dataframe thead th {\n",
       "        text-align: right;\n",
       "    }\n",
       "</style>\n",
       "<table border=\"1\" class=\"dataframe\">\n",
       "  <thead>\n",
       "    <tr style=\"text-align: right;\">\n",
       "      <th></th>\n",
       "      <th>business_id</th>\n",
       "      <th>date</th>\n",
       "    </tr>\n",
       "  </thead>\n",
       "  <tbody>\n",
       "    <tr>\n",
       "      <th>0</th>\n",
       "      <td>---kPU91CF4Lq2-WlRu9Lw</td>\n",
       "      <td>2020-03-13 21:10:56, 2020-06-02 22:18:06, 2020...</td>\n",
       "    </tr>\n",
       "    <tr>\n",
       "      <th>1</th>\n",
       "      <td>--0iUa4sNDFiZFrAdIWhZQ</td>\n",
       "      <td>2010-09-13 21:43:09, 2011-05-04 23:08:15, 2011...</td>\n",
       "    </tr>\n",
       "    <tr>\n",
       "      <th>2</th>\n",
       "      <td>--30_8IhuyMHbSOcNWd6DQ</td>\n",
       "      <td>2013-06-14 23:29:17, 2014-08-13 23:20:22</td>\n",
       "    </tr>\n",
       "    <tr>\n",
       "      <th>3</th>\n",
       "      <td>--7PUidqRWpRSpXebiyxTg</td>\n",
       "      <td>2011-02-15 17:12:00, 2011-07-28 02:46:10, 2012...</td>\n",
       "    </tr>\n",
       "    <tr>\n",
       "      <th>4</th>\n",
       "      <td>--7jw19RH9JKXgFohspgQw</td>\n",
       "      <td>2014-04-21 20:42:11, 2014-04-28 21:04:46, 2014...</td>\n",
       "    </tr>\n",
       "  </tbody>\n",
       "</table>\n",
       "</div>\n",
       "    <div class=\"colab-df-buttons\">\n",
       "\n",
       "  <div class=\"colab-df-container\">\n",
       "    <button class=\"colab-df-convert\" onclick=\"convertToInteractive('df-439c1904-cf1c-44c1-a0d9-28e63bcb506b')\"\n",
       "            title=\"Convert this dataframe to an interactive table.\"\n",
       "            style=\"display:none;\">\n",
       "\n",
       "  <svg xmlns=\"http://www.w3.org/2000/svg\" height=\"24px\" viewBox=\"0 -960 960 960\">\n",
       "    <path d=\"M120-120v-720h720v720H120Zm60-500h600v-160H180v160Zm220 220h160v-160H400v160Zm0 220h160v-160H400v160ZM180-400h160v-160H180v160Zm440 0h160v-160H620v160ZM180-180h160v-160H180v160Zm440 0h160v-160H620v160Z\"/>\n",
       "  </svg>\n",
       "    </button>\n",
       "\n",
       "  <style>\n",
       "    .colab-df-container {\n",
       "      display:flex;\n",
       "      gap: 12px;\n",
       "    }\n",
       "\n",
       "    .colab-df-convert {\n",
       "      background-color: #E8F0FE;\n",
       "      border: none;\n",
       "      border-radius: 50%;\n",
       "      cursor: pointer;\n",
       "      display: none;\n",
       "      fill: #1967D2;\n",
       "      height: 32px;\n",
       "      padding: 0 0 0 0;\n",
       "      width: 32px;\n",
       "    }\n",
       "\n",
       "    .colab-df-convert:hover {\n",
       "      background-color: #E2EBFA;\n",
       "      box-shadow: 0px 1px 2px rgba(60, 64, 67, 0.3), 0px 1px 3px 1px rgba(60, 64, 67, 0.15);\n",
       "      fill: #174EA6;\n",
       "    }\n",
       "\n",
       "    .colab-df-buttons div {\n",
       "      margin-bottom: 4px;\n",
       "    }\n",
       "\n",
       "    [theme=dark] .colab-df-convert {\n",
       "      background-color: #3B4455;\n",
       "      fill: #D2E3FC;\n",
       "    }\n",
       "\n",
       "    [theme=dark] .colab-df-convert:hover {\n",
       "      background-color: #434B5C;\n",
       "      box-shadow: 0px 1px 3px 1px rgba(0, 0, 0, 0.15);\n",
       "      filter: drop-shadow(0px 1px 2px rgba(0, 0, 0, 0.3));\n",
       "      fill: #FFFFFF;\n",
       "    }\n",
       "  </style>\n",
       "\n",
       "    <script>\n",
       "      const buttonEl =\n",
       "        document.querySelector('#df-439c1904-cf1c-44c1-a0d9-28e63bcb506b button.colab-df-convert');\n",
       "      buttonEl.style.display =\n",
       "        google.colab.kernel.accessAllowed ? 'block' : 'none';\n",
       "\n",
       "      async function convertToInteractive(key) {\n",
       "        const element = document.querySelector('#df-439c1904-cf1c-44c1-a0d9-28e63bcb506b');\n",
       "        const dataTable =\n",
       "          await google.colab.kernel.invokeFunction('convertToInteractive',\n",
       "                                                    [key], {});\n",
       "        if (!dataTable) return;\n",
       "\n",
       "        const docLinkHtml = 'Like what you see? Visit the ' +\n",
       "          '<a target=\"_blank\" href=https://colab.research.google.com/notebooks/data_table.ipynb>data table notebook</a>'\n",
       "          + ' to learn more about interactive tables.';\n",
       "        element.innerHTML = '';\n",
       "        dataTable['output_type'] = 'display_data';\n",
       "        await google.colab.output.renderOutput(dataTable, element);\n",
       "        const docLink = document.createElement('div');\n",
       "        docLink.innerHTML = docLinkHtml;\n",
       "        element.appendChild(docLink);\n",
       "      }\n",
       "    </script>\n",
       "  </div>\n",
       "\n",
       "\n",
       "<div id=\"df-51a86ff7-1808-4d08-8478-de2096f105f7\">\n",
       "  <button class=\"colab-df-quickchart\" onclick=\"quickchart('df-51a86ff7-1808-4d08-8478-de2096f105f7')\"\n",
       "            title=\"Suggest charts\"\n",
       "            style=\"display:none;\">\n",
       "\n",
       "<svg xmlns=\"http://www.w3.org/2000/svg\" height=\"24px\"viewBox=\"0 0 24 24\"\n",
       "     width=\"24px\">\n",
       "    <g>\n",
       "        <path d=\"M19 3H5c-1.1 0-2 .9-2 2v14c0 1.1.9 2 2 2h14c1.1 0 2-.9 2-2V5c0-1.1-.9-2-2-2zM9 17H7v-7h2v7zm4 0h-2V7h2v10zm4 0h-2v-4h2v4z\"/>\n",
       "    </g>\n",
       "</svg>\n",
       "  </button>\n",
       "\n",
       "<style>\n",
       "  .colab-df-quickchart {\n",
       "      --bg-color: #E8F0FE;\n",
       "      --fill-color: #1967D2;\n",
       "      --hover-bg-color: #E2EBFA;\n",
       "      --hover-fill-color: #174EA6;\n",
       "      --disabled-fill-color: #AAA;\n",
       "      --disabled-bg-color: #DDD;\n",
       "  }\n",
       "\n",
       "  [theme=dark] .colab-df-quickchart {\n",
       "      --bg-color: #3B4455;\n",
       "      --fill-color: #D2E3FC;\n",
       "      --hover-bg-color: #434B5C;\n",
       "      --hover-fill-color: #FFFFFF;\n",
       "      --disabled-bg-color: #3B4455;\n",
       "      --disabled-fill-color: #666;\n",
       "  }\n",
       "\n",
       "  .colab-df-quickchart {\n",
       "    background-color: var(--bg-color);\n",
       "    border: none;\n",
       "    border-radius: 50%;\n",
       "    cursor: pointer;\n",
       "    display: none;\n",
       "    fill: var(--fill-color);\n",
       "    height: 32px;\n",
       "    padding: 0;\n",
       "    width: 32px;\n",
       "  }\n",
       "\n",
       "  .colab-df-quickchart:hover {\n",
       "    background-color: var(--hover-bg-color);\n",
       "    box-shadow: 0 1px 2px rgba(60, 64, 67, 0.3), 0 1px 3px 1px rgba(60, 64, 67, 0.15);\n",
       "    fill: var(--button-hover-fill-color);\n",
       "  }\n",
       "\n",
       "  .colab-df-quickchart-complete:disabled,\n",
       "  .colab-df-quickchart-complete:disabled:hover {\n",
       "    background-color: var(--disabled-bg-color);\n",
       "    fill: var(--disabled-fill-color);\n",
       "    box-shadow: none;\n",
       "  }\n",
       "\n",
       "  .colab-df-spinner {\n",
       "    border: 2px solid var(--fill-color);\n",
       "    border-color: transparent;\n",
       "    border-bottom-color: var(--fill-color);\n",
       "    animation:\n",
       "      spin 1s steps(1) infinite;\n",
       "  }\n",
       "\n",
       "  @keyframes spin {\n",
       "    0% {\n",
       "      border-color: transparent;\n",
       "      border-bottom-color: var(--fill-color);\n",
       "      border-left-color: var(--fill-color);\n",
       "    }\n",
       "    20% {\n",
       "      border-color: transparent;\n",
       "      border-left-color: var(--fill-color);\n",
       "      border-top-color: var(--fill-color);\n",
       "    }\n",
       "    30% {\n",
       "      border-color: transparent;\n",
       "      border-left-color: var(--fill-color);\n",
       "      border-top-color: var(--fill-color);\n",
       "      border-right-color: var(--fill-color);\n",
       "    }\n",
       "    40% {\n",
       "      border-color: transparent;\n",
       "      border-right-color: var(--fill-color);\n",
       "      border-top-color: var(--fill-color);\n",
       "    }\n",
       "    60% {\n",
       "      border-color: transparent;\n",
       "      border-right-color: var(--fill-color);\n",
       "    }\n",
       "    80% {\n",
       "      border-color: transparent;\n",
       "      border-right-color: var(--fill-color);\n",
       "      border-bottom-color: var(--fill-color);\n",
       "    }\n",
       "    90% {\n",
       "      border-color: transparent;\n",
       "      border-bottom-color: var(--fill-color);\n",
       "    }\n",
       "  }\n",
       "</style>\n",
       "\n",
       "  <script>\n",
       "    async function quickchart(key) {\n",
       "      const quickchartButtonEl =\n",
       "        document.querySelector('#' + key + ' button');\n",
       "      quickchartButtonEl.disabled = true;  // To prevent multiple clicks.\n",
       "      quickchartButtonEl.classList.add('colab-df-spinner');\n",
       "      try {\n",
       "        const charts = await google.colab.kernel.invokeFunction(\n",
       "            'suggestCharts', [key], {});\n",
       "      } catch (error) {\n",
       "        console.error('Error during call to suggestCharts:', error);\n",
       "      }\n",
       "      quickchartButtonEl.classList.remove('colab-df-spinner');\n",
       "      quickchartButtonEl.classList.add('colab-df-quickchart-complete');\n",
       "    }\n",
       "    (() => {\n",
       "      let quickchartButtonEl =\n",
       "        document.querySelector('#df-51a86ff7-1808-4d08-8478-de2096f105f7 button');\n",
       "      quickchartButtonEl.style.display =\n",
       "        google.colab.kernel.accessAllowed ? 'block' : 'none';\n",
       "    })();\n",
       "  </script>\n",
       "</div>\n",
       "\n",
       "    </div>\n",
       "  </div>\n"
      ],
      "text/plain": [
       "              business_id                                               date\n",
       "0  ---kPU91CF4Lq2-WlRu9Lw  2020-03-13 21:10:56, 2020-06-02 22:18:06, 2020...\n",
       "1  --0iUa4sNDFiZFrAdIWhZQ  2010-09-13 21:43:09, 2011-05-04 23:08:15, 2011...\n",
       "2  --30_8IhuyMHbSOcNWd6DQ           2013-06-14 23:29:17, 2014-08-13 23:20:22\n",
       "3  --7PUidqRWpRSpXebiyxTg  2011-02-15 17:12:00, 2011-07-28 02:46:10, 2012...\n",
       "4  --7jw19RH9JKXgFohspgQw  2014-04-21 20:42:11, 2014-04-28 21:04:46, 2014..."
      ]
     },
     "execution_count": 63,
     "metadata": {},
     "output_type": "execute_result"
    }
   ],
   "source": [
    "checkin.head()"
   ]
  },
  {
   "cell_type": "markdown",
   "metadata": {
    "id": "v1FVuRnc37Z_"
   },
   "source": [
    "Verificación de Nulos"
   ]
  },
  {
   "cell_type": "code",
   "execution_count": null,
   "metadata": {
    "colab": {
     "base_uri": "https://localhost:8080/",
     "height": 147
    },
    "executionInfo": {
     "elapsed": 315,
     "status": "ok",
     "timestamp": 1730232168170,
     "user": {
      "displayName": "Aliskair Rodríguez",
      "userId": "18238624046305613189"
     },
     "user_tz": 240
    },
    "id": "YY6te9O-36VQ",
    "outputId": "a6677ead-3653-45ae-ab08-41ca7e82d53c"
   },
   "outputs": [
    {
     "data": {
      "text/html": [
       "<div>\n",
       "<style scoped>\n",
       "    .dataframe tbody tr th:only-of-type {\n",
       "        vertical-align: middle;\n",
       "    }\n",
       "\n",
       "    .dataframe tbody tr th {\n",
       "        vertical-align: top;\n",
       "    }\n",
       "\n",
       "    .dataframe thead th {\n",
       "        text-align: right;\n",
       "    }\n",
       "</style>\n",
       "<table border=\"1\" class=\"dataframe\">\n",
       "  <thead>\n",
       "    <tr style=\"text-align: right;\">\n",
       "      <th></th>\n",
       "      <th>0</th>\n",
       "    </tr>\n",
       "  </thead>\n",
       "  <tbody>\n",
       "    <tr>\n",
       "      <th>business_id</th>\n",
       "      <td>0</td>\n",
       "    </tr>\n",
       "    <tr>\n",
       "      <th>date</th>\n",
       "      <td>0</td>\n",
       "    </tr>\n",
       "  </tbody>\n",
       "</table>\n",
       "</div><br><label><b>dtype:</b> int64</label>"
      ],
      "text/plain": [
       "business_id    0\n",
       "date           0\n",
       "dtype: int64"
      ]
     },
     "execution_count": 64,
     "metadata": {},
     "output_type": "execute_result"
    }
   ],
   "source": [
    "checkin.isna().sum()"
   ]
  },
  {
   "cell_type": "markdown",
   "metadata": {
    "id": "zlWU_PyE4W_P"
   },
   "source": [
    "Crearemos una lista de Fechas a partir de la columna `date`"
   ]
  },
  {
   "cell_type": "code",
   "execution_count": null,
   "metadata": {
    "colab": {
     "base_uri": "https://localhost:8080/",
     "height": 206
    },
    "executionInfo": {
     "elapsed": 3068,
     "status": "ok",
     "timestamp": 1730232318180,
     "user": {
      "displayName": "Aliskair Rodríguez",
      "userId": "18238624046305613189"
     },
     "user_tz": 240
    },
    "id": "q5L4v4Iq3-FR",
    "outputId": "fb112223-5f25-42d7-cbbe-e8621307489f"
   },
   "outputs": [
    {
     "data": {
      "application/vnd.google.colaboratory.intrinsic+json": {
       "type": "dataframe",
       "variable_name": "checkin"
      },
      "text/html": [
       "\n",
       "  <div id=\"df-6220d34e-bbce-4972-87a7-1a33328c4bd9\" class=\"colab-df-container\">\n",
       "    <div>\n",
       "<style scoped>\n",
       "    .dataframe tbody tr th:only-of-type {\n",
       "        vertical-align: middle;\n",
       "    }\n",
       "\n",
       "    .dataframe tbody tr th {\n",
       "        vertical-align: top;\n",
       "    }\n",
       "\n",
       "    .dataframe thead th {\n",
       "        text-align: right;\n",
       "    }\n",
       "</style>\n",
       "<table border=\"1\" class=\"dataframe\">\n",
       "  <thead>\n",
       "    <tr style=\"text-align: right;\">\n",
       "      <th></th>\n",
       "      <th>business_id</th>\n",
       "      <th>date</th>\n",
       "      <th>lista_date</th>\n",
       "    </tr>\n",
       "  </thead>\n",
       "  <tbody>\n",
       "    <tr>\n",
       "      <th>0</th>\n",
       "      <td>---kPU91CF4Lq2-WlRu9Lw</td>\n",
       "      <td>2020-03-13 21:10:56, 2020-06-02 22:18:06, 2020...</td>\n",
       "      <td>[2020-03-13 21:10:56,  2020-06-02 22:18:06,  2...</td>\n",
       "    </tr>\n",
       "    <tr>\n",
       "      <th>1</th>\n",
       "      <td>--0iUa4sNDFiZFrAdIWhZQ</td>\n",
       "      <td>2010-09-13 21:43:09, 2011-05-04 23:08:15, 2011...</td>\n",
       "      <td>[2010-09-13 21:43:09,  2011-05-04 23:08:15,  2...</td>\n",
       "    </tr>\n",
       "    <tr>\n",
       "      <th>2</th>\n",
       "      <td>--30_8IhuyMHbSOcNWd6DQ</td>\n",
       "      <td>2013-06-14 23:29:17, 2014-08-13 23:20:22</td>\n",
       "      <td>[2013-06-14 23:29:17,  2014-08-13 23:20:22]</td>\n",
       "    </tr>\n",
       "    <tr>\n",
       "      <th>3</th>\n",
       "      <td>--7PUidqRWpRSpXebiyxTg</td>\n",
       "      <td>2011-02-15 17:12:00, 2011-07-28 02:46:10, 2012...</td>\n",
       "      <td>[2011-02-15 17:12:00,  2011-07-28 02:46:10,  2...</td>\n",
       "    </tr>\n",
       "    <tr>\n",
       "      <th>4</th>\n",
       "      <td>--7jw19RH9JKXgFohspgQw</td>\n",
       "      <td>2014-04-21 20:42:11, 2014-04-28 21:04:46, 2014...</td>\n",
       "      <td>[2014-04-21 20:42:11,  2014-04-28 21:04:46,  2...</td>\n",
       "    </tr>\n",
       "  </tbody>\n",
       "</table>\n",
       "</div>\n",
       "    <div class=\"colab-df-buttons\">\n",
       "\n",
       "  <div class=\"colab-df-container\">\n",
       "    <button class=\"colab-df-convert\" onclick=\"convertToInteractive('df-6220d34e-bbce-4972-87a7-1a33328c4bd9')\"\n",
       "            title=\"Convert this dataframe to an interactive table.\"\n",
       "            style=\"display:none;\">\n",
       "\n",
       "  <svg xmlns=\"http://www.w3.org/2000/svg\" height=\"24px\" viewBox=\"0 -960 960 960\">\n",
       "    <path d=\"M120-120v-720h720v720H120Zm60-500h600v-160H180v160Zm220 220h160v-160H400v160Zm0 220h160v-160H400v160ZM180-400h160v-160H180v160Zm440 0h160v-160H620v160ZM180-180h160v-160H180v160Zm440 0h160v-160H620v160Z\"/>\n",
       "  </svg>\n",
       "    </button>\n",
       "\n",
       "  <style>\n",
       "    .colab-df-container {\n",
       "      display:flex;\n",
       "      gap: 12px;\n",
       "    }\n",
       "\n",
       "    .colab-df-convert {\n",
       "      background-color: #E8F0FE;\n",
       "      border: none;\n",
       "      border-radius: 50%;\n",
       "      cursor: pointer;\n",
       "      display: none;\n",
       "      fill: #1967D2;\n",
       "      height: 32px;\n",
       "      padding: 0 0 0 0;\n",
       "      width: 32px;\n",
       "    }\n",
       "\n",
       "    .colab-df-convert:hover {\n",
       "      background-color: #E2EBFA;\n",
       "      box-shadow: 0px 1px 2px rgba(60, 64, 67, 0.3), 0px 1px 3px 1px rgba(60, 64, 67, 0.15);\n",
       "      fill: #174EA6;\n",
       "    }\n",
       "\n",
       "    .colab-df-buttons div {\n",
       "      margin-bottom: 4px;\n",
       "    }\n",
       "\n",
       "    [theme=dark] .colab-df-convert {\n",
       "      background-color: #3B4455;\n",
       "      fill: #D2E3FC;\n",
       "    }\n",
       "\n",
       "    [theme=dark] .colab-df-convert:hover {\n",
       "      background-color: #434B5C;\n",
       "      box-shadow: 0px 1px 3px 1px rgba(0, 0, 0, 0.15);\n",
       "      filter: drop-shadow(0px 1px 2px rgba(0, 0, 0, 0.3));\n",
       "      fill: #FFFFFF;\n",
       "    }\n",
       "  </style>\n",
       "\n",
       "    <script>\n",
       "      const buttonEl =\n",
       "        document.querySelector('#df-6220d34e-bbce-4972-87a7-1a33328c4bd9 button.colab-df-convert');\n",
       "      buttonEl.style.display =\n",
       "        google.colab.kernel.accessAllowed ? 'block' : 'none';\n",
       "\n",
       "      async function convertToInteractive(key) {\n",
       "        const element = document.querySelector('#df-6220d34e-bbce-4972-87a7-1a33328c4bd9');\n",
       "        const dataTable =\n",
       "          await google.colab.kernel.invokeFunction('convertToInteractive',\n",
       "                                                    [key], {});\n",
       "        if (!dataTable) return;\n",
       "\n",
       "        const docLinkHtml = 'Like what you see? Visit the ' +\n",
       "          '<a target=\"_blank\" href=https://colab.research.google.com/notebooks/data_table.ipynb>data table notebook</a>'\n",
       "          + ' to learn more about interactive tables.';\n",
       "        element.innerHTML = '';\n",
       "        dataTable['output_type'] = 'display_data';\n",
       "        await google.colab.output.renderOutput(dataTable, element);\n",
       "        const docLink = document.createElement('div');\n",
       "        docLink.innerHTML = docLinkHtml;\n",
       "        element.appendChild(docLink);\n",
       "      }\n",
       "    </script>\n",
       "  </div>\n",
       "\n",
       "\n",
       "<div id=\"df-93f473e8-2dbf-49cc-89fe-3ab1f640f671\">\n",
       "  <button class=\"colab-df-quickchart\" onclick=\"quickchart('df-93f473e8-2dbf-49cc-89fe-3ab1f640f671')\"\n",
       "            title=\"Suggest charts\"\n",
       "            style=\"display:none;\">\n",
       "\n",
       "<svg xmlns=\"http://www.w3.org/2000/svg\" height=\"24px\"viewBox=\"0 0 24 24\"\n",
       "     width=\"24px\">\n",
       "    <g>\n",
       "        <path d=\"M19 3H5c-1.1 0-2 .9-2 2v14c0 1.1.9 2 2 2h14c1.1 0 2-.9 2-2V5c0-1.1-.9-2-2-2zM9 17H7v-7h2v7zm4 0h-2V7h2v10zm4 0h-2v-4h2v4z\"/>\n",
       "    </g>\n",
       "</svg>\n",
       "  </button>\n",
       "\n",
       "<style>\n",
       "  .colab-df-quickchart {\n",
       "      --bg-color: #E8F0FE;\n",
       "      --fill-color: #1967D2;\n",
       "      --hover-bg-color: #E2EBFA;\n",
       "      --hover-fill-color: #174EA6;\n",
       "      --disabled-fill-color: #AAA;\n",
       "      --disabled-bg-color: #DDD;\n",
       "  }\n",
       "\n",
       "  [theme=dark] .colab-df-quickchart {\n",
       "      --bg-color: #3B4455;\n",
       "      --fill-color: #D2E3FC;\n",
       "      --hover-bg-color: #434B5C;\n",
       "      --hover-fill-color: #FFFFFF;\n",
       "      --disabled-bg-color: #3B4455;\n",
       "      --disabled-fill-color: #666;\n",
       "  }\n",
       "\n",
       "  .colab-df-quickchart {\n",
       "    background-color: var(--bg-color);\n",
       "    border: none;\n",
       "    border-radius: 50%;\n",
       "    cursor: pointer;\n",
       "    display: none;\n",
       "    fill: var(--fill-color);\n",
       "    height: 32px;\n",
       "    padding: 0;\n",
       "    width: 32px;\n",
       "  }\n",
       "\n",
       "  .colab-df-quickchart:hover {\n",
       "    background-color: var(--hover-bg-color);\n",
       "    box-shadow: 0 1px 2px rgba(60, 64, 67, 0.3), 0 1px 3px 1px rgba(60, 64, 67, 0.15);\n",
       "    fill: var(--button-hover-fill-color);\n",
       "  }\n",
       "\n",
       "  .colab-df-quickchart-complete:disabled,\n",
       "  .colab-df-quickchart-complete:disabled:hover {\n",
       "    background-color: var(--disabled-bg-color);\n",
       "    fill: var(--disabled-fill-color);\n",
       "    box-shadow: none;\n",
       "  }\n",
       "\n",
       "  .colab-df-spinner {\n",
       "    border: 2px solid var(--fill-color);\n",
       "    border-color: transparent;\n",
       "    border-bottom-color: var(--fill-color);\n",
       "    animation:\n",
       "      spin 1s steps(1) infinite;\n",
       "  }\n",
       "\n",
       "  @keyframes spin {\n",
       "    0% {\n",
       "      border-color: transparent;\n",
       "      border-bottom-color: var(--fill-color);\n",
       "      border-left-color: var(--fill-color);\n",
       "    }\n",
       "    20% {\n",
       "      border-color: transparent;\n",
       "      border-left-color: var(--fill-color);\n",
       "      border-top-color: var(--fill-color);\n",
       "    }\n",
       "    30% {\n",
       "      border-color: transparent;\n",
       "      border-left-color: var(--fill-color);\n",
       "      border-top-color: var(--fill-color);\n",
       "      border-right-color: var(--fill-color);\n",
       "    }\n",
       "    40% {\n",
       "      border-color: transparent;\n",
       "      border-right-color: var(--fill-color);\n",
       "      border-top-color: var(--fill-color);\n",
       "    }\n",
       "    60% {\n",
       "      border-color: transparent;\n",
       "      border-right-color: var(--fill-color);\n",
       "    }\n",
       "    80% {\n",
       "      border-color: transparent;\n",
       "      border-right-color: var(--fill-color);\n",
       "      border-bottom-color: var(--fill-color);\n",
       "    }\n",
       "    90% {\n",
       "      border-color: transparent;\n",
       "      border-bottom-color: var(--fill-color);\n",
       "    }\n",
       "  }\n",
       "</style>\n",
       "\n",
       "  <script>\n",
       "    async function quickchart(key) {\n",
       "      const quickchartButtonEl =\n",
       "        document.querySelector('#' + key + ' button');\n",
       "      quickchartButtonEl.disabled = true;  // To prevent multiple clicks.\n",
       "      quickchartButtonEl.classList.add('colab-df-spinner');\n",
       "      try {\n",
       "        const charts = await google.colab.kernel.invokeFunction(\n",
       "            'suggestCharts', [key], {});\n",
       "      } catch (error) {\n",
       "        console.error('Error during call to suggestCharts:', error);\n",
       "      }\n",
       "      quickchartButtonEl.classList.remove('colab-df-spinner');\n",
       "      quickchartButtonEl.classList.add('colab-df-quickchart-complete');\n",
       "    }\n",
       "    (() => {\n",
       "      let quickchartButtonEl =\n",
       "        document.querySelector('#df-93f473e8-2dbf-49cc-89fe-3ab1f640f671 button');\n",
       "      quickchartButtonEl.style.display =\n",
       "        google.colab.kernel.accessAllowed ? 'block' : 'none';\n",
       "    })();\n",
       "  </script>\n",
       "</div>\n",
       "\n",
       "    </div>\n",
       "  </div>\n"
      ],
      "text/plain": [
       "              business_id                                               date  \\\n",
       "0  ---kPU91CF4Lq2-WlRu9Lw  2020-03-13 21:10:56, 2020-06-02 22:18:06, 2020...   \n",
       "1  --0iUa4sNDFiZFrAdIWhZQ  2010-09-13 21:43:09, 2011-05-04 23:08:15, 2011...   \n",
       "2  --30_8IhuyMHbSOcNWd6DQ           2013-06-14 23:29:17, 2014-08-13 23:20:22   \n",
       "3  --7PUidqRWpRSpXebiyxTg  2011-02-15 17:12:00, 2011-07-28 02:46:10, 2012...   \n",
       "4  --7jw19RH9JKXgFohspgQw  2014-04-21 20:42:11, 2014-04-28 21:04:46, 2014...   \n",
       "\n",
       "                                          lista_date  \n",
       "0  [2020-03-13 21:10:56,  2020-06-02 22:18:06,  2...  \n",
       "1  [2010-09-13 21:43:09,  2011-05-04 23:08:15,  2...  \n",
       "2        [2013-06-14 23:29:17,  2014-08-13 23:20:22]  \n",
       "3  [2011-02-15 17:12:00,  2011-07-28 02:46:10,  2...  \n",
       "4  [2014-04-21 20:42:11,  2014-04-28 21:04:46,  2...  "
      ]
     },
     "execution_count": 65,
     "metadata": {},
     "output_type": "execute_result"
    }
   ],
   "source": [
    "checkin['lista_date'] = checkin['date'].str.split(',')\n",
    "checkin.head()"
   ]
  },
  {
   "cell_type": "markdown",
   "metadata": {
    "id": "g5qtWDtE4qNm"
   },
   "source": [
    "Eliminamos la columna `date`, hacemos explode basandonos en la columna `lista_date`, renombramos la columna y ya está lista la tabla"
   ]
  },
  {
   "cell_type": "code",
   "execution_count": null,
   "metadata": {
    "colab": {
     "base_uri": "https://localhost:8080/",
     "height": 206
    },
    "executionInfo": {
     "elapsed": 5015,
     "status": "ok",
     "timestamp": 1730232429897,
     "user": {
      "displayName": "Aliskair Rodríguez",
      "userId": "18238624046305613189"
     },
     "user_tz": 240
    },
    "id": "CpTkcWNs4qAh",
    "outputId": "097bfeee-274b-4d1e-c9b5-66206f5a9bce"
   },
   "outputs": [
    {
     "data": {
      "application/vnd.google.colaboratory.intrinsic+json": {
       "type": "dataframe",
       "variable_name": "checkin"
      },
      "text/html": [
       "\n",
       "  <div id=\"df-47c10c9f-6e4f-4662-8364-7256c70a03ce\" class=\"colab-df-container\">\n",
       "    <div>\n",
       "<style scoped>\n",
       "    .dataframe tbody tr th:only-of-type {\n",
       "        vertical-align: middle;\n",
       "    }\n",
       "\n",
       "    .dataframe tbody tr th {\n",
       "        vertical-align: top;\n",
       "    }\n",
       "\n",
       "    .dataframe thead th {\n",
       "        text-align: right;\n",
       "    }\n",
       "</style>\n",
       "<table border=\"1\" class=\"dataframe\">\n",
       "  <thead>\n",
       "    <tr style=\"text-align: right;\">\n",
       "      <th></th>\n",
       "      <th>business_id</th>\n",
       "      <th>date</th>\n",
       "    </tr>\n",
       "  </thead>\n",
       "  <tbody>\n",
       "    <tr>\n",
       "      <th>0</th>\n",
       "      <td>---kPU91CF4Lq2-WlRu9Lw</td>\n",
       "      <td>2020-03-13 21:10:56</td>\n",
       "    </tr>\n",
       "    <tr>\n",
       "      <th>0</th>\n",
       "      <td>---kPU91CF4Lq2-WlRu9Lw</td>\n",
       "      <td>2020-06-02 22:18:06</td>\n",
       "    </tr>\n",
       "    <tr>\n",
       "      <th>0</th>\n",
       "      <td>---kPU91CF4Lq2-WlRu9Lw</td>\n",
       "      <td>2020-07-24 22:42:27</td>\n",
       "    </tr>\n",
       "    <tr>\n",
       "      <th>0</th>\n",
       "      <td>---kPU91CF4Lq2-WlRu9Lw</td>\n",
       "      <td>2020-10-24 21:36:13</td>\n",
       "    </tr>\n",
       "    <tr>\n",
       "      <th>0</th>\n",
       "      <td>---kPU91CF4Lq2-WlRu9Lw</td>\n",
       "      <td>2020-12-09 21:23:33</td>\n",
       "    </tr>\n",
       "  </tbody>\n",
       "</table>\n",
       "</div>\n",
       "    <div class=\"colab-df-buttons\">\n",
       "\n",
       "  <div class=\"colab-df-container\">\n",
       "    <button class=\"colab-df-convert\" onclick=\"convertToInteractive('df-47c10c9f-6e4f-4662-8364-7256c70a03ce')\"\n",
       "            title=\"Convert this dataframe to an interactive table.\"\n",
       "            style=\"display:none;\">\n",
       "\n",
       "  <svg xmlns=\"http://www.w3.org/2000/svg\" height=\"24px\" viewBox=\"0 -960 960 960\">\n",
       "    <path d=\"M120-120v-720h720v720H120Zm60-500h600v-160H180v160Zm220 220h160v-160H400v160Zm0 220h160v-160H400v160ZM180-400h160v-160H180v160Zm440 0h160v-160H620v160ZM180-180h160v-160H180v160Zm440 0h160v-160H620v160Z\"/>\n",
       "  </svg>\n",
       "    </button>\n",
       "\n",
       "  <style>\n",
       "    .colab-df-container {\n",
       "      display:flex;\n",
       "      gap: 12px;\n",
       "    }\n",
       "\n",
       "    .colab-df-convert {\n",
       "      background-color: #E8F0FE;\n",
       "      border: none;\n",
       "      border-radius: 50%;\n",
       "      cursor: pointer;\n",
       "      display: none;\n",
       "      fill: #1967D2;\n",
       "      height: 32px;\n",
       "      padding: 0 0 0 0;\n",
       "      width: 32px;\n",
       "    }\n",
       "\n",
       "    .colab-df-convert:hover {\n",
       "      background-color: #E2EBFA;\n",
       "      box-shadow: 0px 1px 2px rgba(60, 64, 67, 0.3), 0px 1px 3px 1px rgba(60, 64, 67, 0.15);\n",
       "      fill: #174EA6;\n",
       "    }\n",
       "\n",
       "    .colab-df-buttons div {\n",
       "      margin-bottom: 4px;\n",
       "    }\n",
       "\n",
       "    [theme=dark] .colab-df-convert {\n",
       "      background-color: #3B4455;\n",
       "      fill: #D2E3FC;\n",
       "    }\n",
       "\n",
       "    [theme=dark] .colab-df-convert:hover {\n",
       "      background-color: #434B5C;\n",
       "      box-shadow: 0px 1px 3px 1px rgba(0, 0, 0, 0.15);\n",
       "      filter: drop-shadow(0px 1px 2px rgba(0, 0, 0, 0.3));\n",
       "      fill: #FFFFFF;\n",
       "    }\n",
       "  </style>\n",
       "\n",
       "    <script>\n",
       "      const buttonEl =\n",
       "        document.querySelector('#df-47c10c9f-6e4f-4662-8364-7256c70a03ce button.colab-df-convert');\n",
       "      buttonEl.style.display =\n",
       "        google.colab.kernel.accessAllowed ? 'block' : 'none';\n",
       "\n",
       "      async function convertToInteractive(key) {\n",
       "        const element = document.querySelector('#df-47c10c9f-6e4f-4662-8364-7256c70a03ce');\n",
       "        const dataTable =\n",
       "          await google.colab.kernel.invokeFunction('convertToInteractive',\n",
       "                                                    [key], {});\n",
       "        if (!dataTable) return;\n",
       "\n",
       "        const docLinkHtml = 'Like what you see? Visit the ' +\n",
       "          '<a target=\"_blank\" href=https://colab.research.google.com/notebooks/data_table.ipynb>data table notebook</a>'\n",
       "          + ' to learn more about interactive tables.';\n",
       "        element.innerHTML = '';\n",
       "        dataTable['output_type'] = 'display_data';\n",
       "        await google.colab.output.renderOutput(dataTable, element);\n",
       "        const docLink = document.createElement('div');\n",
       "        docLink.innerHTML = docLinkHtml;\n",
       "        element.appendChild(docLink);\n",
       "      }\n",
       "    </script>\n",
       "  </div>\n",
       "\n",
       "\n",
       "<div id=\"df-9d6fc739-3b6c-4cac-82cd-fe8d91f0473f\">\n",
       "  <button class=\"colab-df-quickchart\" onclick=\"quickchart('df-9d6fc739-3b6c-4cac-82cd-fe8d91f0473f')\"\n",
       "            title=\"Suggest charts\"\n",
       "            style=\"display:none;\">\n",
       "\n",
       "<svg xmlns=\"http://www.w3.org/2000/svg\" height=\"24px\"viewBox=\"0 0 24 24\"\n",
       "     width=\"24px\">\n",
       "    <g>\n",
       "        <path d=\"M19 3H5c-1.1 0-2 .9-2 2v14c0 1.1.9 2 2 2h14c1.1 0 2-.9 2-2V5c0-1.1-.9-2-2-2zM9 17H7v-7h2v7zm4 0h-2V7h2v10zm4 0h-2v-4h2v4z\"/>\n",
       "    </g>\n",
       "</svg>\n",
       "  </button>\n",
       "\n",
       "<style>\n",
       "  .colab-df-quickchart {\n",
       "      --bg-color: #E8F0FE;\n",
       "      --fill-color: #1967D2;\n",
       "      --hover-bg-color: #E2EBFA;\n",
       "      --hover-fill-color: #174EA6;\n",
       "      --disabled-fill-color: #AAA;\n",
       "      --disabled-bg-color: #DDD;\n",
       "  }\n",
       "\n",
       "  [theme=dark] .colab-df-quickchart {\n",
       "      --bg-color: #3B4455;\n",
       "      --fill-color: #D2E3FC;\n",
       "      --hover-bg-color: #434B5C;\n",
       "      --hover-fill-color: #FFFFFF;\n",
       "      --disabled-bg-color: #3B4455;\n",
       "      --disabled-fill-color: #666;\n",
       "  }\n",
       "\n",
       "  .colab-df-quickchart {\n",
       "    background-color: var(--bg-color);\n",
       "    border: none;\n",
       "    border-radius: 50%;\n",
       "    cursor: pointer;\n",
       "    display: none;\n",
       "    fill: var(--fill-color);\n",
       "    height: 32px;\n",
       "    padding: 0;\n",
       "    width: 32px;\n",
       "  }\n",
       "\n",
       "  .colab-df-quickchart:hover {\n",
       "    background-color: var(--hover-bg-color);\n",
       "    box-shadow: 0 1px 2px rgba(60, 64, 67, 0.3), 0 1px 3px 1px rgba(60, 64, 67, 0.15);\n",
       "    fill: var(--button-hover-fill-color);\n",
       "  }\n",
       "\n",
       "  .colab-df-quickchart-complete:disabled,\n",
       "  .colab-df-quickchart-complete:disabled:hover {\n",
       "    background-color: var(--disabled-bg-color);\n",
       "    fill: var(--disabled-fill-color);\n",
       "    box-shadow: none;\n",
       "  }\n",
       "\n",
       "  .colab-df-spinner {\n",
       "    border: 2px solid var(--fill-color);\n",
       "    border-color: transparent;\n",
       "    border-bottom-color: var(--fill-color);\n",
       "    animation:\n",
       "      spin 1s steps(1) infinite;\n",
       "  }\n",
       "\n",
       "  @keyframes spin {\n",
       "    0% {\n",
       "      border-color: transparent;\n",
       "      border-bottom-color: var(--fill-color);\n",
       "      border-left-color: var(--fill-color);\n",
       "    }\n",
       "    20% {\n",
       "      border-color: transparent;\n",
       "      border-left-color: var(--fill-color);\n",
       "      border-top-color: var(--fill-color);\n",
       "    }\n",
       "    30% {\n",
       "      border-color: transparent;\n",
       "      border-left-color: var(--fill-color);\n",
       "      border-top-color: var(--fill-color);\n",
       "      border-right-color: var(--fill-color);\n",
       "    }\n",
       "    40% {\n",
       "      border-color: transparent;\n",
       "      border-right-color: var(--fill-color);\n",
       "      border-top-color: var(--fill-color);\n",
       "    }\n",
       "    60% {\n",
       "      border-color: transparent;\n",
       "      border-right-color: var(--fill-color);\n",
       "    }\n",
       "    80% {\n",
       "      border-color: transparent;\n",
       "      border-right-color: var(--fill-color);\n",
       "      border-bottom-color: var(--fill-color);\n",
       "    }\n",
       "    90% {\n",
       "      border-color: transparent;\n",
       "      border-bottom-color: var(--fill-color);\n",
       "    }\n",
       "  }\n",
       "</style>\n",
       "\n",
       "  <script>\n",
       "    async function quickchart(key) {\n",
       "      const quickchartButtonEl =\n",
       "        document.querySelector('#' + key + ' button');\n",
       "      quickchartButtonEl.disabled = true;  // To prevent multiple clicks.\n",
       "      quickchartButtonEl.classList.add('colab-df-spinner');\n",
       "      try {\n",
       "        const charts = await google.colab.kernel.invokeFunction(\n",
       "            'suggestCharts', [key], {});\n",
       "      } catch (error) {\n",
       "        console.error('Error during call to suggestCharts:', error);\n",
       "      }\n",
       "      quickchartButtonEl.classList.remove('colab-df-spinner');\n",
       "      quickchartButtonEl.classList.add('colab-df-quickchart-complete');\n",
       "    }\n",
       "    (() => {\n",
       "      let quickchartButtonEl =\n",
       "        document.querySelector('#df-9d6fc739-3b6c-4cac-82cd-fe8d91f0473f button');\n",
       "      quickchartButtonEl.style.display =\n",
       "        google.colab.kernel.accessAllowed ? 'block' : 'none';\n",
       "    })();\n",
       "  </script>\n",
       "</div>\n",
       "\n",
       "    </div>\n",
       "  </div>\n"
      ],
      "text/plain": [
       "              business_id                  date\n",
       "0  ---kPU91CF4Lq2-WlRu9Lw   2020-03-13 21:10:56\n",
       "0  ---kPU91CF4Lq2-WlRu9Lw   2020-06-02 22:18:06\n",
       "0  ---kPU91CF4Lq2-WlRu9Lw   2020-07-24 22:42:27\n",
       "0  ---kPU91CF4Lq2-WlRu9Lw   2020-10-24 21:36:13\n",
       "0  ---kPU91CF4Lq2-WlRu9Lw   2020-12-09 21:23:33"
      ]
     },
     "execution_count": 66,
     "metadata": {},
     "output_type": "execute_result"
    }
   ],
   "source": [
    "checkin = checkin.drop(columns=['date'])\n",
    "checkin = checkin.explode('lista_date')\n",
    "checkin = checkin.rename(columns={'lista_date': 'date'})\n",
    "checkin.head()"
   ]
  },
  {
   "cell_type": "markdown",
   "metadata": {
    "id": "2dveOrzSNl5Q"
   },
   "source": [
    "Ahora Vamos a pasar el campo `date` a tipo `Date` y conteniendo solo la fecha"
   ]
  },
  {
   "cell_type": "code",
   "execution_count": null,
   "metadata": {
    "colab": {
     "base_uri": "https://localhost:8080/",
     "height": 255
    },
    "executionInfo": {
     "elapsed": 7718,
     "status": "ok",
     "timestamp": 1730305481441,
     "user": {
      "displayName": "Aliskair Rodríguez",
      "userId": "18238624046305613189"
     },
     "user_tz": 240
    },
    "id": "KPnbjcojN3hp",
    "outputId": "fb402f1f-5fc2-499c-ec01-c548b5bb78be"
   },
   "outputs": [
    {
     "data": {
      "text/html": [
       "<div><style>\n",
       ".dataframe > thead > tr,\n",
       ".dataframe > tbody > tr {\n",
       "  text-align: right;\n",
       "  white-space: pre-wrap;\n",
       "}\n",
       "</style>\n",
       "<small>shape: (5, 2)</small><table border=\"1\" class=\"dataframe\"><thead><tr><th>business_id</th><th>date</th></tr><tr><td>str</td><td>date</td></tr></thead><tbody><tr><td>&quot;---kPU91CF4Lq2-WlRu9Lw&quot;</td><td>2020-03-13</td></tr><tr><td>&quot;---kPU91CF4Lq2-WlRu9Lw&quot;</td><td>2020-06-02</td></tr><tr><td>&quot;---kPU91CF4Lq2-WlRu9Lw&quot;</td><td>2020-07-24</td></tr><tr><td>&quot;---kPU91CF4Lq2-WlRu9Lw&quot;</td><td>2020-10-24</td></tr><tr><td>&quot;---kPU91CF4Lq2-WlRu9Lw&quot;</td><td>2020-12-09</td></tr></tbody></table></div>"
      ],
      "text/plain": [
       "shape: (5, 2)\n",
       "┌────────────────────────┬────────────┐\n",
       "│ business_id            ┆ date       │\n",
       "│ ---                    ┆ ---        │\n",
       "│ str                    ┆ date       │\n",
       "╞════════════════════════╪════════════╡\n",
       "│ ---kPU91CF4Lq2-WlRu9Lw ┆ 2020-03-13 │\n",
       "│ ---kPU91CF4Lq2-WlRu9Lw ┆ 2020-06-02 │\n",
       "│ ---kPU91CF4Lq2-WlRu9Lw ┆ 2020-07-24 │\n",
       "│ ---kPU91CF4Lq2-WlRu9Lw ┆ 2020-10-24 │\n",
       "│ ---kPU91CF4Lq2-WlRu9Lw ┆ 2020-12-09 │\n",
       "└────────────────────────┴────────────┘"
      ]
     },
     "execution_count": 26,
     "metadata": {},
     "output_type": "execute_result"
    }
   ],
   "source": [
    "def devuelve_solo_fecha(campo:str) -> str:\n",
    "  \"\"\"\n",
    "  devuelve_solo_fecha: Devuelve los 10 primeros caracteres de una cadena  \n",
    "  Args:\n",
    "      campo (str): cadena recibida\n",
    "\n",
    "  Returns:\n",
    "      str: 10 primeros caracteres de la cadena\n",
    "  \"\"\"\n",
    "  return campo.strip()[:10]\n",
    "\n",
    "# Creo campo solo con la fecha\n",
    "checkin['only_date'] = checkin['date'].apply(devuelve_solo_fecha)\n",
    "\n",
    "# Casteo el campo de Fecha\n",
    "checkin['only_date'] = pd.to_datetime(checkin['only_date'])\n",
    "\n",
    "# Elimino el antiguo campo fecha\n",
    "checkin = checkin.drop(columns=['date'])\n",
    "\n",
    "# renombro columna\n",
    "checkin = checkin.rename(columns={'only_date': 'date'})\n",
    "\n",
    "checkin.head()"
   ]
  },
  {
   "cell_type": "markdown",
   "metadata": {
    "id": "e0UnsYuK_BWf"
   },
   "source": [
    "Se procede a Guardar las tablas `y_business`, `y_attributes_business`, `y_checkin` y `y_tip` como van a datawarehouse y ya filtradas"
   ]
  },
  {
   "cell_type": "code",
   "execution_count": null,
   "metadata": {
    "id": "EN0vng6YABak"
   },
   "outputs": [],
   "source": [
    "# Guardando la tabla `y_business`\n",
    "business.to_parquet('datasets/yelp/filtrados_segun_maestro_cat/y_business.parquet', index=False)\n",
    "\n",
    "# Guardando la tabla `y_attributes_business`\n",
    "attributes.to_parquet('datasets/yelp/filtrados_segun_maestro_cat/y_attributes_business.parquet', index=False)\n",
    "\n",
    "# Guardando la tabla `y_checkin`\n",
    "checkin.to_parquet('datasets/yelp/filtrados_segun_maestro_cat/y_checkin.parquet', index=False)\n",
    "\n",
    "# Guardando la tabla `y_tip`\n",
    "tip.to_parquet('datasets/yelp/filtrados_segun_maestro_cat/y_tip.parquet', index=False)"
   ]
  },
  {
   "cell_type": "markdown",
   "metadata": {
    "id": "5n24I3aVEZCj"
   },
   "source": [
    "Vamos a Borrar Variables para Liberar Memoria y poder seguir Trabajando"
   ]
  },
  {
   "cell_type": "code",
   "execution_count": null,
   "metadata": {
    "colab": {
     "base_uri": "https://localhost:8080/"
    },
    "executionInfo": {
     "elapsed": 216,
     "status": "ok",
     "timestamp": 1730235888482,
     "user": {
      "displayName": "Aliskair Rodríguez",
      "userId": "18238624046305613189"
     },
     "user_tz": 240
    },
    "id": "mo33mDbLENkM",
    "outputId": "06184f4f-319a-4afb-8953-d0d727bc245a"
   },
   "outputs": [
    {
     "data": {
      "text/plain": [
       "76"
      ]
     },
     "execution_count": 77,
     "metadata": {},
     "output_type": "execute_result"
    }
   ],
   "source": [
    "del business\n",
    "\n",
    "del attributes\n",
    "\n",
    "del checkin\n",
    "\n",
    "del tip\n",
    "\n",
    "gc.collect()"
   ]
  },
  {
   "cell_type": "markdown",
   "metadata": {
    "id": "QoUOVLmEE1S5"
   },
   "source": [
    "## Vamos a cargar el archivo `review.json` tal como viene original del exterior"
   ]
  },
  {
   "cell_type": "code",
   "execution_count": null,
   "metadata": {
    "id": "h0hCgBHDF9w3"
   },
   "outputs": [],
   "source": [
    "reviews = pd.read_ndjson(\"datasets/yelp/review.json\", lines=True)"
   ]
  },
  {
   "cell_type": "code",
   "execution_count": null,
   "metadata": {
    "colab": {
     "base_uri": "https://localhost:8080/",
     "height": 341
    },
    "executionInfo": {
     "elapsed": 284,
     "status": "ok",
     "timestamp": 1730236568637,
     "user": {
      "displayName": "Aliskair Rodríguez",
      "userId": "18238624046305613189"
     },
     "user_tz": 240
    },
    "id": "q820KH_dIg0I",
    "outputId": "0f017009-b6a9-4068-e3e5-b0658b13926f"
   },
   "outputs": [
    {
     "data": {
      "text/html": [
       "<div><style>\n",
       ".dataframe > thead > tr,\n",
       ".dataframe > tbody > tr {\n",
       "  text-align: right;\n",
       "  white-space: pre-wrap;\n",
       "}\n",
       "</style>\n",
       "<small>shape: (5, 9)</small><table border=\"1\" class=\"dataframe\"><thead><tr><th>review_id</th><th>user_id</th><th>business_id</th><th>stars</th><th>useful</th><th>funny</th><th>cool</th><th>text</th><th>date</th></tr><tr><td>str</td><td>str</td><td>str</td><td>f64</td><td>i64</td><td>i64</td><td>i64</td><td>str</td><td>str</td></tr></thead><tbody><tr><td>&quot;KU_O5udG6zpxOg-VcAEodg&quot;</td><td>&quot;mh_-eMZ6K5RLWhZyISBhwA&quot;</td><td>&quot;XQfwVwDr-v0ZS3_CbbE5Xw&quot;</td><td>3.0</td><td>0</td><td>0</td><td>0</td><td>&quot;If you decide to eat here, jus…</td><td>&quot;2018-07-07 22:09:11&quot;</td></tr><tr><td>&quot;BiTunyQ73aT9WBnpR9DZGw&quot;</td><td>&quot;OyoGAe7OKpv6SyGZT5g77Q&quot;</td><td>&quot;7ATYjTIgM3jUlt4UM3IypQ&quot;</td><td>5.0</td><td>1</td><td>0</td><td>1</td><td>&quot;I&#x27;ve taken a lot of spin class…</td><td>&quot;2012-01-03 15:28:18&quot;</td></tr><tr><td>&quot;saUsX_uimxRlCVr67Z4Jig&quot;</td><td>&quot;8g_iMtfSiwikVnbP2etR0A&quot;</td><td>&quot;YjUWPpI6HXG530lwP-fb2A&quot;</td><td>3.0</td><td>0</td><td>0</td><td>0</td><td>&quot;Family diner. Had the buffet. …</td><td>&quot;2014-02-05 20:30:30&quot;</td></tr><tr><td>&quot;AqPFMleE6RsU23_auESxiA&quot;</td><td>&quot;_7bHUi9Uuf5__HHc_Q8guQ&quot;</td><td>&quot;kxX2SOes4o-D3ZQBkiMRfA&quot;</td><td>5.0</td><td>1</td><td>0</td><td>1</td><td>&quot;Wow!  Yummy, different,  delic…</td><td>&quot;2015-01-04 00:01:03&quot;</td></tr><tr><td>&quot;Sx8TMOWLNuJBWer-0pcmoA&quot;</td><td>&quot;bcjbaE6dDog4jkNY91ncLQ&quot;</td><td>&quot;e4Vwtrqf-wpJfwesgvdgxQ&quot;</td><td>4.0</td><td>1</td><td>0</td><td>1</td><td>&quot;Cute interior and owner (?) ga…</td><td>&quot;2017-01-14 20:54:15&quot;</td></tr></tbody></table></div>"
      ],
      "text/plain": [
       "shape: (5, 9)\n",
       "┌──────────────┬──────────────┬─────────────┬───────┬───┬───────┬──────┬─────────────┬─────────────┐\n",
       "│ review_id    ┆ user_id      ┆ business_id ┆ stars ┆ … ┆ funny ┆ cool ┆ text        ┆ date        │\n",
       "│ ---          ┆ ---          ┆ ---         ┆ ---   ┆   ┆ ---   ┆ ---  ┆ ---         ┆ ---         │\n",
       "│ str          ┆ str          ┆ str         ┆ f64   ┆   ┆ i64   ┆ i64  ┆ str         ┆ str         │\n",
       "╞══════════════╪══════════════╪═════════════╪═══════╪═══╪═══════╪══════╪═════════════╪═════════════╡\n",
       "│ KU_O5udG6zpx ┆ mh_-eMZ6K5RL ┆ XQfwVwDr-v0 ┆ 3.0   ┆ … ┆ 0     ┆ 0    ┆ If you      ┆ 2018-07-07  │\n",
       "│ Og-VcAEodg   ┆ WhZyISBhwA   ┆ ZS3_CbbE5Xw ┆       ┆   ┆       ┆      ┆ decide to   ┆ 22:09:11    │\n",
       "│              ┆              ┆             ┆       ┆   ┆       ┆      ┆ eat here,   ┆             │\n",
       "│              ┆              ┆             ┆       ┆   ┆       ┆      ┆ jus…        ┆             │\n",
       "│ BiTunyQ73aT9 ┆ OyoGAe7OKpv6 ┆ 7ATYjTIgM3j ┆ 5.0   ┆ … ┆ 0     ┆ 1    ┆ I've taken  ┆ 2012-01-03  │\n",
       "│ WBnpR9DZGw   ┆ SyGZT5g77Q   ┆ Ult4UM3IypQ ┆       ┆   ┆       ┆      ┆ a lot of    ┆ 15:28:18    │\n",
       "│              ┆              ┆             ┆       ┆   ┆       ┆      ┆ spin class… ┆             │\n",
       "│ saUsX_uimxRl ┆ 8g_iMtfSiwik ┆ YjUWPpI6HXG ┆ 3.0   ┆ … ┆ 0     ┆ 0    ┆ Family      ┆ 2014-02-05  │\n",
       "│ CVr67Z4Jig   ┆ VnbP2etR0A   ┆ 530lwP-fb2A ┆       ┆   ┆       ┆      ┆ diner. Had  ┆ 20:30:30    │\n",
       "│              ┆              ┆             ┆       ┆   ┆       ┆      ┆ the buffet. ┆             │\n",
       "│              ┆              ┆             ┆       ┆   ┆       ┆      ┆ …           ┆             │\n",
       "│ AqPFMleE6RsU ┆ _7bHUi9Uuf5_ ┆ kxX2SOes4o- ┆ 5.0   ┆ … ┆ 0     ┆ 1    ┆ Wow!        ┆ 2015-01-04  │\n",
       "│ 23_auESxiA   ┆ _HHc_Q8guQ   ┆ D3ZQBkiMRfA ┆       ┆   ┆       ┆      ┆ Yummy,      ┆ 00:01:03    │\n",
       "│              ┆              ┆             ┆       ┆   ┆       ┆      ┆ different,  ┆             │\n",
       "│              ┆              ┆             ┆       ┆   ┆       ┆      ┆ delic…      ┆             │\n",
       "│ Sx8TMOWLNuJB ┆ bcjbaE6dDog4 ┆ e4Vwtrqf-wp ┆ 4.0   ┆ … ┆ 0     ┆ 1    ┆ Cute        ┆ 2017-01-14  │\n",
       "│ Wer-0pcmoA   ┆ jkNY91ncLQ   ┆ JfwesgvdgxQ ┆       ┆   ┆       ┆      ┆ interior    ┆ 20:54:15    │\n",
       "│              ┆              ┆             ┆       ┆   ┆       ┆      ┆ and owner   ┆             │\n",
       "│              ┆              ┆             ┆       ┆   ┆       ┆      ┆ (?) ga…     ┆             │\n",
       "└──────────────┴──────────────┴─────────────┴───────┴───┴───────┴──────┴─────────────┴─────────────┘"
      ]
     },
     "execution_count": 80,
     "metadata": {},
     "output_type": "execute_result"
    }
   ],
   "source": [
    "reviews.head()"
   ]
  },
  {
   "cell_type": "markdown",
   "metadata": {
    "id": "AuF1YlyoIHU8"
   },
   "source": [
    "## Filtremos las reviews de los bussines de la categoria alimentos y bebidas"
   ]
  },
  {
   "cell_type": "code",
   "execution_count": null,
   "metadata": {
    "id": "q0kkZ4RpIwxH"
   },
   "outputs": [],
   "source": [
    "mask = reviews['business_id'].isin(lista_business_alimentos_bebidas)\n",
    "\n",
    "reviews = reviews.loc[mask]"
   ]
  },
  {
   "cell_type": "markdown",
   "metadata": {
    "id": "4k7O0uDHJS2f"
   },
   "source": [
    "Revisando cuantos Nulos vienen"
   ]
  },
  {
   "cell_type": "code",
   "execution_count": null,
   "metadata": {
    "colab": {
     "base_uri": "https://localhost:8080/"
    },
    "executionInfo": {
     "elapsed": 264,
     "status": "ok",
     "timestamp": 1730236765787,
     "user": {
      "displayName": "Aliskair Rodríguez",
      "userId": "18238624046305613189"
     },
     "user_tz": 240
    },
    "id": "oSLOE2zzJEwF",
    "outputId": "e5850e54-394e-484e-915c-8b49ebd7a895"
   },
   "outputs": [
    {
     "name": "stdout",
     "output_type": "stream",
     "text": [
      "Columna  review_id -> 0 \n",
      "Columna  user_id -> 0 \n",
      "Columna  business_id -> 0 \n",
      "Columna  stars -> 0 \n",
      "Columna  useful -> 0 \n",
      "Columna  funny -> 0 \n",
      "Columna  cool -> 0 \n",
      "Columna  text -> 0 \n",
      "Columna  date -> 0 \n"
     ]
    }
   ],
   "source": [
    "for column in reviews.columns:\n",
    "    print(f'Columna  {column} -> {reviews[column].isnull().sum()} ')"
   ]
  },
  {
   "cell_type": "code",
   "execution_count": null,
   "metadata": {
    "colab": {
     "base_uri": "https://localhost:8080/"
    },
    "executionInfo": {
     "elapsed": 3781,
     "status": "ok",
     "timestamp": 1730237049717,
     "user": {
      "displayName": "Aliskair Rodríguez",
      "userId": "18238624046305613189"
     },
     "user_tz": 240
    },
    "id": "FxpYNgMVJfLG",
    "outputId": "80eef0e4-c859-4210-8161-1d2481f80ddf"
   },
   "outputs": [
    {
     "name": "stdout",
     "output_type": "stream",
     "text": [
      "Cantidad de Filas -> 1297614\n",
      "Cantidad reviews_id  No repetidas -> 1297614\n",
      "Cantidad filas No repetidas -> 1297614\n"
     ]
    }
   ],
   "source": [
    "print(f'Cantidad de Filas -> {reviews.shape[0]}')\n",
    "print(f'Cantidad reviews_id  No repetidas -> {reviews[\"review_id\"].unique().shape[0]}')\n",
    "print(f'Cantidad filas No repetidas -> {reviews.unique().shape[0]}')"
   ]
  },
  {
   "cell_type": "code",
   "execution_count": null,
   "metadata": {
    "colab": {
     "base_uri": "https://localhost:8080/",
     "height": 147
    },
    "executionInfo": {
     "elapsed": 318,
     "status": "ok",
     "timestamp": 1730237300433,
     "user": {
      "displayName": "Aliskair Rodríguez",
      "userId": "18238624046305613189"
     },
     "user_tz": 240
    },
    "id": "CefSzOG5Jv2g",
    "outputId": "c9023d27-064c-4825-a12b-710488bbe33a"
   },
   "outputs": [
    {
     "data": {
      "text/html": [
       "<div><style>\n",
       ".dataframe > thead > tr,\n",
       ".dataframe > tbody > tr {\n",
       "  text-align: right;\n",
       "  white-space: pre-wrap;\n",
       "}\n",
       "</style>\n",
       "<small>shape: (1, 9)</small><table border=\"1\" class=\"dataframe\"><thead><tr><th>review_id</th><th>user_id</th><th>business_id</th><th>stars</th><th>useful</th><th>funny</th><th>cool</th><th>text</th><th>date</th></tr><tr><td>str</td><td>str</td><td>str</td><td>f64</td><td>i64</td><td>i64</td><td>i64</td><td>str</td><td>str</td></tr></thead><tbody><tr><td>&quot;AqPFMleE6RsU23_auESxiA&quot;</td><td>&quot;_7bHUi9Uuf5__HHc_Q8guQ&quot;</td><td>&quot;kxX2SOes4o-D3ZQBkiMRfA&quot;</td><td>5.0</td><td>1</td><td>0</td><td>1</td><td>&quot;Wow!  Yummy, different,  delic…</td><td>&quot;2015-01-04 00:01:03&quot;</td></tr></tbody></table></div>"
      ],
      "text/plain": [
       "shape: (1, 9)\n",
       "┌──────────────┬──────────────┬─────────────┬───────┬───┬───────┬──────┬─────────────┬─────────────┐\n",
       "│ review_id    ┆ user_id      ┆ business_id ┆ stars ┆ … ┆ funny ┆ cool ┆ text        ┆ date        │\n",
       "│ ---          ┆ ---          ┆ ---         ┆ ---   ┆   ┆ ---   ┆ ---  ┆ ---         ┆ ---         │\n",
       "│ str          ┆ str          ┆ str         ┆ f64   ┆   ┆ i64   ┆ i64  ┆ str         ┆ str         │\n",
       "╞══════════════╪══════════════╪═════════════╪═══════╪═══╪═══════╪══════╪═════════════╪═════════════╡\n",
       "│ AqPFMleE6RsU ┆ _7bHUi9Uuf5_ ┆ kxX2SOes4o- ┆ 5.0   ┆ … ┆ 0     ┆ 1    ┆ Wow!        ┆ 2015-01-04  │\n",
       "│ 23_auESxiA   ┆ _HHc_Q8guQ   ┆ D3ZQBkiMRfA ┆       ┆   ┆       ┆      ┆ Yummy,      ┆ 00:01:03    │\n",
       "│              ┆              ┆             ┆       ┆   ┆       ┆      ┆ different,  ┆             │\n",
       "│              ┆              ┆             ┆       ┆   ┆       ┆      ┆ delic…      ┆             │\n",
       "└──────────────┴──────────────┴─────────────┴───────┴───┴───────┴──────┴─────────────┴─────────────┘"
      ]
     },
     "execution_count": 86,
     "metadata": {},
     "output_type": "execute_result"
    }
   ],
   "source": [
    "reviews.head(1)"
   ]
  },
  {
   "cell_type": "markdown",
   "metadata": {
    "id": "QpkhYhg7LgcR"
   },
   "source": [
    "Vamos a crear una columna que sea solo fecha"
   ]
  },
  {
   "cell_type": "code",
   "execution_count": null,
   "metadata": {
    "colab": {
     "base_uri": "https://localhost:8080/",
     "height": 255
    },
    "executionInfo": {
     "elapsed": 1252,
     "status": "ok",
     "timestamp": 1730238018483,
     "user": {
      "displayName": "Aliskair Rodríguez",
      "userId": "18238624046305613189"
     },
     "user_tz": 240
    },
    "id": "JODSjOpFLqhR",
    "outputId": "5ff47d00-5d1f-40df-8ad3-8466bb0edb4b"
   },
   "outputs": [
    {
     "data": {
      "text/html": [
       "<div><style>\n",
       ".dataframe > thead > tr,\n",
       ".dataframe > tbody > tr {\n",
       "  text-align: right;\n",
       "  white-space: pre-wrap;\n",
       "}\n",
       "</style>\n",
       "<small>shape: (5, 9)</small><table border=\"1\" class=\"dataframe\"><thead><tr><th>review_id</th><th>user_id</th><th>business_id</th><th>stars</th><th>useful</th><th>funny</th><th>cool</th><th>text</th><th>date</th></tr><tr><td>str</td><td>str</td><td>str</td><td>f64</td><td>i64</td><td>i64</td><td>i64</td><td>str</td><td>date</td></tr></thead><tbody><tr><td>&quot;AqPFMleE6RsU23_auESxiA&quot;</td><td>&quot;_7bHUi9Uuf5__HHc_Q8guQ&quot;</td><td>&quot;kxX2SOes4o-D3ZQBkiMRfA&quot;</td><td>5.0</td><td>1</td><td>0</td><td>1</td><td>&quot;Wow!  Yummy, different,  delic…</td><td>2015-01-04</td></tr><tr><td>&quot;Sx8TMOWLNuJBWer-0pcmoA&quot;</td><td>&quot;bcjbaE6dDog4jkNY91ncLQ&quot;</td><td>&quot;e4Vwtrqf-wpJfwesgvdgxQ&quot;</td><td>4.0</td><td>1</td><td>0</td><td>1</td><td>&quot;Cute interior and owner (?) ga…</td><td>2017-01-14</td></tr><tr><td>&quot;l3Wk_mvAog6XANIuGQ9C7Q&quot;</td><td>&quot;ZbqSHbgCjzVAqaa7NKWn5A&quot;</td><td>&quot;EQ-TZ2eeD_E0BHuvoaeG5Q&quot;</td><td>4.0</td><td>0</td><td>0</td><td>0</td><td>&quot;Locals recommended Milktooth, …</td><td>2015-08-19</td></tr><tr><td>&quot;lUUhg8ltDsUZ9h0xnwY4Dg&quot;</td><td>&quot;RreNy--tOmXMl1en0wiBOg&quot;</td><td>&quot;cPepkJeRMtHapc_b2Oe_dw&quot;</td><td>4.0</td><td>1</td><td>0</td><td>1</td><td>&quot;I was really between 3 and 4 s…</td><td>2018-07-17</td></tr><tr><td>&quot;xdQe2E8jR6pLA07p1aYtKA&quot;</td><td>&quot;yFuE8SPF-d1GXJUWYgKtzg&quot;</td><td>&quot;X8lfGPagfLzfOsx0k08NRQ&quot;</td><td>5.0</td><td>0</td><td>0</td><td>0</td><td>&quot;Took my vehicle here for some …</td><td>2017-05-13</td></tr></tbody></table></div>"
      ],
      "text/plain": [
       "shape: (5, 9)\n",
       "┌──────────────┬──────────────┬──────────────┬───────┬───┬───────┬──────┬─────────────┬────────────┐\n",
       "│ review_id    ┆ user_id      ┆ business_id  ┆ stars ┆ … ┆ funny ┆ cool ┆ text        ┆ date       │\n",
       "│ ---          ┆ ---          ┆ ---          ┆ ---   ┆   ┆ ---   ┆ ---  ┆ ---         ┆ ---        │\n",
       "│ str          ┆ str          ┆ str          ┆ f64   ┆   ┆ i64   ┆ i64  ┆ str         ┆ date       │\n",
       "╞══════════════╪══════════════╪══════════════╪═══════╪═══╪═══════╪══════╪═════════════╪════════════╡\n",
       "│ AqPFMleE6RsU ┆ _7bHUi9Uuf5_ ┆ kxX2SOes4o-D ┆ 5.0   ┆ … ┆ 0     ┆ 1    ┆ Wow!        ┆ 2015-01-04 │\n",
       "│ 23_auESxiA   ┆ _HHc_Q8guQ   ┆ 3ZQBkiMRfA   ┆       ┆   ┆       ┆      ┆ Yummy,      ┆            │\n",
       "│              ┆              ┆              ┆       ┆   ┆       ┆      ┆ different,  ┆            │\n",
       "│              ┆              ┆              ┆       ┆   ┆       ┆      ┆ delic…      ┆            │\n",
       "│ Sx8TMOWLNuJB ┆ bcjbaE6dDog4 ┆ e4Vwtrqf-wpJ ┆ 4.0   ┆ … ┆ 0     ┆ 1    ┆ Cute        ┆ 2017-01-14 │\n",
       "│ Wer-0pcmoA   ┆ jkNY91ncLQ   ┆ fwesgvdgxQ   ┆       ┆   ┆       ┆      ┆ interior    ┆            │\n",
       "│              ┆              ┆              ┆       ┆   ┆       ┆      ┆ and owner   ┆            │\n",
       "│              ┆              ┆              ┆       ┆   ┆       ┆      ┆ (?) ga…     ┆            │\n",
       "│ l3Wk_mvAog6X ┆ ZbqSHbgCjzVA ┆ EQ-TZ2eeD_E0 ┆ 4.0   ┆ … ┆ 0     ┆ 0    ┆ Locals      ┆ 2015-08-19 │\n",
       "│ ANIuGQ9C7Q   ┆ qaa7NKWn5A   ┆ BHuvoaeG5Q   ┆       ┆   ┆       ┆      ┆ recommended ┆            │\n",
       "│              ┆              ┆              ┆       ┆   ┆       ┆      ┆ Milktooth,  ┆            │\n",
       "│              ┆              ┆              ┆       ┆   ┆       ┆      ┆ …           ┆            │\n",
       "│ lUUhg8ltDsUZ ┆ RreNy--tOmXM ┆ cPepkJeRMtHa ┆ 4.0   ┆ … ┆ 0     ┆ 1    ┆ I was       ┆ 2018-07-17 │\n",
       "│ 9h0xnwY4Dg   ┆ l1en0wiBOg   ┆ pc_b2Oe_dw   ┆       ┆   ┆       ┆      ┆ really      ┆            │\n",
       "│              ┆              ┆              ┆       ┆   ┆       ┆      ┆ between 3   ┆            │\n",
       "│              ┆              ┆              ┆       ┆   ┆       ┆      ┆ and 4 s…    ┆            │\n",
       "│ xdQe2E8jR6pL ┆ yFuE8SPF-d1G ┆ X8lfGPagfLzf ┆ 5.0   ┆ … ┆ 0     ┆ 0    ┆ Took my     ┆ 2017-05-13 │\n",
       "│ A07p1aYtKA   ┆ XJUWYgKtzg   ┆ Osx0k08NRQ   ┆       ┆   ┆       ┆      ┆ vehicle     ┆            │\n",
       "│              ┆              ┆              ┆       ┆   ┆       ┆      ┆ here for    ┆            │\n",
       "│              ┆              ┆              ┆       ┆   ┆       ┆      ┆ some …      ┆            │\n",
       "└──────────────┴──────────────┴──────────────┴───────┴───┴───────┴──────┴─────────────┴────────────┘"
      ]
     },
     "execution_count": 87,
     "metadata": {},
     "output_type": "execute_result"
    }
   ],
   "source": [
    "# Creo campo solo con la fecha\n",
    "reviews['only_date'] = reviews['date'].apply(devuelve_solo_fecha)\n",
    "\n",
    "# Casteo el campo de Fecha\n",
    "reviews['only_date'] = pd.to_datetime(reviews['only_date'])\n",
    "\n",
    "# Elimino el antiguo campo fecha\n",
    "reviews = reviews.drop(columns=['date'])\n",
    "\n",
    "# renombro columna\n",
    "reviews = reviews.rename(columns={'only_date': 'date'})\n",
    "\n",
    "reviews.head()"
   ]
  },
  {
   "cell_type": "markdown",
   "metadata": {
    "id": "SBgJrX4dOgRZ"
   },
   "source": [
    "Escogiendo las reseñas a partir del 2021"
   ]
  },
  {
   "cell_type": "code",
   "execution_count": null,
   "metadata": {
    "colab": {
     "base_uri": "https://localhost:8080/"
    },
    "executionInfo": {
     "elapsed": 194,
     "status": "ok",
     "timestamp": 1730238259106,
     "user": {
      "displayName": "Aliskair Rodríguez",
      "userId": "18238624046305613189"
     },
     "user_tz": 240
    },
    "id": "OkHgH2ICPEGm",
    "outputId": "734c7796-4ac4-467d-b353-69140e50f85d"
   },
   "outputs": [
    {
     "name": "stdout",
     "output_type": "stream",
     "text": [
      "Cantidad de Filas -> 1297614\n"
     ]
    }
   ],
   "source": [
    "print(f'Cantidad de Filas -> {reviews.shape[0]}')"
   ]
  },
  {
   "cell_type": "code",
   "execution_count": null,
   "metadata": {
    "colab": {
     "base_uri": "https://localhost:8080/"
    },
    "executionInfo": {
     "elapsed": 205,
     "status": "ok",
     "timestamp": 1730238338598,
     "user": {
      "displayName": "Aliskair Rodríguez",
      "userId": "18238624046305613189"
     },
     "user_tz": 240
    },
    "id": "lWmGENBnOh9O",
    "outputId": "6c29835c-2f7a-4892-c9e5-eb356ef05629"
   },
   "outputs": [
    {
     "name": "stdout",
     "output_type": "stream",
     "text": [
      "Cantidad de Filas a partir del 2021 -> 115290\n"
     ]
    }
   ],
   "source": [
    "mask = reviews['date'] > datetime.strptime('2020-12-31', '%Y-%m-%d')\n",
    "reviews = reviews.loc[mask]\n",
    "\n",
    "print(f'Cantidad de Filas a partir del 2021 -> {reviews.shape[0]}')"
   ]
  },
  {
   "cell_type": "markdown",
   "metadata": {
    "id": "q4JY3Va1QDcF"
   },
   "source": [
    "Toca Guardar la Tabla `y_reviews`"
   ]
  },
  {
   "cell_type": "code",
   "execution_count": null,
   "metadata": {
    "id": "k3_p4MvIQTAJ"
   },
   "outputs": [],
   "source": [
    "# Guardando la tabla `y_reviews`\n",
    "reviews.to_parquet('datasets/yelp/filtrados_segun_maestro_cat/y_review.parquet', index=False)"
   ]
  },
  {
   "cell_type": "markdown",
   "metadata": {
    "id": "IW_asxNY815M"
   },
   "source": [
    "Antes de Borrar la variable `reviews` necesito obtener la lista de los id de los usuarios para poder filtrar la información de usuarios"
   ]
  },
  {
   "cell_type": "code",
   "execution_count": null,
   "metadata": {
    "id": "gVjjkUCn9I7c"
   },
   "outputs": [],
   "source": [
    "lista_usuarios_a_filtrar = reviews['user_id'].unique().tolist()"
   ]
  },
  {
   "cell_type": "markdown",
   "metadata": {
    "id": "RPZnufc99boD"
   },
   "source": [
    "Ahora si puedo Borrar la variable y liberar memoria para seguir trabajando"
   ]
  },
  {
   "cell_type": "code",
   "execution_count": null,
   "metadata": {
    "colab": {
     "base_uri": "https://localhost:8080/"
    },
    "executionInfo": {
     "elapsed": 229,
     "status": "ok",
     "timestamp": 1730250421655,
     "user": {
      "displayName": "Aliskair Rodríguez",
      "userId": "18238624046305613189"
     },
     "user_tz": 240
    },
    "id": "0FjWTBhh9hz3",
    "outputId": "13be140c-b093-4237-e01b-c2f3f28ab03e"
   },
   "outputs": [
    {
     "data": {
      "text/plain": [
       "204"
      ]
     },
     "execution_count": 5,
     "metadata": {},
     "output_type": "execute_result"
    }
   ],
   "source": [
    "del reviews\n",
    "gc.collect()"
   ]
  },
  {
   "cell_type": "markdown",
   "metadata": {
    "id": "ErqKVim99nFy"
   },
   "source": [
    "## Vamos a cargar el archivo `user.parquet` tal como viene original del exterior"
   ]
  },
  {
   "cell_type": "code",
   "execution_count": null,
   "metadata": {
    "id": "BHH1H_HG-5m5"
   },
   "outputs": [],
   "source": [
    "user = pd.read_parquet(\"datasets/yelp/archivos_originales/user.parquet\")"
   ]
  },
  {
   "cell_type": "code",
   "execution_count": null,
   "metadata": {
    "colab": {
     "base_uri": "https://localhost:8080/",
     "height": 379
    },
    "executionInfo": {
     "elapsed": 222,
     "status": "ok",
     "timestamp": 1730252310435,
     "user": {
      "displayName": "Aliskair Rodríguez",
      "userId": "18238624046305613189"
     },
     "user_tz": 240
    },
    "id": "LPQTa5ueEu9g",
    "outputId": "fe08a53d-81ae-4b2a-cca7-1cc3e238b4db"
   },
   "outputs": [
    {
     "data": {
      "text/html": [
       "<div><style>\n",
       ".dataframe > thead > tr,\n",
       ".dataframe > tbody > tr {\n",
       "  text-align: right;\n",
       "  white-space: pre-wrap;\n",
       "}\n",
       "</style>\n",
       "<small>shape: (5, 22)</small><table border=\"1\" class=\"dataframe\"><thead><tr><th>user_id</th><th>name</th><th>review_count</th><th>yelping_since</th><th>useful</th><th>funny</th><th>cool</th><th>elite</th><th>friends</th><th>fans</th><th>average_stars</th><th>compliment_hot</th><th>compliment_more</th><th>compliment_profile</th><th>compliment_cute</th><th>compliment_list</th><th>compliment_note</th><th>compliment_plain</th><th>compliment_cool</th><th>compliment_funny</th><th>compliment_writer</th><th>compliment_photos</th></tr><tr><td>str</td><td>str</td><td>i64</td><td>str</td><td>i64</td><td>i64</td><td>i64</td><td>str</td><td>str</td><td>i64</td><td>f64</td><td>i64</td><td>i64</td><td>i64</td><td>i64</td><td>i64</td><td>i64</td><td>i64</td><td>i64</td><td>i64</td><td>i64</td><td>i64</td></tr></thead><tbody><tr><td>&quot;qVc8ODYU5SZjKXVBgXdI7w&quot;</td><td>&quot;Walker&quot;</td><td>585</td><td>&quot;2007-01-25 16:47:26&quot;</td><td>7217</td><td>1259</td><td>5994</td><td>&quot;2007&quot;</td><td>&quot;NSCy54eWehBJyZdG2iE84w, pe42u7…</td><td>267</td><td>3.91</td><td>250</td><td>65</td><td>55</td><td>56</td><td>18</td><td>232</td><td>844</td><td>467</td><td>467</td><td>239</td><td>180</td></tr><tr><td>&quot;j14WgRoU_-2ZE1aw1dXrJg&quot;</td><td>&quot;Daniel&quot;</td><td>4333</td><td>&quot;2009-01-25 04:35:42&quot;</td><td>43091</td><td>13066</td><td>27281</td><td>&quot;2009,2010,2011,2012,2013,2014,…</td><td>&quot;ueRPE0CX75ePGMqOFVj6IQ, 52oH4D…</td><td>3138</td><td>3.74</td><td>1145</td><td>264</td><td>184</td><td>157</td><td>251</td><td>1847</td><td>7054</td><td>3131</td><td>3131</td><td>1521</td><td>1946</td></tr><tr><td>&quot;0G-QF457q_0Z_jKqh6xWiA&quot;</td><td>&quot;Joi&quot;</td><td>2009</td><td>&quot;2008-03-12 19:13:45&quot;</td><td>27137</td><td>14049</td><td>20385</td><td>&quot;2009,2010,2011,2012,2013,2014,…</td><td>&quot;K8h4ypoVZAnmhC2dHKsDrQ, 7nS_R5…</td><td>944</td><td>4.1</td><td>1729</td><td>129</td><td>105</td><td>152</td><td>76</td><td>2073</td><td>6409</td><td>2442</td><td>2442</td><td>1117</td><td>462</td></tr><tr><td>&quot;ouODopBKF3AqfCkuQEnrDg&quot;</td><td>&quot;Danan&quot;</td><td>2108</td><td>&quot;2010-04-09 05:28:01&quot;</td><td>4527</td><td>1110</td><td>2850</td><td>&quot;2010,2011,2012,2013,2014,2015,…</td><td>&quot;tlEHfYMPIm8-AMMk3T1s0w, aOkQtJ…</td><td>134</td><td>3.57</td><td>62</td><td>15</td><td>20</td><td>10</td><td>1</td><td>65</td><td>87</td><td>89</td><td>89</td><td>92</td><td>6</td></tr><tr><td>&quot;1ziEzn7BoXTfOQ4YBkdz1Q&quot;</td><td>&quot;Christine&quot;</td><td>703</td><td>&quot;2008-05-07 20:40:15&quot;</td><td>1577</td><td>430</td><td>699</td><td>&quot;2009,2010,2011,2012,2013,2014,…</td><td>&quot;U0JD-MOcBHmoRLYaaB7m1g, elIIKD…</td><td>53</td><td>3.81</td><td>16</td><td>5</td><td>4</td><td>4</td><td>0</td><td>40</td><td>57</td><td>63</td><td>63</td><td>31</td><td>8</td></tr></tbody></table></div>"
      ],
      "text/plain": [
       "shape: (5, 22)\n",
       "┌───────────┬───────────┬───────────┬───────────┬───┬───────────┬───────────┬───────────┬──────────┐\n",
       "│ user_id   ┆ name      ┆ review_co ┆ yelping_s ┆ … ┆ complimen ┆ complimen ┆ complimen ┆ complime │\n",
       "│ ---       ┆ ---       ┆ unt       ┆ ince      ┆   ┆ t_cool    ┆ t_funny   ┆ t_writer  ┆ nt_photo │\n",
       "│ str       ┆ str       ┆ ---       ┆ ---       ┆   ┆ ---       ┆ ---       ┆ ---       ┆ s        │\n",
       "│           ┆           ┆ i64       ┆ str       ┆   ┆ i64       ┆ i64       ┆ i64       ┆ ---      │\n",
       "│           ┆           ┆           ┆           ┆   ┆           ┆           ┆           ┆ i64      │\n",
       "╞═══════════╪═══════════╪═══════════╪═══════════╪═══╪═══════════╪═══════════╪═══════════╪══════════╡\n",
       "│ qVc8ODYU5 ┆ Walker    ┆ 585       ┆ 2007-01-2 ┆ … ┆ 467       ┆ 467       ┆ 239       ┆ 180      │\n",
       "│ SZjKXVBgX ┆           ┆           ┆ 5         ┆   ┆           ┆           ┆           ┆          │\n",
       "│ dI7w      ┆           ┆           ┆ 16:47:26  ┆   ┆           ┆           ┆           ┆          │\n",
       "│ j14WgRoU_ ┆ Daniel    ┆ 4333      ┆ 2009-01-2 ┆ … ┆ 3131      ┆ 3131      ┆ 1521      ┆ 1946     │\n",
       "│ -2ZE1aw1d ┆           ┆           ┆ 5         ┆   ┆           ┆           ┆           ┆          │\n",
       "│ XrJg      ┆           ┆           ┆ 04:35:42  ┆   ┆           ┆           ┆           ┆          │\n",
       "│ 0G-QF457q ┆ Joi       ┆ 2009      ┆ 2008-03-1 ┆ … ┆ 2442      ┆ 2442      ┆ 1117      ┆ 462      │\n",
       "│ _0Z_jKqh6 ┆           ┆           ┆ 2         ┆   ┆           ┆           ┆           ┆          │\n",
       "│ xWiA      ┆           ┆           ┆ 19:13:45  ┆   ┆           ┆           ┆           ┆          │\n",
       "│ ouODopBKF ┆ Danan     ┆ 2108      ┆ 2010-04-0 ┆ … ┆ 89        ┆ 89        ┆ 92        ┆ 6        │\n",
       "│ 3AqfCkuQE ┆           ┆           ┆ 9         ┆   ┆           ┆           ┆           ┆          │\n",
       "│ nrDg      ┆           ┆           ┆ 05:28:01  ┆   ┆           ┆           ┆           ┆          │\n",
       "│ 1ziEzn7Bo ┆ Christine ┆ 703       ┆ 2008-05-0 ┆ … ┆ 63        ┆ 63        ┆ 31        ┆ 8        │\n",
       "│ XTfOQ4YBk ┆           ┆           ┆ 7         ┆   ┆           ┆           ┆           ┆          │\n",
       "│ dz1Q      ┆           ┆           ┆ 20:40:15  ┆   ┆           ┆           ┆           ┆          │\n",
       "└───────────┴───────────┴───────────┴───────────┴───┴───────────┴───────────┴───────────┴──────────┘"
      ]
     },
     "execution_count": 14,
     "metadata": {},
     "output_type": "execute_result"
    }
   ],
   "source": [
    "user.head()"
   ]
  },
  {
   "cell_type": "markdown",
   "metadata": {
    "id": "x46r5JBh_-cl"
   },
   "source": [
    "## Debemos filtrar según la lista, `lista_usuarios_a_filtrar`"
   ]
  },
  {
   "cell_type": "code",
   "execution_count": null,
   "metadata": {
    "id": "-XptWV4mAg2e"
   },
   "outputs": [],
   "source": [
    "mask = user['user_id'].is_in(lista_usuarios_a_filtrar)\n",
    "user = user.loc[mask]"
   ]
  },
  {
   "cell_type": "markdown",
   "metadata": {
    "id": "4MPKlT4EBr43"
   },
   "source": [
    "Verificando los Nulos"
   ]
  },
  {
   "cell_type": "code",
   "execution_count": null,
   "metadata": {
    "colab": {
     "base_uri": "https://localhost:8080/"
    },
    "executionInfo": {
     "elapsed": 257,
     "status": "ok",
     "timestamp": 1730251604145,
     "user": {
      "displayName": "Aliskair Rodríguez",
      "userId": "18238624046305613189"
     },
     "user_tz": 240
    },
    "id": "9DMFS7PTA1np",
    "outputId": "98237d33-647d-45c9-f087-7ca4b858c782"
   },
   "outputs": [
    {
     "name": "stdout",
     "output_type": "stream",
     "text": [
      "Columna user_id: 0\n",
      "Columna name: 0\n",
      "Columna review_count: 0\n",
      "Columna yelping_since: 0\n",
      "Columna useful: 0\n",
      "Columna funny: 0\n",
      "Columna cool: 0\n",
      "Columna elite: 0\n",
      "Columna friends: 0\n",
      "Columna fans: 0\n",
      "Columna average_stars: 0\n",
      "Columna compliment_hot: 0\n",
      "Columna compliment_more: 0\n",
      "Columna compliment_profile: 0\n",
      "Columna compliment_cute: 0\n",
      "Columna compliment_list: 0\n",
      "Columna compliment_note: 0\n",
      "Columna compliment_plain: 0\n",
      "Columna compliment_cool: 0\n",
      "Columna compliment_funny: 0\n",
      "Columna compliment_writer: 0\n",
      "Columna compliment_photos: 0\n"
     ]
    }
   ],
   "source": [
    "for column in user.columns:\n",
    "    print(f\"Columna {column}: {user[column].isnull().sum()}\")"
   ]
  },
  {
   "cell_type": "markdown",
   "metadata": {
    "id": "Ib6v6RnIE6Pj"
   },
   "source": [
    "Comprobando si hay filas repetidas"
   ]
  },
  {
   "cell_type": "code",
   "execution_count": null,
   "metadata": {
    "colab": {
     "base_uri": "https://localhost:8080/"
    },
    "executionInfo": {
     "elapsed": 436,
     "status": "ok",
     "timestamp": 1730252379680,
     "user": {
      "displayName": "Aliskair Rodríguez",
      "userId": "18238624046305613189"
     },
     "user_tz": 240
    },
    "id": "t-l0twFQE9yK",
    "outputId": "c04e52e0-88a5-49ce-df99-0342613a1709"
   },
   "outputs": [
    {
     "name": "stdout",
     "output_type": "stream",
     "text": [
      "Total Filas como viene la data 91630\n",
      "Total filas Unicas 85958\n"
     ]
    }
   ],
   "source": [
    "print(f\"Total Filas como viene la data {user.shape[0]}\")\n",
    "\n",
    "print(f\"Total filas Unicas {user.unique().shape[0]}\")"
   ]
  },
  {
   "cell_type": "code",
   "execution_count": null,
   "metadata": {
    "colab": {
     "base_uri": "https://localhost:8080/"
    },
    "executionInfo": {
     "elapsed": 204,
     "status": "ok",
     "timestamp": 1730252425023,
     "user": {
      "displayName": "Aliskair Rodríguez",
      "userId": "18238624046305613189"
     },
     "user_tz": 240
    },
    "id": "FQyZ8Fh0FGqB",
    "outputId": "7813a299-311e-466d-d2cf-f0a9439ae822"
   },
   "outputs": [
    {
     "data": {
      "text/plain": [
       "85958"
      ]
     },
     "execution_count": 17,
     "metadata": {},
     "output_type": "execute_result"
    }
   ],
   "source": [
    "user = user.unique()\n",
    "\n",
    "user.shape[0]"
   ]
  },
  {
   "cell_type": "markdown",
   "metadata": {
    "id": "B3U86fOX8aDS"
   },
   "source": [
    "Del campo `yelping_since` que es de tipo String saquemos uno tipo Date"
   ]
  },
  {
   "cell_type": "code",
   "execution_count": null,
   "metadata": {
    "id": "NSWfUbL083Gm"
   },
   "outputs": [],
   "source": [
    "# Creo campo solo con la fecha\n",
    "user['date'] = reviews['yelping_since'].apply(devuelve_solo_fecha)\n",
    "\n",
    "# Casteo el campo de Fecha\n",
    "user['only_date'] = pd.to_datetime(user['date'])\n",
    "\n",
    "# Elimino el antiguo campo fecha\n",
    "user = user.drop(columns=['yelping_since'])\n",
    "\n",
    "# renombro columna\n",
    "user = user.rename(columns={'date': 'yelping_since'})"
   ]
  },
  {
   "cell_type": "markdown",
   "metadata": {
    "id": "dVPRs4oxFU6C"
   },
   "source": [
    "Ahora proseguimos creando la Tabla `y_friends_user`"
   ]
  },
  {
   "cell_type": "code",
   "execution_count": null,
   "metadata": {
    "id": "ZmnvUgG6Fbi0"
   },
   "outputs": [],
   "source": [
    "friends_user = user[['user_id', 'friends']]\n",
    "\n",
    "friends_user.columns = ['user_id', 'friend_id']"
   ]
  },
  {
   "cell_type": "code",
   "execution_count": null,
   "metadata": {
    "colab": {
     "base_uri": "https://localhost:8080/",
     "height": 255
    },
    "executionInfo": {
     "elapsed": 6,
     "status": "ok",
     "timestamp": 1730252679103,
     "user": {
      "displayName": "Aliskair Rodríguez",
      "userId": "18238624046305613189"
     },
     "user_tz": 240
    },
    "id": "tyAw36rmGJQW",
    "outputId": "ed9fd38f-0826-4ab2-9dc9-a2e2fe939462"
   },
   "outputs": [
    {
     "data": {
      "text/html": [
       "<div><style>\n",
       ".dataframe > thead > tr,\n",
       ".dataframe > tbody > tr {\n",
       "  text-align: right;\n",
       "  white-space: pre-wrap;\n",
       "}\n",
       "</style>\n",
       "<small>shape: (5, 2)</small><table border=\"1\" class=\"dataframe\"><thead><tr><th>user_id</th><th>friend_id</th></tr><tr><td>str</td><td>str</td></tr></thead><tbody><tr><td>&quot;yKofALcKQfWBEpNbDLXdWw&quot;</td><td>&quot;b_hOVL43ocK8Shn91hdlHQ, PoDa9_…</td></tr><tr><td>&quot;tUOD2bXFLaiYP5_KeKJNOA&quot;</td><td>&quot;mHsYHxQKWfF7LvRCuJxQtg, gwzCrN…</td></tr><tr><td>&quot;KvmbHF6a4lQr-yRTQWoWaA&quot;</td><td>&quot;mgUlio5hcNA2rjODrkuGww, vt5skq…</td></tr><tr><td>&quot;_cgVicVyTX6OXV2sK-ULzw&quot;</td><td>&quot;None&quot;</td></tr><tr><td>&quot;2xcWWr34eFP8dDIPot2CLA&quot;</td><td>&quot;gxJlcUCUO8Xk1bDOqcYnBg, kD3ZSt…</td></tr></tbody></table></div>"
      ],
      "text/plain": [
       "shape: (5, 2)\n",
       "┌────────────────────────┬─────────────────────────────────┐\n",
       "│ user_id                ┆ friend_id                       │\n",
       "│ ---                    ┆ ---                             │\n",
       "│ str                    ┆ str                             │\n",
       "╞════════════════════════╪═════════════════════════════════╡\n",
       "│ yKofALcKQfWBEpNbDLXdWw ┆ b_hOVL43ocK8Shn91hdlHQ, PoDa9_… │\n",
       "│ tUOD2bXFLaiYP5_KeKJNOA ┆ mHsYHxQKWfF7LvRCuJxQtg, gwzCrN… │\n",
       "│ KvmbHF6a4lQr-yRTQWoWaA ┆ mgUlio5hcNA2rjODrkuGww, vt5skq… │\n",
       "│ _cgVicVyTX6OXV2sK-ULzw ┆ None                            │\n",
       "│ 2xcWWr34eFP8dDIPot2CLA ┆ gxJlcUCUO8Xk1bDOqcYnBg, kD3ZSt… │\n",
       "└────────────────────────┴─────────────────────────────────┘"
      ]
     },
     "execution_count": 21,
     "metadata": {},
     "output_type": "execute_result"
    }
   ],
   "source": [
    "friends_user.head()"
   ]
  },
  {
   "cell_type": "markdown",
   "metadata": {
    "id": "rYOKmhB4FcEi"
   },
   "source": [
    "Creando la Tabla `y_elite_user`"
   ]
  },
  {
   "cell_type": "code",
   "execution_count": null,
   "metadata": {
    "id": "kI3E8OscF_bJ"
   },
   "outputs": [],
   "source": [
    "elite_user = user[['user_id', 'elite']]"
   ]
  },
  {
   "cell_type": "code",
   "execution_count": null,
   "metadata": {
    "colab": {
     "base_uri": "https://localhost:8080/",
     "height": 255
    },
    "executionInfo": {
     "elapsed": 222,
     "status": "ok",
     "timestamp": 1730252691812,
     "user": {
      "displayName": "Aliskair Rodríguez",
      "userId": "18238624046305613189"
     },
     "user_tz": 240
    },
    "id": "HRoTB22RGMYI",
    "outputId": "9fdb1e77-0a33-434a-b371-4a8c7142cb4e"
   },
   "outputs": [
    {
     "data": {
      "text/html": [
       "<div><style>\n",
       ".dataframe > thead > tr,\n",
       ".dataframe > tbody > tr {\n",
       "  text-align: right;\n",
       "  white-space: pre-wrap;\n",
       "}\n",
       "</style>\n",
       "<small>shape: (5, 2)</small><table border=\"1\" class=\"dataframe\"><thead><tr><th>user_id</th><th>elite</th></tr><tr><td>str</td><td>str</td></tr></thead><tbody><tr><td>&quot;yKofALcKQfWBEpNbDLXdWw&quot;</td><td>&quot;2018,2019,20,20,2021&quot;</td></tr><tr><td>&quot;tUOD2bXFLaiYP5_KeKJNOA&quot;</td><td>&quot;2015,2016,2018,2019&quot;</td></tr><tr><td>&quot;KvmbHF6a4lQr-yRTQWoWaA&quot;</td><td>&quot;&quot;</td></tr><tr><td>&quot;_cgVicVyTX6OXV2sK-ULzw&quot;</td><td>&quot;&quot;</td></tr><tr><td>&quot;2xcWWr34eFP8dDIPot2CLA&quot;</td><td>&quot;2016,2017,2019,20,20,2021&quot;</td></tr></tbody></table></div>"
      ],
      "text/plain": [
       "shape: (5, 2)\n",
       "┌────────────────────────┬───────────────────────────┐\n",
       "│ user_id                ┆ elite                     │\n",
       "│ ---                    ┆ ---                       │\n",
       "│ str                    ┆ str                       │\n",
       "╞════════════════════════╪═══════════════════════════╡\n",
       "│ yKofALcKQfWBEpNbDLXdWw ┆ 2018,2019,20,20,2021      │\n",
       "│ tUOD2bXFLaiYP5_KeKJNOA ┆ 2015,2016,2018,2019       │\n",
       "│ KvmbHF6a4lQr-yRTQWoWaA ┆                           │\n",
       "│ _cgVicVyTX6OXV2sK-ULzw ┆                           │\n",
       "│ 2xcWWr34eFP8dDIPot2CLA ┆ 2016,2017,2019,20,20,2021 │\n",
       "└────────────────────────┴───────────────────────────┘"
      ]
     },
     "execution_count": 22,
     "metadata": {},
     "output_type": "execute_result"
    }
   ],
   "source": [
    "elite_user.head()"
   ]
  },
  {
   "cell_type": "markdown",
   "metadata": {
    "id": "PhBKvUuzGH95"
   },
   "source": [
    "Ahora podemos Borrar las columnas `friends` y `elite` de la tabla `yelp_user`, luego vamos a guardar esta tabla y por último borraremos la variable para liberar memoria"
   ]
  },
  {
   "cell_type": "code",
   "execution_count": null,
   "metadata": {
    "colab": {
     "base_uri": "https://localhost:8080/",
     "height": 275
    },
    "executionInfo": {
     "elapsed": 361,
     "status": "ok",
     "timestamp": 1730302022212,
     "user": {
      "displayName": "Aliskair Rodríguez",
      "userId": "18238624046305613189"
     },
     "user_tz": 240
    },
    "id": "YwlgurB9Acs2",
    "outputId": "ceaa458a-08c4-4c59-d15d-3b23117c46ff"
   },
   "outputs": [
    {
     "data": {
      "text/html": [
       "<div><style>\n",
       ".dataframe > thead > tr,\n",
       ".dataframe > tbody > tr {\n",
       "  text-align: right;\n",
       "  white-space: pre-wrap;\n",
       "}\n",
       "</style>\n",
       "<small>shape: (5, 20)</small><table border=\"1\" class=\"dataframe\"><thead><tr><th>user_id</th><th>name</th><th>review_count</th><th>useful</th><th>funny</th><th>cool</th><th>fans</th><th>average_stars</th><th>compliment_hot</th><th>compliment_more</th><th>compliment_profile</th><th>compliment_cute</th><th>compliment_list</th><th>compliment_note</th><th>compliment_plain</th><th>compliment_cool</th><th>compliment_funny</th><th>compliment_writer</th><th>compliment_photos</th><th>yelping_since</th></tr><tr><td>str</td><td>str</td><td>i64</td><td>i64</td><td>i64</td><td>i64</td><td>i64</td><td>f64</td><td>i64</td><td>i64</td><td>i64</td><td>i64</td><td>i64</td><td>i64</td><td>i64</td><td>i64</td><td>i64</td><td>i64</td><td>i64</td><td>date</td></tr></thead><tbody><tr><td>&quot;yKofALcKQfWBEpNbDLXdWw&quot;</td><td>&quot;Don&quot;</td><td>276</td><td>642</td><td>96</td><td>258</td><td>26</td><td>3.73</td><td>2</td><td>2</td><td>0</td><td>0</td><td>0</td><td>9</td><td>16</td><td>15</td><td>15</td><td>3</td><td>4</td><td>2011-11-08</td></tr><tr><td>&quot;tUOD2bXFLaiYP5_KeKJNOA&quot;</td><td>&quot;Jeramy&quot;</td><td>175</td><td>208</td><td>43</td><td>80</td><td>16</td><td>4.26</td><td>3</td><td>1</td><td>0</td><td>0</td><td>0</td><td>6</td><td>6</td><td>7</td><td>7</td><td>8</td><td>1</td><td>2011-07-29</td></tr><tr><td>&quot;KvmbHF6a4lQr-yRTQWoWaA&quot;</td><td>&quot;Robin&quot;</td><td>1</td><td>0</td><td>0</td><td>0</td><td>0</td><td>5.0</td><td>0</td><td>0</td><td>0</td><td>0</td><td>0</td><td>0</td><td>0</td><td>0</td><td>0</td><td>0</td><td>0</td><td>2018-07-08</td></tr><tr><td>&quot;_cgVicVyTX6OXV2sK-ULzw&quot;</td><td>&quot;Ronald&quot;</td><td>1</td><td>0</td><td>0</td><td>0</td><td>0</td><td>1.0</td><td>0</td><td>0</td><td>0</td><td>0</td><td>0</td><td>0</td><td>0</td><td>0</td><td>0</td><td>0</td><td>0</td><td>2019-12-27</td></tr><tr><td>&quot;2xcWWr34eFP8dDIPot2CLA&quot;</td><td>&quot;Shawna&quot;</td><td>134</td><td>169</td><td>41</td><td>111</td><td>6</td><td>4.77</td><td>1</td><td>1</td><td>1</td><td>2</td><td>0</td><td>9</td><td>7</td><td>5</td><td>5</td><td>5</td><td>4</td><td>2013-06-16</td></tr></tbody></table></div>"
      ],
      "text/plain": [
       "shape: (5, 20)\n",
       "┌────────────┬────────┬────────────┬────────┬───┬────────────┬────────────┬────────────┬───────────┐\n",
       "│ user_id    ┆ name   ┆ review_cou ┆ useful ┆ … ┆ compliment ┆ compliment ┆ compliment ┆ yelping_s │\n",
       "│ ---        ┆ ---    ┆ nt         ┆ ---    ┆   ┆ _funny     ┆ _writer    ┆ _photos    ┆ ince      │\n",
       "│ str        ┆ str    ┆ ---        ┆ i64    ┆   ┆ ---        ┆ ---        ┆ ---        ┆ ---       │\n",
       "│            ┆        ┆ i64        ┆        ┆   ┆ i64        ┆ i64        ┆ i64        ┆ date      │\n",
       "╞════════════╪════════╪════════════╪════════╪═══╪════════════╪════════════╪════════════╪═══════════╡\n",
       "│ yKofALcKQf ┆ Don    ┆ 276        ┆ 642    ┆ … ┆ 15         ┆ 3          ┆ 4          ┆ 2011-11-0 │\n",
       "│ WBEpNbDLXd ┆        ┆            ┆        ┆   ┆            ┆            ┆            ┆ 8         │\n",
       "│ Ww         ┆        ┆            ┆        ┆   ┆            ┆            ┆            ┆           │\n",
       "│ tUOD2bXFLa ┆ Jeramy ┆ 175        ┆ 208    ┆ … ┆ 7          ┆ 8          ┆ 1          ┆ 2011-07-2 │\n",
       "│ iYP5_KeKJN ┆        ┆            ┆        ┆   ┆            ┆            ┆            ┆ 9         │\n",
       "│ OA         ┆        ┆            ┆        ┆   ┆            ┆            ┆            ┆           │\n",
       "│ KvmbHF6a4l ┆ Robin  ┆ 1          ┆ 0      ┆ … ┆ 0          ┆ 0          ┆ 0          ┆ 2018-07-0 │\n",
       "│ Qr-yRTQWoW ┆        ┆            ┆        ┆   ┆            ┆            ┆            ┆ 8         │\n",
       "│ aA         ┆        ┆            ┆        ┆   ┆            ┆            ┆            ┆           │\n",
       "│ _cgVicVyTX ┆ Ronald ┆ 1          ┆ 0      ┆ … ┆ 0          ┆ 0          ┆ 0          ┆ 2019-12-2 │\n",
       "│ 6OXV2sK-UL ┆        ┆            ┆        ┆   ┆            ┆            ┆            ┆ 7         │\n",
       "│ zw         ┆        ┆            ┆        ┆   ┆            ┆            ┆            ┆           │\n",
       "│ 2xcWWr34eF ┆ Shawna ┆ 134        ┆ 169    ┆ … ┆ 5          ┆ 5          ┆ 4          ┆ 2013-06-1 │\n",
       "│ P8dDIPot2C ┆        ┆            ┆        ┆   ┆            ┆            ┆            ┆ 6         │\n",
       "│ LA         ┆        ┆            ┆        ┆   ┆            ┆            ┆            ┆           │\n",
       "└────────────┴────────┴────────────┴────────┴───┴────────────┴────────────┴────────────┴───────────┘"
      ]
     },
     "execution_count": 17,
     "metadata": {},
     "output_type": "execute_result"
    }
   ],
   "source": [
    "# Elimino los campos\n",
    "user = user.drop(columns=['friends', 'elite'])\n",
    "\n",
    "user.head()"
   ]
  },
  {
   "cell_type": "code",
   "execution_count": null,
   "metadata": {
    "id": "RU90J9vbGbWl"
   },
   "outputs": [],
   "source": [
    "user.to_parquet('datasets/yelp/filtrados_segun_maestro_cat/y_user.parquet', index=False)"
   ]
  },
  {
   "cell_type": "code",
   "execution_count": null,
   "metadata": {
    "colab": {
     "base_uri": "https://localhost:8080/"
    },
    "executionInfo": {
     "elapsed": 220,
     "status": "ok",
     "timestamp": 1730253058885,
     "user": {
      "displayName": "Aliskair Rodríguez",
      "userId": "18238624046305613189"
     },
     "user_tz": 240
    },
    "id": "zeU89mlLHlk6",
    "outputId": "e5c8bd26-534c-4649-baf7-ecf44d988a0e"
   },
   "outputs": [
    {
     "data": {
      "text/plain": [
       "164"
      ]
     },
     "execution_count": 24,
     "metadata": {},
     "output_type": "execute_result"
    }
   ],
   "source": [
    "# BORRANDO VARIABLE Y LIBERANDO MEMORIA\n",
    "del user\n",
    "gc.collect()"
   ]
  },
  {
   "cell_type": "markdown",
   "metadata": {
    "id": "wi-1zc8XHrij"
   },
   "source": [
    "Toca trabajar la tabla `y_friends_user`"
   ]
  },
  {
   "cell_type": "code",
   "execution_count": null,
   "metadata": {
    "colab": {
     "base_uri": "https://localhost:8080/",
     "height": 272
    },
    "executionInfo": {
     "elapsed": 221,
     "status": "ok",
     "timestamp": 1730253163485,
     "user": {
      "displayName": "Aliskair Rodríguez",
      "userId": "18238624046305613189"
     },
     "user_tz": 240
    },
    "id": "tfXABUNjHziF",
    "outputId": "29cb4ad4-d1e0-4852-b912-c891f083858d"
   },
   "outputs": [
    {
     "name": "stdout",
     "output_type": "stream",
     "text": [
      "(85958, 2)\n"
     ]
    },
    {
     "data": {
      "text/html": [
       "<div><style>\n",
       ".dataframe > thead > tr,\n",
       ".dataframe > tbody > tr {\n",
       "  text-align: right;\n",
       "  white-space: pre-wrap;\n",
       "}\n",
       "</style>\n",
       "<small>shape: (5, 2)</small><table border=\"1\" class=\"dataframe\"><thead><tr><th>user_id</th><th>friend_id</th></tr><tr><td>str</td><td>str</td></tr></thead><tbody><tr><td>&quot;yKofALcKQfWBEpNbDLXdWw&quot;</td><td>&quot;b_hOVL43ocK8Shn91hdlHQ, PoDa9_…</td></tr><tr><td>&quot;tUOD2bXFLaiYP5_KeKJNOA&quot;</td><td>&quot;mHsYHxQKWfF7LvRCuJxQtg, gwzCrN…</td></tr><tr><td>&quot;KvmbHF6a4lQr-yRTQWoWaA&quot;</td><td>&quot;mgUlio5hcNA2rjODrkuGww, vt5skq…</td></tr><tr><td>&quot;_cgVicVyTX6OXV2sK-ULzw&quot;</td><td>&quot;None&quot;</td></tr><tr><td>&quot;2xcWWr34eFP8dDIPot2CLA&quot;</td><td>&quot;gxJlcUCUO8Xk1bDOqcYnBg, kD3ZSt…</td></tr></tbody></table></div>"
      ],
      "text/plain": [
       "shape: (5, 2)\n",
       "┌────────────────────────┬─────────────────────────────────┐\n",
       "│ user_id                ┆ friend_id                       │\n",
       "│ ---                    ┆ ---                             │\n",
       "│ str                    ┆ str                             │\n",
       "╞════════════════════════╪═════════════════════════════════╡\n",
       "│ yKofALcKQfWBEpNbDLXdWw ┆ b_hOVL43ocK8Shn91hdlHQ, PoDa9_… │\n",
       "│ tUOD2bXFLaiYP5_KeKJNOA ┆ mHsYHxQKWfF7LvRCuJxQtg, gwzCrN… │\n",
       "│ KvmbHF6a4lQr-yRTQWoWaA ┆ mgUlio5hcNA2rjODrkuGww, vt5skq… │\n",
       "│ _cgVicVyTX6OXV2sK-ULzw ┆ None                            │\n",
       "│ 2xcWWr34eFP8dDIPot2CLA ┆ gxJlcUCUO8Xk1bDOqcYnBg, kD3ZSt… │\n",
       "└────────────────────────┴─────────────────────────────────┘"
      ]
     },
     "execution_count": 25,
     "metadata": {},
     "output_type": "execute_result"
    }
   ],
   "source": [
    "print(friends_user.shape)\n",
    "friends_user.head()"
   ]
  },
  {
   "cell_type": "markdown",
   "metadata": {
    "id": "L-HnLrJlIMTi"
   },
   "source": [
    "Eliminando los 'None'"
   ]
  },
  {
   "cell_type": "code",
   "execution_count": null,
   "metadata": {
    "colab": {
     "base_uri": "https://localhost:8080/",
     "height": 272
    },
    "executionInfo": {
     "elapsed": 235,
     "status": "ok",
     "timestamp": 1730253468353,
     "user": {
      "displayName": "Aliskair Rodríguez",
      "userId": "18238624046305613189"
     },
     "user_tz": 240
    },
    "id": "dVYR5uWYIB56",
    "outputId": "b3227cbf-68a1-4b32-f729-f14bcf5dd0f4"
   },
   "outputs": [
    {
     "name": "stdout",
     "output_type": "stream",
     "text": [
      "(46522, 2)\n"
     ]
    },
    {
     "data": {
      "text/html": [
       "<div><style>\n",
       ".dataframe > thead > tr,\n",
       ".dataframe > tbody > tr {\n",
       "  text-align: right;\n",
       "  white-space: pre-wrap;\n",
       "}\n",
       "</style>\n",
       "<small>shape: (5, 2)</small><table border=\"1\" class=\"dataframe\"><thead><tr><th>user_id</th><th>friend_id</th></tr><tr><td>str</td><td>str</td></tr></thead><tbody><tr><td>&quot;yKofALcKQfWBEpNbDLXdWw&quot;</td><td>&quot;b_hOVL43ocK8Shn91hdlHQ, PoDa9_…</td></tr><tr><td>&quot;tUOD2bXFLaiYP5_KeKJNOA&quot;</td><td>&quot;mHsYHxQKWfF7LvRCuJxQtg, gwzCrN…</td></tr><tr><td>&quot;KvmbHF6a4lQr-yRTQWoWaA&quot;</td><td>&quot;mgUlio5hcNA2rjODrkuGww, vt5skq…</td></tr><tr><td>&quot;2xcWWr34eFP8dDIPot2CLA&quot;</td><td>&quot;gxJlcUCUO8Xk1bDOqcYnBg, kD3ZSt…</td></tr><tr><td>&quot;jiRfSBKVWZ0cyAbk5Rvhww&quot;</td><td>&quot;w6SWiln7NtQYoM4RcHaqaA, xZnpcE…</td></tr></tbody></table></div>"
      ],
      "text/plain": [
       "shape: (5, 2)\n",
       "┌────────────────────────┬─────────────────────────────────┐\n",
       "│ user_id                ┆ friend_id                       │\n",
       "│ ---                    ┆ ---                             │\n",
       "│ str                    ┆ str                             │\n",
       "╞════════════════════════╪═════════════════════════════════╡\n",
       "│ yKofALcKQfWBEpNbDLXdWw ┆ b_hOVL43ocK8Shn91hdlHQ, PoDa9_… │\n",
       "│ tUOD2bXFLaiYP5_KeKJNOA ┆ mHsYHxQKWfF7LvRCuJxQtg, gwzCrN… │\n",
       "│ KvmbHF6a4lQr-yRTQWoWaA ┆ mgUlio5hcNA2rjODrkuGww, vt5skq… │\n",
       "│ 2xcWWr34eFP8dDIPot2CLA ┆ gxJlcUCUO8Xk1bDOqcYnBg, kD3ZSt… │\n",
       "│ jiRfSBKVWZ0cyAbk5Rvhww ┆ w6SWiln7NtQYoM4RcHaqaA, xZnpcE… │\n",
       "└────────────────────────┴─────────────────────────────────┘"
      ]
     },
     "execution_count": 26,
     "metadata": {},
     "output_type": "execute_result"
    }
   ],
   "source": [
    "mask = friends_user['friend_id'] == 'None'\n",
    "\n",
    "friends_user = friends_user.loc[~mask]\n",
    "\n",
    "print(friends_user.shape)\n",
    "friends_user.head()"
   ]
  },
  {
   "cell_type": "markdown",
   "metadata": {
    "id": "EuzUAM1YJXA7"
   },
   "source": [
    "Se crea una columna nueva que sea de tipo LISTA a partir de `friend_id` y luego debemos borrar esta ultima"
   ]
  },
  {
   "cell_type": "code",
   "execution_count": null,
   "metadata": {
    "id": "tK1NOVMBJfoA"
   },
   "outputs": [],
   "source": [
    "friends_user['lista_friends'] = friends_user['friend_id'].apply(lambda x: x.split(','))"
   ]
  },
  {
   "cell_type": "code",
   "execution_count": null,
   "metadata": {
    "colab": {
     "base_uri": "https://localhost:8080/",
     "height": 272
    },
    "executionInfo": {
     "elapsed": 232,
     "status": "ok",
     "timestamp": 1730253676965,
     "user": {
      "displayName": "Aliskair Rodríguez",
      "userId": "18238624046305613189"
     },
     "user_tz": 240
    },
    "id": "s3qDwGJYJs8D",
    "outputId": "3dce0da3-6dc7-466d-eb61-eab63d0dfdb4"
   },
   "outputs": [
    {
     "name": "stdout",
     "output_type": "stream",
     "text": [
      "(46522, 2)\n"
     ]
    },
    {
     "data": {
      "text/html": [
       "<div><style>\n",
       ".dataframe > thead > tr,\n",
       ".dataframe > tbody > tr {\n",
       "  text-align: right;\n",
       "  white-space: pre-wrap;\n",
       "}\n",
       "</style>\n",
       "<small>shape: (5, 2)</small><table border=\"1\" class=\"dataframe\"><thead><tr><th>user_id</th><th>lista_friends</th></tr><tr><td>str</td><td>list[str]</td></tr></thead><tbody><tr><td>&quot;yKofALcKQfWBEpNbDLXdWw&quot;</td><td>[&quot;b_hOVL43ocK8Shn91hdlHQ&quot;, &quot; PoDa9_c1Z0nk2dYtsWcKCQ&quot;, … &quot; wyym9Y1SLEF4oz7mz4J5Xw&quot;]</td></tr><tr><td>&quot;tUOD2bXFLaiYP5_KeKJNOA&quot;</td><td>[&quot;mHsYHxQKWfF7LvRCuJxQtg&quot;, &quot; gwzCrNAD7MGMZYu7MtEh0w&quot;, … &quot; pGANa5aQeF2YpGk5CLhd1A&quot;]</td></tr><tr><td>&quot;KvmbHF6a4lQr-yRTQWoWaA&quot;</td><td>[&quot;mgUlio5hcNA2rjODrkuGww&quot;, &quot; vt5skqY3woHvFsQuqTsWVQ&quot;, … &quot; L6scs33tzFNCsjVMbJ3iXg&quot;]</td></tr><tr><td>&quot;2xcWWr34eFP8dDIPot2CLA&quot;</td><td>[&quot;gxJlcUCUO8Xk1bDOqcYnBg&quot;, &quot; kD3ZSt0_yWUjl3HStgVcOA&quot;, … &quot; fCJmfg8MTgN_d_LeU7vQ6Q&quot;]</td></tr><tr><td>&quot;jiRfSBKVWZ0cyAbk5Rvhww&quot;</td><td>[&quot;w6SWiln7NtQYoM4RcHaqaA&quot;, &quot; xZnpcE5rVlufSYuBzDpA0g&quot;, … &quot; -4AMxFUpXWYjekSdrg3XUA&quot;]</td></tr></tbody></table></div>"
      ],
      "text/plain": [
       "shape: (5, 2)\n",
       "┌────────────────────────┬─────────────────────────────────┐\n",
       "│ user_id                ┆ lista_friends                   │\n",
       "│ ---                    ┆ ---                             │\n",
       "│ str                    ┆ list[str]                       │\n",
       "╞════════════════════════╪═════════════════════════════════╡\n",
       "│ yKofALcKQfWBEpNbDLXdWw ┆ [\"b_hOVL43ocK8Shn91hdlHQ\", \" P… │\n",
       "│ tUOD2bXFLaiYP5_KeKJNOA ┆ [\"mHsYHxQKWfF7LvRCuJxQtg\", \" g… │\n",
       "│ KvmbHF6a4lQr-yRTQWoWaA ┆ [\"mgUlio5hcNA2rjODrkuGww\", \" v… │\n",
       "│ 2xcWWr34eFP8dDIPot2CLA ┆ [\"gxJlcUCUO8Xk1bDOqcYnBg\", \" k… │\n",
       "│ jiRfSBKVWZ0cyAbk5Rvhww ┆ [\"w6SWiln7NtQYoM4RcHaqaA\", \" x… │\n",
       "└────────────────────────┴─────────────────────────────────┘"
      ]
     },
     "execution_count": 29,
     "metadata": {},
     "output_type": "execute_result"
    }
   ],
   "source": [
    "friends_user = friends_user.drop(columns=['friend_id'])\n",
    "\n",
    "print(friends_user.shape)\n",
    "friends_user.head()"
   ]
  },
  {
   "cell_type": "markdown",
   "metadata": {
    "id": "i-50zMcUKNeR"
   },
   "source": [
    "Se utiliza el metodo `explode` de los dataframes y luego se cambian los nombres de las columnas"
   ]
  },
  {
   "cell_type": "code",
   "execution_count": null,
   "metadata": {
    "colab": {
     "base_uri": "https://localhost:8080/",
     "height": 272
    },
    "executionInfo": {
     "elapsed": 460,
     "status": "ok",
     "timestamp": 1730253868882,
     "user": {
      "displayName": "Aliskair Rodríguez",
      "userId": "18238624046305613189"
     },
     "user_tz": 240
    },
    "id": "tjD5-VEVKN4n",
    "outputId": "fff31301-e0b1-4d37-82dd-073f33b639ea"
   },
   "outputs": [
    {
     "name": "stdout",
     "output_type": "stream",
     "text": [
      "(5450645, 2)\n"
     ]
    },
    {
     "data": {
      "text/html": [
       "<div><style>\n",
       ".dataframe > thead > tr,\n",
       ".dataframe > tbody > tr {\n",
       "  text-align: right;\n",
       "  white-space: pre-wrap;\n",
       "}\n",
       "</style>\n",
       "<small>shape: (5, 2)</small><table border=\"1\" class=\"dataframe\"><thead><tr><th>user_id</th><th>friend_id</th></tr><tr><td>str</td><td>str</td></tr></thead><tbody><tr><td>&quot;yKofALcKQfWBEpNbDLXdWw&quot;</td><td>&quot;b_hOVL43ocK8Shn91hdlHQ&quot;</td></tr><tr><td>&quot;yKofALcKQfWBEpNbDLXdWw&quot;</td><td>&quot; PoDa9_c1Z0nk2dYtsWcKCQ&quot;</td></tr><tr><td>&quot;yKofALcKQfWBEpNbDLXdWw&quot;</td><td>&quot; XeaqHoiS4M8PyYN4Ubyrcw&quot;</td></tr><tr><td>&quot;yKofALcKQfWBEpNbDLXdWw&quot;</td><td>&quot; io7zHoTohIjj_SO4mvlVug&quot;</td></tr><tr><td>&quot;yKofALcKQfWBEpNbDLXdWw&quot;</td><td>&quot; LwS4Vqoy-rK6vbHyU_5vaQ&quot;</td></tr></tbody></table></div>"
      ],
      "text/plain": [
       "shape: (5, 2)\n",
       "┌────────────────────────┬─────────────────────────┐\n",
       "│ user_id                ┆ friend_id               │\n",
       "│ ---                    ┆ ---                     │\n",
       "│ str                    ┆ str                     │\n",
       "╞════════════════════════╪═════════════════════════╡\n",
       "│ yKofALcKQfWBEpNbDLXdWw ┆ b_hOVL43ocK8Shn91hdlHQ  │\n",
       "│ yKofALcKQfWBEpNbDLXdWw ┆  PoDa9_c1Z0nk2dYtsWcKCQ │\n",
       "│ yKofALcKQfWBEpNbDLXdWw ┆  XeaqHoiS4M8PyYN4Ubyrcw │\n",
       "│ yKofALcKQfWBEpNbDLXdWw ┆  io7zHoTohIjj_SO4mvlVug │\n",
       "│ yKofALcKQfWBEpNbDLXdWw ┆  LwS4Vqoy-rK6vbHyU_5vaQ │\n",
       "└────────────────────────┴─────────────────────────┘"
      ]
     },
     "execution_count": 30,
     "metadata": {},
     "output_type": "execute_result"
    }
   ],
   "source": [
    "friends_user = friends_user.explode('lista_friends')\n",
    "\n",
    "friends_user.columns = ['user_id', 'friend_id']\n",
    "\n",
    "print(friends_user.shape)\n",
    "friends_user.head()"
   ]
  },
  {
   "cell_type": "markdown",
   "metadata": {
    "id": "TlmD2H3-K-FW"
   },
   "source": [
    "Guardando la Tabla `y_friends_user`"
   ]
  },
  {
   "cell_type": "code",
   "execution_count": null,
   "metadata": {
    "id": "CpMBmVMSLJG-"
   },
   "outputs": [],
   "source": [
    "friends_user.to_parquet('datasets/yelp/filtrados_segun_maestro_cat/y_friends_user.parquet', index=False)"
   ]
  },
  {
   "cell_type": "markdown",
   "metadata": {
    "id": "6FZeLG0uMP9W"
   },
   "source": [
    "Borraremos la Variable `friends_user` y liberaremos memoria"
   ]
  },
  {
   "cell_type": "code",
   "execution_count": null,
   "metadata": {
    "colab": {
     "base_uri": "https://localhost:8080/"
    },
    "executionInfo": {
     "elapsed": 235,
     "status": "ok",
     "timestamp": 1730254314352,
     "user": {
      "displayName": "Aliskair Rodríguez",
      "userId": "18238624046305613189"
     },
     "user_tz": 240
    },
    "id": "mWru8Jm9MX_n",
    "outputId": "e1f3a830-40e6-4788-9a9a-72f408bd63fb"
   },
   "outputs": [
    {
     "data": {
      "text/plain": [
       "170"
      ]
     },
     "execution_count": 32,
     "metadata": {},
     "output_type": "execute_result"
    }
   ],
   "source": [
    "del friends_user\n",
    "gc.collect()"
   ]
  },
  {
   "cell_type": "markdown",
   "metadata": {
    "id": "7r-ZPeogNeCP"
   },
   "source": [
    "Ahora toca trabajar con la tabla `y_elite_user`"
   ]
  },
  {
   "cell_type": "code",
   "execution_count": null,
   "metadata": {
    "colab": {
     "base_uri": "https://localhost:8080/",
     "height": 255
    },
    "executionInfo": {
     "elapsed": 204,
     "status": "ok",
     "timestamp": 1730254825607,
     "user": {
      "displayName": "Aliskair Rodríguez",
      "userId": "18238624046305613189"
     },
     "user_tz": 240
    },
    "id": "KwVW3dmmOUA_",
    "outputId": "fded6b9a-1832-46ea-9c7e-8ec8c5505d88"
   },
   "outputs": [
    {
     "data": {
      "text/html": [
       "<div><style>\n",
       ".dataframe > thead > tr,\n",
       ".dataframe > tbody > tr {\n",
       "  text-align: right;\n",
       "  white-space: pre-wrap;\n",
       "}\n",
       "</style>\n",
       "<small>shape: (5, 2)</small><table border=\"1\" class=\"dataframe\"><thead><tr><th>user_id</th><th>elite</th></tr><tr><td>str</td><td>str</td></tr></thead><tbody><tr><td>&quot;yKofALcKQfWBEpNbDLXdWw&quot;</td><td>&quot;2018,2019,20,20,2021&quot;</td></tr><tr><td>&quot;tUOD2bXFLaiYP5_KeKJNOA&quot;</td><td>&quot;2015,2016,2018,2019&quot;</td></tr><tr><td>&quot;KvmbHF6a4lQr-yRTQWoWaA&quot;</td><td>&quot;&quot;</td></tr><tr><td>&quot;_cgVicVyTX6OXV2sK-ULzw&quot;</td><td>&quot;&quot;</td></tr><tr><td>&quot;2xcWWr34eFP8dDIPot2CLA&quot;</td><td>&quot;2016,2017,2019,20,20,2021&quot;</td></tr></tbody></table></div>"
      ],
      "text/plain": [
       "shape: (5, 2)\n",
       "┌────────────────────────┬───────────────────────────┐\n",
       "│ user_id                ┆ elite                     │\n",
       "│ ---                    ┆ ---                       │\n",
       "│ str                    ┆ str                       │\n",
       "╞════════════════════════╪═══════════════════════════╡\n",
       "│ yKofALcKQfWBEpNbDLXdWw ┆ 2018,2019,20,20,2021      │\n",
       "│ tUOD2bXFLaiYP5_KeKJNOA ┆ 2015,2016,2018,2019       │\n",
       "│ KvmbHF6a4lQr-yRTQWoWaA ┆                           │\n",
       "│ _cgVicVyTX6OXV2sK-ULzw ┆                           │\n",
       "│ 2xcWWr34eFP8dDIPot2CLA ┆ 2016,2017,2019,20,20,2021 │\n",
       "└────────────────────────┴───────────────────────────┘"
      ]
     },
     "execution_count": 33,
     "metadata": {},
     "output_type": "execute_result"
    }
   ],
   "source": [
    "elite_user.head()"
   ]
  },
  {
   "cell_type": "code",
   "execution_count": null,
   "metadata": {
    "colab": {
     "base_uri": "https://localhost:8080/"
    },
    "executionInfo": {
     "elapsed": 210,
     "status": "ok",
     "timestamp": 1730255001520,
     "user": {
      "displayName": "Aliskair Rodríguez",
      "userId": "18238624046305613189"
     },
     "user_tz": 240
    },
    "id": "04CRFDe3NoFp",
    "outputId": "96c51963-c4f3-4d0f-f254-55b0f1b80d85"
   },
   "outputs": [
    {
     "name": "stdout",
     "output_type": "stream",
     "text": [
      "Total filas --> 85958\n",
      "Total filas CON informacion --> 9377\n",
      "Total filas SIN informacion --> 76581\n"
     ]
    }
   ],
   "source": [
    "mask = elite_user['elite'] == ''\n",
    "\n",
    "print(f'Total filas --> {elite_user.shape[0]}')\n",
    "\n",
    "print(f'Total filas con informacion --> {elite_user.loc[~mask].shape[0]}')\n",
    "\n",
    "print(f'Total filas SIN informacion --> {elite_user.loc[mask].shape[0]}')"
   ]
  },
  {
   "cell_type": "markdown",
   "metadata": {
    "id": "Z7t1Y_dsSQlW"
   },
   "source": [
    "#### Se procederá con el proceso para obtener la tabla en el datawarehouse, Quedando a consideración sí se utiliza o no esta data para entrenar el modelo..."
   ]
  },
  {
   "cell_type": "markdown",
   "metadata": {
    "id": "cDrHsmSbPaRW"
   },
   "source": [
    "Toca Borrar las filas sin información"
   ]
  },
  {
   "cell_type": "code",
   "execution_count": null,
   "metadata": {
    "colab": {
     "base_uri": "https://localhost:8080/",
     "height": 272
    },
    "executionInfo": {
     "elapsed": 302,
     "status": "ok",
     "timestamp": 1730255335174,
     "user": {
      "displayName": "Aliskair Rodríguez",
      "userId": "18238624046305613189"
     },
     "user_tz": 240
    },
    "id": "YG6j7JLdPh0n",
    "outputId": "afaa3370-0ab8-45c7-960d-c453b033210d"
   },
   "outputs": [
    {
     "name": "stdout",
     "output_type": "stream",
     "text": [
      "(9377, 2)\n"
     ]
    },
    {
     "data": {
      "text/html": [
       "<div><style>\n",
       ".dataframe > thead > tr,\n",
       ".dataframe > tbody > tr {\n",
       "  text-align: right;\n",
       "  white-space: pre-wrap;\n",
       "}\n",
       "</style>\n",
       "<small>shape: (5, 2)</small><table border=\"1\" class=\"dataframe\"><thead><tr><th>user_id</th><th>elite</th></tr><tr><td>str</td><td>str</td></tr></thead><tbody><tr><td>&quot;yKofALcKQfWBEpNbDLXdWw&quot;</td><td>&quot;2018,2019,20,20,2021&quot;</td></tr><tr><td>&quot;tUOD2bXFLaiYP5_KeKJNOA&quot;</td><td>&quot;2015,2016,2018,2019&quot;</td></tr><tr><td>&quot;2xcWWr34eFP8dDIPot2CLA&quot;</td><td>&quot;2016,2017,2019,20,20,2021&quot;</td></tr><tr><td>&quot;jiRfSBKVWZ0cyAbk5Rvhww&quot;</td><td>&quot;2018,2019,20,20,2021&quot;</td></tr><tr><td>&quot;hqcqfT_h59tU6mcLW2XnaA&quot;</td><td>&quot;2021&quot;</td></tr></tbody></table></div>"
      ],
      "text/plain": [
       "shape: (5, 2)\n",
       "┌────────────────────────┬───────────────────────────┐\n",
       "│ user_id                ┆ elite                     │\n",
       "│ ---                    ┆ ---                       │\n",
       "│ str                    ┆ str                       │\n",
       "╞════════════════════════╪═══════════════════════════╡\n",
       "│ yKofALcKQfWBEpNbDLXdWw ┆ 2018,2019,20,20,2021      │\n",
       "│ tUOD2bXFLaiYP5_KeKJNOA ┆ 2015,2016,2018,2019       │\n",
       "│ 2xcWWr34eFP8dDIPot2CLA ┆ 2016,2017,2019,20,20,2021 │\n",
       "│ jiRfSBKVWZ0cyAbk5Rvhww ┆ 2018,2019,20,20,2021      │\n",
       "│ hqcqfT_h59tU6mcLW2XnaA ┆ 2021                      │\n",
       "└────────────────────────┴───────────────────────────┘"
      ]
     },
     "execution_count": 37,
     "metadata": {},
     "output_type": "execute_result"
    }
   ],
   "source": [
    "mask = elite_user['elite'] == ''\n",
    "\n",
    "elite_user = elite_user.loc[~mask]\n",
    "\n",
    "print(elite_user.shape)\n",
    "elite_user.head()"
   ]
  },
  {
   "cell_type": "markdown",
   "metadata": {
    "id": "VLvd2HQQQUqS"
   },
   "source": [
    "Toca crear una columna nueva que sea de tipo Lista a partir del String que hay en la columna `elite`"
   ]
  },
  {
   "cell_type": "code",
   "execution_count": null,
   "metadata": {
    "colab": {
     "base_uri": "https://localhost:8080/",
     "height": 255
    },
    "executionInfo": {
     "elapsed": 314,
     "status": "ok",
     "timestamp": 1730255439931,
     "user": {
      "displayName": "Aliskair Rodríguez",
      "userId": "18238624046305613189"
     },
     "user_tz": 240
    },
    "id": "z9xz4qL6QcdD",
    "outputId": "a3391507-cc82-4103-d69d-0027cce1d99d"
   },
   "outputs": [
    {
     "data": {
      "text/html": [
       "<div><style>\n",
       ".dataframe > thead > tr,\n",
       ".dataframe > tbody > tr {\n",
       "  text-align: right;\n",
       "  white-space: pre-wrap;\n",
       "}\n",
       "</style>\n",
       "<small>shape: (5, 3)</small><table border=\"1\" class=\"dataframe\"><thead><tr><th>user_id</th><th>elite</th><th>year</th></tr><tr><td>str</td><td>str</td><td>list[str]</td></tr></thead><tbody><tr><td>&quot;yKofALcKQfWBEpNbDLXdWw&quot;</td><td>&quot;2018,2019,20,20,2021&quot;</td><td>[&quot;2018&quot;, &quot;2019&quot;, … &quot;2021&quot;]</td></tr><tr><td>&quot;tUOD2bXFLaiYP5_KeKJNOA&quot;</td><td>&quot;2015,2016,2018,2019&quot;</td><td>[&quot;2015&quot;, &quot;2016&quot;, … &quot;2019&quot;]</td></tr><tr><td>&quot;2xcWWr34eFP8dDIPot2CLA&quot;</td><td>&quot;2016,2017,2019,20,20,2021&quot;</td><td>[&quot;2016&quot;, &quot;2017&quot;, … &quot;2021&quot;]</td></tr><tr><td>&quot;jiRfSBKVWZ0cyAbk5Rvhww&quot;</td><td>&quot;2018,2019,20,20,2021&quot;</td><td>[&quot;2018&quot;, &quot;2019&quot;, … &quot;2021&quot;]</td></tr><tr><td>&quot;hqcqfT_h59tU6mcLW2XnaA&quot;</td><td>&quot;2021&quot;</td><td>[&quot;2021&quot;]</td></tr></tbody></table></div>"
      ],
      "text/plain": [
       "shape: (5, 3)\n",
       "┌────────────────────────┬───────────────────────────┬────────────────────────────┐\n",
       "│ user_id                ┆ elite                     ┆ year                       │\n",
       "│ ---                    ┆ ---                       ┆ ---                        │\n",
       "│ str                    ┆ str                       ┆ list[str]                  │\n",
       "╞════════════════════════╪═══════════════════════════╪════════════════════════════╡\n",
       "│ yKofALcKQfWBEpNbDLXdWw ┆ 2018,2019,20,20,2021      ┆ [\"2018\", \"2019\", … \"2021\"] │\n",
       "│ tUOD2bXFLaiYP5_KeKJNOA ┆ 2015,2016,2018,2019       ┆ [\"2015\", \"2016\", … \"2019\"] │\n",
       "│ 2xcWWr34eFP8dDIPot2CLA ┆ 2016,2017,2019,20,20,2021 ┆ [\"2016\", \"2017\", … \"2021\"] │\n",
       "│ jiRfSBKVWZ0cyAbk5Rvhww ┆ 2018,2019,20,20,2021      ┆ [\"2018\", \"2019\", … \"2021\"] │\n",
       "│ hqcqfT_h59tU6mcLW2XnaA ┆ 2021                      ┆ [\"2021\"]                   │\n",
       "└────────────────────────┴───────────────────────────┴────────────────────────────┘"
      ]
     },
     "execution_count": 40,
     "metadata": {},
     "output_type": "execute_result"
    }
   ],
   "source": [
    "elite_user['year'] = elite_user['elite'].apply(lambda x: x.split(','))\n",
    "elite_user.head()"
   ]
  },
  {
   "cell_type": "markdown",
   "metadata": {
    "id": "g_avV32-Q4r2"
   },
   "source": [
    "Borrando la columna `elite`"
   ]
  },
  {
   "cell_type": "code",
   "execution_count": null,
   "metadata": {
    "id": "zdgApzUDREwm"
   },
   "outputs": [],
   "source": [
    "elite_user = elite_user.drop(columns=['elite'])"
   ]
  },
  {
   "cell_type": "markdown",
   "metadata": {
    "id": "F1MclYyaRLHb"
   },
   "source": [
    "Aplicando el metodo `explode` a la columna `year` que hasta ahora es de tipo Lista"
   ]
  },
  {
   "cell_type": "code",
   "execution_count": null,
   "metadata": {
    "colab": {
     "base_uri": "https://localhost:8080/",
     "height": 255
    },
    "executionInfo": {
     "elapsed": 320,
     "status": "ok",
     "timestamp": 1730255598354,
     "user": {
      "displayName": "Aliskair Rodríguez",
      "userId": "18238624046305613189"
     },
     "user_tz": 240
    },
    "id": "w7Xj_Kf_Q1Ma",
    "outputId": "b867484e-def8-4e20-d58b-c9f060a52bf6"
   },
   "outputs": [
    {
     "data": {
      "text/html": [
       "<div><style>\n",
       ".dataframe > thead > tr,\n",
       ".dataframe > tbody > tr {\n",
       "  text-align: right;\n",
       "  white-space: pre-wrap;\n",
       "}\n",
       "</style>\n",
       "<small>shape: (5, 2)</small><table border=\"1\" class=\"dataframe\"><thead><tr><th>user_id</th><th>year</th></tr><tr><td>str</td><td>str</td></tr></thead><tbody><tr><td>&quot;yKofALcKQfWBEpNbDLXdWw&quot;</td><td>&quot;2018&quot;</td></tr><tr><td>&quot;yKofALcKQfWBEpNbDLXdWw&quot;</td><td>&quot;2019&quot;</td></tr><tr><td>&quot;yKofALcKQfWBEpNbDLXdWw&quot;</td><td>&quot;20&quot;</td></tr><tr><td>&quot;yKofALcKQfWBEpNbDLXdWw&quot;</td><td>&quot;20&quot;</td></tr><tr><td>&quot;yKofALcKQfWBEpNbDLXdWw&quot;</td><td>&quot;2021&quot;</td></tr></tbody></table></div>"
      ],
      "text/plain": [
       "shape: (5, 2)\n",
       "┌────────────────────────┬──────┐\n",
       "│ user_id                ┆ year │\n",
       "│ ---                    ┆ ---  │\n",
       "│ str                    ┆ str  │\n",
       "╞════════════════════════╪══════╡\n",
       "│ yKofALcKQfWBEpNbDLXdWw ┆ 2018 │\n",
       "│ yKofALcKQfWBEpNbDLXdWw ┆ 2019 │\n",
       "│ yKofALcKQfWBEpNbDLXdWw ┆ 20   │\n",
       "│ yKofALcKQfWBEpNbDLXdWw ┆ 20   │\n",
       "│ yKofALcKQfWBEpNbDLXdWw ┆ 2021 │\n",
       "└────────────────────────┴──────┘"
      ]
     },
     "execution_count": 44,
     "metadata": {},
     "output_type": "execute_result"
    }
   ],
   "source": [
    "elite_user = elite_user.explode('year')\n",
    "\n",
    "elite_user.head()"
   ]
  },
  {
   "cell_type": "markdown",
   "metadata": {
    "id": "4zY8qt2-Ra4A"
   },
   "source": [
    "Eliminando repetidos y Sustituyendo los 20 por 2020"
   ]
  },
  {
   "cell_type": "code",
   "execution_count": null,
   "metadata": {
    "colab": {
     "base_uri": "https://localhost:8080/",
     "height": 255
    },
    "executionInfo": {
     "elapsed": 316,
     "status": "ok",
     "timestamp": 1730255710385,
     "user": {
      "displayName": "Aliskair Rodríguez",
      "userId": "18238624046305613189"
     },
     "user_tz": 240
    },
    "id": "gD9f7BxURhvp",
    "outputId": "55f5ceac-5f4c-461f-bddc-6703c18ed01a"
   },
   "outputs": [
    {
     "data": {
      "text/html": [
       "<div><style>\n",
       ".dataframe > thead > tr,\n",
       ".dataframe > tbody > tr {\n",
       "  text-align: right;\n",
       "  white-space: pre-wrap;\n",
       "}\n",
       "</style>\n",
       "<small>shape: (5, 2)</small><table border=\"1\" class=\"dataframe\"><thead><tr><th>user_id</th><th>year</th></tr><tr><td>str</td><td>str</td></tr></thead><tbody><tr><td>&quot;T4L1mTz2Shd9VpVIb1fZoQ&quot;</td><td>&quot;2018&quot;</td></tr><tr><td>&quot;5fBL_DYLnphhCcfSeomyhg&quot;</td><td>&quot;2019&quot;</td></tr><tr><td>&quot;_uMEeZbgqigt222bZ642qQ&quot;</td><td>&quot;2019&quot;</td></tr><tr><td>&quot;RQWQTxfhGGJ7bGgJ1EnExQ&quot;</td><td>&quot;2017&quot;</td></tr><tr><td>&quot;yhJ1SVBSjC_R2viEh5AbUA&quot;</td><td>&quot;2017&quot;</td></tr></tbody></table></div>"
      ],
      "text/plain": [
       "shape: (5, 2)\n",
       "┌────────────────────────┬──────┐\n",
       "│ user_id                ┆ year │\n",
       "│ ---                    ┆ ---  │\n",
       "│ str                    ┆ str  │\n",
       "╞════════════════════════╪══════╡\n",
       "│ T4L1mTz2Shd9VpVIb1fZoQ ┆ 2018 │\n",
       "│ 5fBL_DYLnphhCcfSeomyhg ┆ 2019 │\n",
       "│ _uMEeZbgqigt222bZ642qQ ┆ 2019 │\n",
       "│ RQWQTxfhGGJ7bGgJ1EnExQ ┆ 2017 │\n",
       "│ yhJ1SVBSjC_R2viEh5AbUA ┆ 2017 │\n",
       "└────────────────────────┴──────┘"
      ]
     },
     "execution_count": 45,
     "metadata": {},
     "output_type": "execute_result"
    }
   ],
   "source": [
    "elite_user = elite_user.unique()\n",
    "\n",
    "elite_user.loc[elite_user['year'] == '20', 'year'] = '2020'\n",
    "\n",
    "elite_user.head()"
   ]
  },
  {
   "cell_type": "markdown",
   "metadata": {
    "id": "H-xriaw5emB_"
   },
   "source": [
    "Ahora debemos Castear a Entero la columna `year`"
   ]
  },
  {
   "cell_type": "code",
   "execution_count": null,
   "metadata": {
    "colab": {
     "base_uri": "https://localhost:8080/",
     "height": 255
    },
    "executionInfo": {
     "elapsed": 292,
     "status": "ok",
     "timestamp": 1730309914656,
     "user": {
      "displayName": "Aliskair Rodríguez",
      "userId": "18238624046305613189"
     },
     "user_tz": 240
    },
    "id": "gwJc63HqgUoL",
    "outputId": "f359223f-a3b0-4b74-bec9-0a855e0be2ef"
   },
   "outputs": [
    {
     "data": {
      "text/html": [
       "<div><style>\n",
       ".dataframe > thead > tr,\n",
       ".dataframe > tbody > tr {\n",
       "  text-align: right;\n",
       "  white-space: pre-wrap;\n",
       "}\n",
       "</style>\n",
       "<small>shape: (5, 2)</small><table border=\"1\" class=\"dataframe\"><thead><tr><th>user_id</th><th>year</th></tr><tr><td>str</td><td>i64</td></tr></thead><tbody><tr><td>&quot;T4L1mTz2Shd9VpVIb1fZoQ&quot;</td><td>2018</td></tr><tr><td>&quot;5fBL_DYLnphhCcfSeomyhg&quot;</td><td>2019</td></tr><tr><td>&quot;_uMEeZbgqigt222bZ642qQ&quot;</td><td>2019</td></tr><tr><td>&quot;RQWQTxfhGGJ7bGgJ1EnExQ&quot;</td><td>2017</td></tr><tr><td>&quot;yhJ1SVBSjC_R2viEh5AbUA&quot;</td><td>2017</td></tr></tbody></table></div>"
      ],
      "text/plain": [
       "shape: (5, 2)\n",
       "┌────────────────────────┬──────┐\n",
       "│ user_id                ┆ year │\n",
       "│ ---                    ┆ ---  │\n",
       "│ str                    ┆ i64  │\n",
       "╞════════════════════════╪══════╡\n",
       "│ T4L1mTz2Shd9VpVIb1fZoQ ┆ 2018 │\n",
       "│ 5fBL_DYLnphhCcfSeomyhg ┆ 2019 │\n",
       "│ _uMEeZbgqigt222bZ642qQ ┆ 2019 │\n",
       "│ RQWQTxfhGGJ7bGgJ1EnExQ ┆ 2017 │\n",
       "│ yhJ1SVBSjC_R2viEh5AbUA ┆ 2017 │\n",
       "└────────────────────────┴──────┘"
      ]
     },
     "execution_count": 5,
     "metadata": {},
     "output_type": "execute_result"
    }
   ],
   "source": [
    "elite_user['year'] = elite_user['year'].astype(int)\n",
    "\n",
    "elite_user.head()"
   ]
  },
  {
   "cell_type": "markdown",
   "metadata": {
    "id": "GWQJmL7bR0PA"
   },
   "source": [
    "Guardando la Tabla `y_elite_user`"
   ]
  },
  {
   "cell_type": "code",
   "execution_count": null,
   "metadata": {
    "id": "83FiBIWxR3m0"
   },
   "outputs": [],
   "source": [
    "elite_user.to_parquet('datasets/yelp/filtrados_segun_maestro_cat/y_elite_user.parquet', index=False)"
   ]
  }
 ],
 "metadata": {
  "colab": {
   "authorship_tag": "ABX9TyPWr/WgCzOJLyLE852Tm+sk",
   "provenance": []
  },
  "kernelspec": {
   "display_name": "Python 3",
   "name": "python3"
  },
  "language_info": {
   "name": "python"
  }
 },
 "nbformat": 4,
 "nbformat_minor": 0
}
