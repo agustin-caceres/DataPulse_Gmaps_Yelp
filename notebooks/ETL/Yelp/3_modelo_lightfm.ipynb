{
 "cells": [
  {
   "cell_type": "code",
   "execution_count": null,
   "metadata": {
    "colab": {
     "base_uri": "https://localhost:8080/"
    },
    "executionInfo": {
     "elapsed": 1657,
     "status": "ok",
     "timestamp": 1730826119929,
     "user": {
      "displayName": "Aliskair Rodríguez",
      "userId": "18238624046305613189"
     },
     "user_tz": 240
    },
    "id": "pMrOJ-5jEh0N",
    "outputId": "cfbbb069-078b-49aa-b6d7-4434d13d56c9"
   },
   "outputs": [
    {
     "name": "stdout",
     "output_type": "stream",
     "text": [
      "Drive already mounted at /content/drive; to attempt to forcibly remount, call drive.mount(\"/content/drive\", force_remount=True).\n",
      "/content/drive/MyDrive/Bootcamp_Henry/pro_final\n"
     ]
    }
   ],
   "source": [
    "# from google.colab import drive\n",
    "# import os\n",
    "# drive.mount('/content/drive')\n",
    "# os.chdir(\"drive/MyDrive/Bootcamp_Henry/pro_final\")\n",
    "# print(os.getcwd())"
   ]
  },
  {
   "cell_type": "code",
   "execution_count": null,
   "metadata": {
    "id": "emTxhO4ZE7tV"
   },
   "outputs": [],
   "source": [
    "# !pip install lightfm -q"
   ]
  },
  {
   "cell_type": "markdown",
   "metadata": {},
   "source": [
    "# **Objetivo del Cuaderno Jupyter**\n",
    "- Crear el Modelo de Recomendación basado en el Algoritmo LightFm"
   ]
  },
  {
   "cell_type": "markdown",
   "metadata": {
    "id": "KnH_A1FfU6TF"
   },
   "source": [
    "Importando Librerias"
   ]
  },
  {
   "cell_type": "code",
   "execution_count": null,
   "metadata": {
    "id": "lFl-ofWuFDOt"
   },
   "outputs": [],
   "source": [
    "import pandas as pd\n",
    "from sklearn.preprocessing import StandardScaler\n",
    "from sklearn.preprocessing import LabelEncoder\n",
    "from scipy import sparse\n",
    "from lightfm import LightFM\n",
    "from lightfm.data import Dataset\n",
    "from lightfm.evaluation import precision_at_k\n",
    "import numpy as np\n",
    "import joblib"
   ]
  },
  {
   "cell_type": "markdown",
   "metadata": {
    "id": "OU5i8y0wU8-W"
   },
   "source": [
    "Cargando Datos"
   ]
  },
  {
   "cell_type": "code",
   "execution_count": null,
   "metadata": {
    "id": "pwP1JwvhFNVt"
   },
   "outputs": [],
   "source": [
    "reviews = pd.read_parquet('datasets/yelp/ml_tables/ml_reviews.parquet')\n",
    "df_user = pd.read_parquet('datasets/yelp/ml_tables/ml_user.parquet')\n",
    "df_business = pd.read_parquet('datasets/yelp/ml_tables/ml_business.parquet')\n",
    "\n",
    "df_business = df_business.rename(columns={'stars': 'business_stars'})\n",
    "\n",
    "mask = df_business['business_id'].isin(reviews['business_id'].unique().tolist())\n",
    "df_business = df_business[mask]\n",
    "\n",
    "mask = reviews['user_id'].isin(df_user['user_id'].unique().tolist())\n",
    "reviews = reviews[mask]"
   ]
  },
  {
   "cell_type": "markdown",
   "metadata": {
    "id": "QWefBjiXGuRS"
   },
   "source": [
    "## Preprocesamiento Pasando user_id y business_id a enteros"
   ]
  },
  {
   "cell_type": "code",
   "execution_count": null,
   "metadata": {
    "id": "k6t98glqGt0m"
   },
   "outputs": [],
   "source": [
    "# Creando la columna de codigos enteros en `user`\n",
    "df_user['user_id_int'] = range(1, len(df_user) + 1)\n",
    "cols = ['user_id_int'] + [col for col in df_user.columns if col != 'user_id_int']\n",
    "df_user = df_user[cols]\n",
    "df_user_ids = df_user[['user_id_int', 'user_id']]\n",
    "user = df_user[['user_id_int', 'average_stars']]\n",
    "\n",
    "# Creando la columna de codigos enteros en `business`\n",
    "df_business['business_id_int'] = range(1, len(df_business) + 1)\n",
    "cols = ['business_id_int'] + [col for col in df_business.columns if col != 'business_id_int']\n",
    "df_business = df_business[cols]\n",
    "df_business_ids = df_business[['business_id_int', 'business_id']]\n",
    "\n",
    "# Creando la columna de codigos enteros en `reviews\n",
    "reviews = reviews.merge(df_user_ids, on='user_id', how='left')\n",
    "reviews = reviews.merge(df_business_ids, on='business_id', how='left')\n",
    "reviews = reviews[['user_id_int', 'business_id_int', 'stars']]"
   ]
  },
  {
   "cell_type": "code",
   "execution_count": 1,
   "metadata": {
    "executionInfo": {
     "elapsed": 552,
     "status": "ok",
     "timestamp": 1730841224741,
     "user": {
      "displayName": "Aliskair Rodríguez",
      "userId": "18238624046305613189"
     },
     "user_tz": 240
    },
    "id": "WQsvzR3_Fluq"
   },
   "outputs": [],
   "source": [
    "# Preprocesamiento\n",
    "numerical_cols = ['business_stars', 'review_count', 'cantidad_checkins', 'compliment_count']  # Lista de columnas numéricas\n",
    "scaler = StandardScaler()\n",
    "df_business[numerical_cols] = scaler.fit_transform(df_business[numerical_cols])\n",
    "\n",
    "user['average_stars'] = scaler.fit_transform(user[['average_stars']])\n",
    "\n",
    "business = df_business[['business_id_int', 'business_stars', 'polaridad_tip']]"
   ]
  },
  {
   "cell_type": "code",
   "execution_count": null,
   "metadata": {
    "id": "w7gkwRo1F2U5"
   },
   "outputs": [],
   "source": [
    "# Crear el dataset de LightFM\n",
    "dataset = Dataset()\n",
    "dataset.fit(\n",
    "    (x.user_id_int for x in reviews.itertuples()),\n",
    "    (x.business_id_int for x in reviews.itertuples()),\n",
    "    user_features=(col for col in user.columns if col != 'user_id_int'),\n",
    "    item_features=(col for col in business.columns if col != 'business_id_int')\n",
    ")"
   ]
  },
  {
   "cell_type": "code",
   "execution_count": null,
   "metadata": {
    "id": "6Zu4F6xVO8sC"
   },
   "outputs": [],
   "source": [
    "# Construir Matriz de Interacciones\n",
    "(interactions, weights) = dataset.build_interactions(\n",
    "    [(x['user_id_int'], x['business_id_int']) for _, x in reviews.iterrows()]\n",
    ")"
   ]
  },
  {
   "cell_type": "code",
   "execution_count": null,
   "metadata": {
    "id": "zaSFw61rPZoL"
   },
   "outputs": [],
   "source": [
    "dataset.fit_partial(item_features=((lambda column: x[column] for column in business.columns[1:]) for x in business.iterrows()))"
   ]
  },
  {
   "cell_type": "code",
   "execution_count": null,
   "metadata": {
    "id": "iBpsLctTSirS"
   },
   "outputs": [],
   "source": [
    "dataset.fit_partial(user_features=((lambda column: x[column] for column in user.columns[1:]) for x in user.iterrows()))"
   ]
  },
  {
   "cell_type": "code",
   "execution_count": null,
   "metadata": {
    "id": "bR0OK2lMxrRL"
   },
   "outputs": [],
   "source": [
    "# Construir Matriz de Características de Usuarios\n",
    "user_features = dataset.build_user_features(\n",
    "    [(x['user_id_int'], {col: x[col] for col in user.columns if col != 'user_id_int'}) for _, x in user.iterrows()]\n",
    ")"
   ]
  },
  {
   "cell_type": "code",
   "execution_count": null,
   "metadata": {
    "id": "sriZ3bUuyEz2"
   },
   "outputs": [],
   "source": [
    "# Construir Matriz de Características de Ítems\n",
    "item_features = dataset.build_item_features(\n",
    "    [(x['business_id_int'], {col: x[col] for col in business.columns if col not in ['business_id_int', 'state']}) for _, x in business.iterrows()]\n",
    ")"
   ]
  },
  {
   "cell_type": "code",
   "execution_count": null,
   "metadata": {
    "id": "bOoqBrrM4qOb"
   },
   "outputs": [],
   "source": [
    "# Inicializar el modelo\n",
    "model = LightFM(loss='warp', item_alpha=1e-10, user_alpha=1e-10, random_state=42)"
   ]
  },
  {
   "cell_type": "code",
   "execution_count": null,
   "metadata": {
    "colab": {
     "base_uri": "https://localhost:8080/"
    },
    "executionInfo": {
     "elapsed": 49771,
     "status": "ok",
     "timestamp": 1730826345904,
     "user": {
      "displayName": "Aliskair Rodríguez",
      "userId": "18238624046305613189"
     },
     "user_tz": 240
    },
    "id": "L2edDnKs4yp9",
    "outputId": "bd5d1f4b-d71e-4f48-fc3f-dfd06a5e1784"
   },
   "outputs": [
    {
     "data": {
      "text/plain": [
       "<lightfm.lightfm.LightFM at 0x7873bb0272b0>"
      ]
     },
     "execution_count": 22,
     "metadata": {},
     "output_type": "execute_result"
    }
   ],
   "source": [
    "# Entrenar el modelo\n",
    "model.fit(interactions, item_features=item_features, user_features=user_features, epochs=400, num_threads=5)"
   ]
  },
  {
   "cell_type": "code",
   "execution_count": null,
   "metadata": {
    "colab": {
     "base_uri": "https://localhost:8080/"
    },
    "executionInfo": {
     "elapsed": 20072,
     "status": "ok",
     "timestamp": 1730826365973,
     "user": {
      "displayName": "Aliskair Rodríguez",
      "userId": "18238624046305613189"
     },
     "user_tz": 240
    },
    "id": "-D2gCpqW46_P",
    "outputId": "97850cbb-a5fd-410d-e91a-347465f75eac"
   },
   "outputs": [
    {
     "name": "stdout",
     "output_type": "stream",
     "text": [
      "Train precision at k=5: 0.14722798764705658\n"
     ]
    }
   ],
   "source": [
    "# Evaluar el modelo\n",
    "train_precision = precision_at_k(model, interactions, item_features=item_features, user_features=user_features, k=5).mean()\n",
    "print(f'Train precision at k=5: {train_precision}')"
   ]
  },
  {
   "cell_type": "code",
   "execution_count": null,
   "metadata": {
    "colab": {
     "background_save": true,
     "base_uri": "https://localhost:8080/"
    },
    "id": "5U-EVC4VTqk5",
    "outputId": "0eea5a58-6911-40eb-e1aa-88324a899796"
   },
   "outputs": [
    {
     "name": "stdout",
     "output_type": "stream",
     "text": [
      "allphas --> 1e-08   threads --> 2   epochs --> 180   train_precision --> 0.07833496481180191\n",
      "allphas --> 1e-08   threads --> 2   epochs --> 200   train_precision --> 0.08227275311946869\n",
      "allphas --> 1e-08   threads --> 2   epochs --> 210   train_precision --> 0.0874723568558693\n",
      "allphas --> 1e-08   threads --> 2   epochs --> 220   train_precision --> 0.09167482703924179\n",
      "allphas --> 1e-08   threads --> 2   epochs --> 230   train_precision --> 0.09681279957294464\n",
      "allphas --> 1e-08   threads --> 2   epochs --> 240   train_precision --> 0.09642119705677032\n",
      "allphas --> 1e-08   threads --> 2   epochs --> 250   train_precision --> 0.10311832278966904\n",
      "allphas --> 1e-08   threads --> 2   epochs --> 260   train_precision --> 0.10547518730163574\n",
      "allphas --> 1e-08   threads --> 2   epochs --> 270   train_precision --> 0.10868777334690094\n",
      "allphas --> 1e-08   threads --> 2   epochs --> 280   train_precision --> 0.10745133459568024\n",
      "allphas --> 1e-08   threads --> 2   epochs --> 290   train_precision --> 0.11356467753648758\n",
      "allphas --> 1e-08   threads --> 2   epochs --> 300   train_precision --> 0.11550819873809814\n",
      "allphas --> 1e-08   threads --> 2   epochs --> 310   train_precision --> 0.11659597605466843\n",
      "allphas --> 1e-08   threads --> 2   epochs --> 320   train_precision --> 0.11983756721019745\n",
      "allphas --> 1e-08   threads --> 2   epochs --> 330   train_precision --> 0.12303566187620163\n",
      "allphas --> 1e-08   threads --> 2   epochs --> 340   train_precision --> 0.12245913594961166\n",
      "allphas --> 1e-08   threads --> 2   epochs --> 350   train_precision --> 0.12616848945617676\n",
      "allphas --> 1e-08   threads --> 2   epochs --> 360   train_precision --> 0.1264476627111435\n",
      "allphas --> 1e-08   threads --> 2   epochs --> 370   train_precision --> 0.12850721180438995\n",
      "allphas --> 1e-08   threads --> 2   epochs --> 380   train_precision --> 0.13373582065105438\n",
      "allphas --> 1e-08   threads --> 2   epochs --> 390   train_precision --> 0.13455167412757874\n",
      "allphas --> 1e-08   threads --> 2   epochs --> 400   train_precision --> 0.1349831521511078\n",
      "allphas --> 1e-08   threads --> 3   epochs --> 180   train_precision --> 0.07317886501550674\n",
      "allphas --> 1e-08   threads --> 3   epochs --> 200   train_precision --> 0.08730193972587585\n",
      "allphas --> 1e-08   threads --> 3   epochs --> 210   train_precision --> 0.0889589935541153\n",
      "allphas --> 1e-08   threads --> 3   epochs --> 220   train_precision --> 0.08714964985847473\n",
      "allphas --> 1e-08   threads --> 3   epochs --> 230   train_precision --> 0.08394067734479904\n",
      "allphas --> 1e-08   threads --> 3   epochs --> 240   train_precision --> 0.08963704854249954\n",
      "allphas --> 1e-08   threads --> 3   epochs --> 250   train_precision --> 0.10394866019487381\n",
      "allphas --> 1e-08   threads --> 3   epochs --> 260   train_precision --> 0.10658473521471024\n",
      "allphas --> 1e-08   threads --> 3   epochs --> 270   train_precision --> 0.10368034988641739\n",
      "allphas --> 1e-08   threads --> 3   epochs --> 280   train_precision --> 0.10899960249662399\n",
      "allphas --> 1e-08   threads --> 3   epochs --> 290   train_precision --> 0.10546431690454483\n",
      "allphas --> 1e-08   threads --> 3   epochs --> 300   train_precision --> 0.11549005657434464\n",
      "allphas --> 1e-08   threads --> 3   epochs --> 310   train_precision --> 0.1156967356801033\n",
      "allphas --> 1e-08   threads --> 3   epochs --> 320   train_precision --> 0.12016028165817261\n",
      "allphas --> 1e-08   threads --> 3   epochs --> 330   train_precision --> 0.11695131659507751\n",
      "allphas --> 1e-08   threads --> 3   epochs --> 340   train_precision --> 0.11800283938646317\n",
      "allphas --> 1e-08   threads --> 3   epochs --> 350   train_precision --> 0.12382248789072037\n",
      "allphas --> 1e-08   threads --> 3   epochs --> 360   train_precision --> 0.1253345012664795\n",
      "allphas --> 1e-08   threads --> 3   epochs --> 370   train_precision --> 0.12786541879177094\n",
      "allphas --> 1e-08   threads --> 3   epochs --> 380   train_precision --> 0.12624824047088623\n",
      "allphas --> 1e-08   threads --> 3   epochs --> 390   train_precision --> 0.12824614346027374\n",
      "allphas --> 1e-08   threads --> 3   epochs --> 400   train_precision --> 0.12921065092086792\n",
      "allphas --> 1e-08   threads --> 4   epochs --> 180   train_precision --> 0.07451684772968292\n",
      "allphas --> 1e-08   threads --> 4   epochs --> 200   train_precision --> 0.08294717222452164\n",
      "allphas --> 1e-08   threads --> 4   epochs --> 210   train_precision --> 0.08885021507740021\n",
      "allphas --> 1e-08   threads --> 4   epochs --> 220   train_precision --> 0.0908263698220253\n",
      "allphas --> 1e-08   threads --> 4   epochs --> 230   train_precision --> 0.09600058197975159\n",
      "allphas --> 1e-08   threads --> 4   epochs --> 240   train_precision --> 0.0962652862071991\n",
      "allphas --> 1e-08   threads --> 4   epochs --> 250   train_precision --> 0.10033722966909409\n",
      "allphas --> 1e-08   threads --> 4   epochs --> 260   train_precision --> 0.10327424108982086\n",
      "allphas --> 1e-08   threads --> 4   epochs --> 270   train_precision --> 0.108879953622818\n",
      "allphas --> 1e-08   threads --> 4   epochs --> 280   train_precision --> 0.11462708562612534\n",
      "allphas --> 1e-08   threads --> 4   epochs --> 290   train_precision --> 0.11299539357423782\n",
      "allphas --> 1e-08   threads --> 4   epochs --> 300   train_precision --> 0.11168281733989716\n",
      "allphas --> 1e-08   threads --> 4   epochs --> 310   train_precision --> 0.11649445444345474\n",
      "allphas --> 1e-08   threads --> 4   epochs --> 320   train_precision --> 0.1196453869342804\n",
      "allphas --> 1e-08   threads --> 4   epochs --> 330   train_precision --> 0.12284711003303528\n",
      "allphas --> 1e-08   threads --> 4   epochs --> 340   train_precision --> 0.12393125146627426\n",
      "allphas --> 1e-08   threads --> 4   epochs --> 350   train_precision --> 0.12740853428840637\n",
      "allphas --> 1e-08   threads --> 4   epochs --> 360   train_precision --> 0.13021503388881683\n",
      "allphas --> 1e-08   threads --> 4   epochs --> 370   train_precision --> 0.12779289484024048\n",
      "allphas --> 1e-08   threads --> 4   epochs --> 380   train_precision --> 0.12999747693538666\n",
      "allphas --> 1e-08   threads --> 4   epochs --> 390   train_precision --> 0.132270947098732\n",
      "allphas --> 1e-08   threads --> 4   epochs --> 400   train_precision --> 0.13259004056453705\n",
      "allphas --> 1e-08   threads --> 5   epochs --> 180   train_precision --> 0.07964393496513367\n",
      "allphas --> 1e-08   threads --> 5   epochs --> 200   train_precision --> 0.0835200771689415\n",
      "allphas --> 1e-08   threads --> 5   epochs --> 210   train_precision --> 0.0936691090464592\n",
      "allphas --> 1e-08   threads --> 5   epochs --> 220   train_precision --> 0.08918017894029617\n",
      "allphas --> 1e-08   threads --> 5   epochs --> 230   train_precision --> 0.09501433372497559\n",
      "allphas --> 1e-08   threads --> 5   epochs --> 240   train_precision --> 0.09327387064695358\n",
      "allphas --> 1e-08   threads --> 5   epochs --> 250   train_precision --> 0.10292252153158188\n",
      "allphas --> 1e-08   threads --> 5   epochs --> 260   train_precision --> 0.10333225876092911\n",
      "allphas --> 1e-08   threads --> 5   epochs --> 270   train_precision --> 0.11514558643102646\n",
      "allphas --> 1e-08   threads --> 5   epochs --> 280   train_precision --> 0.11158490926027298\n",
      "allphas --> 1e-08   threads --> 5   epochs --> 290   train_precision --> 0.11114980280399323\n",
      "allphas --> 1e-08   threads --> 5   epochs --> 300   train_precision --> 0.11691505461931229\n",
      "allphas --> 1e-08   threads --> 5   epochs --> 310   train_precision --> 0.11939157545566559\n",
      "allphas --> 1e-08   threads --> 5   epochs --> 320   train_precision --> 0.12295588105916977\n",
      "allphas --> 1e-08   threads --> 5   epochs --> 330   train_precision --> 0.1241161897778511\n",
      "allphas --> 1e-08   threads --> 5   epochs --> 340   train_precision --> 0.12418507039546967\n",
      "allphas --> 1e-08   threads --> 5   epochs --> 350   train_precision --> 0.12640053033828735\n",
      "allphas --> 1e-08   threads --> 5   epochs --> 360   train_precision --> 0.12663984298706055\n",
      "allphas --> 1e-08   threads --> 5   epochs --> 370   train_precision --> 0.1321512907743454\n",
      "allphas --> 1e-08   threads --> 5   epochs --> 380   train_precision --> 0.130798801779747\n",
      "allphas --> 1e-08   threads --> 5   epochs --> 390   train_precision --> 0.13007362186908722\n",
      "allphas --> 1e-08   threads --> 5   epochs --> 400   train_precision --> 0.13516807556152344\n",
      "allphas --> 1e-08   threads --> 6   epochs --> 180   train_precision --> 0.07652924954891205\n",
      "allphas --> 1e-08   threads --> 6   epochs --> 200   train_precision --> 0.08683418482542038\n",
      "allphas --> 1e-08   threads --> 6   epochs --> 210   train_precision --> 0.08659850805997849\n",
      "allphas --> 1e-08   threads --> 6   epochs --> 220   train_precision --> 0.09369086474180222\n",
      "allphas --> 1e-08   threads --> 6   epochs --> 230   train_precision --> 0.09773740917444229\n",
      "allphas --> 1e-08   threads --> 6   epochs --> 240   train_precision --> 0.10300229489803314\n",
      "allphas --> 1e-08   threads --> 6   epochs --> 250   train_precision --> 0.10219008475542068\n",
      "allphas --> 1e-08   threads --> 6   epochs --> 260   train_precision --> 0.10388340801000595\n",
      "allphas --> 1e-08   threads --> 6   epochs --> 270   train_precision --> 0.10893434286117554\n",
      "allphas --> 1e-08   threads --> 6   epochs --> 280   train_precision --> 0.11175895482301712\n",
      "allphas --> 1e-08   threads --> 6   epochs --> 290   train_precision --> 0.11916675418615341\n",
      "allphas --> 1e-08   threads --> 6   epochs --> 300   train_precision --> 0.1123608648777008\n",
      "allphas --> 1e-08   threads --> 6   epochs --> 310   train_precision --> 0.11647269129753113\n",
      "allphas --> 1e-08   threads --> 6   epochs --> 320   train_precision --> 0.13049422204494476\n",
      "allphas --> 1e-08   threads --> 6   epochs --> 330   train_precision --> 0.1298052966594696\n",
      "allphas --> 1e-08   threads --> 6   epochs --> 340   train_precision --> 0.1265709549188614\n",
      "allphas --> 1e-08   threads --> 6   epochs --> 350   train_precision --> 0.12889517843723297\n",
      "allphas --> 1e-08   threads --> 6   epochs --> 360   train_precision --> 0.1268284022808075\n",
      "allphas --> 1e-08   threads --> 6   epochs --> 370   train_precision --> 0.1291961371898651\n",
      "allphas --> 1e-08   threads --> 6   epochs --> 380   train_precision --> 0.13024404644966125\n",
      "allphas --> 1e-08   threads --> 6   epochs --> 390   train_precision --> 0.1328873485326767\n",
      "allphas --> 1e-08   threads --> 6   epochs --> 400   train_precision --> 0.13429784774780273\n",
      "allphas --> 1e-09   threads --> 2   epochs --> 180   train_precision --> 0.0800609141588211\n",
      "allphas --> 1e-09   threads --> 2   epochs --> 200   train_precision --> 0.08195728808641434\n",
      "allphas --> 1e-09   threads --> 2   epochs --> 210   train_precision --> 0.08604010194540024\n",
      "allphas --> 1e-09   threads --> 2   epochs --> 220   train_precision --> 0.09447768330574036\n",
      "allphas --> 1e-09   threads --> 2   epochs --> 230   train_precision --> 0.09430727362632751\n",
      "allphas --> 1e-09   threads --> 2   epochs --> 240   train_precision --> 0.09828855842351913\n",
      "allphas --> 1e-09   threads --> 2   epochs --> 250   train_precision --> 0.1059211790561676\n",
      "allphas --> 1e-09   threads --> 2   epochs --> 260   train_precision --> 0.10836506634950638\n",
      "allphas --> 1e-09   threads --> 2   epochs --> 270   train_precision --> 0.10599369555711746\n",
      "allphas --> 1e-09   threads --> 2   epochs --> 280   train_precision --> 0.11016716808080673\n",
      "allphas --> 1e-09   threads --> 2   epochs --> 290   train_precision --> 0.11629501730203629\n",
      "allphas --> 1e-09   threads --> 2   epochs --> 300   train_precision --> 0.1156894862651825\n",
      "allphas --> 1e-09   threads --> 2   epochs --> 310   train_precision --> 0.11998986452817917\n",
      "allphas --> 1e-09   threads --> 2   epochs --> 320   train_precision --> 0.1213822215795517\n",
      "allphas --> 1e-09   threads --> 2   epochs --> 330   train_precision --> 0.12035609036684036\n",
      "allphas --> 1e-09   threads --> 2   epochs --> 340   train_precision --> 0.12613584101200104\n",
      "allphas --> 1e-09   threads --> 2   epochs --> 350   train_precision --> 0.1251024454832077\n",
      "allphas --> 1e-09   threads --> 2   epochs --> 360   train_precision --> 0.12741580605506897\n",
      "allphas --> 1e-09   threads --> 2   epochs --> 370   train_precision --> 0.1278255432844162\n",
      "allphas --> 1e-09   threads --> 2   epochs --> 380   train_precision --> 0.1335001438856125\n",
      "allphas --> 1e-09   threads --> 2   epochs --> 390   train_precision --> 0.13246312737464905\n",
      "allphas --> 1e-09   threads --> 2   epochs --> 400   train_precision --> 0.13460604846477509\n",
      "allphas --> 1e-09   threads --> 3   epochs --> 180   train_precision --> 0.07950614392757416\n",
      "allphas --> 1e-09   threads --> 3   epochs --> 200   train_precision --> 0.08462236076593399\n",
      "allphas --> 1e-09   threads --> 3   epochs --> 210   train_precision --> 0.08164907246828079\n",
      "allphas --> 1e-09   threads --> 3   epochs --> 220   train_precision --> 0.09324124455451965\n",
      "allphas --> 1e-09   threads --> 3   epochs --> 230   train_precision --> 0.09828130155801773\n",
      "allphas --> 1e-09   threads --> 3   epochs --> 240   train_precision --> 0.09139563143253326\n",
      "allphas --> 1e-09   threads --> 3   epochs --> 250   train_precision --> 0.0954059287905693\n",
      "allphas --> 1e-09   threads --> 3   epochs --> 260   train_precision --> 0.09702309966087341\n",
      "allphas --> 1e-09   threads --> 3   epochs --> 270   train_precision --> 0.1076398715376854\n",
      "allphas --> 1e-09   threads --> 3   epochs --> 280   train_precision --> 0.10521411895751953\n",
      "allphas --> 1e-09   threads --> 3   epochs --> 290   train_precision --> 0.1117408275604248\n",
      "allphas --> 1e-09   threads --> 3   epochs --> 300   train_precision --> 0.11271259188652039\n",
      "allphas --> 1e-09   threads --> 3   epochs --> 310   train_precision --> 0.10980457067489624\n",
      "allphas --> 1e-09   threads --> 3   epochs --> 320   train_precision --> 0.12003699690103531\n",
      "allphas --> 1e-09   threads --> 3   epochs --> 330   train_precision --> 0.12431198358535767\n",
      "allphas --> 1e-09   threads --> 3   epochs --> 340   train_precision --> 0.12223794311285019\n",
      "allphas --> 1e-09   threads --> 3   epochs --> 350   train_precision --> 0.12787993252277374\n",
      "allphas --> 1e-09   threads --> 3   epochs --> 360   train_precision --> 0.1205228790640831\n",
      "allphas --> 1e-09   threads --> 3   epochs --> 370   train_precision --> 0.132144033908844\n",
      "allphas --> 1e-09   threads --> 3   epochs --> 380   train_precision --> 0.12871751189231873\n",
      "allphas --> 1e-09   threads --> 3   epochs --> 390   train_precision --> 0.13070817291736603\n",
      "allphas --> 1e-09   threads --> 3   epochs --> 400   train_precision --> 0.13381922245025635\n",
      "allphas --> 1e-09   threads --> 4   epochs --> 180   train_precision --> 0.07531817257404327\n",
      "allphas --> 1e-09   threads --> 4   epochs --> 200   train_precision --> 0.07954966276884079\n",
      "allphas --> 1e-09   threads --> 4   epochs --> 210   train_precision --> 0.08391530066728592\n",
      "allphas --> 1e-09   threads --> 4   epochs --> 220   train_precision --> 0.08970957249403\n",
      "allphas --> 1e-09   threads --> 4   epochs --> 230   train_precision --> 0.09327386319637299\n",
      "allphas --> 1e-09   threads --> 4   epochs --> 240   train_precision --> 0.09767939895391464\n",
      "allphas --> 1e-09   threads --> 4   epochs --> 250   train_precision --> 0.10207768529653549\n",
      "allphas --> 1e-09   threads --> 4   epochs --> 260   train_precision --> 0.10377462953329086\n",
      "allphas --> 1e-09   threads --> 4   epochs --> 270   train_precision --> 0.10509083420038223\n",
      "allphas --> 1e-09   threads --> 4   epochs --> 280   train_precision --> 0.11137097328901291\n",
      "allphas --> 1e-09   threads --> 4   epochs --> 290   train_precision --> 0.11046086996793747\n",
      "allphas --> 1e-09   threads --> 4   epochs --> 300   train_precision --> 0.1137205958366394\n",
      "allphas --> 1e-09   threads --> 4   epochs --> 310   train_precision --> 0.1180536076426506\n",
      "allphas --> 1e-09   threads --> 4   epochs --> 320   train_precision --> 0.11678089201450348\n",
      "allphas --> 1e-09   threads --> 4   epochs --> 330   train_precision --> 0.12034157663583755\n",
      "allphas --> 1e-09   threads --> 4   epochs --> 340   train_precision --> 0.12490302324295044\n",
      "allphas --> 1e-09   threads --> 4   epochs --> 350   train_precision --> 0.12582401931285858\n",
      "allphas --> 1e-09   threads --> 4   epochs --> 360   train_precision --> 0.1279234141111374\n",
      "allphas --> 1e-09   threads --> 4   epochs --> 370   train_precision --> 0.1261141002178192\n",
      "allphas --> 1e-09   threads --> 4   epochs --> 380   train_precision --> 0.1300409883260727\n",
      "allphas --> 1e-09   threads --> 4   epochs --> 390   train_precision --> 0.12948259711265564\n",
      "allphas --> 1e-09   threads --> 4   epochs --> 400   train_precision --> 0.13469670712947845\n",
      "allphas --> 1e-09   threads --> 5   epochs --> 180   train_precision --> 0.07817542552947998\n",
      "allphas --> 1e-09   threads --> 5   epochs --> 200   train_precision --> 0.08465498685836792\n",
      "allphas --> 1e-09   threads --> 5   epochs --> 210   train_precision --> 0.09214620292186737\n",
      "allphas --> 1e-09   threads --> 5   epochs --> 220   train_precision --> 0.09604047983884811\n",
      "allphas --> 1e-09   threads --> 5   epochs --> 230   train_precision --> 0.09608761221170425\n",
      "allphas --> 1e-09   threads --> 5   epochs --> 240   train_precision --> 0.10276296734809875\n",
      "allphas --> 1e-09   threads --> 5   epochs --> 250   train_precision --> 0.10179122537374496\n",
      "allphas --> 1e-09   threads --> 5   epochs --> 260   train_precision --> 0.10768339037895203\n",
      "allphas --> 1e-09   threads --> 5   epochs --> 270   train_precision --> 0.10620401054620743\n",
      "allphas --> 1e-09   threads --> 5   epochs --> 280   train_precision --> 0.11325646936893463\n",
      "allphas --> 1e-09   threads --> 5   epochs --> 290   train_precision --> 0.11562784016132355\n",
      "allphas --> 1e-09   threads --> 5   epochs --> 300   train_precision --> 0.11835817992687225\n",
      "allphas --> 1e-09   threads --> 5   epochs --> 310   train_precision --> 0.12033432722091675\n",
      "allphas --> 1e-09   threads --> 5   epochs --> 320   train_precision --> 0.12542514503002167\n",
      "allphas --> 1e-09   threads --> 5   epochs --> 330   train_precision --> 0.12122629582881927\n",
      "allphas --> 1e-09   threads --> 5   epochs --> 340   train_precision --> 0.13310490548610687\n",
      "allphas --> 1e-09   threads --> 5   epochs --> 350   train_precision --> 0.1257152259349823\n",
      "allphas --> 1e-09   threads --> 5   epochs --> 360   train_precision --> 0.1265745908021927\n",
      "allphas --> 1e-09   threads --> 5   epochs --> 370   train_precision --> 0.13083869218826294\n",
      "allphas --> 1e-09   threads --> 5   epochs --> 380   train_precision --> 0.13181771337985992\n",
      "allphas --> 1e-09   threads --> 5   epochs --> 390   train_precision --> 0.13386274874210358\n",
      "allphas --> 1e-09   threads --> 5   epochs --> 400   train_precision --> 0.13529136776924133\n",
      "allphas --> 1e-09   threads --> 6   epochs --> 180   train_precision --> 0.0753580629825592\n",
      "allphas --> 1e-09   threads --> 6   epochs --> 200   train_precision --> 0.08632293343544006\n",
      "allphas --> 1e-09   threads --> 6   epochs --> 210   train_precision --> 0.0940425843000412\n",
      "allphas --> 1e-09   threads --> 6   epochs --> 220   train_precision --> 0.09406070411205292\n",
      "allphas --> 1e-09   threads --> 6   epochs --> 230   train_precision --> 0.09410784393548965\n",
      "allphas --> 1e-09   threads --> 6   epochs --> 240   train_precision --> 0.10396679490804672\n",
      "allphas --> 1e-09   threads --> 6   epochs --> 250   train_precision --> 0.10358607769012451\n",
      "allphas --> 1e-09   threads --> 6   epochs --> 260   train_precision --> 0.10762175917625427\n",
      "allphas --> 1e-09   threads --> 6   epochs --> 270   train_precision --> 0.10809312015771866\n",
      "allphas --> 1e-09   threads --> 6   epochs --> 280   train_precision --> 0.11329273134469986\n",
      "allphas --> 1e-09   threads --> 6   epochs --> 290   train_precision --> 0.11080534011125565\n",
      "allphas --> 1e-09   threads --> 6   epochs --> 300   train_precision --> 0.11410857737064362\n",
      "allphas --> 1e-09   threads --> 6   epochs --> 310   train_precision --> 0.11899635940790176\n",
      "allphas --> 1e-09   threads --> 6   epochs --> 320   train_precision --> 0.12158164381980896\n",
      "allphas --> 1e-09   threads --> 6   epochs --> 330   train_precision --> 0.12196962535381317\n",
      "allphas --> 1e-09   threads --> 6   epochs --> 340   train_precision --> 0.12604518234729767\n",
      "allphas --> 1e-09   threads --> 6   epochs --> 350   train_precision --> 0.12363030016422272\n",
      "allphas --> 1e-09   threads --> 6   epochs --> 360   train_precision --> 0.12902934849262238\n",
      "allphas --> 1e-09   threads --> 6   epochs --> 370   train_precision --> 0.1318865865468979\n",
      "allphas --> 1e-09   threads --> 6   epochs --> 380   train_precision --> 0.12988144159317017\n",
      "allphas --> 1e-09   threads --> 6   epochs --> 390   train_precision --> 0.1366039365530014\n",
      "allphas --> 1e-09   threads --> 6   epochs --> 400   train_precision --> 0.13485261797904968\n",
      "allphas --> 1e-10   threads --> 2   epochs --> 180   train_precision --> 0.07802313566207886\n",
      "allphas --> 1e-10   threads --> 2   epochs --> 200   train_precision --> 0.0874796062707901\n",
      "allphas --> 1e-10   threads --> 2   epochs --> 210   train_precision --> 0.0897095650434494\n",
      "allphas --> 1e-10   threads --> 2   epochs --> 220   train_precision --> 0.09526451677083969\n",
      "allphas --> 1e-10   threads --> 2   epochs --> 230   train_precision --> 0.10046049952507019\n",
      "allphas --> 1e-10   threads --> 2   epochs --> 240   train_precision --> 0.09974256157875061\n",
      "allphas --> 1e-10   threads --> 2   epochs --> 250   train_precision --> 0.10189274698495865\n",
      "allphas --> 1e-10   threads --> 2   epochs --> 260   train_precision --> 0.10335400700569153\n",
      "allphas --> 1e-10   threads --> 2   epochs --> 270   train_precision --> 0.10686029493808746\n",
      "allphas --> 1e-10   threads --> 2   epochs --> 280   train_precision --> 0.110493503510952\n",
      "allphas --> 1e-10   threads --> 2   epochs --> 290   train_precision --> 0.1138366311788559\n",
      "allphas --> 1e-10   threads --> 2   epochs --> 300   train_precision --> 0.11651983112096786\n",
      "allphas --> 1e-10   threads --> 2   epochs --> 310   train_precision --> 0.11573661863803864\n",
      "allphas --> 1e-10   threads --> 2   epochs --> 320   train_precision --> 0.12046485394239426\n",
      "allphas --> 1e-10   threads --> 2   epochs --> 330   train_precision --> 0.12207116186618805\n",
      "allphas --> 1e-10   threads --> 2   epochs --> 340   train_precision --> 0.12511694431304932\n",
      "allphas --> 1e-10   threads --> 2   epochs --> 350   train_precision --> 0.12799957394599915\n",
      "allphas --> 1e-10   threads --> 2   epochs --> 360   train_precision --> 0.1283077895641327\n",
      "allphas --> 1e-10   threads --> 2   epochs --> 370   train_precision --> 0.12758983671665192\n",
      "allphas --> 1e-10   threads --> 2   epochs --> 380   train_precision --> 0.1317959576845169\n",
      "allphas --> 1e-10   threads --> 2   epochs --> 390   train_precision --> 0.1332862228155136\n",
      "allphas --> 1e-10   threads --> 2   epochs --> 400   train_precision --> 0.13442476093769073\n",
      "allphas --> 1e-10   threads --> 3   epochs --> 180   train_precision --> 0.07698974013328552\n",
      "allphas --> 1e-10   threads --> 3   epochs --> 200   train_precision --> 0.0779542401432991\n",
      "allphas --> 1e-10   threads --> 3   epochs --> 210   train_precision --> 0.08036912232637405\n",
      "allphas --> 1e-10   threads --> 3   epochs --> 220   train_precision --> 0.08947750926017761\n",
      "allphas --> 1e-10   threads --> 3   epochs --> 230   train_precision --> 0.09346242249011993\n",
      "allphas --> 1e-10   threads --> 3   epochs --> 240   train_precision --> 0.09210269153118134\n",
      "allphas --> 1e-10   threads --> 3   epochs --> 250   train_precision --> 0.09327749162912369\n",
      "allphas --> 1e-10   threads --> 3   epochs --> 260   train_precision --> 0.09836471080780029\n",
      "allphas --> 1e-10   threads --> 3   epochs --> 270   train_precision --> 0.10785382241010666\n",
      "allphas --> 1e-10   threads --> 3   epochs --> 280   train_precision --> 0.1106167808175087\n",
      "allphas --> 1e-10   threads --> 3   epochs --> 290   train_precision --> 0.10994236171245575\n",
      "allphas --> 1e-10   threads --> 3   epochs --> 300   train_precision --> 0.11393089592456818\n",
      "allphas --> 1e-10   threads --> 3   epochs --> 310   train_precision --> 0.11215780675411224\n",
      "allphas --> 1e-10   threads --> 3   epochs --> 320   train_precision --> 0.12034520506858826\n",
      "allphas --> 1e-10   threads --> 3   epochs --> 330   train_precision --> 0.1173066645860672\n",
      "allphas --> 1e-10   threads --> 3   epochs --> 340   train_precision --> 0.11772363632917404\n",
      "allphas --> 1e-10   threads --> 3   epochs --> 350   train_precision --> 0.12283260375261307\n",
      "allphas --> 1e-10   threads --> 3   epochs --> 360   train_precision --> 0.12518221139907837\n",
      "allphas --> 1e-10   threads --> 3   epochs --> 370   train_precision --> 0.12944994866847992\n",
      "allphas --> 1e-10   threads --> 3   epochs --> 380   train_precision --> 0.12081295996904373\n",
      "allphas --> 1e-10   threads --> 3   epochs --> 390   train_precision --> 0.12835854291915894\n",
      "allphas --> 1e-10   threads --> 3   epochs --> 400   train_precision --> 0.13009175658226013\n",
      "allphas --> 1e-10   threads --> 4   epochs --> 180   train_precision --> 0.07538708299398422\n",
      "allphas --> 1e-10   threads --> 4   epochs --> 200   train_precision --> 0.08957177400588989\n",
      "allphas --> 1e-10   threads --> 4   epochs --> 210   train_precision --> 0.08792197704315186\n",
      "allphas --> 1e-10   threads --> 4   epochs --> 220   train_precision --> 0.08961529284715652\n",
      "allphas --> 1e-10   threads --> 4   epochs --> 230   train_precision --> 0.09400632232427597\n",
      "allphas --> 1e-10   threads --> 4   epochs --> 240   train_precision --> 0.09865478426218033\n",
      "allphas --> 1e-10   threads --> 4   epochs --> 250   train_precision --> 0.10002540051937103\n",
      "allphas --> 1e-10   threads --> 4   epochs --> 260   train_precision --> 0.10960514843463898\n",
      "allphas --> 1e-10   threads --> 4   epochs --> 270   train_precision --> 0.10702347010374069\n",
      "allphas --> 1e-10   threads --> 4   epochs --> 280   train_precision --> 0.10849197953939438\n",
      "allphas --> 1e-10   threads --> 4   epochs --> 290   train_precision --> 0.11427898705005646\n",
      "allphas --> 1e-10   threads --> 4   epochs --> 300   train_precision --> 0.11565321683883667\n",
      "allphas --> 1e-10   threads --> 4   epochs --> 310   train_precision --> 0.11514922231435776\n",
      "allphas --> 1e-10   threads --> 4   epochs --> 320   train_precision --> 0.11609558761119843\n",
      "allphas --> 1e-10   threads --> 4   epochs --> 330   train_precision --> 0.12238661199808121\n",
      "allphas --> 1e-10   threads --> 4   epochs --> 340   train_precision --> 0.12429022789001465\n",
      "allphas --> 1e-10   threads --> 4   epochs --> 350   train_precision --> 0.12594003975391388\n",
      "allphas --> 1e-10   threads --> 4   epochs --> 360   train_precision --> 0.12626637518405914\n",
      "allphas --> 1e-10   threads --> 4   epochs --> 370   train_precision --> 0.12838393449783325\n",
      "allphas --> 1e-10   threads --> 4   epochs --> 380   train_precision --> 0.13025128841400146\n",
      "allphas --> 1e-10   threads --> 4   epochs --> 390   train_precision --> 0.13299250602722168\n",
      "allphas --> 1e-10   threads --> 4   epochs --> 400   train_precision --> 0.13357628881931305\n",
      "allphas --> 1e-10   threads --> 5   epochs --> 180   train_precision --> 0.08084412664175034\n",
      "allphas --> 1e-10   threads --> 5   epochs --> 200   train_precision --> 0.09086986631155014\n",
      "allphas --> 1e-10   threads --> 5   epochs --> 210   train_precision --> 0.09022081643342972\n"
     ]
    }
   ],
   "source": [
    "\"\"\"\n",
    " `precision_at_k` se refiere a la proporción de elementos relevantes (es decir, aquellos que el usuario realmente interactuó)\n",
    "  entre los primeros ( k ) elementos recomendados.\n",
    "\n",
    "  train_precision = precision_at_k(model, interactions, item_features=item_features, user_features=user_features, k=5).mean()\n",
    "\n",
    "  Trataremos de ajustar esa proporcion lo mas posible, pero hay que tener en cuenta que en los sistemas de recomendacion con poca data\n",
    "  y sobre todo pocas interacciones de los usuarios (usuarios con un una o muy pocas reseñas) este valor suele ser bajo.\n",
    "\n",
    "  Nota: En este Caso estamos sacando el Promedio con respecto a las primeras 5 recomendaciones. Si tomaramos el promedio de todas las primeras\n",
    "        recomendaciones a los usuarios solamente (es decir k=1) el numero fuera aproximadamente 3 veces mayor\n",
    "\"\"\"\n",
    "\n",
    "alphas = [1e-8, 1e-9, 1e-10]\n",
    "threads = [2,3,4,5,6]\n",
    "epochs = [180, 200, 210, 220, 230, 240, 250, 260, 270, 280, 290, 300, 310, 320, 330, 340, 350, 360, 370, 380, 390, 400]\n",
    "\n",
    "parametros = []\n",
    "for i in range(len(alphas)):\n",
    "  for j in range(len(threads)):\n",
    "    for k in range(len(epochs)):\n",
    "      diccionario = {}\n",
    "      diccionario['alpha'] = alphas[i]\n",
    "      diccionario['threads'] = threads[j]\n",
    "      diccionario['epochs'] = epochs[k]\n",
    "      model = LightFM(loss='warp',item_alpha=alphas[i], user_alpha=alphas[i], random_state=42)\n",
    "      model.fit(interactions, item_features=item_features, user_features=user_features, epochs=epochs[k], num_threads=threads[j])\n",
    "      train_precision = precision_at_k(model, interactions, item_features=item_features, user_features=user_features, k=5).mean()\n",
    "      diccionario['train_precision'] = train_precision\n",
    "      parametros.append(diccionario)\n",
    "      print(f'allphas --> {alphas[i]}   threads --> {threads[j]}   epochs --> {epochs[k]}   train_precision --> {train_precision}')\n",
    "\n",
    "df_parametros = pd.DataFrame(parametros)\n",
    "df_parametros.to_csv('parametros.csv')\n"
   ]
  },
  {
   "cell_type": "code",
   "execution_count": null,
   "metadata": {
    "colab": {
     "base_uri": "https://localhost:8080/"
    },
    "executionInfo": {
     "elapsed": 2291931,
     "status": "ok",
     "timestamp": 1730801109017,
     "user": {
      "displayName": "Aliskair Rodríguez",
      "userId": "18238624046305613189"
     },
     "user_tz": 240
    },
    "id": "nHKlfRdznNrm",
    "outputId": "2620bd01-ab06-4872-b472-173aebd0dee3"
   },
   "outputs": [
    {
     "name": "stdout",
     "output_type": "stream",
     "text": [
      "allphas --> 1e-10   threads --> 5   epochs --> 180   train_precision --> 0.07149642705917358\n",
      "allphas --> 1e-10   threads --> 5   epochs --> 200   train_precision --> 0.07687371224164963\n",
      "allphas --> 1e-10   threads --> 5   epochs --> 210   train_precision --> 0.0919395238161087\n",
      "allphas --> 1e-10   threads --> 5   epochs --> 220   train_precision --> 0.08997426182031631\n",
      "allphas --> 1e-10   threads --> 5   epochs --> 230   train_precision --> 0.09997100383043289\n",
      "allphas --> 1e-10   threads --> 5   epochs --> 240   train_precision --> 0.10029371082782745\n",
      "allphas --> 1e-10   threads --> 5   epochs --> 250   train_precision --> 0.097621388733387\n",
      "allphas --> 1e-10   threads --> 5   epochs --> 260   train_precision --> 0.10576888918876648\n",
      "allphas --> 1e-10   threads --> 5   epochs --> 270   train_precision --> 0.10932594537734985\n",
      "allphas --> 1e-10   threads --> 5   epochs --> 280   train_precision --> 0.10771603137254715\n",
      "allphas --> 1e-10   threads --> 5   epochs --> 290   train_precision --> 0.11231735348701477\n",
      "allphas --> 1e-10   threads --> 5   epochs --> 300   train_precision --> 0.11435151845216751\n",
      "allphas --> 1e-10   threads --> 5   epochs --> 310   train_precision --> 0.12434100359678268\n",
      "allphas --> 1e-10   threads --> 5   epochs --> 320   train_precision --> 0.13033832609653473\n",
      "allphas --> 1e-10   threads --> 5   epochs --> 330   train_precision --> 0.12589652836322784\n",
      "allphas --> 1e-10   threads --> 5   epochs --> 340   train_precision --> 0.1265927106142044\n",
      "allphas --> 1e-10   threads --> 5   epochs --> 350   train_precision --> 0.1295696198940277\n",
      "allphas --> 1e-10   threads --> 5   epochs --> 360   train_precision --> 0.12366656959056854\n",
      "allphas --> 1e-10   threads --> 5   epochs --> 370   train_precision --> 0.13303963840007782\n",
      "allphas --> 1e-10   threads --> 5   epochs --> 380   train_precision --> 0.13229632377624512\n",
      "allphas --> 1e-10   threads --> 5   epochs --> 390   train_precision --> 0.13025490939617157\n",
      "allphas --> 1e-10   threads --> 5   epochs --> 400   train_precision --> 0.13715872168540955\n",
      "allphas --> 1e-10   threads --> 6   epochs --> 180   train_precision --> 0.07722906768321991\n",
      "allphas --> 1e-10   threads --> 6   epochs --> 200   train_precision --> 0.0838935524225235\n",
      "allphas --> 1e-10   threads --> 6   epochs --> 210   train_precision --> 0.08644983917474747\n",
      "allphas --> 1e-10   threads --> 6   epochs --> 220   train_precision --> 0.09560535103082657\n",
      "allphas --> 1e-10   threads --> 6   epochs --> 230   train_precision --> 0.09668588638305664\n",
      "allphas --> 1e-10   threads --> 6   epochs --> 240   train_precision --> 0.10117118805646896\n",
      "allphas --> 1e-10   threads --> 6   epochs --> 250   train_precision --> 0.11011277139186859\n",
      "allphas --> 1e-10   threads --> 6   epochs --> 260   train_precision --> 0.10086660832166672\n",
      "allphas --> 1e-10   threads --> 6   epochs --> 270   train_precision --> 0.10847023129463196\n",
      "allphas --> 1e-10   threads --> 6   epochs --> 280   train_precision --> 0.11276698112487793\n",
      "allphas --> 1e-10   threads --> 6   epochs --> 290   train_precision --> 0.11683890968561172\n",
      "allphas --> 1e-10   threads --> 6   epochs --> 300   train_precision --> 0.11202365159988403\n",
      "allphas --> 1e-10   threads --> 6   epochs --> 310   train_precision --> 0.11830016225576401\n",
      "allphas --> 1e-10   threads --> 6   epochs --> 320   train_precision --> 0.1160593330860138\n",
      "allphas --> 1e-10   threads --> 6   epochs --> 330   train_precision --> 0.12067153304815292\n",
      "allphas --> 1e-10   threads --> 6   epochs --> 340   train_precision --> 0.12502266466617584\n",
      "allphas --> 1e-10   threads --> 6   epochs --> 350   train_precision --> 0.1279596984386444\n",
      "allphas --> 1e-10   threads --> 6   epochs --> 360   train_precision --> 0.1281736195087433\n",
      "allphas --> 1e-10   threads --> 6   epochs --> 370   train_precision --> 0.13306502997875214\n",
      "allphas --> 1e-10   threads --> 6   epochs --> 380   train_precision --> 0.13533486425876617\n",
      "allphas --> 1e-10   threads --> 6   epochs --> 390   train_precision --> 0.13099098205566406\n",
      "allphas --> 1e-10   threads --> 6   epochs --> 400   train_precision --> 0.1332717090845108\n"
     ]
    }
   ],
   "source": [
    "\"\"\"Completando desde donde se interrumpio el proceso de la celda pasada\n",
    "\n",
    "Nota: Tomar en cuenta que aunque sembramos una semilla con `random_state==42` al entrenar el algoritmo nuevamente nos \n",
    "      va a dar un valor muy aproximado de precision_at_k pero dificilmente nos de el mismo, esto se debe principalmente\n",
    "      a 2 Factores, el primero es que LightFm introduce como metodo de optimización el descenso del gradiente \n",
    "      estacástico, que es una variación que introduce cierta aleatoriedad en el proceso.  La segunda Razon es que \n",
    "      estamos utilizando varios Hilos de ejecusión, y al ejecutar en paralelo varios procesos siempre el orden como \n",
    "      se vuelve a juntar todo puede variar. \"\"\"\n",
    "alphas = [1e-10]\n",
    "threads = [5,6]\n",
    "epochs = [180, 200, 210, 220, 230, 240, 250, 260, 270, 280, 290, 300, 310, 320, 330, 340, 350, 360, 370, 380, 390, 400]\n",
    "\n",
    "parametros = []\n",
    "for i in range(len(alphas)):\n",
    "  for j in range(len(threads)):\n",
    "    for k in range(len(epochs)):\n",
    "      diccionario = {}\n",
    "      diccionario['alpha'] = alphas[i]\n",
    "      diccionario['threads'] = threads[j]\n",
    "      diccionario['epochs'] = epochs[k]\n",
    "      model = LightFM(loss='warp',item_alpha=alphas[i], user_alpha=alphas[i], random_state=42)\n",
    "      model.fit(interactions, item_features=item_features, user_features=user_features, epochs=epochs[k], num_threads=threads[j])\n",
    "      train_precision = precision_at_k(model, interactions, item_features=item_features, user_features=user_features, k=5).mean()\n",
    "      diccionario['train_precision'] = train_precision\n",
    "      parametros.append(diccionario)\n",
    "      print(f'allphas --> {alphas[i]}   threads --> {threads[j]}   epochs --> {epochs[k]}   train_precision --> {train_precision}')\n",
    "\n",
    "df_parametros = pd.DataFrame(parametros)\n",
    "df_parametros.to_csv('parametros.csv')"
   ]
  },
  {
   "cell_type": "code",
   "execution_count": null,
   "metadata": {
    "colab": {
     "base_uri": "https://localhost:8080/",
     "height": 206
    },
    "executionInfo": {
     "elapsed": 237,
     "status": "ok",
     "timestamp": 1730802639850,
     "user": {
      "displayName": "Aliskair Rodríguez",
      "userId": "18238624046305613189"
     },
     "user_tz": 240
    },
    "id": "PJ0LEQCr33DK",
    "outputId": "a7c828d8-ba28-4844-ca9a-19afcc084764"
   },
   "outputs": [
    {
     "data": {
      "application/vnd.google.colaboratory.intrinsic+json": {
       "summary": "{\n  \"name\": \"df_parametros\",\n  \"rows\": 5,\n  \"fields\": [\n    {\n      \"column\": \"alpha\",\n      \"properties\": {\n        \"dtype\": \"number\",\n        \"std\": 0.0,\n        \"min\": 1e-10,\n        \"max\": 1e-10,\n        \"num_unique_values\": 1,\n        \"samples\": [\n          1e-10\n        ],\n        \"semantic_type\": \"\",\n        \"description\": \"\"\n      }\n    },\n    {\n      \"column\": \"threads\",\n      \"properties\": {\n        \"dtype\": \"number\",\n        \"std\": 0,\n        \"min\": 5,\n        \"max\": 6,\n        \"num_unique_values\": 2,\n        \"samples\": [\n          6\n        ],\n        \"semantic_type\": \"\",\n        \"description\": \"\"\n      }\n    },\n    {\n      \"column\": \"epochs\",\n      \"properties\": {\n        \"dtype\": \"number\",\n        \"std\": 15,\n        \"min\": 370,\n        \"max\": 400,\n        \"num_unique_values\": 3,\n        \"samples\": [\n          400\n        ],\n        \"semantic_type\": \"\",\n        \"description\": \"\"\n      }\n    },\n    {\n      \"column\": \"train_precision\",\n      \"properties\": {\n        \"dtype\": \"float32\",\n        \"num_unique_values\": 5,\n        \"samples\": [\n          0.13533486425876617\n        ],\n        \"semantic_type\": \"\",\n        \"description\": \"\"\n      }\n    }\n  ]\n}",
       "type": "dataframe"
      },
      "text/html": [
       "\n",
       "  <div id=\"df-4471e6eb-3e21-48e3-8561-ec15e76d0e0a\" class=\"colab-df-container\">\n",
       "    <div>\n",
       "<style scoped>\n",
       "    .dataframe tbody tr th:only-of-type {\n",
       "        vertical-align: middle;\n",
       "    }\n",
       "\n",
       "    .dataframe tbody tr th {\n",
       "        vertical-align: top;\n",
       "    }\n",
       "\n",
       "    .dataframe thead th {\n",
       "        text-align: right;\n",
       "    }\n",
       "</style>\n",
       "<table border=\"1\" class=\"dataframe\">\n",
       "  <thead>\n",
       "    <tr style=\"text-align: right;\">\n",
       "      <th></th>\n",
       "      <th>alpha</th>\n",
       "      <th>threads</th>\n",
       "      <th>epochs</th>\n",
       "      <th>train_precision</th>\n",
       "    </tr>\n",
       "  </thead>\n",
       "  <tbody>\n",
       "    <tr>\n",
       "      <th>21</th>\n",
       "      <td>1.000000e-10</td>\n",
       "      <td>5</td>\n",
       "      <td>400</td>\n",
       "      <td>0.137159</td>\n",
       "    </tr>\n",
       "    <tr>\n",
       "      <th>41</th>\n",
       "      <td>1.000000e-10</td>\n",
       "      <td>6</td>\n",
       "      <td>380</td>\n",
       "      <td>0.135335</td>\n",
       "    </tr>\n",
       "    <tr>\n",
       "      <th>43</th>\n",
       "      <td>1.000000e-10</td>\n",
       "      <td>6</td>\n",
       "      <td>400</td>\n",
       "      <td>0.133272</td>\n",
       "    </tr>\n",
       "    <tr>\n",
       "      <th>40</th>\n",
       "      <td>1.000000e-10</td>\n",
       "      <td>6</td>\n",
       "      <td>370</td>\n",
       "      <td>0.133065</td>\n",
       "    </tr>\n",
       "    <tr>\n",
       "      <th>18</th>\n",
       "      <td>1.000000e-10</td>\n",
       "      <td>5</td>\n",
       "      <td>370</td>\n",
       "      <td>0.133040</td>\n",
       "    </tr>\n",
       "  </tbody>\n",
       "</table>\n",
       "</div>\n",
       "    <div class=\"colab-df-buttons\">\n",
       "\n",
       "  <div class=\"colab-df-container\">\n",
       "    <button class=\"colab-df-convert\" onclick=\"convertToInteractive('df-4471e6eb-3e21-48e3-8561-ec15e76d0e0a')\"\n",
       "            title=\"Convert this dataframe to an interactive table.\"\n",
       "            style=\"display:none;\">\n",
       "\n",
       "  <svg xmlns=\"http://www.w3.org/2000/svg\" height=\"24px\" viewBox=\"0 -960 960 960\">\n",
       "    <path d=\"M120-120v-720h720v720H120Zm60-500h600v-160H180v160Zm220 220h160v-160H400v160Zm0 220h160v-160H400v160ZM180-400h160v-160H180v160Zm440 0h160v-160H620v160ZM180-180h160v-160H180v160Zm440 0h160v-160H620v160Z\"/>\n",
       "  </svg>\n",
       "    </button>\n",
       "\n",
       "  <style>\n",
       "    .colab-df-container {\n",
       "      display:flex;\n",
       "      gap: 12px;\n",
       "    }\n",
       "\n",
       "    .colab-df-convert {\n",
       "      background-color: #E8F0FE;\n",
       "      border: none;\n",
       "      border-radius: 50%;\n",
       "      cursor: pointer;\n",
       "      display: none;\n",
       "      fill: #1967D2;\n",
       "      height: 32px;\n",
       "      padding: 0 0 0 0;\n",
       "      width: 32px;\n",
       "    }\n",
       "\n",
       "    .colab-df-convert:hover {\n",
       "      background-color: #E2EBFA;\n",
       "      box-shadow: 0px 1px 2px rgba(60, 64, 67, 0.3), 0px 1px 3px 1px rgba(60, 64, 67, 0.15);\n",
       "      fill: #174EA6;\n",
       "    }\n",
       "\n",
       "    .colab-df-buttons div {\n",
       "      margin-bottom: 4px;\n",
       "    }\n",
       "\n",
       "    [theme=dark] .colab-df-convert {\n",
       "      background-color: #3B4455;\n",
       "      fill: #D2E3FC;\n",
       "    }\n",
       "\n",
       "    [theme=dark] .colab-df-convert:hover {\n",
       "      background-color: #434B5C;\n",
       "      box-shadow: 0px 1px 3px 1px rgba(0, 0, 0, 0.15);\n",
       "      filter: drop-shadow(0px 1px 2px rgba(0, 0, 0, 0.3));\n",
       "      fill: #FFFFFF;\n",
       "    }\n",
       "  </style>\n",
       "\n",
       "    <script>\n",
       "      const buttonEl =\n",
       "        document.querySelector('#df-4471e6eb-3e21-48e3-8561-ec15e76d0e0a button.colab-df-convert');\n",
       "      buttonEl.style.display =\n",
       "        google.colab.kernel.accessAllowed ? 'block' : 'none';\n",
       "\n",
       "      async function convertToInteractive(key) {\n",
       "        const element = document.querySelector('#df-4471e6eb-3e21-48e3-8561-ec15e76d0e0a');\n",
       "        const dataTable =\n",
       "          await google.colab.kernel.invokeFunction('convertToInteractive',\n",
       "                                                    [key], {});\n",
       "        if (!dataTable) return;\n",
       "\n",
       "        const docLinkHtml = 'Like what you see? Visit the ' +\n",
       "          '<a target=\"_blank\" href=https://colab.research.google.com/notebooks/data_table.ipynb>data table notebook</a>'\n",
       "          + ' to learn more about interactive tables.';\n",
       "        element.innerHTML = '';\n",
       "        dataTable['output_type'] = 'display_data';\n",
       "        await google.colab.output.renderOutput(dataTable, element);\n",
       "        const docLink = document.createElement('div');\n",
       "        docLink.innerHTML = docLinkHtml;\n",
       "        element.appendChild(docLink);\n",
       "      }\n",
       "    </script>\n",
       "  </div>\n",
       "\n",
       "\n",
       "<div id=\"df-c78cc150-42a2-4a59-929d-fe17b80722bc\">\n",
       "  <button class=\"colab-df-quickchart\" onclick=\"quickchart('df-c78cc150-42a2-4a59-929d-fe17b80722bc')\"\n",
       "            title=\"Suggest charts\"\n",
       "            style=\"display:none;\">\n",
       "\n",
       "<svg xmlns=\"http://www.w3.org/2000/svg\" height=\"24px\"viewBox=\"0 0 24 24\"\n",
       "     width=\"24px\">\n",
       "    <g>\n",
       "        <path d=\"M19 3H5c-1.1 0-2 .9-2 2v14c0 1.1.9 2 2 2h14c1.1 0 2-.9 2-2V5c0-1.1-.9-2-2-2zM9 17H7v-7h2v7zm4 0h-2V7h2v10zm4 0h-2v-4h2v4z\"/>\n",
       "    </g>\n",
       "</svg>\n",
       "  </button>\n",
       "\n",
       "<style>\n",
       "  .colab-df-quickchart {\n",
       "      --bg-color: #E8F0FE;\n",
       "      --fill-color: #1967D2;\n",
       "      --hover-bg-color: #E2EBFA;\n",
       "      --hover-fill-color: #174EA6;\n",
       "      --disabled-fill-color: #AAA;\n",
       "      --disabled-bg-color: #DDD;\n",
       "  }\n",
       "\n",
       "  [theme=dark] .colab-df-quickchart {\n",
       "      --bg-color: #3B4455;\n",
       "      --fill-color: #D2E3FC;\n",
       "      --hover-bg-color: #434B5C;\n",
       "      --hover-fill-color: #FFFFFF;\n",
       "      --disabled-bg-color: #3B4455;\n",
       "      --disabled-fill-color: #666;\n",
       "  }\n",
       "\n",
       "  .colab-df-quickchart {\n",
       "    background-color: var(--bg-color);\n",
       "    border: none;\n",
       "    border-radius: 50%;\n",
       "    cursor: pointer;\n",
       "    display: none;\n",
       "    fill: var(--fill-color);\n",
       "    height: 32px;\n",
       "    padding: 0;\n",
       "    width: 32px;\n",
       "  }\n",
       "\n",
       "  .colab-df-quickchart:hover {\n",
       "    background-color: var(--hover-bg-color);\n",
       "    box-shadow: 0 1px 2px rgba(60, 64, 67, 0.3), 0 1px 3px 1px rgba(60, 64, 67, 0.15);\n",
       "    fill: var(--button-hover-fill-color);\n",
       "  }\n",
       "\n",
       "  .colab-df-quickchart-complete:disabled,\n",
       "  .colab-df-quickchart-complete:disabled:hover {\n",
       "    background-color: var(--disabled-bg-color);\n",
       "    fill: var(--disabled-fill-color);\n",
       "    box-shadow: none;\n",
       "  }\n",
       "\n",
       "  .colab-df-spinner {\n",
       "    border: 2px solid var(--fill-color);\n",
       "    border-color: transparent;\n",
       "    border-bottom-color: var(--fill-color);\n",
       "    animation:\n",
       "      spin 1s steps(1) infinite;\n",
       "  }\n",
       "\n",
       "  @keyframes spin {\n",
       "    0% {\n",
       "      border-color: transparent;\n",
       "      border-bottom-color: var(--fill-color);\n",
       "      border-left-color: var(--fill-color);\n",
       "    }\n",
       "    20% {\n",
       "      border-color: transparent;\n",
       "      border-left-color: var(--fill-color);\n",
       "      border-top-color: var(--fill-color);\n",
       "    }\n",
       "    30% {\n",
       "      border-color: transparent;\n",
       "      border-left-color: var(--fill-color);\n",
       "      border-top-color: var(--fill-color);\n",
       "      border-right-color: var(--fill-color);\n",
       "    }\n",
       "    40% {\n",
       "      border-color: transparent;\n",
       "      border-right-color: var(--fill-color);\n",
       "      border-top-color: var(--fill-color);\n",
       "    }\n",
       "    60% {\n",
       "      border-color: transparent;\n",
       "      border-right-color: var(--fill-color);\n",
       "    }\n",
       "    80% {\n",
       "      border-color: transparent;\n",
       "      border-right-color: var(--fill-color);\n",
       "      border-bottom-color: var(--fill-color);\n",
       "    }\n",
       "    90% {\n",
       "      border-color: transparent;\n",
       "      border-bottom-color: var(--fill-color);\n",
       "    }\n",
       "  }\n",
       "</style>\n",
       "\n",
       "  <script>\n",
       "    async function quickchart(key) {\n",
       "      const quickchartButtonEl =\n",
       "        document.querySelector('#' + key + ' button');\n",
       "      quickchartButtonEl.disabled = true;  // To prevent multiple clicks.\n",
       "      quickchartButtonEl.classList.add('colab-df-spinner');\n",
       "      try {\n",
       "        const charts = await google.colab.kernel.invokeFunction(\n",
       "            'suggestCharts', [key], {});\n",
       "      } catch (error) {\n",
       "        console.error('Error during call to suggestCharts:', error);\n",
       "      }\n",
       "      quickchartButtonEl.classList.remove('colab-df-spinner');\n",
       "      quickchartButtonEl.classList.add('colab-df-quickchart-complete');\n",
       "    }\n",
       "    (() => {\n",
       "      let quickchartButtonEl =\n",
       "        document.querySelector('#df-c78cc150-42a2-4a59-929d-fe17b80722bc button');\n",
       "      quickchartButtonEl.style.display =\n",
       "        google.colab.kernel.accessAllowed ? 'block' : 'none';\n",
       "    })();\n",
       "  </script>\n",
       "</div>\n",
       "\n",
       "    </div>\n",
       "  </div>\n"
      ],
      "text/plain": [
       "           alpha  threads  epochs  train_precision\n",
       "21  1.000000e-10        5     400         0.137159\n",
       "41  1.000000e-10        6     380         0.135335\n",
       "43  1.000000e-10        6     400         0.133272\n",
       "40  1.000000e-10        6     370         0.133065\n",
       "18  1.000000e-10        5     370         0.133040"
      ]
     },
     "execution_count": 16,
     "metadata": {},
     "output_type": "execute_result"
    }
   ],
   "source": [
    "\"\"\"Aca simplemente se observan los parámetros de los que tuvieron mejor train_precision\n",
    "Nota: Antes de hacer esta corrida se evaluó de forma manual el modelo con distintas combinaciones de Variables \n",
    "      predictoras aca solamente hicimos una corrida con las variables predictoras que nos venían arrojando mejores \n",
    "      resultados.\n",
    "Nota: Para el 3cer Sprint con la incorporación de mas datos TODO este proceso hay que repetirlo y estudiar nuevamente \n",
    "      la conveniecia de distintas combinaciones de las variables predictoras \"\"\"\n",
    "df_parametros.sort_values(by='train_precision', ascending=False).head()"
   ]
  },
  {
   "cell_type": "markdown",
   "metadata": {
    "id": "7T1vvktmoher"
   },
   "source": [
    "Creando la Función que devuelve las recomendaciones"
   ]
  },
  {
   "cell_type": "markdown",
   "metadata": {
    "id": "I7HgFUQBK9Fc"
   },
   "source": [
    "Con pequeños ajustes esta sería la función que nos llevaremos a la Api para responder las peticiones."
   ]
  },
  {
   "cell_type": "code",
   "execution_count": null,
   "metadata": {
    "id": "HeHlbUs35OPt"
   },
   "outputs": [],
   "source": [
    "# Función para recomendar restaurantes\n",
    "def recomendar_restaurantes(model:LightFM, user_id_string:str, state:str, df_user_ids:pd.DataFrame,\n",
    "                            df_business:pd.DataFrame, item_features:sparse.csr_matrix,\n",
    "                            user_features:sparse.csr_matrix, top_n:int=5) -> list[dict]|str:\n",
    "    # Obtener el ID Entero del usuario\n",
    "  try:\n",
    "    mask = df_user_ids['user_id'] == user_id_string\n",
    "    user_id = int(df_user_ids[mask]['user_id_int'].values[0])\n",
    "  except:\n",
    "    return 'Usuario no encontrado'\n",
    "  # Creando la lista de Negocios Segun el estado\n",
    "  mask = df_business['state'] == state\n",
    "  business_id_list = df_business[mask]['business_id_int'].tolist()\n",
    "\n",
    "  # Aplicando procedimiento estandard de LightFm para obtener Recomendaciones\n",
    "  scores = model.predict(user_id, business_id_list, item_features=item_features, user_features=user_features)\n",
    "  top_items = np.argsort(-scores)[:top_n]\n",
    "  recomendations = [business_id_list[i] for i in top_items]\n",
    "\n",
    "  # Obteniendo las Caracteristicas de cada Recomendación\n",
    "  recomendations_list = []\n",
    "  for recomendation in recomendations:\n",
    "    recomendation_dict = {}\n",
    "    mask = df_business['business_id_int'] == recomendation\n",
    "    recomendation_dict['business_id'] = df_business[mask]['business_id'].values[0]\n",
    "    recomendation_dict['name'] = df_business[mask]['name'].values[0]\n",
    "    recomendation_dict['address'] = df_business[mask]['address'].values[0]\n",
    "    recomendation_dict['city'] = df_business[mask]['city'].values[0]\n",
    "    recomendation_dict['latitude'] = df_business[mask]['latitude'].values[0]\n",
    "    recomendation_dict['longitude'] = df_business[mask]['longitude'].values[0]\n",
    "    recomendations_list.append(recomendation_dict)\n",
    "\n",
    "  return recomendations_list"
   ]
  },
  {
   "cell_type": "markdown",
   "metadata": {
    "id": "xHj7rTOepBab"
   },
   "source": [
    "Probando como Funcionaría la Función de Recomendaciones de Implementarse en una App o en una Api"
   ]
  },
  {
   "cell_type": "code",
   "execution_count": null,
   "metadata": {
    "colab": {
     "base_uri": "https://localhost:8080/"
    },
    "executionInfo": {
     "elapsed": 202,
     "status": "ok",
     "timestamp": 1730828945898,
     "user": {
      "displayName": "Aliskair Rodríguez",
      "userId": "18238624046305613189"
     },
     "user_tz": 240
    },
    "id": "ocZOw0Gr5V8P",
    "outputId": "b90da0d6-0af0-4a72-b1cd-9e40741c02fd"
   },
   "outputs": [
    {
     "data": {
      "text/plain": [
       "[{'business_id': 'gaNQrd95h2-4TZaUDPTAIQ',\n",
       "  'name': 'Rooted Vine Tours',\n",
       "  'address': '6 Harbor Way, Ste 127',\n",
       "  'city': 'Santa Barbara',\n",
       "  'latitude': 34.4037461,\n",
       "  'longitude': -119.6930334},\n",
       " {'business_id': 'tzR6CHZNmnXzADX-SoM2sQ',\n",
       "  'name': 'Grapeline Wine Tours',\n",
       "  'address': '',\n",
       "  'city': 'Santa Barbara',\n",
       "  'latitude': 34.4208305,\n",
       "  'longitude': -119.6981901},\n",
       " {'business_id': '5RsVAkDnMrcSbErS6P1eew',\n",
       "  'name': 'Cajé Coffee Roasters - Isla Vista',\n",
       "  'address': '948 Embarcadero Del Norte',\n",
       "  'city': 'Isla Vista',\n",
       "  'latitude': 34.411997,\n",
       "  'longitude': -119.855139},\n",
       " {'business_id': 'NORF647ibBQ4U-VNMgzSLg',\n",
       "  'name': 'Oakberry Açaí Bowls and Smoothies',\n",
       "  'address': '819-B State St',\n",
       "  'city': 'Santa Barbara',\n",
       "  'latitude': 34.4196823736,\n",
       "  'longitude': -119.7003016706},\n",
       " {'business_id': 'XkveGZ8pr9TL5bZCqmzuhA',\n",
       "  'name': 'Hustle & Grind Coffee Company',\n",
       "  'address': '11 W De La Guerra St',\n",
       "  'city': 'Santa Barbara',\n",
       "  'latitude': 34.4191062,\n",
       "  'longitude': -119.6995489}]"
      ]
     },
     "execution_count": 30,
     "metadata": {},
     "output_type": "execute_result"
    }
   ],
   "source": [
    "# Ejemplo de uso\n",
    "user_id_string = 'A-urIi0zR2sAcnN3VccI5Q'\n",
    "# user_id_string = 'aaaaaaaaaaaaaaaaaaaaaaa'\n",
    "state = 'CA'\n",
    "\n",
    "recomendations_list = recomendar_restaurantes(model=model, user_id_string=user_id_string, state=state, df_user_ids=df_user_ids,\n",
    "                                              df_business=df_business, item_features=item_features, user_features=user_features)\n",
    "recomendations_list"
   ]
  },
  {
   "cell_type": "markdown",
   "metadata": {
    "id": "Q_UpMt9upQQp"
   },
   "source": [
    "Guardando TODO lo necesario para Implementar el Modelo"
   ]
  },
  {
   "cell_type": "code",
   "execution_count": null,
   "metadata": {
    "id": "s7uRygHyYyX4"
   },
   "outputs": [],
   "source": [
    "# Guardando el Modelo\n",
    "joblib.dump(model, 'model/model.pkl')\n",
    "\n",
    "# Guardando las matrices de características\n",
    "joblib.dump(user_features, 'model/user_features.pkl')\n",
    "joblib.dump(item_features, 'model/item_features.pkl')\n",
    "\n",
    "# Guardando Dataframes necesarios para la Colaboración en el Filtrado\n",
    "df_user_ids.to_parquet('model/df_user_ids.parquet')\n",
    "df_business.to_parquet('model/df_business.parquet')\n"
   ]
  },
  {
   "cell_type": "markdown",
   "metadata": {
    "id": "K4GawJIHru4x"
   },
   "source": [
    "Como sería la carga de la Información"
   ]
  },
  {
   "cell_type": "code",
   "execution_count": null,
   "metadata": {
    "id": "FQx7OObaqLQ8"
   },
   "outputs": [],
   "source": [
    "# Cargando el Modelo\n",
    "model = joblib.load('model/model.pkl')\n",
    "\n",
    "# Cargando las matrices\n",
    "user_features = joblib.load('model/user_features.pkl')\n",
    "item_features = joblib.load('model/item_features.pkl')\n",
    "\n",
    "# Cargando los DataFrames\n",
    "df_user_ids = pd.read_parquet('model/df_user_ids.parquet')\n",
    "df_business = pd.read_parquet('model/df_business.parquet')"
   ]
  }
 ],
 "metadata": {
  "colab": {
   "authorship_tag": "ABX9TyNGZx7eOW4OY4AxhILWz8O0",
   "provenance": []
  },
  "kernelspec": {
   "display_name": "Python 3",
   "name": "python3"
  },
  "language_info": {
   "name": "python"
  }
 },
 "nbformat": 4,
 "nbformat_minor": 0
}
