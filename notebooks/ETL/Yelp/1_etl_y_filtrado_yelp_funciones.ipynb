{
 "cells": [
  {
   "cell_type": "code",
   "execution_count": 1,
   "metadata": {
    "colab": {
     "base_uri": "https://localhost:8080/"
    },
    "executionInfo": {
     "elapsed": 40286,
     "status": "ok",
     "timestamp": 1730374106400,
     "user": {
      "displayName": "Aliskair Rodríguez",
      "userId": "18238624046305613189"
     },
     "user_tz": 240
    },
    "id": "rXctruB7U1Bd",
    "outputId": "f19a724d-fda3-4bb7-c534-24532bf814da"
   },
   "outputs": [
    {
     "name": "stdout",
     "output_type": "stream",
     "text": [
      "Mounted at /content/drive\n",
      "/content/drive/MyDrive/Bootcamp_Henry/pro_final\n"
     ]
    }
   ],
   "source": [
    "from google.colab import drive\n",
    "import os\n",
    "drive.mount('/content/drive')\n",
    "os.chdir(\"drive/MyDrive/Bootcamp_Henry/pro_final\")\n",
    "print(os.getcwd())"
   ]
  },
  {
   "cell_type": "markdown",
   "metadata": {
    "id": "5lDk6-4dVW9J"
   },
   "source": [
    "# **Objetivo del Cuaderno Jupyter**\n",
    "- A partir de los archivos recibidos del exterior que contienen los datos de la plataforma `YELP` y apoyandonos en el `Maestro de Categorías` realizado en el equipo, realizar el ETL local de las tablas de yelp que se muestran en la imagen.\n",
    "<img src=\"0_TABLAS_YELP.png\">\n",
    "<br>\n",
    "<br>\n",
    "# **NOTA:**<br>\n",
    "Sí desea ver el proceso que van sufriendo los datos desde que llegan en los archivos Iniciales hasta el Datawarehouse, es recomendable observar el archivo `1_etl_y_filtrado_yelp.ipnb` donde se va mas paso a paso y se van ejecutando celdas y se puede apreciar mas el detalle.  Acá sólo es una base de funciones de las que nuestro  nuestro equipo de ingeniería se guiará, modificará y adaptará (origenes, destinos, sintáxis en caso de utilizar otra tecnología, etc) para cumplir dicho cometido en la Nube\n"
   ]
  },
  {
   "cell_type": "markdown",
   "metadata": {
    "id": "k79dw7RkWhM_"
   },
   "source": [
    "Importando Librerias"
   ]
  },
  {
   "cell_type": "code",
   "execution_count": null,
   "metadata": {
    "executionInfo": {
     "elapsed": 1423,
     "status": "ok",
     "timestamp": 1730374422519,
     "user": {
      "displayName": "Aliskair Rodríguez",
      "userId": "18238624046305613189"
     },
     "user_tz": 240
    },
    "id": "G2kZkjd2Wj2A"
   },
   "outputs": [],
   "source": [
    "import pandas as pd\n",
    "import datetime\n",
    "import requests\n",
    "import time\n",
    "import gc"
   ]
  },
  {
   "cell_type": "markdown",
   "metadata": {
    "id": "yb65nJWimPB-"
   },
   "source": [
    "## Función que retorna los 10 primeros caracteres de una cadena"
   ]
  },
  {
   "cell_type": "code",
   "execution_count": null,
   "metadata": {
    "id": "7b_nWygDmP2i"
   },
   "outputs": [],
   "source": [
    "def devuelve_solo_fecha(campo:str) -> str:\n",
    "  \"\"\"\n",
    "  devuelve_solo_fecha: Devuelve los 10 primeros caracteres de una cadena  \n",
    "  Args:\n",
    "      campo (str): cadena recibida\n",
    "\n",
    "  Returns:\n",
    "      str: 10 primeros caracteres de la cadena\n",
    "  \"\"\"\n",
    "  return campo.strip()[:10]"
   ]
  },
  {
   "cell_type": "markdown",
   "metadata": {
    "id": "vmWNPWQQgM5a"
   },
   "source": [
    "## Función que retorna los Horarios de los dias"
   ]
  },
  {
   "cell_type": "code",
   "execution_count": null,
   "metadata": {
    "id": "Bhj3HA0HgNl9"
   },
   "outputs": [],
   "source": [
    "def retornar_horario(data:dict|str, dia:str) -> str:\n",
    "  \"\"\"\n",
    "  retornar_horario: Recibe el diccionario con los horario y el dia en question y\n",
    "                    devuelve el horario de ese dia\n",
    "  Args:\n",
    "      data (dict | str): Diccionario de Horarios | string en caso \"No Disponible\"\n",
    "      dia (str): Dia del que se quiere el horario\n",
    "\n",
    "  Returns:\n",
    "      str: Horario del dia preguntado\n",
    "  \"\"\"\n",
    "  if data == 'No Disponible':\n",
    "    return 'No Disponible'\n",
    "  else:\n",
    "    if dia in data.keys():\n",
    "      return data[dia]\n",
    "    else:\n",
    "      return \"No Disponible\""
   ]
  },
  {
   "cell_type": "markdown",
   "metadata": {
    "id": "1ZX9v8_sY0-L"
   },
   "source": [
    "## Función que obtiene los estados según el codigo Postal"
   ]
  },
  {
   "cell_type": "code",
   "execution_count": null,
   "metadata": {
    "id": "HKFQWGZIZAQU"
   },
   "outputs": [],
   "source": [
    "def get_states_by_postal_code(lista_codigos_postales:list) -> list:\n",
    "  \"\"\"\n",
    "  get_states_by_postal_code: Consulta Una Api Gratuita de EEUU para obtener los estados\n",
    "                             en base al codigo postal\n",
    "\n",
    "  Args:\n",
    "      lista_codigos_postales (list): Lista de los codigos postales de los registros de la\n",
    "                                     tabla business de YELP\n",
    "\n",
    "  Returns:\n",
    "      list: Lista de diccionarios con los codigos postales y sus respectivos estados\n",
    "  \"\"\"\n",
    "  estados_obtenidos_api = []\n",
    "  for i in range(len(lista_codigos_postales)):\n",
    "    codigo_postal = lista_codigos_postales[i]\n",
    "    diccionario = {}\n",
    "    try:\n",
    "      codigo_numero = int(lista_codigos_postales[i])\n",
    "      url = f\"http://api.zippopotam.us/us/{codigo_numero}\"\n",
    "      response = requests.get(url)\n",
    "      if response.status_code == 200:\n",
    "        data = response.json()\n",
    "        estado = data['places'][0]['state abbreviation']\n",
    "        diccionario['codigo_postal'] = codigo_postal\n",
    "        diccionario['state'] = estado\n",
    "      else:\n",
    "        diccionario['codigo_postal'] = codigo_postal\n",
    "        diccionario['state'] = 'BORRAR REGISTRO'\n",
    "    except:\n",
    "      diccionario['codigo_postal'] = codigo_postal\n",
    "      diccionario['state'] = 'BORRAR REGISTRO'\n",
    "\n",
    "      estados_obtenidos_api.append(diccionario)\n",
    "      time.sleep(2)\n",
    "\n",
    "  return estados_obtenidos_api"
   ]
  },
  {
   "cell_type": "markdown",
   "metadata": {
    "id": "ymDJUjusW44j"
   },
   "source": [
    "## Funcion que crea `y_business` y `y_attributes_busines`"
   ]
  },
  {
   "cell_type": "code",
   "execution_count": null,
   "metadata": {
    "id": "-SHem681W4Zw"
   },
   "outputs": [],
   "source": [
    "def create_business_attributes(business:pd.Dataframe, business_list:list):\n",
    "  \"\"\"\n",
    "  create_business_attributes: Crea las tablas y_business y y_attributes_busines\n",
    "\n",
    "  Args:\n",
    "      business (pd.Dataframe): Contiene la data de business como viene originalmente\n",
    "      business_list (list):    Listado de business_id del sector en estuio\n",
    "  \"\"\"\n",
    "  business = business.iloc[:,0:14]\n",
    "  #Obtengo la lista de los codigos postales de los negocios\n",
    "  lista_codigos_postales = business['postal_code'].unique().tolist()\n",
    "  #Llamo a la funcion que busca averigua los estados con la Api de Codigos Postales en EEUU\n",
    "  estados_obtenidos_api = get_states_by_postal_code(lista_codigos_postales)\n",
    "\n",
    "  codigos_postales_api = pd.DataFrame(estados_obtenidos_api)\n",
    "  # Ciclo for para asignar los estados según el codigo postal\n",
    "  for i in range(business.shape[0]):\n",
    "    codigo_postal = business.iloc[i,5]\n",
    "    # Filtrando el dataframe que se obtuvo de la Api de Codigos Postales\n",
    "    mask = codigos_postales_api['codigo_postal'] == codigo_postal\n",
    "    business.iloc[i,4] = codigos_postales_api.loc[mask]['state'].values[0]\n",
    "\n",
    "  # Borrando los registros de los Negocios que no petenecen a EEUU\n",
    "  mask = business['state'] != 'BORRAR REGISTRO'\n",
    "  business = business.loc[mask]\n",
    "\n",
    "  # Filtrando Según Maestro de Categorias\n",
    "  mask = business['business_id'].isin(business_list)\n",
    "  business = business.loc[mask]\n",
    "\n",
    "  # Reemplazando los Nulos por `No Disponible`\n",
    "  business.loc[:, 'attributes'] = business['attributes'].fillna('No Disponible')\n",
    "  business.loc[:, 'hours'] = business['hours'].fillna('No Disponible')\n",
    "\n",
    "  # Creando la tabla `y_attributes_business`\n",
    "  attributes = business[['business_id', 'attributes']]\n",
    "\n",
    "  attributes = attributes[attributes['attributes'] != 'No Disponible']\n",
    "\n",
    "  # creando las columnas `monday`, `tuesday`, `wednesday`, `thursday`, `friday`, `saturday`, `sunday`\n",
    "  business['monday'] = business['hours'].apply(lambda x: retornar_horario(x, dia='Monday'))\n",
    "  business['tuesday'] = business['hours'].apply(lambda x: retornar_horario(x, dia='Tuesday'))\n",
    "  business['wednesday'] = business['hours'].apply(lambda x: retornar_horario(x, dia='Wednesday'))\n",
    "  business['thursday'] = business['hours'].apply(lambda x: retornar_horario(x, dia='Thursday'))\n",
    "  business['friday'] = business['hours'].apply(lambda x: retornar_horario(x, dia='Friday'))\n",
    "  business['saturday'] = business['hours'].apply(lambda x: retornar_horario(x, dia='Saturday'))\n",
    "  business['sunday'] = business['hours'].apply(lambda x: retornar_horario(x, dia='Sunday'))\n",
    "\n",
    "  business = business.drop(columns=['attributes', 'categories', 'hours'])\n",
    "\n",
    "  # Guardando la tabla `y_business`\n",
    "  business.to_parquet('datasets/yelp/filtrados_segun_maestro_cat/y_business.parquet', index=False)\n",
    "\n",
    "  # Guardando la tabla `y_attributes_business`\n",
    "  attributes.to_parquet('datasets/yelp/filtrados_segun_maestro_cat/y_attributes_business.parquet', index=False)"
   ]
  },
  {
   "cell_type": "markdown",
   "metadata": {
    "id": "azx0A7sripqa"
   },
   "source": [
    "## Funcion que crea `y_tip` y `y_checkin`"
   ]
  },
  {
   "cell_type": "code",
   "execution_count": null,
   "metadata": {
    "id": "kbgkERK4jCDk"
   },
   "outputs": [],
   "source": [
    "def create_tip_checkin(tip:pd.Dataframe, checkin:pd.Dataframe, business_list:list):\n",
    "  \"\"\"\n",
    "  create_tip_checkin : Crea las tablas y_tip y y_checkin\n",
    "\n",
    "  Args:\n",
    "      tip (pd.Dataframe): Contiene la data de tip como viene originalmente\n",
    "      checkin (pd.Dataframe): Contiene la data de checkin como viene originalmente\n",
    "      business_list (list): Listado de business_id del sector en estuio\n",
    "  \"\"\"\n",
    "  #filtro segun los id que se obtuvieron del maestro de categorias\n",
    "  mask = tip['business_id'].isin(business_list)\n",
    "  tip = tip.loc[mask]\n",
    "  tip['date_only'] = tip['date'].dt.date\n",
    "  tip = tip.drop(columns=['date'])\n",
    "  tip = tip.rename(columns={'date_only': 'date'})\n",
    "\n",
    "  checkin['lista_date'] = checkin['date'].str.split(',')\n",
    "  checkin = checkin.drop(columns=['date'])\n",
    "  checkin = checkin.explode('lista_date')\n",
    "  checkin = checkin.rename(columns={'lista_date': 'date'})\n",
    "  checkin['only_date'] = checkin['date'].apply(devuelve_solo_fecha)\n",
    "  checkin['only_date'] = pd.to_datetime(checkin['only_date'])\n",
    "  checkin = checkin.drop(columns=['date'])\n",
    "  checkin = checkin.rename(columns={'only_date': 'date'})\n",
    "\n",
    "  tip.to_parquet('datasets/yelp/filtrados_segun_maestro_cat/y_tip.parquet', index=False)\n",
    "  checkin.to_parquet('datasets/yelp/filtrados_segun_maestro_cat/y_checkin.parquet', index=False)"
   ]
  },
  {
   "cell_type": "markdown",
   "metadata": {
    "id": "V3JkBd7vsIZf"
   },
   "source": [
    "## Funcion que crea `y_review`"
   ]
  },
  {
   "cell_type": "code",
   "execution_count": null,
   "metadata": {
    "id": "YVfGyN6tsI79"
   },
   "outputs": [],
   "source": [
    "def create_review(reviews:pd.Dataframe, business_list:list) -> list:\n",
    "  \"\"\"\n",
    "  create_review: Crea la tabla y_review\n",
    "\n",
    "  Args:\n",
    "      reviews (pd.Dataframe): Contiene la data de review como viene originalmente\n",
    "      business_list (list): Listado de business_id del sector en estudio\n",
    "\n",
    "  Returns:\n",
    "      list: Lista de los id de los usuarios involucrados en los reviews del sector de estudio\n",
    "  \"\"\"\n",
    "  mask = reviews['business_id'].isin(business_list)\n",
    "  reviews = reviews.loc[mask]\n",
    "\n",
    "  reviews['only_date'] = reviews['date'].apply(devuelve_solo_fecha)\n",
    "  reviews['only_date'] = pd.to_datetime(reviews['only_date'])\n",
    "\n",
    "  reviews = reviews.drop('date')\n",
    "  reviews = reviews.rename({'only_date':'date'})\n",
    "\n",
    "  # ESCOGIENDO LAS RESEÑAS A PARTIR DEL 2021\n",
    "  mask = reviews['date'] > datetime.strptime('2020-12-31', '%Y-%m-%d')\n",
    "  reviews = reviews.loc[mask]\n",
    "  # Guardando la Tabla\n",
    "  reviews.to_parquet('datasets/yelp/filtrados_segun_maestro_cat/y_review.parquet', index=False)\n",
    "  # Dado que filtramos desde 2021 filtro obtengo lista de usuarios\n",
    "  lista_usuarios_a_filtrar = reviews['user_id'].unique().to_list()\n",
    "\n",
    "  return lista_usuarios_a_filtrar"
   ]
  },
  {
   "cell_type": "markdown",
   "metadata": {
    "id": "jFgN4NYtwqCN"
   },
   "source": [
    "## Funcion que crea `y_user`, `y_elite_user`, `y_friends_user`"
   ]
  },
  {
   "cell_type": "code",
   "execution_count": null,
   "metadata": {
    "id": "Qrr5E65xw_q8"
   },
   "outputs": [],
   "source": [
    "def create_user_elite_friends(user:pd.Dataframe, user_list:list):\n",
    "  \"\"\"\n",
    "  create_user_elite_friends: Crea las tablas `y_user`, `y_elite`, `y_friends_users`\n",
    "  Args:\n",
    "      user (pd.Dataframe): Contiene la data de user como viene originalmente\n",
    "      user_list (list): Listado de user_id que hicieron reseñas en el sector en estudio\n",
    "  \"\"\"\n",
    "  mask = user['user_id'].isin(user_list)\n",
    "  user = user.loc[mask]\n",
    "  user = user.unique()\n",
    "  user['date'] = user['yelping_since'].apply(devuelve_solo_fecha)\n",
    "  user['only_date'] = pd.to_datetime(user['date'])\n",
    "  user = user.drop(columns=['yelping_since'])\n",
    "  user = user.rename(columns={'date': 'yelping_since'})\n",
    "\n",
    "  # Se crean tablas `y_fiends_user` y `y_elite_user`\n",
    "  friends_user = user[['user_id', 'friends']]\n",
    "  elite_user = user[['user_id', 'elite']]\n",
    "\n",
    "  # Se borran las columnas de la tabla `y_user`\n",
    "  user = user.drop(columns=['friends', elite])\n",
    "\n",
    "  # Se trabaja en la Tabla `y_friends_user`\n",
    "  friends_user.columns = ['user_id', 'friend_id']\n",
    "  mask = friends_user['friend_id'] == 'None'\n",
    "  friends_user = friends_user.loc[~mask]\n",
    "  friends_user['lista_friends'] = friends_user['friend_id'].apply(lambda x: x.split(','))\n",
    "  friends_user = friends_user.drop(columns=['friend_id'])\n",
    "  friends_user = friends_user.explode('lista_friends')\n",
    "  friends_user.columns = ['user_id', 'friend_id']\n",
    "\n",
    "  # Se trabaja en la Tabla `y_elite_user`\n",
    "  elite_user.columns = ['user_id', 'elite']\n",
    "  mask = elite_user['elite'] == ''\n",
    "  elite_user = elite_user.loc[~mask]\n",
    "  elite_user['year'] = elite_user['elite'].apply(lambda x: x.split(','))\n",
    "  elite_user = elite_user.drop(columns=['elite'])\n",
    "  elite_user = elite_user.explode('year')\n",
    "  elite_user = elite_user.unique()\n",
    "  elite_user.loc[elite_user['year'] == '20', 'year'] = '2020'\n",
    "  elite_user['year'] = elite_user['year'].astype(int)\n",
    "\n",
    "  # Se guardan las 3 tablas\n",
    "  user.to_parquet('datasets/yelp/filtrados_segun_maestro_cat/y_user.parquet', index=False)\n",
    "  friends_user.to_parquet('datasets/yelp/filtrados_segun_maestro_cat/y_friends_user.parquet', index=False)\n",
    "  elite_user.to_parquet('datasets/yelp/filtrados_segun_maestro_cat/y_elite_user.parquet', index=False)"
   ]
  },
  {
   "cell_type": "markdown",
   "metadata": {
    "id": "OuIdqirscE_m"
   },
   "source": [
    "## Importando el archivo `business.pkl` tal como viene Original"
   ]
  },
  {
   "cell_type": "code",
   "execution_count": null,
   "metadata": {
    "id": "lnCZZ7AZcPB6"
   },
   "outputs": [],
   "source": [
    "business = pd.read_pickle('datasets/yelp/archivos_originales/business.pkl')"
   ]
  },
  {
   "cell_type": "markdown",
   "metadata": {
    "id": "7NYsqWBLcVgL"
   },
   "source": [
    "#### Importacion del archivo que en el EDR se llama `y_categories_business` como quedó despues de haber hecho el Maestro de Categorias"
   ]
  },
  {
   "cell_type": "code",
   "execution_count": null,
   "metadata": {
    "id": "SxfgdFGYcjaZ"
   },
   "outputs": [],
   "source": [
    "categorias_yelp = pd.read_parquet('datasets/categorias/y_categories_business.parquet')"
   ]
  },
  {
   "cell_type": "markdown",
   "metadata": {
    "id": "yBrA6q7Pjs96"
   },
   "source": [
    "## Importando el archivo `tip.json` tal como viene Original"
   ]
  },
  {
   "cell_type": "code",
   "execution_count": null,
   "metadata": {
    "id": "canX0WYjj0RA"
   },
   "outputs": [],
   "source": [
    "tip = pd.read_json('datasets/yelp/archivos_originales/tip.json', lines=True)"
   ]
  },
  {
   "cell_type": "markdown",
   "metadata": {
    "id": "tY2WZZ8Kj00i"
   },
   "source": [
    "## Importando el archivo `checkin.json` tal como viene Original"
   ]
  },
  {
   "cell_type": "code",
   "execution_count": null,
   "metadata": {
    "id": "q1ATbSuSkE0t"
   },
   "outputs": [],
   "source": [
    "checkin = pd.read_json('datasets/yelp/archivos_originales/checkin.json', lines=True)"
   ]
  },
  {
   "cell_type": "markdown",
   "metadata": {
    "id": "W32iZ9JJtSYo"
   },
   "source": [
    "## Importando el archivo `review.json` tal como viene Original"
   ]
  },
  {
   "cell_type": "code",
   "execution_count": null,
   "metadata": {
    "id": "0Kkfl5wvtX13"
   },
   "outputs": [],
   "source": [
    "reviews = pd.read_ndjson(\"datasets/yelp/review.json\", lines=True)"
   ]
  },
  {
   "cell_type": "markdown",
   "metadata": {
    "id": "WctKvcACwKA8"
   },
   "source": [
    "## Importando el archivo `user.json` tal como viene Original"
   ]
  },
  {
   "cell_type": "code",
   "execution_count": null,
   "metadata": {
    "id": "QsKgwxYcwKok"
   },
   "outputs": [],
   "source": [
    "user = pd.read_parquet(\"datasets/yelp/archivos_originales/user.parquet\")"
   ]
  },
  {
   "cell_type": "markdown",
   "metadata": {
    "id": "zBq0TcyNdEmZ"
   },
   "source": [
    "## Obteniendo la lista de Negocios según el Maestro de Categorias"
   ]
  },
  {
   "cell_type": "code",
   "execution_count": null,
   "metadata": {
    "id": "-A7vvafodDkl"
   },
   "outputs": [],
   "source": [
    "# Filtro en Categorias por alimentos y bebidas y obtengo una lista de los negocios\n",
    "mask = categorias_yelp['category_general'] == 'Alimentos y Bebidas'\n",
    "lista_business_alimentos_bebidas = categorias_yelp.loc[mask]['business_id'].unique().tolist()"
   ]
  },
  {
   "cell_type": "markdown",
   "metadata": {
    "id": "6OHdyieQdQiw"
   },
   "source": [
    "## Llamado a la Función que crea `y_business` y `y_attributes_business`"
   ]
  },
  {
   "cell_type": "code",
   "execution_count": null,
   "metadata": {
    "id": "crWs8504dcvg"
   },
   "outputs": [],
   "source": [
    "create_business_attributes(business=business, business_list=lista_business_alimentos_bebidas)"
   ]
  },
  {
   "cell_type": "markdown",
   "metadata": {
    "id": "medCxTCLnQ8y"
   },
   "source": [
    "## Llamado a la Función que crea `y_tip` y `y_checkin`"
   ]
  },
  {
   "cell_type": "code",
   "execution_count": null,
   "metadata": {
    "id": "WP6JSGZvnYw0"
   },
   "outputs": [],
   "source": [
    "create_tip_checkin(tip=tip, checkin=checkin, business_list=lista_business_alimentos_bebidas)"
   ]
  },
  {
   "cell_type": "markdown",
   "metadata": {
    "id": "aWHUJM2YvNt4"
   },
   "source": [
    "## Llamado a la Función que crea `y_review`"
   ]
  },
  {
   "cell_type": "code",
   "execution_count": null,
   "metadata": {
    "id": "hy9EuC6MvOUY"
   },
   "outputs": [],
   "source": [
    "lista_usuarios_a_filtrar = create_review(reviews=reviews, business_list=lista_business_alimentos_bebidas)"
   ]
  },
  {
   "cell_type": "markdown",
   "metadata": {
    "id": "XgaZVcTZ0yCF"
   },
   "source": [
    "## Llamado a la Función que crea `y_user`, `y_elite_user` y `y_friends_user`"
   ]
  },
  {
   "cell_type": "code",
   "execution_count": null,
   "metadata": {
    "id": "I-MyueCK0_rz"
   },
   "outputs": [],
   "source": [
    "create_user_elite_friends(user=user, user_list=lista_usuarios_a_filtrar)"
   ]
  }
 ],
 "metadata": {
  "colab": {
   "authorship_tag": "ABX9TyM6k6wX6hOhlXTYfBdBv/wa",
   "provenance": []
  },
  "kernelspec": {
   "display_name": "Python 3",
   "name": "python3"
  },
  "language_info": {
   "name": "python"
  }
 },
 "nbformat": 4,
 "nbformat_minor": 0
}
