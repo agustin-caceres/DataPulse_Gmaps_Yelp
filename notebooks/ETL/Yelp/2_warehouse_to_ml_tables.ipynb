{
 "cells": [
  {
   "cell_type": "code",
   "execution_count": null,
   "metadata": {
    "colab": {
     "base_uri": "https://localhost:8080/"
    },
    "executionInfo": {
     "elapsed": 28643,
     "status": "ok",
     "timestamp": 1730836754349,
     "user": {
      "displayName": "Aliskair Rodríguez",
      "userId": "18238624046305613189"
     },
     "user_tz": 240
    },
    "id": "Za_oXK48VJAl",
    "outputId": "158e2dd3-2803-4c62-a623-58579d082442"
   },
   "outputs": [
    {
     "name": "stdout",
     "output_type": "stream",
     "text": [
      "Mounted at /content/drive\n",
      "/content/drive/MyDrive/Bootcamp_Henry/pro_final\n"
     ]
    }
   ],
   "source": [
    "# from google.colab import drive\n",
    "# import os\n",
    "# drive.mount('/content/drive')\n",
    "# os.chdir(\"drive/MyDrive/Bootcamp_Henry/pro_final\")\n",
    "# print(os.getcwd())"
   ]
  },
  {
   "cell_type": "markdown",
   "metadata": {},
   "source": [
    "# **Objetivo del Cuaderno Jupyter**\n",
    "- Ya disponemos de las tablas que se muestran en la imagen en nuestro `Datawarehouse` ahora debemos a partir de las mismas crear las tablas `Desnormalizadas` que se usarán en el proceso de `Machinne Learning` para crear el `Modelo de recomendación`.\n",
    "- Tablas a crear:\n",
    "    - `ml_user`\n",
    "    - `ml_reviews`\n",
    "    - `ml_business`\n",
    "<img src=\"0_TABLAS_YELP.png\">\n",
    "<br>\n",
    "<br>\n",
    "# **NOTA:**<br>\n",
    "- El Proceso que se muestra en este cuaderno se corrió en Local.\n",
    "- Este proceso, servirá de guía para que nuestro equipo de Ingeniería replique dichas transformaciones en la Nube, haciendo los ajustes necesarios de sintaxis y configuración\n",
    "- Este proceso se ha dividido en Funciones, por recomendación de nuestro Tutor, quien nos explicó las ventajas a la hora de `desplegar` y `debuguear` en la nube sí presentamos el código estructurado en funciones."
   ]
  },
  {
   "cell_type": "code",
   "execution_count": 2,
   "metadata": {
    "executionInfo": {
     "elapsed": 5043,
     "status": "ok",
     "timestamp": 1730836762639,
     "user": {
      "displayName": "Aliskair Rodríguez",
      "userId": "18238624046305613189"
     },
     "user_tz": 240
    },
    "id": "UlWf4QfLVw6v"
   },
   "outputs": [],
   "source": [
    "import pandas as pd\n",
    "from textblob import TextBlob"
   ]
  },
  {
   "cell_type": "code",
   "execution_count": 3,
   "metadata": {
    "executionInfo": {
     "elapsed": 15125,
     "status": "ok",
     "timestamp": 1730836781282,
     "user": {
      "displayName": "Aliskair Rodríguez",
      "userId": "18238624046305613189"
     },
     "user_tz": 240
    },
    "id": "IJ_AUsH5V47a"
   },
   "outputs": [],
   "source": [
    "# Necesario para hacer `ml_reviews`\n",
    "reviews = pd.read_parquet('datasets/yelp/filtrados_segun_maestro_cat/y_reviews.parquet')\n",
    "\n",
    "# Necesario para hacer `ml_business`\n",
    "attributes = pd.read_parquet('datasets/yelp/filtrados_segun_maestro_cat/y_attributes_business.parquet')\n",
    "tip = pd.read_parquet('datasets/yelp/filtrados_segun_maestro_cat/y_tip.parquet')\n",
    "business = pd.read_parquet('datasets/yelp/filtrados_segun_maestro_cat/y_business.parquet')\n",
    "checkin = pd.read_parquet('datasets/yelp/filtrados_segun_maestro_cat/y_checkin.parquet')\n",
    "\n",
    "# Necesario para hacer `ml_users`\n",
    "user = pd.read_parquet('datasets/yelp/filtrados_segun_maestro_cat/y_user.parquet')"
   ]
  },
  {
   "cell_type": "markdown",
   "metadata": {
    "id": "xExIGYXiq06C"
   },
   "source": [
    "***\n",
    "## Funciones para crear `ml_business`"
   ]
  },
  {
   "cell_type": "code",
   "execution_count": null,
   "metadata": {
    "executionInfo": {
     "elapsed": 1000,
     "status": "ok",
     "timestamp": 1730836789726,
     "user": {
      "displayName": "Aliskair Rodríguez",
      "userId": "18238624046305613189"
     },
     "user_tz": 240
    },
    "id": "cH9vIEDlZiH2"
   },
   "outputs": [],
   "source": [
    "def retorna_lista_atributos(attributes:pd.DataFrame) -> tuple[list,list]:\n",
    "  \"\"\"\n",
    "    retorna_lista_atributos: retorna la lista de Atributos en primer nivel de anidamiento\n",
    "                             y las listas anidadas en 2do Nivel de Anidamiento\n",
    "    Args:\n",
    "        attributes (pl.DataFrame): dataframe que contiene la tabla `y_attributes_business` de la imagen\n",
    "\n",
    "    Returns:\n",
    "        tuple[list,list]: Listas tanto de atributos en primer y segundo nivel de anidamiento\n",
    "    \"\"\"\n",
    "  set_attributes = set()\n",
    "\n",
    "  #Cuantifico cuantos Atributos en Primer Nivel de Anidamiento hay\n",
    "  for i in range(len(attributes)):\n",
    "      diccionario = attributes.iloc[i,1]\n",
    "      if diccionario:\n",
    "          for key in diccionario.keys():\n",
    "              set_attributes.add(key)\n",
    "\n",
    "  list_attributes = list(set_attributes)\n",
    "\n",
    "  #'HairSpecializesIn'\n",
    "  attributes_hair_specializes = ['straightperms', 'coloring', 'extensions', 'africanamerican',\n",
    "                                'curly', 'kids', 'perms', 'asian']\n",
    "\n",
    "  #'DietaryRestrictions'\n",
    "  attributes_dietary_restrictions = ['dairy-free', 'gluten-free', 'vegan', 'kosher', 'halal', 'soy-free', 'vegetarian']\n",
    "\n",
    "  #'BestNights'\n",
    "  attributes_bestnights = ['monday', 'tuesday', 'friday', 'wednesday', 'thursday', 'sunday', 'saturday']\n",
    "\n",
    "  #Ambience\n",
    "  attributes_ambience = ['romantic', 'intimate', 'touristy', 'hipster', 'divey',\n",
    "                        'classy', 'trendy', 'upscale', 'casual']\n",
    "  #Music\n",
    "  attributes_music = ['dj', 'background_music', 'no_music', 'jukebox', 'live', 'video', 'karaoke']\n",
    "\n",
    "  #'BusinessParking'\n",
    "  attributes_business_parking = ['garage', 'street', 'validated', 'lot', 'valet']\n",
    "\n",
    "  #'GoodForMeal'\n",
    "  attributes_good_for_meal = ['dessert', 'latenight', 'lunch', 'dinner', 'brunch', 'breakfast']\n",
    "\n",
    "  #Atributos que tienen un segundo nivel de Anidamiento\n",
    "  nested_attributes = ['BusinessParking', 'Ambience', 'GoodForMeal', 'BestNights', 'Music',\n",
    "                      'DietaryRestrictions', 'HairSpecializesIn']\n",
    "\n",
    "  matrix_nested_attibutes = [attributes_hair_specializes, attributes_dietary_restrictions,\n",
    "                            attributes_bestnights, attributes_ambience, attributes_music,\n",
    "                            attributes_business_parking, attributes_good_for_meal, nested_attributes]\n",
    "\n",
    "  #Aplico lógica de recorrido matricial para obtener todos los atributos en una lista (ojo Teoricamente esto NO es una matriz)\n",
    "  for i in range(len(matrix_nested_attibutes)):\n",
    "      for j in range(len(matrix_nested_attibutes[i])):\n",
    "          list_attributes.append(matrix_nested_attibutes[i][j])\n",
    "\n",
    "  # Elimino los atributos que tienen 2do nivel de anidamineto (ya que inclui sus atributos hijos)\n",
    "  for element in nested_attributes:\n",
    "      list_attributes.remove(element)\n",
    "\n",
    "  print(f\"Numero de Atributos sin el segundo nivel de anidamiento --> {len(set_attributes)}\")\n",
    "\n",
    "  print(f\"Numero de Atributos Desanidados los 2 niveles de anidamiento--> {len(list_attributes)}\")\n",
    "  return (list_attributes, nested_attributes)"
   ]
  },
  {
   "cell_type": "code",
   "execution_count": null,
   "metadata": {
    "executionInfo": {
     "elapsed": 353,
     "status": "ok",
     "timestamp": 1730836794413,
     "user": {
      "displayName": "Aliskair Rodríguez",
      "userId": "18238624046305613189"
     },
     "user_tz": 240
    },
    "id": "IQIzo3mccBOR"
   },
   "outputs": [],
   "source": [
    "def retorna_df_total_attributes(attributes:pd.DataFrame, list_attributes:list, nested_attributes:list) -> pd.DataFrame:\n",
    "  \"\"\"\n",
    "    retorna_df_total_attributes: Crea un dataframe, donde por cada `business_id` habran una columna por cada\n",
    "                                 atributo, HORIZONTALIZO la data, con la intención de luego hacer un Join con\n",
    "                                 la tabla `y_business` Nota: Los atributos en los cuales los Negocios de esta\n",
    "                                 data NINGUNO lo dispone (es decir todos los registros tienen 0 en esa columna)\n",
    "                                 automaticamente los borro, ya que no van a aportar diferenciación para el modelo  \n",
    "\n",
    "    Args:\n",
    "        attributes (pd.DataFrame): dataframe que contiene la tabla `y_attributes_business` de la imagen\n",
    "        list_attributes (list): Lista de Atributos en Primer nivel de Anidamiento\n",
    "        nested_attributes (list): Lista con las Listas que tienen 2do nivel de Anidamiento\n",
    "\n",
    "    Returns:\n",
    "        pd.DataFrame: Dataframe de Atributos totalmente desanidados\n",
    "    \"\"\"\n",
    "  rows = []\n",
    "  for i in range(len(attributes)):\n",
    "      diccionario = attributes.iloc[i,1]\n",
    "      if diccionario:\n",
    "          # Inicializo el Diccionario en cada Iteracion\n",
    "          diccionario_row = {'business_id': attributes.iloc[i,0]}\n",
    "          for attribute in list_attributes:\n",
    "              diccionario_row[attribute] = 0\n",
    "\n",
    "          for key,value in diccionario.items():\n",
    "              # Entra en if si no tiene 2do nivel de anidamiento\n",
    "              if key not in nested_attributes:\n",
    "                  verdadero = 1 if value else 0\n",
    "                  diccionario_row[key] = verdadero\n",
    "              else:\n",
    "                  if type(key) == dict:\n",
    "                      for key_2, value_2 in eval(diccionario[key]).items():\n",
    "                          verdadero = 1 if value_2 else 0\n",
    "                          diccionario_row[key_2] = verdadero\n",
    "          rows.append(diccionario_row)\n",
    "  df_total_attributes = pd.DataFrame(rows)\n",
    "  #Localizando Columnas que no agregan capacidad de diferenciacion para el modelo\n",
    "  columnas_a_eliminar = []\n",
    "  for column in df_total_attributes.columns[1:]:\n",
    "      if df_total_attributes[column].sum() == 0:\n",
    "          columnas_a_eliminar.append(column)\n",
    "  #Elimino las columnas que no agregan valor a la diferenciacion\n",
    "  df_total_attributes = df_total_attributes.drop(columns=columnas_a_eliminar)\n",
    "  return df_total_attributes"
   ]
  },
  {
   "cell_type": "code",
   "execution_count": null,
   "metadata": {
    "executionInfo": {
     "elapsed": 1043,
     "status": "ok",
     "timestamp": 1730836805986,
     "user": {
      "displayName": "Aliskair Rodríguez",
      "userId": "18238624046305613189"
     },
     "user_tz": 240
    },
    "id": "eqM-FHEddhzM"
   },
   "outputs": [],
   "source": [
    "def business_merge_attributes(business:pd.DataFrame, df_total_attributes:pd.DataFrame, estados:list) -> pd.DataFrame:\n",
    "  \"\"\"\n",
    "    business_merge_attributes: Realiza un Join entre el dataframe creado de atributos y el dataframe que representa \n",
    "                              la tabla `y_business` de la Imagen.  \n",
    "\n",
    "    Args:\n",
    "        business (pd.DataFrame): Dataframe que contiene la data de la tabla `y_business`\n",
    "        df_total_attributes (pd.DataFrame): Dataframe que contiene la data de los atributos totalmente desanidados\n",
    "        estados (list): Lista de Estados para realizar un filtro de la data\n",
    "\n",
    "    Returns:\n",
    "        pd.DataFrame: Dataframe resultante de todos los cambios dentro de la función\n",
    "    \"\"\"\n",
    "  mask = business['business_id'].isin(df_total_attributes['business_id'].unique().tolist())\n",
    "  business = business[mask]\n",
    "  business = business.reset_index(drop=True)\n",
    "\n",
    "  #Como se han manipulado los datos para que business y df_total_attributes tengan las mismas filas\n",
    "  business = business.merge(df_total_attributes, on='business_id', how='inner')\n",
    "\n",
    "  # ACA el filtrado por estados\n",
    "  mask = business['state'].isin(estados)\n",
    "  business = business[mask]\n",
    "  business = business.reset_index(drop=True)\n",
    "\n",
    "  def retorna_apertura(horario:str) -> float:\n",
    "    if horario == 'No Disponible':\n",
    "      return 0\n",
    "    return horario.split('-')[0]\n",
    "\n",
    "  def retorna_cierre(horario:str):\n",
    "    if horario == 'No Disponible':\n",
    "      return 0\n",
    "    return horario.split('-')[1]\n",
    "\n",
    "  days = ['monday', 'tuesday', 'wednesday', 'thursday', 'friday', 'saturday', 'sunday']\n",
    "  days_open = ['monday_open', 'tuesday_open', 'wednesday_open', 'thursday_open', 'friday_open', 'saturday_open', 'sunday_open']\n",
    "  days_close = ['monday_dura', 'tuesday_dura', 'wednesday_dura', 'thursday_dura', 'friday_dura', 'saturday_dura', 'sunday_dura']\n",
    "\n",
    "  for i in range(7):\n",
    "    business[days_open[i]] = business[days[i]].apply(lambda x: retorna_apertura(x))\n",
    "    business[days_close[i]] = business[days[i]].apply(lambda x: retorna_cierre(x))\n",
    "\n",
    "  business = business.drop(columns=days)\n",
    "  business = business.reset_index(drop=True)\n",
    "  return business\n"
   ]
  },
  {
   "cell_type": "code",
   "execution_count": null,
   "metadata": {
    "executionInfo": {
     "elapsed": 412,
     "status": "ok",
     "timestamp": 1730836810471,
     "user": {
      "displayName": "Aliskair Rodríguez",
      "userId": "18238624046305613189"
     },
     "user_tz": 240
    },
    "id": "lUjMoRt9KlC1"
   },
   "outputs": [],
   "source": [
    "def retorna_tip_totalizados(tip:pd.DataFrame, lista_business_id:list) -> pd.DataFrame:\n",
    "  \"\"\"\n",
    "    retorna_tip_totalizados: Aplica analisis de sentimientos a la columna `text` de la tabla `y_tip`\n",
    "                             y guarda estos resultados que van de -1 a 1 en la columna polaridad_tip\n",
    "                             luego aplicacion de funciones de agregacion (average o suma, según sea el caso)\n",
    "                             para cada `business_id`\n",
    "\n",
    "    Args:\n",
    "        tip (pd.DataFrame): Dataframe que contiene la data de la tabla `y_tip` de la Imagen\n",
    "        lista_business_id (list): Lista de Negocios donde se realizará el procedimiento de ML\n",
    "\n",
    "    Returns:\n",
    "        pd.DataFrame: Dataframe resultante de las transformaciones en esta función\n",
    "    \"\"\"\n",
    "  mask = tip['business_id'].isin(lista_business_id)\n",
    "  tip = tip[mask]\n",
    "  tip = tip.reset_index(drop=True)\n",
    "\n",
    "  tip['polaridad_tip'] = tip['text'].apply(lambda x: TextBlob(x).sentiment.polarity)\n",
    "\n",
    "  lista_business_id_tip = tip['business_id'].unique().tolist()\n",
    "\n",
    "  data_tip = []\n",
    "  for i in range(len(lista_business_id_tip)):\n",
    "      row = {}\n",
    "      row['business_id'] = lista_business_id_tip[i]\n",
    "      row['tiene_tip'] = 1\n",
    "      mask = tip['business_id'] == lista_business_id_tip[i]\n",
    "      # Saco el promedio de los Sentimientos\n",
    "      polaridad_tip = tip[mask]['polaridad_tip'].mean()\n",
    "      # Saco la sumatoria de los cumplidos\n",
    "      compliment_count = tip[mask]['compliment_count'].sum()\n",
    "      row['polaridad_tip'] = polaridad_tip\n",
    "      row['compliment_count'] = compliment_count\n",
    "      data_tip.append(row)\n",
    "  df_tip = pd.DataFrame(data_tip)\n",
    "  return df_tip"
   ]
  },
  {
   "cell_type": "code",
   "execution_count": null,
   "metadata": {
    "executionInfo": {
     "elapsed": 353,
     "status": "ok",
     "timestamp": 1730836815429,
     "user": {
      "displayName": "Aliskair Rodríguez",
      "userId": "18238624046305613189"
     },
     "user_tz": 240
    },
    "id": "DGHNgupgUxtk"
   },
   "outputs": [],
   "source": [
    "def retorna_checkin_totalizados(checkin:pd.DataFrame, lista_business_id:list) -> pd.DataFrame:\n",
    "  \"\"\"\n",
    "    retorna_checkin_totalizados: aplicacion de funciones de agregacion (suma) para cada `business_id`\n",
    "\n",
    "    Args:\n",
    "        checkin (pd.DataFrame): Dataframe que contiene la data de la tabla `y_checkin` de la Imagen\n",
    "        lista_business_id (list): Lista de Negocios donde se realizará el procedimiento de ML\n",
    "\n",
    "    Returns:\n",
    "        pd.DataFrame: Dataframe resultante de las transformaciones en esta función\n",
    "    \"\"\"\n",
    "  mask = checkin['business_id'].isin(lista_business_id)\n",
    "  checkin = checkin[mask]\n",
    "  checkin = checkin.reset_index(drop=True)\n",
    "\n",
    "  lista_business_id_checkin = checkin['business_id'].unique().tolist()\n",
    "\n",
    "  data_checkin = []\n",
    "  for i in range(len(lista_business_id_checkin)):\n",
    "    row = {}\n",
    "    mask = checkin['business_id'] == lista_business_id_checkin[i]\n",
    "    row['business_id'] = lista_business_id_checkin[i]\n",
    "    row['tiene_checkin'] = 1\n",
    "    row['cantidad_checkins'] = checkin[mask]['date'].count()\n",
    "    data_checkin.append(row)\n",
    "  df_checkin = pd.DataFrame(data_checkin)\n",
    "  return df_checkin"
   ]
  },
  {
   "cell_type": "code",
   "execution_count": null,
   "metadata": {
    "executionInfo": {
     "elapsed": 571,
     "status": "ok",
     "timestamp": 1730836819092,
     "user": {
      "displayName": "Aliskair Rodríguez",
      "userId": "18238624046305613189"
     },
     "user_tz": 240
    },
    "id": "-CtbfKrOXpST"
   },
   "outputs": [],
   "source": [
    "def retorna_ml_business(business:pd.DataFrame, df_tip:pd.DataFrame, df_checkin:pd.DataFrame) -> pd.DataFrame:\n",
    "  \"\"\"\n",
    "    retorna_ml_business: Recibe los Dataframes creados en las funciones `business_join_attributes`, \n",
    "                         `retorna_tip_totalizados` y `retorna_checkin_totalizados` y crea el Dataframe \n",
    "                         será guardado como `ml_business` \n",
    "\n",
    "    Args:\n",
    "        business (pd.DataFrame): Dataframe resultante de la función `business_join_attributes`\n",
    "        df_tip (pd.DataFrame): Dataframe resultante de la función `retorna_tip_totalizados`\n",
    "        df_checkin (pd.DataFrame): Dataframe resultante de la función `retorna_checkin_totalizados`\n",
    "\n",
    "    Returns:\n",
    "        pd.DataFrame: Dataframe que tendrá la data de `ml_business`\n",
    "    \"\"\"\n",
    "  ml_business = business.merge(df_tip, on='business_id', how='left')\n",
    "  ml_business = ml_business.merge(df_checkin, on='business_id', how='left')\n",
    "\n",
    "  columnas_a_rellenar = ['tiene_tip', 'polaridad_tip', 'compliment_count', 'tiene_checkin', 'cantidad_checkins']\n",
    "  for column in columnas_a_rellenar:\n",
    "    ml_business[column] = ml_business[column].fillna(0)\n",
    "  return ml_business"
   ]
  },
  {
   "cell_type": "markdown",
   "metadata": {
    "id": "LvL1sjN5fsD2"
   },
   "source": [
    "***\n",
    "## Pasos para Crear la tabla `ml_business`"
   ]
  },
  {
   "cell_type": "code",
   "execution_count": null,
   "metadata": {
    "colab": {
     "base_uri": "https://localhost:8080/"
    },
    "executionInfo": {
     "elapsed": 920,
     "status": "ok",
     "timestamp": 1730836824380,
     "user": {
      "displayName": "Aliskair Rodríguez",
      "userId": "18238624046305613189"
     },
     "user_tz": 240
    },
    "id": "mkfLDcvtcACO",
    "outputId": "5d0ab3d6-bee8-49af-98e4-913aeb43d226"
   },
   "outputs": [
    {
     "name": "stdout",
     "output_type": "stream",
     "text": [
      "Numero de Atributos sin el segundo nivel de anidamiento --> 38\n",
      "Numero de Atributos Desanidados los 2 niveles de anidamiento--> 87\n"
     ]
    }
   ],
   "source": [
    "# Necesito los Atributos en 1er y 2do Nivel de Anidamiento\n",
    "list_attributes, nested_attributes = retorna_lista_atributos(attributes=attributes)"
   ]
  },
  {
   "cell_type": "code",
   "execution_count": null,
   "metadata": {
    "executionInfo": {
     "elapsed": 750,
     "status": "ok",
     "timestamp": 1730836830126,
     "user": {
      "displayName": "Aliskair Rodríguez",
      "userId": "18238624046305613189"
     },
     "user_tz": 240
    },
    "id": "5ZnoYtbNdub-"
   },
   "outputs": [],
   "source": [
    "# Dataframe con los `business_id` y TODOS los Atributos desanidados en forma de Dumies\n",
    "df_total_attributes = retorna_df_total_attributes(attributes=attributes, list_attributes=list_attributes, nested_attributes=nested_attributes)"
   ]
  },
  {
   "cell_type": "code",
   "execution_count": null,
   "metadata": {
    "executionInfo": {
     "elapsed": 370,
     "status": "ok",
     "timestamp": 1730836837344,
     "user": {
      "displayName": "Aliskair Rodríguez",
      "userId": "18238624046305613189"
     },
     "user_tz": 240
    },
    "id": "GWVJ6gCr1uS4"
   },
   "outputs": [],
   "source": [
    "estados = ['PA', 'TN', 'CA', 'IN', 'MO', 'FL', 'LA', 'NV', 'ID', 'AZ', 'IL', 'DE']\n",
    "# Haciendo el Join de bussines y Atributos, y en el Filtrado por estado dejo por fuera a los que tienen\n",
    "# pocos locales, como por ejemplo Texas que tiene un solo local (en esta data de muestra)\n",
    "business = business_merge_attributes(business=business, df_total_attributes=df_total_attributes, estados=estados)\n",
    "\n",
    "del df_total_attributes"
   ]
  },
  {
   "cell_type": "code",
   "execution_count": null,
   "metadata": {
    "executionInfo": {
     "elapsed": 1496781,
     "status": "ok",
     "timestamp": 1730838338302,
     "user": {
      "displayName": "Aliskair Rodríguez",
      "userId": "18238624046305613189"
     },
     "user_tz": 240
    },
    "id": "gpX3IfccK_zs"
   },
   "outputs": [],
   "source": [
    "lista_business_id = business['business_id'].unique().tolist()\n",
    "\n",
    "# Analisis de sentimiento (columna `polaridad_tip`) y hago promedio por business_id\n",
    "df_tip = retorna_tip_totalizados(tip=tip, lista_business_id=lista_business_id)\n",
    "\n",
    "# Sumarizo checkines por cada business_id\n",
    "df_checkin = retorna_checkin_totalizados(checkin=checkin, lista_business_id=lista_business_id)\n",
    "\n",
    "# Hago join de todas las tablas relacionadas con business\n",
    "ml_business = retorna_ml_business(business=business, df_tip=df_tip, df_checkin=df_checkin)"
   ]
  },
  {
   "cell_type": "markdown",
   "metadata": {
    "id": "n0-8GvDnYXel"
   },
   "source": [
    "Guardamos la Tabla `ml_business`"
   ]
  },
  {
   "cell_type": "code",
   "execution_count": null,
   "metadata": {
    "id": "QAh5gMGzKPJp"
   },
   "outputs": [],
   "source": [
    "ml_business.to_parquet('datasets/yelp/ml_tables/ml_business.parquet', index=False)"
   ]
  },
  {
   "cell_type": "markdown",
   "metadata": {
    "id": "FYQ3kNiKf6bK"
   },
   "source": [
    "***\n",
    "## Pasos para crear la tabla `ml_reviews`"
   ]
  },
  {
   "cell_type": "markdown",
   "metadata": {
    "id": "WDfQOM2eevom"
   },
   "source": [
    "Haciendo un pequeño filtrado en reviews y Guardando la tabla"
   ]
  },
  {
   "cell_type": "code",
   "execution_count": 14,
   "metadata": {
    "executionInfo": {
     "elapsed": 1018,
     "status": "ok",
     "timestamp": 1730839004230,
     "user": {
      "displayName": "Aliskair Rodríguez",
      "userId": "18238624046305613189"
     },
     "user_tz": 240
    },
    "id": "LR1ga10dduHt"
   },
   "outputs": [],
   "source": [
    "mask = reviews['business_id'].isin(ml_business['business_id'].unique().tolist())\n",
    "reviews = reviews[mask]\n",
    "columnas_a_borrar = ['date', 'text', 'useful', 'funny', 'cool']\n",
    "reviews = reviews.drop(columns=columnas_a_borrar)\n",
    "reviews = reviews.reset_index(drop=True)"
   ]
  },
  {
   "cell_type": "markdown",
   "metadata": {
    "id": "7dAwA6vv4w-Z"
   },
   "source": [
    "Guardamos la tabla `ml_reviews`"
   ]
  },
  {
   "cell_type": "code",
   "execution_count": null,
   "metadata": {
    "id": "m92PT1Ar41JA"
   },
   "outputs": [],
   "source": [
    "reviews.to_parquet('datasets/yelp/big_tables/ml_reviews.parquet', index=False)"
   ]
  },
  {
   "cell_type": "markdown",
   "metadata": {
    "id": "HP_1_4MbgCPI"
   },
   "source": [
    "***\n",
    "## Pasos para crear la tabla `ml_users`"
   ]
  },
  {
   "cell_type": "code",
   "execution_count": 15,
   "metadata": {
    "executionInfo": {
     "elapsed": 390,
     "status": "ok",
     "timestamp": 1730839008296,
     "user": {
      "displayName": "Aliskair Rodríguez",
      "userId": "18238624046305613189"
     },
     "user_tz": 240
    },
    "id": "fpbTszcosXlv"
   },
   "outputs": [],
   "source": [
    "lista_usuarios = reviews['user_id'].unique().tolist()\n",
    "columnas = ['user_id', 'name','average_stars']\n",
    "mask = user['user_id'].isin(lista_usuarios)\n",
    "user = user[mask]\n",
    "user = user.reset_index(drop=True)"
   ]
  },
  {
   "cell_type": "markdown",
   "metadata": {
    "id": "x133wzCj5oBm"
   },
   "source": [
    "Guardando la Tabla"
   ]
  },
  {
   "cell_type": "code",
   "execution_count": null,
   "metadata": {
    "id": "Zh2Z1OiQsXjA"
   },
   "outputs": [],
   "source": [
    "user.to_parquet('datasets/yelp/ml_tables/ml_user.parquet', index=False)"
   ]
  }
 ],
 "metadata": {
  "accelerator": "GPU",
  "colab": {
   "authorship_tag": "ABX9TyPU4WN2v2A24/mXZMJWFrwA",
   "gpuType": "T4",
   "provenance": []
  },
  "kernelspec": {
   "display_name": "Python 3",
   "name": "python3"
  },
  "language_info": {
   "name": "python"
  }
 },
 "nbformat": 4,
 "nbformat_minor": 0
}
